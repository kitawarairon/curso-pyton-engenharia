{
 "cells": [
  {
   "cell_type": "markdown",
   "id": "12fd005a-cf38-4503-b49b-5eb89eb41678",
   "metadata": {},
   "source": [
    "# Limpeza e preparação dos dados\n",
    "---\n",
    "   \n",
    "Durante a análise e a modelagem dos dados, um período significativo de tempo é gasto em sua preparação: carga, limpeza, transformação e reorganização. Sabe-se que essas tarefas em geral ocupam 80% ou mais do tempo de um analista."
   ]
  },
  {
   "cell_type": "code",
   "execution_count": 1,
   "id": "bcb39a35-b062-45b1-9de0-614c34f5248e",
   "metadata": {},
   "outputs": [],
   "source": [
    "import pandas as pd\n",
    "import numpy as np\n",
    "import matplotlib.pyplot as plt"
   ]
  },
  {
   "cell_type": "markdown",
   "id": "431ceabf-455c-462b-8820-d088a00b60a0",
   "metadata": {},
   "source": [
    "## Tratando dados ausentes\n",
    "---\n",
    "\n",
    "Dados ausentes são comuns em muitas aplicações de analise de dados. São representados, no pandas, por **NaN**"
   ]
  },
  {
   "cell_type": "code",
   "execution_count": 12,
   "id": "dcc158ac-e7e8-4ecc-820b-eb7dc731abe3",
   "metadata": {},
   "outputs": [
    {
     "data": {
      "text/plain": [
       "0     aardvark\n",
       "1    artichoke\n",
       "2          NaN\n",
       "3      avocado\n",
       "dtype: object"
      ]
     },
     "execution_count": 12,
     "metadata": {},
     "output_type": "execute_result"
    }
   ],
   "source": [
    "string_data = pd.Series(['aardvark', 'artichoke', np.nan, 'avocado'])\n",
    "string_data"
   ]
  },
  {
   "cell_type": "markdown",
   "id": "9d12631a-442b-4118-88c4-578270039638",
   "metadata": {},
   "source": [
    "* O método [isnull](https://pandas.pydata.org/docs/reference/api/pandas.isnull.html) retorna uma Series/DataFrame booleano"
   ]
  },
  {
   "cell_type": "code",
   "execution_count": 13,
   "id": "9012636f-4b26-4cf3-b7a6-520fbeb8fea5",
   "metadata": {},
   "outputs": [
    {
     "data": {
      "text/plain": [
       "0    False\n",
       "1    False\n",
       "2     True\n",
       "3    False\n",
       "dtype: bool"
      ]
     },
     "execution_count": 13,
     "metadata": {},
     "output_type": "execute_result"
    }
   ],
   "source": [
    "string_data.isnull() # retorna uma Series/DataFrame booleano, por padrão nulo == True e não nulo == False"
   ]
  },
  {
   "cell_type": "code",
   "execution_count": 7,
   "id": "be490061-0cb6-418d-ab6d-e9d17efc6b0a",
   "metadata": {},
   "outputs": [
    {
     "data": {
      "text/plain": [
       "0     True\n",
       "1     True\n",
       "2    False\n",
       "3     True\n",
       "dtype: bool"
      ]
     },
     "execution_count": 7,
     "metadata": {},
     "output_type": "execute_result"
    }
   ],
   "source": [
    "~string_data.isnull() # ~ -> indica a negação"
   ]
  },
  {
   "cell_type": "markdown",
   "id": "93e117ee-f8f9-41d8-88a0-12a8f2dbfc88",
   "metadata": {},
   "source": [
    "* O valor embutido **None** de Python é tratado como NA em arrays de objetos:"
   ]
  },
  {
   "cell_type": "code",
   "execution_count": 9,
   "id": "e2324574-beeb-4f87-827e-1f35cf7a1660",
   "metadata": {},
   "outputs": [
    {
     "data": {
      "text/plain": [
       "0         None\n",
       "1    artichoke\n",
       "2          NaN\n",
       "3      avocado\n",
       "dtype: object"
      ]
     },
     "execution_count": 9,
     "metadata": {},
     "output_type": "execute_result"
    }
   ],
   "source": [
    "string_data[0] = None\n",
    "string_data"
   ]
  },
  {
   "cell_type": "code",
   "execution_count": 10,
   "id": "99472874-916e-4324-b807-f16c7e3b55b2",
   "metadata": {},
   "outputs": [
    {
     "data": {
      "text/plain": [
       "0     True\n",
       "1    False\n",
       "2     True\n",
       "3    False\n",
       "dtype: bool"
      ]
     },
     "execution_count": 10,
     "metadata": {},
     "output_type": "execute_result"
    }
   ],
   "source": [
    "string_data.isnull()"
   ]
  },
  {
   "cell_type": "code",
   "execution_count": 11,
   "id": "bd2a9c20-c4cf-498b-a575-5bc286bf8381",
   "metadata": {},
   "outputs": [
    {
     "data": {
      "text/plain": [
       "0    False\n",
       "1     True\n",
       "2    False\n",
       "3     True\n",
       "dtype: bool"
      ]
     },
     "execution_count": 11,
     "metadata": {},
     "output_type": "execute_result"
    }
   ],
   "source": [
    "string_data.notnull() # retorna True para valores não nulos"
   ]
  },
  {
   "attachments": {
    "a0f0659e-b5c1-4420-8d9c-735f902710c7.png": {
     "image/png": "[encoded data removed]"
    }
   },
   "cell_type": "markdown",
   "id": "27e8a0e2-76bf-437a-afd9-3053a34ee6b8",
   "metadata": {},
   "source": [
    "\n",
    "    \n",
    "![image.png](attachment:a0f0659e-b5c1-4420-8d9c-735f902710c7.png) \n",
    "\n"
   ]
  },
  {
   "cell_type": "markdown",
   "id": "92a1a81b-0c6d-41bf-b23d-f45c6814c5ae",
   "metadata": {},
   "source": [
    "## Filtrando dados ausentes\n",
    "---"
   ]
  },
  {
   "cell_type": "code",
   "execution_count": 16,
   "id": "79bf57c9-4008-4c64-9392-8fafcdd0de2b",
   "metadata": {},
   "outputs": [],
   "source": [
    "from numpy import nan as NA"
   ]
  },
  {
   "cell_type": "code",
   "execution_count": 18,
   "id": "1a53b9a6-9328-4300-a7cd-b99c4e84b50f",
   "metadata": {},
   "outputs": [
    {
     "data": {
      "text/plain": [
       "0    1.0\n",
       "1    NaN\n",
       "2    3.5\n",
       "3    NaN\n",
       "4    7.0\n",
       "dtype: float64"
      ]
     },
     "execution_count": 18,
     "metadata": {},
     "output_type": "execute_result"
    }
   ],
   "source": [
    "data = pd.Series([1,NA,3.5,NA,7])\n",
    "data"
   ]
  },
  {
   "cell_type": "markdown",
   "id": "f2c4a627-9763-4a66-9366-b873853ddbf8",
   "metadata": {},
   "source": [
    "* Utilizando o [dropna](https://pandas.pydata.org/docs/reference/api/pandas.DataFrame.dropna.html):"
   ]
  },
  {
   "cell_type": "code",
   "execution_count": 19,
   "id": "117773b6-77a1-48a2-8e6b-f180c0244577",
   "metadata": {},
   "outputs": [
    {
     "data": {
      "text/plain": [
       "0    1.0\n",
       "2    3.5\n",
       "4    7.0\n",
       "dtype: float64"
      ]
     },
     "execution_count": 19,
     "metadata": {},
     "output_type": "execute_result"
    }
   ],
   "source": [
    "data.dropna()"
   ]
  },
  {
   "cell_type": "code",
   "execution_count": 20,
   "id": "5e6c9bda-afe2-40dd-beb9-46f459c8e6a9",
   "metadata": {},
   "outputs": [
    {
     "data": {
      "text/plain": [
       "0    1.0\n",
       "2    3.5\n",
       "4    7.0\n",
       "dtype: float64"
      ]
     },
     "execution_count": 20,
     "metadata": {},
     "output_type": "execute_result"
    }
   ],
   "source": [
    "data[data.notnull()] # é equivalente expressão acima"
   ]
  },
  {
   "cell_type": "markdown",
   "id": "bf94f19b-12c1-4197-8e0b-267cabae3106",
   "metadata": {},
   "source": [
    "* Com objetos DataFrame, a situação é um pouco mais complexa. Talvez você queira descartar linhas ou colunas que contenham somente NA ou apenas aquelas que contenham algum NA. Por padrão, dropna descarta qualquer linha contendo um valor ausente."
   ]
  },
  {
   "cell_type": "code",
   "execution_count": 23,
   "id": "63dbc93c-b9b9-4021-9e6b-4ac874d21e14",
   "metadata": {},
   "outputs": [
    {
     "data": {
      "text/html": [
       "<div>\n",
       "<style scoped>\n",
       "    .dataframe tbody tr th:only-of-type {\n",
       "        vertical-align: middle;\n",
       "    }\n",
       "\n",
       "    .dataframe tbody tr th {\n",
       "        vertical-align: top;\n",
       "    }\n",
       "\n",
       "    .dataframe thead th {\n",
       "        text-align: right;\n",
       "    }\n",
       "</style>\n",
       "<table border=\"1\" class=\"dataframe\">\n",
       "  <thead>\n",
       "    <tr style=\"text-align: right;\">\n",
       "      <th></th>\n",
       "      <th>0</th>\n",
       "      <th>1</th>\n",
       "      <th>2</th>\n",
       "    </tr>\n",
       "  </thead>\n",
       "  <tbody>\n",
       "    <tr>\n",
       "      <th>0</th>\n",
       "      <td>1.0</td>\n",
       "      <td>6.5</td>\n",
       "      <td>3.0</td>\n",
       "    </tr>\n",
       "    <tr>\n",
       "      <th>1</th>\n",
       "      <td>1.0</td>\n",
       "      <td>NaN</td>\n",
       "      <td>NaN</td>\n",
       "    </tr>\n",
       "    <tr>\n",
       "      <th>2</th>\n",
       "      <td>NaN</td>\n",
       "      <td>NaN</td>\n",
       "      <td>NaN</td>\n",
       "    </tr>\n",
       "    <tr>\n",
       "      <th>3</th>\n",
       "      <td>NaN</td>\n",
       "      <td>6.5</td>\n",
       "      <td>3.0</td>\n",
       "    </tr>\n",
       "  </tbody>\n",
       "</table>\n",
       "</div>"
      ],
      "text/plain": [
       "     0    1    2\n",
       "0  1.0  6.5  3.0\n",
       "1  1.0  NaN  NaN\n",
       "2  NaN  NaN  NaN\n",
       "3  NaN  6.5  3.0"
      ]
     },
     "execution_count": 23,
     "metadata": {},
     "output_type": "execute_result"
    }
   ],
   "source": [
    "data = pd.DataFrame([[1., 6.5, 3.], [1., NA, NA], [NA, NA, NA], [NA, 6.5, 3.]])\n",
    "data"
   ]
  },
  {
   "cell_type": "code",
   "execution_count": 26,
   "id": "5cc6febe-549e-4ff4-8c6c-3dd4892516ea",
   "metadata": {},
   "outputs": [
    {
     "data": {
      "text/html": [
       "<div>\n",
       "<style scoped>\n",
       "    .dataframe tbody tr th:only-of-type {\n",
       "        vertical-align: middle;\n",
       "    }\n",
       "\n",
       "    .dataframe tbody tr th {\n",
       "        vertical-align: top;\n",
       "    }\n",
       "\n",
       "    .dataframe thead th {\n",
       "        text-align: right;\n",
       "    }\n",
       "</style>\n",
       "<table border=\"1\" class=\"dataframe\">\n",
       "  <thead>\n",
       "    <tr style=\"text-align: right;\">\n",
       "      <th></th>\n",
       "      <th>0</th>\n",
       "      <th>1</th>\n",
       "      <th>2</th>\n",
       "    </tr>\n",
       "  </thead>\n",
       "  <tbody>\n",
       "    <tr>\n",
       "      <th>0</th>\n",
       "      <td>1.0</td>\n",
       "      <td>6.5</td>\n",
       "      <td>3.0</td>\n",
       "    </tr>\n",
       "  </tbody>\n",
       "</table>\n",
       "</div>"
      ],
      "text/plain": [
       "     0    1    2\n",
       "0  1.0  6.5  3.0"
      ]
     },
     "execution_count": 26,
     "metadata": {},
     "output_type": "execute_result"
    }
   ],
   "source": [
    "cleaned = data.dropna()\n",
    "cleaned"
   ]
  },
  {
   "cell_type": "markdown",
   "id": "6b02d581-4453-402d-95cb-683eeb5241f2",
   "metadata": {},
   "source": [
    "* Passar o `how='all'` descartará apena as colunas que contenham somente NAs"
   ]
  },
  {
   "cell_type": "code",
   "execution_count": 27,
   "id": "3ad2b23f-97b1-43e7-9b49-3350f8987065",
   "metadata": {},
   "outputs": [
    {
     "data": {
      "text/html": [
       "<div>\n",
       "<style scoped>\n",
       "    .dataframe tbody tr th:only-of-type {\n",
       "        vertical-align: middle;\n",
       "    }\n",
       "\n",
       "    .dataframe tbody tr th {\n",
       "        vertical-align: top;\n",
       "    }\n",
       "\n",
       "    .dataframe thead th {\n",
       "        text-align: right;\n",
       "    }\n",
       "</style>\n",
       "<table border=\"1\" class=\"dataframe\">\n",
       "  <thead>\n",
       "    <tr style=\"text-align: right;\">\n",
       "      <th></th>\n",
       "      <th>0</th>\n",
       "      <th>1</th>\n",
       "      <th>2</th>\n",
       "    </tr>\n",
       "  </thead>\n",
       "  <tbody>\n",
       "    <tr>\n",
       "      <th>0</th>\n",
       "      <td>1.0</td>\n",
       "      <td>6.5</td>\n",
       "      <td>3.0</td>\n",
       "    </tr>\n",
       "    <tr>\n",
       "      <th>1</th>\n",
       "      <td>1.0</td>\n",
       "      <td>NaN</td>\n",
       "      <td>NaN</td>\n",
       "    </tr>\n",
       "    <tr>\n",
       "      <th>3</th>\n",
       "      <td>NaN</td>\n",
       "      <td>6.5</td>\n",
       "      <td>3.0</td>\n",
       "    </tr>\n",
       "  </tbody>\n",
       "</table>\n",
       "</div>"
      ],
      "text/plain": [
       "     0    1    2\n",
       "0  1.0  6.5  3.0\n",
       "1  1.0  NaN  NaN\n",
       "3  NaN  6.5  3.0"
      ]
     },
     "execution_count": 27,
     "metadata": {},
     "output_type": "execute_result"
    }
   ],
   "source": [
    "data.dropna(how='all')"
   ]
  },
  {
   "cell_type": "markdown",
   "id": "75c93542-8f05-4e6a-9d40-dbbc343a38e8",
   "metadata": {},
   "source": [
    "* Para descartar colunas do mesmo modo, passe `axis=1`:"
   ]
  },
  {
   "cell_type": "code",
   "execution_count": 29,
   "id": "44c3bdfd-6ba1-4b20-81a7-af3508e0922f",
   "metadata": {},
   "outputs": [
    {
     "data": {
      "text/html": [
       "<div>\n",
       "<style scoped>\n",
       "    .dataframe tbody tr th:only-of-type {\n",
       "        vertical-align: middle;\n",
       "    }\n",
       "\n",
       "    .dataframe tbody tr th {\n",
       "        vertical-align: top;\n",
       "    }\n",
       "\n",
       "    .dataframe thead th {\n",
       "        text-align: right;\n",
       "    }\n",
       "</style>\n",
       "<table border=\"1\" class=\"dataframe\">\n",
       "  <thead>\n",
       "    <tr style=\"text-align: right;\">\n",
       "      <th></th>\n",
       "      <th>0</th>\n",
       "      <th>1</th>\n",
       "      <th>2</th>\n",
       "    </tr>\n",
       "  </thead>\n",
       "  <tbody>\n",
       "    <tr>\n",
       "      <th>0</th>\n",
       "      <td>1.0</td>\n",
       "      <td>6.5</td>\n",
       "      <td>3.0</td>\n",
       "    </tr>\n",
       "    <tr>\n",
       "      <th>1</th>\n",
       "      <td>1.0</td>\n",
       "      <td>NaN</td>\n",
       "      <td>NaN</td>\n",
       "    </tr>\n",
       "    <tr>\n",
       "      <th>2</th>\n",
       "      <td>NaN</td>\n",
       "      <td>NaN</td>\n",
       "      <td>NaN</td>\n",
       "    </tr>\n",
       "    <tr>\n",
       "      <th>3</th>\n",
       "      <td>NaN</td>\n",
       "      <td>6.5</td>\n",
       "      <td>3.0</td>\n",
       "    </tr>\n",
       "  </tbody>\n",
       "</table>\n",
       "</div>"
      ],
      "text/plain": [
       "     0    1    2\n",
       "0  1.0  6.5  3.0\n",
       "1  1.0  NaN  NaN\n",
       "2  NaN  NaN  NaN\n",
       "3  NaN  6.5  3.0"
      ]
     },
     "execution_count": 29,
     "metadata": {},
     "output_type": "execute_result"
    }
   ],
   "source": [
    "data.dropna(how='all',axis=1) # não exclui, pois nenhuma coluna contém todos os valores NAs"
   ]
  },
  {
   "cell_type": "code",
   "execution_count": 34,
   "id": "000fcc0b-9aad-42dc-95a9-5ff49a05c33e",
   "metadata": {},
   "outputs": [],
   "source": [
    "data[4] = NA # adicionando a coluna NA"
   ]
  },
  {
   "cell_type": "code",
   "execution_count": 31,
   "id": "763737fe-18d1-4357-8ec0-be05ae37d0ec",
   "metadata": {},
   "outputs": [
    {
     "data": {
      "text/html": [
       "<div>\n",
       "<style scoped>\n",
       "    .dataframe tbody tr th:only-of-type {\n",
       "        vertical-align: middle;\n",
       "    }\n",
       "\n",
       "    .dataframe tbody tr th {\n",
       "        vertical-align: top;\n",
       "    }\n",
       "\n",
       "    .dataframe thead th {\n",
       "        text-align: right;\n",
       "    }\n",
       "</style>\n",
       "<table border=\"1\" class=\"dataframe\">\n",
       "  <thead>\n",
       "    <tr style=\"text-align: right;\">\n",
       "      <th></th>\n",
       "      <th>0</th>\n",
       "      <th>1</th>\n",
       "      <th>2</th>\n",
       "      <th>4</th>\n",
       "    </tr>\n",
       "  </thead>\n",
       "  <tbody>\n",
       "    <tr>\n",
       "      <th>0</th>\n",
       "      <td>1.0</td>\n",
       "      <td>6.5</td>\n",
       "      <td>3.0</td>\n",
       "      <td>NaN</td>\n",
       "    </tr>\n",
       "    <tr>\n",
       "      <th>1</th>\n",
       "      <td>1.0</td>\n",
       "      <td>NaN</td>\n",
       "      <td>NaN</td>\n",
       "      <td>NaN</td>\n",
       "    </tr>\n",
       "    <tr>\n",
       "      <th>2</th>\n",
       "      <td>NaN</td>\n",
       "      <td>NaN</td>\n",
       "      <td>NaN</td>\n",
       "      <td>NaN</td>\n",
       "    </tr>\n",
       "    <tr>\n",
       "      <th>3</th>\n",
       "      <td>NaN</td>\n",
       "      <td>6.5</td>\n",
       "      <td>3.0</td>\n",
       "      <td>NaN</td>\n",
       "    </tr>\n",
       "  </tbody>\n",
       "</table>\n",
       "</div>"
      ],
      "text/plain": [
       "     0    1    2   4\n",
       "0  1.0  6.5  3.0 NaN\n",
       "1  1.0  NaN  NaN NaN\n",
       "2  NaN  NaN  NaN NaN\n",
       "3  NaN  6.5  3.0 NaN"
      ]
     },
     "execution_count": 31,
     "metadata": {},
     "output_type": "execute_result"
    }
   ],
   "source": [
    "data"
   ]
  },
  {
   "cell_type": "code",
   "execution_count": 33,
   "id": "56e55d8f-217b-4da7-b383-e3a11148c8e8",
   "metadata": {},
   "outputs": [
    {
     "data": {
      "text/html": [
       "<div>\n",
       "<style scoped>\n",
       "    .dataframe tbody tr th:only-of-type {\n",
       "        vertical-align: middle;\n",
       "    }\n",
       "\n",
       "    .dataframe tbody tr th {\n",
       "        vertical-align: top;\n",
       "    }\n",
       "\n",
       "    .dataframe thead th {\n",
       "        text-align: right;\n",
       "    }\n",
       "</style>\n",
       "<table border=\"1\" class=\"dataframe\">\n",
       "  <thead>\n",
       "    <tr style=\"text-align: right;\">\n",
       "      <th></th>\n",
       "      <th>0</th>\n",
       "      <th>1</th>\n",
       "      <th>2</th>\n",
       "    </tr>\n",
       "  </thead>\n",
       "  <tbody>\n",
       "    <tr>\n",
       "      <th>0</th>\n",
       "      <td>1.0</td>\n",
       "      <td>6.5</td>\n",
       "      <td>3.0</td>\n",
       "    </tr>\n",
       "    <tr>\n",
       "      <th>1</th>\n",
       "      <td>1.0</td>\n",
       "      <td>NaN</td>\n",
       "      <td>NaN</td>\n",
       "    </tr>\n",
       "    <tr>\n",
       "      <th>2</th>\n",
       "      <td>NaN</td>\n",
       "      <td>NaN</td>\n",
       "      <td>NaN</td>\n",
       "    </tr>\n",
       "    <tr>\n",
       "      <th>3</th>\n",
       "      <td>NaN</td>\n",
       "      <td>6.5</td>\n",
       "      <td>3.0</td>\n",
       "    </tr>\n",
       "  </tbody>\n",
       "</table>\n",
       "</div>"
      ],
      "text/plain": [
       "     0    1    2\n",
       "0  1.0  6.5  3.0\n",
       "1  1.0  NaN  NaN\n",
       "2  NaN  NaN  NaN\n",
       "3  NaN  6.5  3.0"
      ]
     },
     "execution_count": 33,
     "metadata": {},
     "output_type": "execute_result"
    }
   ],
   "source": [
    "data.dropna(how='all', axis=1)"
   ]
  },
  {
   "cell_type": "markdown",
   "id": "b381e56a-1b90-40b1-a487-7497976dc31f",
   "metadata": {},
   "source": [
    "* Um modo relacionado de filtrar linhas de DataFrame diz respeito a\n",
    "dados de séries temporais. Suponha que queremos manter somente\n",
    "as linhas contendo determinado número de observações. Podemos\n",
    "representar isso com o argumento thresh: "
   ]
  },
  {
   "cell_type": "code",
   "execution_count": 47,
   "id": "679b3711-109a-4277-81a0-ca322a0179bd",
   "metadata": {},
   "outputs": [
    {
     "data": {
      "text/html": [
       "<div>\n",
       "<style scoped>\n",
       "    .dataframe tbody tr th:only-of-type {\n",
       "        vertical-align: middle;\n",
       "    }\n",
       "\n",
       "    .dataframe tbody tr th {\n",
       "        vertical-align: top;\n",
       "    }\n",
       "\n",
       "    .dataframe thead th {\n",
       "        text-align: right;\n",
       "    }\n",
       "</style>\n",
       "<table border=\"1\" class=\"dataframe\">\n",
       "  <thead>\n",
       "    <tr style=\"text-align: right;\">\n",
       "      <th></th>\n",
       "      <th>0</th>\n",
       "      <th>1</th>\n",
       "      <th>2</th>\n",
       "    </tr>\n",
       "  </thead>\n",
       "  <tbody>\n",
       "    <tr>\n",
       "      <th>0</th>\n",
       "      <td>0.220057</td>\n",
       "      <td>-0.410821</td>\n",
       "      <td>0.389936</td>\n",
       "    </tr>\n",
       "    <tr>\n",
       "      <th>1</th>\n",
       "      <td>-0.305898</td>\n",
       "      <td>0.481587</td>\n",
       "      <td>0.149941</td>\n",
       "    </tr>\n",
       "    <tr>\n",
       "      <th>2</th>\n",
       "      <td>-1.261540</td>\n",
       "      <td>-0.750928</td>\n",
       "      <td>1.115232</td>\n",
       "    </tr>\n",
       "    <tr>\n",
       "      <th>3</th>\n",
       "      <td>0.492819</td>\n",
       "      <td>-0.403217</td>\n",
       "      <td>0.827236</td>\n",
       "    </tr>\n",
       "    <tr>\n",
       "      <th>4</th>\n",
       "      <td>1.930805</td>\n",
       "      <td>0.156707</td>\n",
       "      <td>0.267943</td>\n",
       "    </tr>\n",
       "    <tr>\n",
       "      <th>5</th>\n",
       "      <td>-0.069322</td>\n",
       "      <td>0.320973</td>\n",
       "      <td>0.165519</td>\n",
       "    </tr>\n",
       "    <tr>\n",
       "      <th>6</th>\n",
       "      <td>0.841440</td>\n",
       "      <td>-0.117350</td>\n",
       "      <td>-0.036279</td>\n",
       "    </tr>\n",
       "  </tbody>\n",
       "</table>\n",
       "</div>"
      ],
      "text/plain": [
       "          0         1         2\n",
       "0  0.220057 -0.410821  0.389936\n",
       "1 -0.305898  0.481587  0.149941\n",
       "2 -1.261540 -0.750928  1.115232\n",
       "3  0.492819 -0.403217  0.827236\n",
       "4  1.930805  0.156707  0.267943\n",
       "5 -0.069322  0.320973  0.165519\n",
       "6  0.841440 -0.117350 -0.036279"
      ]
     },
     "execution_count": 47,
     "metadata": {},
     "output_type": "execute_result"
    }
   ],
   "source": [
    "df = pd.DataFrame(np.random.randn(7, 3))\n",
    "df"
   ]
  },
  {
   "cell_type": "code",
   "execution_count": 48,
   "id": "c907789e-200e-4211-a4e7-da085d91e46f",
   "metadata": {},
   "outputs": [],
   "source": [
    "df.iloc[:2, 2] = NA"
   ]
  },
  {
   "cell_type": "code",
   "execution_count": 46,
   "id": "411c3e71-bcb8-4f01-ac3b-4a8ea581ba44",
   "metadata": {},
   "outputs": [
    {
     "data": {
      "text/html": [
       "<div>\n",
       "<style scoped>\n",
       "    .dataframe tbody tr th:only-of-type {\n",
       "        vertical-align: middle;\n",
       "    }\n",
       "\n",
       "    .dataframe tbody tr th {\n",
       "        vertical-align: top;\n",
       "    }\n",
       "\n",
       "    .dataframe thead th {\n",
       "        text-align: right;\n",
       "    }\n",
       "</style>\n",
       "<table border=\"1\" class=\"dataframe\">\n",
       "  <thead>\n",
       "    <tr style=\"text-align: right;\">\n",
       "      <th></th>\n",
       "      <th>0</th>\n",
       "      <th>1</th>\n",
       "      <th>2</th>\n",
       "    </tr>\n",
       "  </thead>\n",
       "  <tbody>\n",
       "    <tr>\n",
       "      <th>0</th>\n",
       "      <td>-0.764342</td>\n",
       "      <td>-1.656409</td>\n",
       "      <td>NaN</td>\n",
       "    </tr>\n",
       "    <tr>\n",
       "      <th>1</th>\n",
       "      <td>-0.806849</td>\n",
       "      <td>-0.354977</td>\n",
       "      <td>NaN</td>\n",
       "    </tr>\n",
       "    <tr>\n",
       "      <th>2</th>\n",
       "      <td>-0.295087</td>\n",
       "      <td>-0.231297</td>\n",
       "      <td>NaN</td>\n",
       "    </tr>\n",
       "    <tr>\n",
       "      <th>3</th>\n",
       "      <td>-0.561777</td>\n",
       "      <td>-1.359615</td>\n",
       "      <td>NaN</td>\n",
       "    </tr>\n",
       "    <tr>\n",
       "      <th>4</th>\n",
       "      <td>0.163353</td>\n",
       "      <td>0.509387</td>\n",
       "      <td>NaN</td>\n",
       "    </tr>\n",
       "    <tr>\n",
       "      <th>5</th>\n",
       "      <td>0.202971</td>\n",
       "      <td>-1.240226</td>\n",
       "      <td>NaN</td>\n",
       "    </tr>\n",
       "    <tr>\n",
       "      <th>6</th>\n",
       "      <td>-0.572518</td>\n",
       "      <td>-0.238129</td>\n",
       "      <td>NaN</td>\n",
       "    </tr>\n",
       "  </tbody>\n",
       "</table>\n",
       "</div>"
      ],
      "text/plain": [
       "          0         1   2\n",
       "0 -0.764342 -1.656409 NaN\n",
       "1 -0.806849 -0.354977 NaN\n",
       "2 -0.295087 -0.231297 NaN\n",
       "3 -0.561777 -1.359615 NaN\n",
       "4  0.163353  0.509387 NaN\n",
       "5  0.202971 -1.240226 NaN\n",
       "6 -0.572518 -0.238129 NaN"
      ]
     },
     "execution_count": 46,
     "metadata": {},
     "output_type": "execute_result"
    }
   ],
   "source": [
    "df"
   ]
  },
  {
   "cell_type": "code",
   "execution_count": 39,
   "id": "59d529a1-a6eb-42e5-a692-8d856fea19d9",
   "metadata": {},
   "outputs": [
    {
     "data": {
      "text/html": [
       "<div>\n",
       "<style scoped>\n",
       "    .dataframe tbody tr th:only-of-type {\n",
       "        vertical-align: middle;\n",
       "    }\n",
       "\n",
       "    .dataframe tbody tr th {\n",
       "        vertical-align: top;\n",
       "    }\n",
       "\n",
       "    .dataframe thead th {\n",
       "        text-align: right;\n",
       "    }\n",
       "</style>\n",
       "<table border=\"1\" class=\"dataframe\">\n",
       "  <thead>\n",
       "    <tr style=\"text-align: right;\">\n",
       "      <th></th>\n",
       "      <th>0</th>\n",
       "      <th>1</th>\n",
       "      <th>2</th>\n",
       "    </tr>\n",
       "  </thead>\n",
       "  <tbody>\n",
       "    <tr>\n",
       "      <th>2</th>\n",
       "      <td>-0.295087</td>\n",
       "      <td>-0.231297</td>\n",
       "      <td>0.420620</td>\n",
       "    </tr>\n",
       "    <tr>\n",
       "      <th>3</th>\n",
       "      <td>-0.561777</td>\n",
       "      <td>-1.359615</td>\n",
       "      <td>1.062978</td>\n",
       "    </tr>\n",
       "    <tr>\n",
       "      <th>4</th>\n",
       "      <td>0.163353</td>\n",
       "      <td>0.509387</td>\n",
       "      <td>-1.063655</td>\n",
       "    </tr>\n",
       "    <tr>\n",
       "      <th>5</th>\n",
       "      <td>0.202971</td>\n",
       "      <td>-1.240226</td>\n",
       "      <td>-0.082776</td>\n",
       "    </tr>\n",
       "    <tr>\n",
       "      <th>6</th>\n",
       "      <td>-0.572518</td>\n",
       "      <td>-0.238129</td>\n",
       "      <td>-0.280116</td>\n",
       "    </tr>\n",
       "  </tbody>\n",
       "</table>\n",
       "</div>"
      ],
      "text/plain": [
       "          0         1         2\n",
       "2 -0.295087 -0.231297  0.420620\n",
       "3 -0.561777 -1.359615  1.062978\n",
       "4  0.163353  0.509387 -1.063655\n",
       "5  0.202971 -1.240226 -0.082776\n",
       "6 -0.572518 -0.238129 -0.280116"
      ]
     },
     "execution_count": 39,
     "metadata": {},
     "output_type": "execute_result"
    }
   ],
   "source": [
    "df.dropna()"
   ]
  },
  {
   "cell_type": "code",
   "execution_count": 40,
   "id": "23cf2a22-e02e-4793-982b-690b595c57b8",
   "metadata": {},
   "outputs": [
    {
     "data": {
      "text/html": [
       "<div>\n",
       "<style scoped>\n",
       "    .dataframe tbody tr th:only-of-type {\n",
       "        vertical-align: middle;\n",
       "    }\n",
       "\n",
       "    .dataframe tbody tr th {\n",
       "        vertical-align: top;\n",
       "    }\n",
       "\n",
       "    .dataframe thead th {\n",
       "        text-align: right;\n",
       "    }\n",
       "</style>\n",
       "<table border=\"1\" class=\"dataframe\">\n",
       "  <thead>\n",
       "    <tr style=\"text-align: right;\">\n",
       "      <th></th>\n",
       "      <th>0</th>\n",
       "      <th>1</th>\n",
       "      <th>2</th>\n",
       "    </tr>\n",
       "  </thead>\n",
       "  <tbody>\n",
       "    <tr>\n",
       "      <th>0</th>\n",
       "      <td>-0.764342</td>\n",
       "      <td>-1.656409</td>\n",
       "      <td>NaN</td>\n",
       "    </tr>\n",
       "    <tr>\n",
       "      <th>1</th>\n",
       "      <td>-0.806849</td>\n",
       "      <td>-0.354977</td>\n",
       "      <td>NaN</td>\n",
       "    </tr>\n",
       "    <tr>\n",
       "      <th>2</th>\n",
       "      <td>-0.295087</td>\n",
       "      <td>-0.231297</td>\n",
       "      <td>0.420620</td>\n",
       "    </tr>\n",
       "    <tr>\n",
       "      <th>3</th>\n",
       "      <td>-0.561777</td>\n",
       "      <td>-1.359615</td>\n",
       "      <td>1.062978</td>\n",
       "    </tr>\n",
       "    <tr>\n",
       "      <th>4</th>\n",
       "      <td>0.163353</td>\n",
       "      <td>0.509387</td>\n",
       "      <td>-1.063655</td>\n",
       "    </tr>\n",
       "    <tr>\n",
       "      <th>5</th>\n",
       "      <td>0.202971</td>\n",
       "      <td>-1.240226</td>\n",
       "      <td>-0.082776</td>\n",
       "    </tr>\n",
       "    <tr>\n",
       "      <th>6</th>\n",
       "      <td>-0.572518</td>\n",
       "      <td>-0.238129</td>\n",
       "      <td>-0.280116</td>\n",
       "    </tr>\n",
       "  </tbody>\n",
       "</table>\n",
       "</div>"
      ],
      "text/plain": [
       "          0         1         2\n",
       "0 -0.764342 -1.656409       NaN\n",
       "1 -0.806849 -0.354977       NaN\n",
       "2 -0.295087 -0.231297  0.420620\n",
       "3 -0.561777 -1.359615  1.062978\n",
       "4  0.163353  0.509387 -1.063655\n",
       "5  0.202971 -1.240226 -0.082776\n",
       "6 -0.572518 -0.238129 -0.280116"
      ]
     },
     "execution_count": 40,
     "metadata": {},
     "output_type": "execute_result"
    }
   ],
   "source": [
    "df.dropna(thresh=2)"
   ]
  },
  {
   "cell_type": "markdown",
   "id": "585735bc-162a-42cf-9b71-c0486fcd6573",
   "metadata": {},
   "source": [
    "## Preenchendo dados ausentes\n",
    "---"
   ]
  },
  {
   "cell_type": "markdown",
   "id": "ba47a166-f15c-452f-985a-bb77ac962608",
   "metadata": {},
   "source": [
    "Em vez de filtrar dados ausentes (e possivelmente descartar outros\n",
    "dados junto com esses), você poderá preencher as “lacunas” de\n",
    "várias maneiras. Na maioria dos casos, o método [fillna](https://pandas.pydata.org/docs/reference/api/pandas.DataFrame.fillna.html) será a função\n",
    "que representa a força de trabalho a ser utilizada. Chamar fillna com\n",
    "uma constante substitui valores ausentes por esse valor:"
   ]
  },
  {
   "cell_type": "code",
   "execution_count": 41,
   "id": "167b6e77-c554-46a2-8343-6ecb30289e0d",
   "metadata": {},
   "outputs": [
    {
     "data": {
      "text/html": [
       "<div>\n",
       "<style scoped>\n",
       "    .dataframe tbody tr th:only-of-type {\n",
       "        vertical-align: middle;\n",
       "    }\n",
       "\n",
       "    .dataframe tbody tr th {\n",
       "        vertical-align: top;\n",
       "    }\n",
       "\n",
       "    .dataframe thead th {\n",
       "        text-align: right;\n",
       "    }\n",
       "</style>\n",
       "<table border=\"1\" class=\"dataframe\">\n",
       "  <thead>\n",
       "    <tr style=\"text-align: right;\">\n",
       "      <th></th>\n",
       "      <th>0</th>\n",
       "      <th>1</th>\n",
       "      <th>2</th>\n",
       "    </tr>\n",
       "  </thead>\n",
       "  <tbody>\n",
       "    <tr>\n",
       "      <th>0</th>\n",
       "      <td>-0.764342</td>\n",
       "      <td>-1.656409</td>\n",
       "      <td>NaN</td>\n",
       "    </tr>\n",
       "    <tr>\n",
       "      <th>1</th>\n",
       "      <td>-0.806849</td>\n",
       "      <td>-0.354977</td>\n",
       "      <td>NaN</td>\n",
       "    </tr>\n",
       "    <tr>\n",
       "      <th>2</th>\n",
       "      <td>-0.295087</td>\n",
       "      <td>-0.231297</td>\n",
       "      <td>0.420620</td>\n",
       "    </tr>\n",
       "    <tr>\n",
       "      <th>3</th>\n",
       "      <td>-0.561777</td>\n",
       "      <td>-1.359615</td>\n",
       "      <td>1.062978</td>\n",
       "    </tr>\n",
       "    <tr>\n",
       "      <th>4</th>\n",
       "      <td>0.163353</td>\n",
       "      <td>0.509387</td>\n",
       "      <td>-1.063655</td>\n",
       "    </tr>\n",
       "    <tr>\n",
       "      <th>5</th>\n",
       "      <td>0.202971</td>\n",
       "      <td>-1.240226</td>\n",
       "      <td>-0.082776</td>\n",
       "    </tr>\n",
       "    <tr>\n",
       "      <th>6</th>\n",
       "      <td>-0.572518</td>\n",
       "      <td>-0.238129</td>\n",
       "      <td>-0.280116</td>\n",
       "    </tr>\n",
       "  </tbody>\n",
       "</table>\n",
       "</div>"
      ],
      "text/plain": [
       "          0         1         2\n",
       "0 -0.764342 -1.656409       NaN\n",
       "1 -0.806849 -0.354977       NaN\n",
       "2 -0.295087 -0.231297  0.420620\n",
       "3 -0.561777 -1.359615  1.062978\n",
       "4  0.163353  0.509387 -1.063655\n",
       "5  0.202971 -1.240226 -0.082776\n",
       "6 -0.572518 -0.238129 -0.280116"
      ]
     },
     "execution_count": 41,
     "metadata": {},
     "output_type": "execute_result"
    }
   ],
   "source": [
    "df"
   ]
  },
  {
   "cell_type": "code",
   "execution_count": 49,
   "id": "f787150b-f5ea-4283-bce4-dc494ed55f32",
   "metadata": {},
   "outputs": [
    {
     "data": {
      "text/html": [
       "<div>\n",
       "<style scoped>\n",
       "    .dataframe tbody tr th:only-of-type {\n",
       "        vertical-align: middle;\n",
       "    }\n",
       "\n",
       "    .dataframe tbody tr th {\n",
       "        vertical-align: top;\n",
       "    }\n",
       "\n",
       "    .dataframe thead th {\n",
       "        text-align: right;\n",
       "    }\n",
       "</style>\n",
       "<table border=\"1\" class=\"dataframe\">\n",
       "  <thead>\n",
       "    <tr style=\"text-align: right;\">\n",
       "      <th></th>\n",
       "      <th>0</th>\n",
       "      <th>1</th>\n",
       "      <th>2</th>\n",
       "    </tr>\n",
       "  </thead>\n",
       "  <tbody>\n",
       "    <tr>\n",
       "      <th>0</th>\n",
       "      <td>0.220057</td>\n",
       "      <td>-0.410821</td>\n",
       "      <td>0.000000</td>\n",
       "    </tr>\n",
       "    <tr>\n",
       "      <th>1</th>\n",
       "      <td>-0.305898</td>\n",
       "      <td>0.481587</td>\n",
       "      <td>0.000000</td>\n",
       "    </tr>\n",
       "    <tr>\n",
       "      <th>2</th>\n",
       "      <td>-1.261540</td>\n",
       "      <td>-0.750928</td>\n",
       "      <td>1.115232</td>\n",
       "    </tr>\n",
       "    <tr>\n",
       "      <th>3</th>\n",
       "      <td>0.492819</td>\n",
       "      <td>-0.403217</td>\n",
       "      <td>0.827236</td>\n",
       "    </tr>\n",
       "    <tr>\n",
       "      <th>4</th>\n",
       "      <td>1.930805</td>\n",
       "      <td>0.156707</td>\n",
       "      <td>0.267943</td>\n",
       "    </tr>\n",
       "    <tr>\n",
       "      <th>5</th>\n",
       "      <td>-0.069322</td>\n",
       "      <td>0.320973</td>\n",
       "      <td>0.165519</td>\n",
       "    </tr>\n",
       "    <tr>\n",
       "      <th>6</th>\n",
       "      <td>0.841440</td>\n",
       "      <td>-0.117350</td>\n",
       "      <td>-0.036279</td>\n",
       "    </tr>\n",
       "  </tbody>\n",
       "</table>\n",
       "</div>"
      ],
      "text/plain": [
       "          0         1         2\n",
       "0  0.220057 -0.410821  0.000000\n",
       "1 -0.305898  0.481587  0.000000\n",
       "2 -1.261540 -0.750928  1.115232\n",
       "3  0.492819 -0.403217  0.827236\n",
       "4  1.930805  0.156707  0.267943\n",
       "5 -0.069322  0.320973  0.165519\n",
       "6  0.841440 -0.117350 -0.036279"
      ]
     },
     "execution_count": 49,
     "metadata": {},
     "output_type": "execute_result"
    }
   ],
   "source": [
    "df.fillna(0)"
   ]
  },
  {
   "cell_type": "markdown",
   "id": "5b933e47-a57e-4632-acfb-619f94fa2326",
   "metadata": {},
   "source": [
    "Ao chamar fillna com um dicionário, podemos usar um valor de\n",
    "preenchimento diferente para cada coluna:"
   ]
  },
  {
   "cell_type": "code",
   "execution_count": 52,
   "id": "ec1fbff4-4018-4bbd-88ac-1b45fd6ee26a",
   "metadata": {},
   "outputs": [
    {
     "data": {
      "text/html": [
       "<div>\n",
       "<style scoped>\n",
       "    .dataframe tbody tr th:only-of-type {\n",
       "        vertical-align: middle;\n",
       "    }\n",
       "\n",
       "    .dataframe tbody tr th {\n",
       "        vertical-align: top;\n",
       "    }\n",
       "\n",
       "    .dataframe thead th {\n",
       "        text-align: right;\n",
       "    }\n",
       "</style>\n",
       "<table border=\"1\" class=\"dataframe\">\n",
       "  <thead>\n",
       "    <tr style=\"text-align: right;\">\n",
       "      <th></th>\n",
       "      <th>0</th>\n",
       "      <th>1</th>\n",
       "      <th>2</th>\n",
       "    </tr>\n",
       "  </thead>\n",
       "  <tbody>\n",
       "    <tr>\n",
       "      <th>0</th>\n",
       "      <td>0.220057</td>\n",
       "      <td>-0.410821</td>\n",
       "      <td>NaN</td>\n",
       "    </tr>\n",
       "    <tr>\n",
       "      <th>1</th>\n",
       "      <td>-0.305898</td>\n",
       "      <td>NaN</td>\n",
       "      <td>NaN</td>\n",
       "    </tr>\n",
       "    <tr>\n",
       "      <th>2</th>\n",
       "      <td>-1.261540</td>\n",
       "      <td>NaN</td>\n",
       "      <td>1.115232</td>\n",
       "    </tr>\n",
       "    <tr>\n",
       "      <th>3</th>\n",
       "      <td>0.492819</td>\n",
       "      <td>-0.403217</td>\n",
       "      <td>0.827236</td>\n",
       "    </tr>\n",
       "    <tr>\n",
       "      <th>4</th>\n",
       "      <td>1.930805</td>\n",
       "      <td>0.156707</td>\n",
       "      <td>0.267943</td>\n",
       "    </tr>\n",
       "    <tr>\n",
       "      <th>5</th>\n",
       "      <td>-0.069322</td>\n",
       "      <td>0.320973</td>\n",
       "      <td>0.165519</td>\n",
       "    </tr>\n",
       "    <tr>\n",
       "      <th>6</th>\n",
       "      <td>0.841440</td>\n",
       "      <td>-0.117350</td>\n",
       "      <td>-0.036279</td>\n",
       "    </tr>\n",
       "  </tbody>\n",
       "</table>\n",
       "</div>"
      ],
      "text/plain": [
       "          0         1         2\n",
       "0  0.220057 -0.410821       NaN\n",
       "1 -0.305898       NaN       NaN\n",
       "2 -1.261540       NaN  1.115232\n",
       "3  0.492819 -0.403217  0.827236\n",
       "4  1.930805  0.156707  0.267943\n",
       "5 -0.069322  0.320973  0.165519\n",
       "6  0.841440 -0.117350 -0.036279"
      ]
     },
     "execution_count": 52,
     "metadata": {},
     "output_type": "execute_result"
    }
   ],
   "source": [
    "df.iloc[1:3,1] = NA\n",
    "df"
   ]
  },
  {
   "cell_type": "code",
   "execution_count": 53,
   "id": "a659a3cb-cda8-4d7e-95b9-d8d83246cb96",
   "metadata": {},
   "outputs": [
    {
     "data": {
      "text/html": [
       "<div>\n",
       "<style scoped>\n",
       "    .dataframe tbody tr th:only-of-type {\n",
       "        vertical-align: middle;\n",
       "    }\n",
       "\n",
       "    .dataframe tbody tr th {\n",
       "        vertical-align: top;\n",
       "    }\n",
       "\n",
       "    .dataframe thead th {\n",
       "        text-align: right;\n",
       "    }\n",
       "</style>\n",
       "<table border=\"1\" class=\"dataframe\">\n",
       "  <thead>\n",
       "    <tr style=\"text-align: right;\">\n",
       "      <th></th>\n",
       "      <th>0</th>\n",
       "      <th>1</th>\n",
       "      <th>2</th>\n",
       "    </tr>\n",
       "  </thead>\n",
       "  <tbody>\n",
       "    <tr>\n",
       "      <th>0</th>\n",
       "      <td>0.220057</td>\n",
       "      <td>-0.410821</td>\n",
       "      <td>0.000000</td>\n",
       "    </tr>\n",
       "    <tr>\n",
       "      <th>1</th>\n",
       "      <td>-0.305898</td>\n",
       "      <td>0.500000</td>\n",
       "      <td>0.000000</td>\n",
       "    </tr>\n",
       "    <tr>\n",
       "      <th>2</th>\n",
       "      <td>-1.261540</td>\n",
       "      <td>0.500000</td>\n",
       "      <td>1.115232</td>\n",
       "    </tr>\n",
       "    <tr>\n",
       "      <th>3</th>\n",
       "      <td>0.492819</td>\n",
       "      <td>-0.403217</td>\n",
       "      <td>0.827236</td>\n",
       "    </tr>\n",
       "    <tr>\n",
       "      <th>4</th>\n",
       "      <td>1.930805</td>\n",
       "      <td>0.156707</td>\n",
       "      <td>0.267943</td>\n",
       "    </tr>\n",
       "    <tr>\n",
       "      <th>5</th>\n",
       "      <td>-0.069322</td>\n",
       "      <td>0.320973</td>\n",
       "      <td>0.165519</td>\n",
       "    </tr>\n",
       "    <tr>\n",
       "      <th>6</th>\n",
       "      <td>0.841440</td>\n",
       "      <td>-0.117350</td>\n",
       "      <td>-0.036279</td>\n",
       "    </tr>\n",
       "  </tbody>\n",
       "</table>\n",
       "</div>"
      ],
      "text/plain": [
       "          0         1         2\n",
       "0  0.220057 -0.410821  0.000000\n",
       "1 -0.305898  0.500000  0.000000\n",
       "2 -1.261540  0.500000  1.115232\n",
       "3  0.492819 -0.403217  0.827236\n",
       "4  1.930805  0.156707  0.267943\n",
       "5 -0.069322  0.320973  0.165519\n",
       "6  0.841440 -0.117350 -0.036279"
      ]
     },
     "execution_count": 53,
     "metadata": {},
     "output_type": "execute_result"
    }
   ],
   "source": [
    "df.fillna({1:0.5,2:0})"
   ]
  },
  {
   "cell_type": "code",
   "execution_count": 54,
   "id": "6c5c2835-5c78-44ef-9c1c-f2f09f5c8760",
   "metadata": {},
   "outputs": [
    {
     "data": {
      "text/html": [
       "<div>\n",
       "<style scoped>\n",
       "    .dataframe tbody tr th:only-of-type {\n",
       "        vertical-align: middle;\n",
       "    }\n",
       "\n",
       "    .dataframe tbody tr th {\n",
       "        vertical-align: top;\n",
       "    }\n",
       "\n",
       "    .dataframe thead th {\n",
       "        text-align: right;\n",
       "    }\n",
       "</style>\n",
       "<table border=\"1\" class=\"dataframe\">\n",
       "  <thead>\n",
       "    <tr style=\"text-align: right;\">\n",
       "      <th></th>\n",
       "      <th>0</th>\n",
       "      <th>1</th>\n",
       "      <th>2</th>\n",
       "    </tr>\n",
       "  </thead>\n",
       "  <tbody>\n",
       "    <tr>\n",
       "      <th>0</th>\n",
       "      <td>0.220057</td>\n",
       "      <td>-0.410821</td>\n",
       "      <td>NaN</td>\n",
       "    </tr>\n",
       "    <tr>\n",
       "      <th>1</th>\n",
       "      <td>-0.305898</td>\n",
       "      <td>NaN</td>\n",
       "      <td>NaN</td>\n",
       "    </tr>\n",
       "    <tr>\n",
       "      <th>2</th>\n",
       "      <td>-1.261540</td>\n",
       "      <td>NaN</td>\n",
       "      <td>1.115232</td>\n",
       "    </tr>\n",
       "    <tr>\n",
       "      <th>3</th>\n",
       "      <td>0.492819</td>\n",
       "      <td>-0.403217</td>\n",
       "      <td>0.827236</td>\n",
       "    </tr>\n",
       "    <tr>\n",
       "      <th>4</th>\n",
       "      <td>1.930805</td>\n",
       "      <td>0.156707</td>\n",
       "      <td>0.267943</td>\n",
       "    </tr>\n",
       "    <tr>\n",
       "      <th>5</th>\n",
       "      <td>-0.069322</td>\n",
       "      <td>0.320973</td>\n",
       "      <td>0.165519</td>\n",
       "    </tr>\n",
       "    <tr>\n",
       "      <th>6</th>\n",
       "      <td>0.841440</td>\n",
       "      <td>-0.117350</td>\n",
       "      <td>-0.036279</td>\n",
       "    </tr>\n",
       "  </tbody>\n",
       "</table>\n",
       "</div>"
      ],
      "text/plain": [
       "          0         1         2\n",
       "0  0.220057 -0.410821       NaN\n",
       "1 -0.305898       NaN       NaN\n",
       "2 -1.261540       NaN  1.115232\n",
       "3  0.492819 -0.403217  0.827236\n",
       "4  1.930805  0.156707  0.267943\n",
       "5 -0.069322  0.320973  0.165519\n",
       "6  0.841440 -0.117350 -0.036279"
      ]
     },
     "execution_count": 54,
     "metadata": {},
     "output_type": "execute_result"
    }
   ],
   "source": [
    "df"
   ]
  },
  {
   "cell_type": "code",
   "execution_count": 55,
   "id": "5096356a-1dfc-4738-94b5-05025be3f041",
   "metadata": {},
   "outputs": [
    {
     "data": {
      "text/html": [
       "<div>\n",
       "<style scoped>\n",
       "    .dataframe tbody tr th:only-of-type {\n",
       "        vertical-align: middle;\n",
       "    }\n",
       "\n",
       "    .dataframe tbody tr th {\n",
       "        vertical-align: top;\n",
       "    }\n",
       "\n",
       "    .dataframe thead th {\n",
       "        text-align: right;\n",
       "    }\n",
       "</style>\n",
       "<table border=\"1\" class=\"dataframe\">\n",
       "  <thead>\n",
       "    <tr style=\"text-align: right;\">\n",
       "      <th></th>\n",
       "      <th>0</th>\n",
       "      <th>1</th>\n",
       "      <th>2</th>\n",
       "    </tr>\n",
       "  </thead>\n",
       "  <tbody>\n",
       "    <tr>\n",
       "      <th>0</th>\n",
       "      <td>0.220057</td>\n",
       "      <td>-0.410821</td>\n",
       "      <td>NaN</td>\n",
       "    </tr>\n",
       "    <tr>\n",
       "      <th>1</th>\n",
       "      <td>-0.305898</td>\n",
       "      <td>-0.410821</td>\n",
       "      <td>NaN</td>\n",
       "    </tr>\n",
       "    <tr>\n",
       "      <th>2</th>\n",
       "      <td>-1.261540</td>\n",
       "      <td>-0.410821</td>\n",
       "      <td>1.115232</td>\n",
       "    </tr>\n",
       "    <tr>\n",
       "      <th>3</th>\n",
       "      <td>0.492819</td>\n",
       "      <td>-0.403217</td>\n",
       "      <td>0.827236</td>\n",
       "    </tr>\n",
       "    <tr>\n",
       "      <th>4</th>\n",
       "      <td>1.930805</td>\n",
       "      <td>0.156707</td>\n",
       "      <td>0.267943</td>\n",
       "    </tr>\n",
       "    <tr>\n",
       "      <th>5</th>\n",
       "      <td>-0.069322</td>\n",
       "      <td>0.320973</td>\n",
       "      <td>0.165519</td>\n",
       "    </tr>\n",
       "    <tr>\n",
       "      <th>6</th>\n",
       "      <td>0.841440</td>\n",
       "      <td>-0.117350</td>\n",
       "      <td>-0.036279</td>\n",
       "    </tr>\n",
       "  </tbody>\n",
       "</table>\n",
       "</div>"
      ],
      "text/plain": [
       "          0         1         2\n",
       "0  0.220057 -0.410821       NaN\n",
       "1 -0.305898 -0.410821       NaN\n",
       "2 -1.261540 -0.410821  1.115232\n",
       "3  0.492819 -0.403217  0.827236\n",
       "4  1.930805  0.156707  0.267943\n",
       "5 -0.069322  0.320973  0.165519\n",
       "6  0.841440 -0.117350 -0.036279"
      ]
     },
     "execution_count": 55,
     "metadata": {},
     "output_type": "execute_result"
    }
   ],
   "source": [
    "df.fillna(method='ffill')"
   ]
  },
  {
   "cell_type": "code",
   "execution_count": 56,
   "id": "186d8259-b30b-4cdd-8001-8f7ddc835013",
   "metadata": {},
   "outputs": [
    {
     "data": {
      "text/html": [
       "<div>\n",
       "<style scoped>\n",
       "    .dataframe tbody tr th:only-of-type {\n",
       "        vertical-align: middle;\n",
       "    }\n",
       "\n",
       "    .dataframe tbody tr th {\n",
       "        vertical-align: top;\n",
       "    }\n",
       "\n",
       "    .dataframe thead th {\n",
       "        text-align: right;\n",
       "    }\n",
       "</style>\n",
       "<table border=\"1\" class=\"dataframe\">\n",
       "  <thead>\n",
       "    <tr style=\"text-align: right;\">\n",
       "      <th></th>\n",
       "      <th>0</th>\n",
       "      <th>1</th>\n",
       "      <th>2</th>\n",
       "    </tr>\n",
       "  </thead>\n",
       "  <tbody>\n",
       "    <tr>\n",
       "      <th>0</th>\n",
       "      <td>0.220057</td>\n",
       "      <td>-0.410821</td>\n",
       "      <td>0.467930</td>\n",
       "    </tr>\n",
       "    <tr>\n",
       "      <th>1</th>\n",
       "      <td>-0.305898</td>\n",
       "      <td>-0.090742</td>\n",
       "      <td>0.467930</td>\n",
       "    </tr>\n",
       "    <tr>\n",
       "      <th>2</th>\n",
       "      <td>-1.261540</td>\n",
       "      <td>-0.090742</td>\n",
       "      <td>1.115232</td>\n",
       "    </tr>\n",
       "    <tr>\n",
       "      <th>3</th>\n",
       "      <td>0.492819</td>\n",
       "      <td>-0.403217</td>\n",
       "      <td>0.827236</td>\n",
       "    </tr>\n",
       "    <tr>\n",
       "      <th>4</th>\n",
       "      <td>1.930805</td>\n",
       "      <td>0.156707</td>\n",
       "      <td>0.267943</td>\n",
       "    </tr>\n",
       "    <tr>\n",
       "      <th>5</th>\n",
       "      <td>-0.069322</td>\n",
       "      <td>0.320973</td>\n",
       "      <td>0.165519</td>\n",
       "    </tr>\n",
       "    <tr>\n",
       "      <th>6</th>\n",
       "      <td>0.841440</td>\n",
       "      <td>-0.117350</td>\n",
       "      <td>-0.036279</td>\n",
       "    </tr>\n",
       "  </tbody>\n",
       "</table>\n",
       "</div>"
      ],
      "text/plain": [
       "          0         1         2\n",
       "0  0.220057 -0.410821  0.467930\n",
       "1 -0.305898 -0.090742  0.467930\n",
       "2 -1.261540 -0.090742  1.115232\n",
       "3  0.492819 -0.403217  0.827236\n",
       "4  1.930805  0.156707  0.267943\n",
       "5 -0.069322  0.320973  0.165519\n",
       "6  0.841440 -0.117350 -0.036279"
      ]
     },
     "execution_count": 56,
     "metadata": {},
     "output_type": "execute_result"
    }
   ],
   "source": [
    "df.fillna(df.mean())"
   ]
  },
  {
   "attachments": {
    "642fcbf1-48b0-4dfc-bc16-36f1919a6db3.png": {
     "image/png": "[encoded data removed]"
    }
   },
   "cell_type": "markdown",
   "id": "53eb1f6a-8405-427b-89b0-fada75848420",
   "metadata": {},
   "source": [
    "Argumentos da função fillna:\n",
    "\n",
    "![image.png](attachment:642fcbf1-48b0-4dfc-bc16-36f1919a6db3.png)"
   ]
  },
  {
   "cell_type": "markdown",
   "id": "e39eb752-7e88-4634-88ff-2531e4590cba",
   "metadata": {},
   "source": [
    "## Removendo duplicatas\n",
    "---"
   ]
  },
  {
   "cell_type": "code",
   "execution_count": 58,
   "id": "db0a770e-d58c-4298-8307-681bff5ed31a",
   "metadata": {},
   "outputs": [
    {
     "data": {
      "text/html": [
       "<div>\n",
       "<style scoped>\n",
       "    .dataframe tbody tr th:only-of-type {\n",
       "        vertical-align: middle;\n",
       "    }\n",
       "\n",
       "    .dataframe tbody tr th {\n",
       "        vertical-align: top;\n",
       "    }\n",
       "\n",
       "    .dataframe thead th {\n",
       "        text-align: right;\n",
       "    }\n",
       "</style>\n",
       "<table border=\"1\" class=\"dataframe\">\n",
       "  <thead>\n",
       "    <tr style=\"text-align: right;\">\n",
       "      <th></th>\n",
       "      <th>k1</th>\n",
       "      <th>k2</th>\n",
       "    </tr>\n",
       "  </thead>\n",
       "  <tbody>\n",
       "    <tr>\n",
       "      <th>0</th>\n",
       "      <td>one</td>\n",
       "      <td>1</td>\n",
       "    </tr>\n",
       "    <tr>\n",
       "      <th>1</th>\n",
       "      <td>two</td>\n",
       "      <td>1</td>\n",
       "    </tr>\n",
       "    <tr>\n",
       "      <th>2</th>\n",
       "      <td>one</td>\n",
       "      <td>2</td>\n",
       "    </tr>\n",
       "    <tr>\n",
       "      <th>3</th>\n",
       "      <td>two</td>\n",
       "      <td>3</td>\n",
       "    </tr>\n",
       "    <tr>\n",
       "      <th>4</th>\n",
       "      <td>one</td>\n",
       "      <td>3</td>\n",
       "    </tr>\n",
       "    <tr>\n",
       "      <th>5</th>\n",
       "      <td>two</td>\n",
       "      <td>4</td>\n",
       "    </tr>\n",
       "    <tr>\n",
       "      <th>6</th>\n",
       "      <td>two</td>\n",
       "      <td>4</td>\n",
       "    </tr>\n",
       "  </tbody>\n",
       "</table>\n",
       "</div>"
      ],
      "text/plain": [
       "    k1  k2\n",
       "0  one   1\n",
       "1  two   1\n",
       "2  one   2\n",
       "3  two   3\n",
       "4  one   3\n",
       "5  two   4\n",
       "6  two   4"
      ]
     },
     "execution_count": 58,
     "metadata": {},
     "output_type": "execute_result"
    }
   ],
   "source": [
    "data = pd.DataFrame({'k1': ['one', 'two'] * 3 + ['two'], 'k2': [1, 1, 2, 3, 3, 4, 4]})\n",
    "data"
   ]
  },
  {
   "cell_type": "markdown",
   "id": "10eb801e-0a3e-4438-a496-097c1a69e8eb",
   "metadata": {},
   "source": [
    "O método [duplicated](https://pandas.pydata.org/docs/reference/api/pandas.DataFrame.duplicated.html) de DataFrame devolve uma Series booleana\n",
    "informando se cada linha é uma duplicata (foi observada em uma\n",
    "linha anterior) ou não:"
   ]
  },
  {
   "cell_type": "code",
   "execution_count": 59,
   "id": "02b95735-a4b7-4622-98fa-7f079fca5ec3",
   "metadata": {},
   "outputs": [
    {
     "data": {
      "text/plain": [
       "0    False\n",
       "1    False\n",
       "2    False\n",
       "3    False\n",
       "4    False\n",
       "5    False\n",
       "6     True\n",
       "dtype: bool"
      ]
     },
     "execution_count": 59,
     "metadata": {},
     "output_type": "execute_result"
    }
   ],
   "source": [
    "data.duplicated()"
   ]
  },
  {
   "cell_type": "markdown",
   "id": "a428883a-9b1a-4ecd-a0ec-6cf3b4806f9d",
   "metadata": {},
   "source": [
    "Relacionado a esse caso, temos [drop_duplicates](https://pandas.pydata.org/docs/reference/api/pandas.DataFrame.drop_duplicates.html), que devolve um\n",
    "DataFrame com dados em que o array duplicated é False:"
   ]
  },
  {
   "cell_type": "code",
   "execution_count": 60,
   "id": "accaabd5-4b93-4de9-bea5-d930fda142de",
   "metadata": {},
   "outputs": [
    {
     "data": {
      "text/html": [
       "<div>\n",
       "<style scoped>\n",
       "    .dataframe tbody tr th:only-of-type {\n",
       "        vertical-align: middle;\n",
       "    }\n",
       "\n",
       "    .dataframe tbody tr th {\n",
       "        vertical-align: top;\n",
       "    }\n",
       "\n",
       "    .dataframe thead th {\n",
       "        text-align: right;\n",
       "    }\n",
       "</style>\n",
       "<table border=\"1\" class=\"dataframe\">\n",
       "  <thead>\n",
       "    <tr style=\"text-align: right;\">\n",
       "      <th></th>\n",
       "      <th>k1</th>\n",
       "      <th>k2</th>\n",
       "    </tr>\n",
       "  </thead>\n",
       "  <tbody>\n",
       "    <tr>\n",
       "      <th>0</th>\n",
       "      <td>one</td>\n",
       "      <td>1</td>\n",
       "    </tr>\n",
       "    <tr>\n",
       "      <th>1</th>\n",
       "      <td>two</td>\n",
       "      <td>1</td>\n",
       "    </tr>\n",
       "    <tr>\n",
       "      <th>2</th>\n",
       "      <td>one</td>\n",
       "      <td>2</td>\n",
       "    </tr>\n",
       "    <tr>\n",
       "      <th>3</th>\n",
       "      <td>two</td>\n",
       "      <td>3</td>\n",
       "    </tr>\n",
       "    <tr>\n",
       "      <th>4</th>\n",
       "      <td>one</td>\n",
       "      <td>3</td>\n",
       "    </tr>\n",
       "    <tr>\n",
       "      <th>5</th>\n",
       "      <td>two</td>\n",
       "      <td>4</td>\n",
       "    </tr>\n",
       "  </tbody>\n",
       "</table>\n",
       "</div>"
      ],
      "text/plain": [
       "    k1  k2\n",
       "0  one   1\n",
       "1  two   1\n",
       "2  one   2\n",
       "3  two   3\n",
       "4  one   3\n",
       "5  two   4"
      ]
     },
     "execution_count": 60,
     "metadata": {},
     "output_type": "execute_result"
    }
   ],
   "source": [
    "data.drop_duplicates()"
   ]
  },
  {
   "cell_type": "markdown",
   "id": "fe1efce7-e9de-4fba-8bcb-3107570c9cab",
   "metadata": {},
   "source": [
    "Por padrão, esses dois métodos consideram todas as colunas; de\n",
    "forma alternativa, podemos especificar qualquer subconjunto delas\n",
    "na detecção de duplicatas. Suponha que tivéssemos uma coluna\n",
    "adicional de valores e quiséssemos filtrar as duplicatas somente\n",
    "com base na coluna 'k1':"
   ]
  },
  {
   "cell_type": "code",
   "execution_count": 62,
   "id": "4ac6ac64-0a48-4c07-8d18-9f0264eb30d8",
   "metadata": {},
   "outputs": [
    {
     "data": {
      "text/html": [
       "<div>\n",
       "<style scoped>\n",
       "    .dataframe tbody tr th:only-of-type {\n",
       "        vertical-align: middle;\n",
       "    }\n",
       "\n",
       "    .dataframe tbody tr th {\n",
       "        vertical-align: top;\n",
       "    }\n",
       "\n",
       "    .dataframe thead th {\n",
       "        text-align: right;\n",
       "    }\n",
       "</style>\n",
       "<table border=\"1\" class=\"dataframe\">\n",
       "  <thead>\n",
       "    <tr style=\"text-align: right;\">\n",
       "      <th></th>\n",
       "      <th>k1</th>\n",
       "      <th>k2</th>\n",
       "      <th>v1</th>\n",
       "    </tr>\n",
       "  </thead>\n",
       "  <tbody>\n",
       "    <tr>\n",
       "      <th>0</th>\n",
       "      <td>one</td>\n",
       "      <td>1</td>\n",
       "      <td>0</td>\n",
       "    </tr>\n",
       "    <tr>\n",
       "      <th>1</th>\n",
       "      <td>two</td>\n",
       "      <td>1</td>\n",
       "      <td>1</td>\n",
       "    </tr>\n",
       "    <tr>\n",
       "      <th>2</th>\n",
       "      <td>one</td>\n",
       "      <td>2</td>\n",
       "      <td>2</td>\n",
       "    </tr>\n",
       "    <tr>\n",
       "      <th>3</th>\n",
       "      <td>two</td>\n",
       "      <td>3</td>\n",
       "      <td>3</td>\n",
       "    </tr>\n",
       "    <tr>\n",
       "      <th>4</th>\n",
       "      <td>one</td>\n",
       "      <td>3</td>\n",
       "      <td>4</td>\n",
       "    </tr>\n",
       "    <tr>\n",
       "      <th>5</th>\n",
       "      <td>two</td>\n",
       "      <td>4</td>\n",
       "      <td>5</td>\n",
       "    </tr>\n",
       "    <tr>\n",
       "      <th>6</th>\n",
       "      <td>two</td>\n",
       "      <td>4</td>\n",
       "      <td>6</td>\n",
       "    </tr>\n",
       "  </tbody>\n",
       "</table>\n",
       "</div>"
      ],
      "text/plain": [
       "    k1  k2  v1\n",
       "0  one   1   0\n",
       "1  two   1   1\n",
       "2  one   2   2\n",
       "3  two   3   3\n",
       "4  one   3   4\n",
       "5  two   4   5\n",
       "6  two   4   6"
      ]
     },
     "execution_count": 62,
     "metadata": {},
     "output_type": "execute_result"
    }
   ],
   "source": [
    "data['v1'] = range(7)\n",
    "data"
   ]
  },
  {
   "cell_type": "code",
   "execution_count": 63,
   "id": "d7bf46cc-084b-412d-aa41-0f33819de68d",
   "metadata": {},
   "outputs": [
    {
     "data": {
      "text/html": [
       "<div>\n",
       "<style scoped>\n",
       "    .dataframe tbody tr th:only-of-type {\n",
       "        vertical-align: middle;\n",
       "    }\n",
       "\n",
       "    .dataframe tbody tr th {\n",
       "        vertical-align: top;\n",
       "    }\n",
       "\n",
       "    .dataframe thead th {\n",
       "        text-align: right;\n",
       "    }\n",
       "</style>\n",
       "<table border=\"1\" class=\"dataframe\">\n",
       "  <thead>\n",
       "    <tr style=\"text-align: right;\">\n",
       "      <th></th>\n",
       "      <th>k1</th>\n",
       "      <th>k2</th>\n",
       "      <th>v1</th>\n",
       "    </tr>\n",
       "  </thead>\n",
       "  <tbody>\n",
       "    <tr>\n",
       "      <th>0</th>\n",
       "      <td>one</td>\n",
       "      <td>1</td>\n",
       "      <td>0</td>\n",
       "    </tr>\n",
       "    <tr>\n",
       "      <th>1</th>\n",
       "      <td>two</td>\n",
       "      <td>1</td>\n",
       "      <td>1</td>\n",
       "    </tr>\n",
       "  </tbody>\n",
       "</table>\n",
       "</div>"
      ],
      "text/plain": [
       "    k1  k2  v1\n",
       "0  one   1   0\n",
       "1  two   1   1"
      ]
     },
     "execution_count": 63,
     "metadata": {},
     "output_type": "execute_result"
    }
   ],
   "source": [
    "data.drop_duplicates(['k1'])"
   ]
  },
  {
   "cell_type": "markdown",
   "id": "901f4da6-7003-4a92-b48a-8146cfbe8844",
   "metadata": {},
   "source": [
    "## Transformando dados usando uma função ou um mapeamento\n",
    "---"
   ]
  },
  {
   "cell_type": "code",
   "execution_count": 65,
   "id": "5da1367d-e7ae-4425-8ab0-b2f8fcb11815",
   "metadata": {},
   "outputs": [
    {
     "data": {
      "text/html": [
       "<div>\n",
       "<style scoped>\n",
       "    .dataframe tbody tr th:only-of-type {\n",
       "        vertical-align: middle;\n",
       "    }\n",
       "\n",
       "    .dataframe tbody tr th {\n",
       "        vertical-align: top;\n",
       "    }\n",
       "\n",
       "    .dataframe thead th {\n",
       "        text-align: right;\n",
       "    }\n",
       "</style>\n",
       "<table border=\"1\" class=\"dataframe\">\n",
       "  <thead>\n",
       "    <tr style=\"text-align: right;\">\n",
       "      <th></th>\n",
       "      <th>food</th>\n",
       "      <th>ounces</th>\n",
       "    </tr>\n",
       "  </thead>\n",
       "  <tbody>\n",
       "    <tr>\n",
       "      <th>0</th>\n",
       "      <td>bacon</td>\n",
       "      <td>4.0</td>\n",
       "    </tr>\n",
       "    <tr>\n",
       "      <th>1</th>\n",
       "      <td>pulled pork</td>\n",
       "      <td>3.0</td>\n",
       "    </tr>\n",
       "    <tr>\n",
       "      <th>2</th>\n",
       "      <td>bacon</td>\n",
       "      <td>12.0</td>\n",
       "    </tr>\n",
       "    <tr>\n",
       "      <th>3</th>\n",
       "      <td>Pastrami</td>\n",
       "      <td>6.0</td>\n",
       "    </tr>\n",
       "    <tr>\n",
       "      <th>4</th>\n",
       "      <td>corned beef</td>\n",
       "      <td>7.5</td>\n",
       "    </tr>\n",
       "    <tr>\n",
       "      <th>5</th>\n",
       "      <td>Bacon</td>\n",
       "      <td>8.0</td>\n",
       "    </tr>\n",
       "    <tr>\n",
       "      <th>6</th>\n",
       "      <td>pastrami</td>\n",
       "      <td>3.0</td>\n",
       "    </tr>\n",
       "    <tr>\n",
       "      <th>7</th>\n",
       "      <td>honey ham</td>\n",
       "      <td>5.0</td>\n",
       "    </tr>\n",
       "    <tr>\n",
       "      <th>8</th>\n",
       "      <td>nova lox</td>\n",
       "      <td>6.0</td>\n",
       "    </tr>\n",
       "  </tbody>\n",
       "</table>\n",
       "</div>"
      ],
      "text/plain": [
       "          food  ounces\n",
       "0        bacon     4.0\n",
       "1  pulled pork     3.0\n",
       "2        bacon    12.0\n",
       "3     Pastrami     6.0\n",
       "4  corned beef     7.5\n",
       "5        Bacon     8.0\n",
       "6     pastrami     3.0\n",
       "7    honey ham     5.0\n",
       "8     nova lox     6.0"
      ]
     },
     "execution_count": 65,
     "metadata": {},
     "output_type": "execute_result"
    }
   ],
   "source": [
    "data = pd.DataFrame({'food': ['bacon', 'pulled pork', 'bacon',\n",
    "... 'Pastrami', 'corned beef', 'Bacon',\n",
    "... 'pastrami', 'honey ham', 'nova lox'],\n",
    "... 'ounces': [4, 3, 12, 6, 7.5, 8, 3, 5, 6]})\n",
    "data"
   ]
  },
  {
   "cell_type": "markdown",
   "id": "119e8ca5-4533-41af-a839-07c013aebd6c",
   "metadata": {},
   "source": [
    "Suponha que quiséssemos adicionar uma coluna informando o tipo\n",
    "do animal do qual cada alimento é proveniente. Vamos criar um\n",
    "mapeamento entre cada tipo distinto de carne e o tipo do animal:"
   ]
  },
  {
   "cell_type": "code",
   "execution_count": 73,
   "id": "6f34fc86-8c22-4c55-8e51-f2a76ed12483",
   "metadata": {},
   "outputs": [],
   "source": [
    "meat_to_animal = {\n",
    "'bacon': 'pig',\n",
    "'pulled pork': 'pig',\n",
    "'pastrami': 'cow',\n",
    "'corned beef': 'cow',\n",
    "'honey ham': 'pig',\n",
    "'nova lox': 'salmon'\n",
    "}"
   ]
  },
  {
   "cell_type": "markdown",
   "id": "9c37804b-c9a2-4980-8cf0-3d993ede81a4",
   "metadata": {},
   "source": [
    "O método [map](https://pandas.pydata.org/docs/reference/api/pandas.Series.map.html) em uma Series aceita uma função ou um objeto do\n",
    "tipo dicionário contendo um mapeamento; nesse caso, porém,\n",
    "temos um pequeno problema, pois algumas das carnes utilizam letra\n",
    "inicial maiúscula enquanto outras não. Desse modo, precisamos\n",
    "converter todos os valores para letras minúsculas utilizando o\n",
    "método `str.lower` de Series:"
   ]
  },
  {
   "cell_type": "code",
   "execution_count": 75,
   "id": "6197bab7-55a6-4401-9fea-1a13419443f0",
   "metadata": {},
   "outputs": [
    {
     "data": {
      "text/plain": [
       "0          bacon\n",
       "1    pulled pork\n",
       "2          bacon\n",
       "3       pastrami\n",
       "4    corned beef\n",
       "5          bacon\n",
       "6       pastrami\n",
       "7      honey ham\n",
       "8       nova lox\n",
       "Name: food, dtype: object"
      ]
     },
     "execution_count": 75,
     "metadata": {},
     "output_type": "execute_result"
    }
   ],
   "source": [
    "lowercase = data.food.str.lower()\n",
    "lowercase"
   ]
  },
  {
   "cell_type": "code",
   "execution_count": 76,
   "id": "704f644c-2555-4c1b-aa67-aed100ed68a5",
   "metadata": {},
   "outputs": [
    {
     "data": {
      "text/html": [
       "<div>\n",
       "<style scoped>\n",
       "    .dataframe tbody tr th:only-of-type {\n",
       "        vertical-align: middle;\n",
       "    }\n",
       "\n",
       "    .dataframe tbody tr th {\n",
       "        vertical-align: top;\n",
       "    }\n",
       "\n",
       "    .dataframe thead th {\n",
       "        text-align: right;\n",
       "    }\n",
       "</style>\n",
       "<table border=\"1\" class=\"dataframe\">\n",
       "  <thead>\n",
       "    <tr style=\"text-align: right;\">\n",
       "      <th></th>\n",
       "      <th>food</th>\n",
       "      <th>ounces</th>\n",
       "      <th>animal</th>\n",
       "    </tr>\n",
       "  </thead>\n",
       "  <tbody>\n",
       "    <tr>\n",
       "      <th>0</th>\n",
       "      <td>bacon</td>\n",
       "      <td>4.0</td>\n",
       "      <td>pig</td>\n",
       "    </tr>\n",
       "    <tr>\n",
       "      <th>1</th>\n",
       "      <td>pulled pork</td>\n",
       "      <td>3.0</td>\n",
       "      <td>pig</td>\n",
       "    </tr>\n",
       "    <tr>\n",
       "      <th>2</th>\n",
       "      <td>bacon</td>\n",
       "      <td>12.0</td>\n",
       "      <td>pig</td>\n",
       "    </tr>\n",
       "    <tr>\n",
       "      <th>3</th>\n",
       "      <td>Pastrami</td>\n",
       "      <td>6.0</td>\n",
       "      <td>cow</td>\n",
       "    </tr>\n",
       "    <tr>\n",
       "      <th>4</th>\n",
       "      <td>corned beef</td>\n",
       "      <td>7.5</td>\n",
       "      <td>cow</td>\n",
       "    </tr>\n",
       "    <tr>\n",
       "      <th>5</th>\n",
       "      <td>Bacon</td>\n",
       "      <td>8.0</td>\n",
       "      <td>pig</td>\n",
       "    </tr>\n",
       "    <tr>\n",
       "      <th>6</th>\n",
       "      <td>pastrami</td>\n",
       "      <td>3.0</td>\n",
       "      <td>cow</td>\n",
       "    </tr>\n",
       "    <tr>\n",
       "      <th>7</th>\n",
       "      <td>honey ham</td>\n",
       "      <td>5.0</td>\n",
       "      <td>pig</td>\n",
       "    </tr>\n",
       "    <tr>\n",
       "      <th>8</th>\n",
       "      <td>nova lox</td>\n",
       "      <td>6.0</td>\n",
       "      <td>salmon</td>\n",
       "    </tr>\n",
       "  </tbody>\n",
       "</table>\n",
       "</div>"
      ],
      "text/plain": [
       "          food  ounces  animal\n",
       "0        bacon     4.0     pig\n",
       "1  pulled pork     3.0     pig\n",
       "2        bacon    12.0     pig\n",
       "3     Pastrami     6.0     cow\n",
       "4  corned beef     7.5     cow\n",
       "5        Bacon     8.0     pig\n",
       "6     pastrami     3.0     cow\n",
       "7    honey ham     5.0     pig\n",
       "8     nova lox     6.0  salmon"
      ]
     },
     "execution_count": 76,
     "metadata": {},
     "output_type": "execute_result"
    }
   ],
   "source": [
    "data['animal'] = lowercase.map(meat_to_animal)\n",
    "data"
   ]
  },
  {
   "cell_type": "markdown",
   "id": "1e78c6f3-9785-4f40-b7f9-2b6a8a0329be",
   "metadata": {},
   "source": [
    "Poderíamos também ter passado uma função que fizesse todo o\n",
    "trabalho:"
   ]
  },
  {
   "cell_type": "code",
   "execution_count": 77,
   "id": "8e0690f9-bdbb-4c23-9a98-9f4306213b96",
   "metadata": {},
   "outputs": [
    {
     "data": {
      "text/plain": [
       "0       pig\n",
       "1       pig\n",
       "2       pig\n",
       "3       cow\n",
       "4       cow\n",
       "5       pig\n",
       "6       cow\n",
       "7       pig\n",
       "8    salmon\n",
       "Name: food, dtype: object"
      ]
     },
     "execution_count": 77,
     "metadata": {},
     "output_type": "execute_result"
    }
   ],
   "source": [
    "data['food'].map(lambda x: meat_to_animal[x.lower()])"
   ]
  },
  {
   "cell_type": "code",
   "execution_count": 79,
   "id": "f3da92a8-3235-4cdb-81ca-48dd48fbd22c",
   "metadata": {},
   "outputs": [
    {
     "data": {
      "text/plain": [
       "0    2.000000\n",
       "1    1.732051\n",
       "2    3.464102\n",
       "3    2.449490\n",
       "4    2.738613\n",
       "5    2.828427\n",
       "6    1.732051\n",
       "7    2.236068\n",
       "8    2.449490\n",
       "Name: ounces, dtype: float64"
      ]
     },
     "execution_count": 79,
     "metadata": {},
     "output_type": "execute_result"
    }
   ],
   "source": [
    "data.ounces.map(np.sqrt) # aplicando raiz quadrada na Series ounces"
   ]
  },
  {
   "cell_type": "code",
   "execution_count": 86,
   "id": "36a8cef7-1bb3-4439-ba56-0d8d7a0fa3df",
   "metadata": {},
   "outputs": [
    {
     "data": {
      "text/plain": [
       "0    2.055556\n",
       "1    3.055556\n",
       "2    5.944444\n",
       "3    0.055556\n",
       "4    1.444444\n",
       "5    1.944444\n",
       "6    3.055556\n",
       "7    1.055556\n",
       "8    0.055556\n",
       "Name: ounces, dtype: float64"
      ]
     },
     "execution_count": 86,
     "metadata": {},
     "output_type": "execute_result"
    }
   ],
   "source": [
    "data.ounces.map(lambda x: abs(x - data.ounces.mean())) # calculando a variância"
   ]
  },
  {
   "cell_type": "code",
   "execution_count": 87,
   "id": "fac2b671-aa55-4b54-af6d-34245e50adda",
   "metadata": {},
   "outputs": [
    {
     "data": {
      "text/plain": [
       "0    2.055556\n",
       "1    3.055556\n",
       "2    5.944444\n",
       "3    0.055556\n",
       "4    1.444444\n",
       "5    1.944444\n",
       "6    3.055556\n",
       "7    1.055556\n",
       "8    0.055556\n",
       "Name: ounces, dtype: float64"
      ]
     },
     "execution_count": 87,
     "metadata": {},
     "output_type": "execute_result"
    }
   ],
   "source": [
    "data.ounces.apply(lambda x: abs(x - data.ounces.mean())) # outra forma de utilizar funções"
   ]
  },
  {
   "cell_type": "markdown",
   "id": "cf82933a-69e7-4008-90b5-fed52a6daa10",
   "metadata": {},
   "source": [
    "## Substituindo valores\n",
    "---\n",
    "\n",
    "Preencher dados ausentes com o método fillna é um caso especial\n",
    "da substituição mais genérica de valores. Conforme já vimos, map\n",
    "pode ser usado para modificar um subconjunto de valores em um\n",
    "objeto, porém replace oferece uma forma mais simples e mais flexível\n",
    "de fazer isso. Considere a Series a seguir:"
   ]
  },
  {
   "cell_type": "code",
   "execution_count": 4,
   "id": "dc3a50b5-5f05-4b63-9422-ac3708495483",
   "metadata": {},
   "outputs": [
    {
     "data": {
      "text/plain": [
       "0       1.0\n",
       "1    -999.0\n",
       "2       2.0\n",
       "3    -999.0\n",
       "4   -1000.0\n",
       "5       3.0\n",
       "dtype: float64"
      ]
     },
     "execution_count": 4,
     "metadata": {},
     "output_type": "execute_result"
    }
   ],
   "source": [
    "data = pd.Series([1., -999., 2., -999., -1000., 3.])\n",
    "data"
   ]
  },
  {
   "cell_type": "markdown",
   "id": "5f0f59fb-da20-45b7-bdb5-5c43ebdb0405",
   "metadata": {},
   "source": [
    "Os valores -999 podem ser valores de sentinela para dados\n",
    "ausentes. Para substituí-los por valores NA, compreensíveis pelo\n",
    "pandas, podemos usar [replace](https://pandas.pydata.org/docs/reference/api/pandas.DataFrame.replace.html), gerando uma nova Series (a menos\n",
    "que você passe inplace=True)"
   ]
  },
  {
   "cell_type": "code",
   "execution_count": 5,
   "id": "403b9d36-f1ac-48e6-a98e-898e57990e8c",
   "metadata": {},
   "outputs": [
    {
     "data": {
      "text/plain": [
       "0       1.0\n",
       "1       NaN\n",
       "2       2.0\n",
       "3       NaN\n",
       "4   -1000.0\n",
       "5       3.0\n",
       "dtype: float64"
      ]
     },
     "execution_count": 5,
     "metadata": {},
     "output_type": "execute_result"
    }
   ],
   "source": [
    "data.replace(-999,np.nan)"
   ]
  },
  {
   "cell_type": "markdown",
   "id": "eefa29fd-2788-4d5d-8293-1dfb5162dd2b",
   "metadata": {},
   "source": [
    "Se você quiser substituir diversos valores de uma só vez, passe\n",
    "uma lista e, em seguida, o valor para substituição:"
   ]
  },
  {
   "cell_type": "code",
   "execution_count": 6,
   "id": "bfd42b22-fb0f-42e5-91f8-dcf3a6289ce6",
   "metadata": {},
   "outputs": [
    {
     "data": {
      "text/plain": [
       "0    1.0\n",
       "1    NaN\n",
       "2    2.0\n",
       "3    NaN\n",
       "4    NaN\n",
       "5    3.0\n",
       "dtype: float64"
      ]
     },
     "execution_count": 6,
     "metadata": {},
     "output_type": "execute_result"
    }
   ],
   "source": [
    "data.replace([-999, -1000], np.nan)"
   ]
  },
  {
   "cell_type": "markdown",
   "id": "85b9d0fe-101b-4321-9c25-50260551b5b8",
   "metadata": {},
   "source": [
    "Para usar um substituto diferente para cada valor, passe uma lista\n",
    "deles:"
   ]
  },
  {
   "cell_type": "code",
   "execution_count": 7,
   "id": "9636ee78-9dfa-4005-9c3c-b4e2f12c051e",
   "metadata": {},
   "outputs": [
    {
     "data": {
      "text/plain": [
       "0    1.0\n",
       "1    NaN\n",
       "2    2.0\n",
       "3    NaN\n",
       "4    0.0\n",
       "5    3.0\n",
       "dtype: float64"
      ]
     },
     "execution_count": 7,
     "metadata": {},
     "output_type": "execute_result"
    }
   ],
   "source": [
    "data.replace([-999, -1000], [np.nan, 0])"
   ]
  },
  {
   "cell_type": "markdown",
   "id": "911a283a-b54a-4be1-b4ca-ff3a64357c9d",
   "metadata": {},
   "source": [
    "O argumento especificado também pode ser um dicionário:"
   ]
  },
  {
   "cell_type": "code",
   "execution_count": 8,
   "id": "fc41bf13-57cb-465e-8bcf-47d71ecb0f23",
   "metadata": {},
   "outputs": [
    {
     "data": {
      "text/plain": [
       "0    1.0\n",
       "1    NaN\n",
       "2    2.0\n",
       "3    NaN\n",
       "4    0.0\n",
       "5    3.0\n",
       "dtype: float64"
      ]
     },
     "execution_count": 8,
     "metadata": {},
     "output_type": "execute_result"
    }
   ],
   "source": [
    "data.replace({-999: np.nan, -1000: 0})"
   ]
  },
  {
   "cell_type": "markdown",
   "id": "9589de3e-cfbb-4c26-b053-4626e31419ab",
   "metadata": {},
   "source": [
    "**OBS**: O método data.replace é diferente de data.str.replace, que faz uma\n",
    "substituição de string em todos os elementos."
   ]
  },
  {
   "cell_type": "code",
   "execution_count": 9,
   "id": "152cebbd-f143-46cc-a81c-5d75953f5fc4",
   "metadata": {},
   "outputs": [
    {
     "data": {
      "text/plain": [
       "'Ragnarok'"
      ]
     },
     "execution_count": 9,
     "metadata": {},
     "output_type": "execute_result"
    }
   ],
   "source": [
    "# relembrando o método de string replace\n",
    "letra = 'Ragnarok'\n",
    "letra"
   ]
  },
  {
   "cell_type": "code",
   "execution_count": 10,
   "id": "120498d2-baf1-43d7-bd05-d1ca82d5c3d2",
   "metadata": {},
   "outputs": [
    {
     "data": {
      "text/plain": [
       "'Cagnarok'"
      ]
     },
     "execution_count": 10,
     "metadata": {},
     "output_type": "execute_result"
    }
   ],
   "source": [
    "letra.replace('R','C')"
   ]
  },
  {
   "cell_type": "markdown",
   "id": "43d43dc7-80c2-4b2b-8f0e-51ce87ae45dc",
   "metadata": {},
   "source": [
    "## Renomenado os índices dos eixos\n",
    "---\n",
    "\n",
    "Assim como os valores em uma Series, os rótulos dos eixos podem\n",
    "ser transformados de modo semelhante por uma função ou alguma\n",
    "forma de mapeamento, a fim de gerar objetos novos com rótulos\n",
    "diferentes. Também podemos modificar os eixos in-place, sem criar\n",
    "uma nova estrutura de dados."
   ]
  },
  {
   "cell_type": "code",
   "execution_count": 13,
   "id": "3180ac73-d420-4df3-8050-2171d4187bad",
   "metadata": {},
   "outputs": [
    {
     "data": {
      "text/html": [
       "<div>\n",
       "<style scoped>\n",
       "    .dataframe tbody tr th:only-of-type {\n",
       "        vertical-align: middle;\n",
       "    }\n",
       "\n",
       "    .dataframe tbody tr th {\n",
       "        vertical-align: top;\n",
       "    }\n",
       "\n",
       "    .dataframe thead th {\n",
       "        text-align: right;\n",
       "    }\n",
       "</style>\n",
       "<table border=\"1\" class=\"dataframe\">\n",
       "  <thead>\n",
       "    <tr style=\"text-align: right;\">\n",
       "      <th></th>\n",
       "      <th>one</th>\n",
       "      <th>two</th>\n",
       "      <th>three</th>\n",
       "      <th>four</th>\n",
       "    </tr>\n",
       "  </thead>\n",
       "  <tbody>\n",
       "    <tr>\n",
       "      <th>Ohio</th>\n",
       "      <td>0</td>\n",
       "      <td>1</td>\n",
       "      <td>2</td>\n",
       "      <td>3</td>\n",
       "    </tr>\n",
       "    <tr>\n",
       "      <th>Colorado</th>\n",
       "      <td>4</td>\n",
       "      <td>5</td>\n",
       "      <td>6</td>\n",
       "      <td>7</td>\n",
       "    </tr>\n",
       "    <tr>\n",
       "      <th>New York</th>\n",
       "      <td>8</td>\n",
       "      <td>9</td>\n",
       "      <td>10</td>\n",
       "      <td>11</td>\n",
       "    </tr>\n",
       "  </tbody>\n",
       "</table>\n",
       "</div>"
      ],
      "text/plain": [
       "          one  two  three  four\n",
       "Ohio        0    1      2     3\n",
       "Colorado    4    5      6     7\n",
       "New York    8    9     10    11"
      ]
     },
     "execution_count": 13,
     "metadata": {},
     "output_type": "execute_result"
    }
   ],
   "source": [
    "data = pd.DataFrame(np.arange(12).reshape((3, 4)),\n",
    "... index=['Ohio', 'Colorado', 'New York'],\n",
    "... columns=['one', 'two', 'three', 'four'])\n",
    "data"
   ]
  },
  {
   "cell_type": "code",
   "execution_count": 14,
   "id": "0deed62c-e267-47e2-bbf4-6070620f3c91",
   "metadata": {},
   "outputs": [],
   "source": [
    "transform = lambda x: x[:4].upper()"
   ]
  },
  {
   "cell_type": "code",
   "execution_count": 15,
   "id": "11bbf6ec-4fe5-424e-893c-c32e569b744c",
   "metadata": {},
   "outputs": [
    {
     "data": {
      "text/plain": [
       "Index(['OHIO', 'COLO', 'NEW '], dtype='object')"
      ]
     },
     "execution_count": 15,
     "metadata": {},
     "output_type": "execute_result"
    }
   ],
   "source": [
    "data.index.map(transform)"
   ]
  },
  {
   "cell_type": "code",
   "execution_count": 16,
   "id": "865b25de-e8f5-40df-a0b5-6c1f8bfc4b36",
   "metadata": {},
   "outputs": [],
   "source": [
    "data.index = data.index.map(transform)"
   ]
  },
  {
   "cell_type": "code",
   "execution_count": 17,
   "id": "65a65fa7-3912-4274-bca6-74a31f110172",
   "metadata": {},
   "outputs": [
    {
     "data": {
      "text/html": [
       "<div>\n",
       "<style scoped>\n",
       "    .dataframe tbody tr th:only-of-type {\n",
       "        vertical-align: middle;\n",
       "    }\n",
       "\n",
       "    .dataframe tbody tr th {\n",
       "        vertical-align: top;\n",
       "    }\n",
       "\n",
       "    .dataframe thead th {\n",
       "        text-align: right;\n",
       "    }\n",
       "</style>\n",
       "<table border=\"1\" class=\"dataframe\">\n",
       "  <thead>\n",
       "    <tr style=\"text-align: right;\">\n",
       "      <th></th>\n",
       "      <th>one</th>\n",
       "      <th>two</th>\n",
       "      <th>three</th>\n",
       "      <th>four</th>\n",
       "    </tr>\n",
       "  </thead>\n",
       "  <tbody>\n",
       "    <tr>\n",
       "      <th>OHIO</th>\n",
       "      <td>0</td>\n",
       "      <td>1</td>\n",
       "      <td>2</td>\n",
       "      <td>3</td>\n",
       "    </tr>\n",
       "    <tr>\n",
       "      <th>COLO</th>\n",
       "      <td>4</td>\n",
       "      <td>5</td>\n",
       "      <td>6</td>\n",
       "      <td>7</td>\n",
       "    </tr>\n",
       "    <tr>\n",
       "      <th>NEW</th>\n",
       "      <td>8</td>\n",
       "      <td>9</td>\n",
       "      <td>10</td>\n",
       "      <td>11</td>\n",
       "    </tr>\n",
       "  </tbody>\n",
       "</table>\n",
       "</div>"
      ],
      "text/plain": [
       "      one  two  three  four\n",
       "OHIO    0    1      2     3\n",
       "COLO    4    5      6     7\n",
       "NEW     8    9     10    11"
      ]
     },
     "execution_count": 17,
     "metadata": {},
     "output_type": "execute_result"
    }
   ],
   "source": [
    "data"
   ]
  },
  {
   "cell_type": "markdown",
   "id": "cd228505-13a9-4d15-99a5-c4948bfb0b2a",
   "metadata": {},
   "source": [
    "Se você quiser criar uma versão transformada de um conjunto de\n",
    "dados sem modificar os dados originais, um método útil será [rename](https://pandas.pydata.org/docs/reference/api/pandas.DataFrame.rename.html):"
   ]
  },
  {
   "cell_type": "code",
   "execution_count": 18,
   "id": "480c45dd-2701-4d96-ae4e-550afa86d2dc",
   "metadata": {},
   "outputs": [
    {
     "data": {
      "text/html": [
       "<div>\n",
       "<style scoped>\n",
       "    .dataframe tbody tr th:only-of-type {\n",
       "        vertical-align: middle;\n",
       "    }\n",
       "\n",
       "    .dataframe tbody tr th {\n",
       "        vertical-align: top;\n",
       "    }\n",
       "\n",
       "    .dataframe thead th {\n",
       "        text-align: right;\n",
       "    }\n",
       "</style>\n",
       "<table border=\"1\" class=\"dataframe\">\n",
       "  <thead>\n",
       "    <tr style=\"text-align: right;\">\n",
       "      <th></th>\n",
       "      <th>ONE</th>\n",
       "      <th>TWO</th>\n",
       "      <th>THREE</th>\n",
       "      <th>FOUR</th>\n",
       "    </tr>\n",
       "  </thead>\n",
       "  <tbody>\n",
       "    <tr>\n",
       "      <th>Ohio</th>\n",
       "      <td>0</td>\n",
       "      <td>1</td>\n",
       "      <td>2</td>\n",
       "      <td>3</td>\n",
       "    </tr>\n",
       "    <tr>\n",
       "      <th>Colo</th>\n",
       "      <td>4</td>\n",
       "      <td>5</td>\n",
       "      <td>6</td>\n",
       "      <td>7</td>\n",
       "    </tr>\n",
       "    <tr>\n",
       "      <th>New</th>\n",
       "      <td>8</td>\n",
       "      <td>9</td>\n",
       "      <td>10</td>\n",
       "      <td>11</td>\n",
       "    </tr>\n",
       "  </tbody>\n",
       "</table>\n",
       "</div>"
      ],
      "text/plain": [
       "      ONE  TWO  THREE  FOUR\n",
       "Ohio    0    1      2     3\n",
       "Colo    4    5      6     7\n",
       "New     8    9     10    11"
      ]
     },
     "execution_count": 18,
     "metadata": {},
     "output_type": "execute_result"
    }
   ],
   "source": [
    "data.rename(index = str.title, columns=str.upper)"
   ]
  },
  {
   "cell_type": "markdown",
   "id": "f7ef4baf-7767-4f8b-a761-782e5c81acf4",
   "metadata": {},
   "source": [
    "Observe que rename pode ser usado em conjunto com um objeto do\n",
    "tipo dicionário fornecendo novos valores para um subconjunto dos\n",
    "rótulos de um eixo:"
   ]
  },
  {
   "cell_type": "code",
   "execution_count": 19,
   "id": "f8ec7b4d-00dc-4d7f-938e-acdb445bd9d1",
   "metadata": {},
   "outputs": [
    {
     "data": {
      "text/html": [
       "<div>\n",
       "<style scoped>\n",
       "    .dataframe tbody tr th:only-of-type {\n",
       "        vertical-align: middle;\n",
       "    }\n",
       "\n",
       "    .dataframe tbody tr th {\n",
       "        vertical-align: top;\n",
       "    }\n",
       "\n",
       "    .dataframe thead th {\n",
       "        text-align: right;\n",
       "    }\n",
       "</style>\n",
       "<table border=\"1\" class=\"dataframe\">\n",
       "  <thead>\n",
       "    <tr style=\"text-align: right;\">\n",
       "      <th></th>\n",
       "      <th>one</th>\n",
       "      <th>two</th>\n",
       "      <th>peekaboo</th>\n",
       "      <th>four</th>\n",
       "    </tr>\n",
       "  </thead>\n",
       "  <tbody>\n",
       "    <tr>\n",
       "      <th>INDIANA</th>\n",
       "      <td>0</td>\n",
       "      <td>1</td>\n",
       "      <td>2</td>\n",
       "      <td>3</td>\n",
       "    </tr>\n",
       "    <tr>\n",
       "      <th>COLO</th>\n",
       "      <td>4</td>\n",
       "      <td>5</td>\n",
       "      <td>6</td>\n",
       "      <td>7</td>\n",
       "    </tr>\n",
       "    <tr>\n",
       "      <th>NEW</th>\n",
       "      <td>8</td>\n",
       "      <td>9</td>\n",
       "      <td>10</td>\n",
       "      <td>11</td>\n",
       "    </tr>\n",
       "  </tbody>\n",
       "</table>\n",
       "</div>"
      ],
      "text/plain": [
       "         one  two  peekaboo  four\n",
       "INDIANA    0    1         2     3\n",
       "COLO       4    5         6     7\n",
       "NEW        8    9        10    11"
      ]
     },
     "execution_count": 19,
     "metadata": {},
     "output_type": "execute_result"
    }
   ],
   "source": [
    "data.rename(index={'OHIO': 'INDIANA'},\n",
    "... columns={'three': 'peekaboo'})"
   ]
  },
  {
   "cell_type": "markdown",
   "id": "ac56ff12-58f1-472e-adc4-4c6fa7bc8f0e",
   "metadata": {},
   "source": [
    "## Discretização e compartimentalização (binning)\n",
    "---\n",
    "\n",
    "Dados contínuos com frequência são discretizados ou, de modo\n",
    "alternativo, separados em “compartimentos” (bins) para análise.\n",
    "Suponha que tenhamos dados sobre um grupo de pessoas em um\n",
    "estudo e queremos agrupá-las em conjuntos de idades discretas:"
   ]
  },
  {
   "cell_type": "code",
   "execution_count": 22,
   "id": "c97c0999-48e9-4e0f-ab90-5db9db3ae3f4",
   "metadata": {},
   "outputs": [],
   "source": [
    "ages = [20, 22, 25, 27, 21, 23, 37, 31, 61, 45, 41, 32]"
   ]
  },
  {
   "cell_type": "markdown",
   "id": "e5082b74-ac13-4c0d-8922-c4e8f10dae6c",
   "metadata": {},
   "source": [
    "Vamos dividir esses dados em compartimentos de 18 a 25, 26 a 35,\n",
    "36 a 60 e, por fim, 61 anos ou mais. Para isso, utilize [cut](https://pandas.pydata.org/docs/reference/api/pandas.cut.html), uma\n",
    "função do pandas:"
   ]
  },
  {
   "cell_type": "code",
   "execution_count": 23,
   "id": "eb842eda-4abc-4a69-b942-dc1d877bf03e",
   "metadata": {},
   "outputs": [],
   "source": [
    "bins = [18,25,35,60,100]"
   ]
  },
  {
   "cell_type": "code",
   "execution_count": 26,
   "id": "d2d81f11-b4d9-4d24-aeca-3bcbd4a9cc54",
   "metadata": {},
   "outputs": [
    {
     "data": {
      "text/plain": [
       "[(18, 25], (18, 25], (18, 25], (25, 35], (18, 25], ..., (25, 35], (60, 100], (35, 60], (35, 60], (25, 35]]\n",
       "Length: 12\n",
       "Categories (4, interval[int64]): [(18, 25] < (25, 35] < (35, 60] < (60, 100]]"
      ]
     },
     "execution_count": 26,
     "metadata": {},
     "output_type": "execute_result"
    }
   ],
   "source": [
    "cats = pd.cut(ages,bins)\n",
    "cats"
   ]
  },
  {
   "cell_type": "markdown",
   "id": "c0b2d17a-5046-4717-9a1b-0c1d2001da25",
   "metadata": {},
   "source": [
    "O objeto devolvido pelo pandas é um objeto Categorical especial. A\n",
    "saída que vemos descreve os compartimentos calculados pelo\n",
    "pandas.cut. Podemos tratá-la como um array de strings informando o\n",
    "nome do compartimento; internamente, ela contém um array\n",
    "categories que especifica os nomes distintos das categorias, junto\n",
    "com rótulos para os dados de ages no atributo codes:"
   ]
  },
  {
   "cell_type": "code",
   "execution_count": 27,
   "id": "703b381d-5fec-487e-9d02-197da9a9cd6f",
   "metadata": {},
   "outputs": [
    {
     "data": {
      "text/plain": [
       "array([0, 0, 0, 1, 0, 0, 2, 1, 3, 2, 2, 1], dtype=int8)"
      ]
     },
     "execution_count": 27,
     "metadata": {},
     "output_type": "execute_result"
    }
   ],
   "source": [
    "cats.codes"
   ]
  },
  {
   "cell_type": "code",
   "execution_count": 28,
   "id": "6be11e2a-4dd1-4f05-b59d-6decafc982d9",
   "metadata": {},
   "outputs": [
    {
     "data": {
      "text/plain": [
       "IntervalIndex([(18, 25], (25, 35], (35, 60], (60, 100]],\n",
       "              closed='right',\n",
       "              dtype='interval[int64]')"
      ]
     },
     "execution_count": 28,
     "metadata": {},
     "output_type": "execute_result"
    }
   ],
   "source": [
    "cats.categories"
   ]
  },
  {
   "cell_type": "code",
   "execution_count": 29,
   "id": "3a23887a-1136-48ce-b30e-ceea97dff082",
   "metadata": {},
   "outputs": [
    {
     "data": {
      "text/plain": [
       "(18, 25]     5\n",
       "(25, 35]     3\n",
       "(35, 60]     3\n",
       "(60, 100]    1\n",
       "dtype: int64"
      ]
     },
     "execution_count": 29,
     "metadata": {},
     "output_type": "execute_result"
    }
   ],
   "source": [
    "pd.value_counts(cats)"
   ]
  },
  {
   "cell_type": "markdown",
   "id": "219dff99-2398-449f-88ee-7a3f875f2699",
   "metadata": {},
   "source": [
    "**(** $\\rightarrow$ intervalo aberto\n",
    "\n",
    "**[**  $\\rightarrow$ intervalo fechado\n",
    "\n",
    "De forma consistente com a notação matemática para intervalos, um\n",
    "parêntese significa que o lado está aberto, enquanto o colchete\n",
    "indica que está fechado (é inclusivo). Podemos alterar o lado que\n",
    "está fechado passando right=False:"
   ]
  },
  {
   "cell_type": "code",
   "execution_count": 30,
   "id": "0cd0719c-0f2d-412e-bf9e-584f967bb3e4",
   "metadata": {},
   "outputs": [
    {
     "data": {
      "text/plain": [
       "[[18, 26), [18, 26), [18, 26), [26, 36), [18, 26), ..., [26, 36), [61, 100), [36, 61), [36, 61), [26, 36)]\n",
       "Length: 12\n",
       "Categories (4, interval[int64]): [[18, 26) < [26, 36) < [36, 61) < [61, 100)]"
      ]
     },
     "execution_count": 30,
     "metadata": {},
     "output_type": "execute_result"
    }
   ],
   "source": [
    "pd.cut(ages, [18, 26, 36, 61, 100], right=False)"
   ]
  },
  {
   "cell_type": "markdown",
   "id": "86d7d435-6826-4bdf-bb43-d6d0fb11265b",
   "metadata": {},
   "source": [
    "Também podemos especificar nossos próprios nomes de\n",
    "compartimentos passando uma lista ou um array para a opção labels:"
   ]
  },
  {
   "cell_type": "code",
   "execution_count": 31,
   "id": "64a45618-3f92-4dd8-b39d-51c668363444",
   "metadata": {},
   "outputs": [],
   "source": [
    "group_names = ['Youth', 'YoungAdult', 'MiddleAged', 'Senior']"
   ]
  },
  {
   "cell_type": "code",
   "execution_count": 32,
   "id": "136e068c-353d-48f1-99c0-ff50fdb9b652",
   "metadata": {},
   "outputs": [
    {
     "data": {
      "text/plain": [
       "['Youth', 'Youth', 'Youth', 'YoungAdult', 'Youth', ..., 'YoungAdult', 'Senior', 'MiddleAged', 'MiddleAged', 'YoungAdult']\n",
       "Length: 12\n",
       "Categories (4, object): ['Youth' < 'YoungAdult' < 'MiddleAged' < 'Senior']"
      ]
     },
     "execution_count": 32,
     "metadata": {},
     "output_type": "execute_result"
    }
   ],
   "source": [
    "pd.cut(ages, bins, labels=group_names)"
   ]
  },
  {
   "cell_type": "markdown",
   "id": "4257413b-2e2e-4e9d-b907-c2982a22854f",
   "metadata": {},
   "source": [
    "Se passarmos um número inteiro de compartimentos para cut, em\n",
    "vez de passar fronteiras explícitas, ele calculará compartimentos de\n",
    "tamanhos iguais com base nos valores mínimo e máximo dos\n",
    "dados. Considere o caso de alguns dados uniformemente\n",
    "distribuídos, divididos em quartos:"
   ]
  },
  {
   "cell_type": "code",
   "execution_count": 33,
   "id": "2100f7a5-fdda-4ac7-af11-3f1fca2d04d9",
   "metadata": {},
   "outputs": [],
   "source": [
    "data = np.random.rand(20)"
   ]
  },
  {
   "cell_type": "code",
   "execution_count": 34,
   "id": "72b5b759-c065-4199-902c-ae68278953d4",
   "metadata": {},
   "outputs": [
    {
     "data": {
      "text/plain": [
       "[(0.26, 0.48], (0.26, 0.48], (0.26, 0.48], (0.48, 0.7], (0.26, 0.48], ..., (0.26, 0.48], (0.037, 0.26], (0.7, 0.92], (0.7, 0.92], (0.7, 0.92]]\n",
       "Length: 20\n",
       "Categories (4, interval[float64]): [(0.037, 0.26] < (0.26, 0.48] < (0.48, 0.7] < (0.7, 0.92]]"
      ]
     },
     "execution_count": 34,
     "metadata": {},
     "output_type": "execute_result"
    }
   ],
   "source": [
    "pd.cut(data, 4, precision=2)"
   ]
  },
  {
   "cell_type": "markdown",
   "id": "c1545a9e-3418-4c93-860a-16a4d8738cbc",
   "metadata": {},
   "source": [
    "A opção `precision=2` limita a precisão decimal em dois dígitos.\n",
    "Uma função intimamente relacionada, [qcut](https://pandas.pydata.org/docs/reference/api/pandas.qcut.html), compartimenta os dados\n",
    "com base nos quantis da amostra. Conforme a distribuição dos\n",
    "dados, usar cut em geral não resultará em cada compartimento com\n",
    "o mesmo número de pontos de dados. Como qcut utiliza quantis da\n",
    "amostra, por definição, você obterá compartimentos grosseiramente\n",
    "de mesmo tamanho:"
   ]
  },
  {
   "cell_type": "code",
   "execution_count": 36,
   "id": "5d9655cc-fd24-4fe9-b394-72780f6df9c5",
   "metadata": {},
   "outputs": [],
   "source": [
    "data = np.random.randn(1000) # Normalmente distribuídos"
   ]
  },
  {
   "cell_type": "code",
   "execution_count": 38,
   "id": "714029cb-287a-4f00-99b3-d5073091d01c",
   "metadata": {},
   "outputs": [
    {
     "data": {
      "text/plain": [
       "[(-3.133, -0.67], (-3.133, -0.67], (0.682, 3.725], (0.682, 3.725], (-0.00488, 0.682], ..., (-3.133, -0.67], (0.682, 3.725], (0.682, 3.725], (-0.67, -0.00488], (-0.67, -0.00488]]\n",
       "Length: 1000\n",
       "Categories (4, interval[float64]): [(-3.133, -0.67] < (-0.67, -0.00488] < (-0.00488, 0.682] < (0.682, 3.725]]"
      ]
     },
     "execution_count": 38,
     "metadata": {},
     "output_type": "execute_result"
    }
   ],
   "source": [
    "cats = pd.qcut(data, 4) # Separa em quantis\n",
    "cats"
   ]
  },
  {
   "cell_type": "code",
   "execution_count": 39,
   "id": "73a4d54b-a3cd-48c9-9fff-4815efb0d594",
   "metadata": {},
   "outputs": [
    {
     "data": {
      "text/plain": [
       "(-3.133, -0.67]      250\n",
       "(-0.67, -0.00488]    250\n",
       "(-0.00488, 0.682]    250\n",
       "(0.682, 3.725]       250\n",
       "dtype: int64"
      ]
     },
     "execution_count": 39,
     "metadata": {},
     "output_type": "execute_result"
    }
   ],
   "source": [
    "pd.value_counts(cats)"
   ]
  },
  {
   "cell_type": "markdown",
   "id": "18b71312-8a4c-47e8-a278-dfac69caa73d",
   "metadata": {},
   "source": [
    "De modo semelhante a cut, podemos passar nossos próprios quantis\n",
    "(números entre 0 e 1, inclusive):"
   ]
  },
  {
   "cell_type": "code",
   "execution_count": 40,
   "id": "912d2311-272a-4959-a895-51cc86d60677",
   "metadata": {},
   "outputs": [
    {
     "data": {
      "text/plain": [
       "[(-1.268, -0.00488], (-3.133, -1.268], (1.265, 3.725], (1.265, 3.725], (-0.00488, 1.265], ..., (-3.133, -1.268], (1.265, 3.725], (1.265, 3.725], (-1.268, -0.00488], (-1.268, -0.00488]]\n",
       "Length: 1000\n",
       "Categories (4, interval[float64]): [(-3.133, -1.268] < (-1.268, -0.00488] < (-0.00488, 1.265] < (1.265, 3.725]]"
      ]
     },
     "execution_count": 40,
     "metadata": {},
     "output_type": "execute_result"
    }
   ],
   "source": [
    "pd.qcut(data, [0, 0.1, 0.5, 0.9, 1.])"
   ]
  },
  {
   "cell_type": "markdown",
   "id": "f9168fc7-6fa7-444b-bc57-d27b6127ff25",
   "metadata": {},
   "source": [
    "## Detectando e filtrando valores discrepantes\n",
    "---\n",
    "\n",
    "Filtrar ou transformar valores discrepantes **(outliers)** é, em boa\n",
    "medida, uma questão de aplicar operações de array. Considere um\n",
    "DataFrame com alguns dados normalmente distribuídos:"
   ]
  },
  {
   "cell_type": "code",
   "execution_count": 41,
   "id": "9a2a2023-93ba-45ca-9bc9-4e53909f2341",
   "metadata": {},
   "outputs": [],
   "source": [
    "data = pd.DataFrame(np.random.randn(1000, 4))"
   ]
  },
  {
   "cell_type": "code",
   "execution_count": 42,
   "id": "ccf115e8-7328-420c-a9ff-d67b9827da4e",
   "metadata": {},
   "outputs": [
    {
     "data": {
      "text/html": [
       "<div>\n",
       "<style scoped>\n",
       "    .dataframe tbody tr th:only-of-type {\n",
       "        vertical-align: middle;\n",
       "    }\n",
       "\n",
       "    .dataframe tbody tr th {\n",
       "        vertical-align: top;\n",
       "    }\n",
       "\n",
       "    .dataframe thead th {\n",
       "        text-align: right;\n",
       "    }\n",
       "</style>\n",
       "<table border=\"1\" class=\"dataframe\">\n",
       "  <thead>\n",
       "    <tr style=\"text-align: right;\">\n",
       "      <th></th>\n",
       "      <th>0</th>\n",
       "      <th>1</th>\n",
       "      <th>2</th>\n",
       "      <th>3</th>\n",
       "    </tr>\n",
       "  </thead>\n",
       "  <tbody>\n",
       "    <tr>\n",
       "      <th>count</th>\n",
       "      <td>1000.000000</td>\n",
       "      <td>1000.000000</td>\n",
       "      <td>1000.000000</td>\n",
       "      <td>1000.000000</td>\n",
       "    </tr>\n",
       "    <tr>\n",
       "      <th>mean</th>\n",
       "      <td>-0.012917</td>\n",
       "      <td>-0.013361</td>\n",
       "      <td>-0.006238</td>\n",
       "      <td>0.024644</td>\n",
       "    </tr>\n",
       "    <tr>\n",
       "      <th>std</th>\n",
       "      <td>0.991988</td>\n",
       "      <td>0.980378</td>\n",
       "      <td>1.044887</td>\n",
       "      <td>0.972823</td>\n",
       "    </tr>\n",
       "    <tr>\n",
       "      <th>min</th>\n",
       "      <td>-3.836348</td>\n",
       "      <td>-3.287518</td>\n",
       "      <td>-3.348320</td>\n",
       "      <td>-3.230354</td>\n",
       "    </tr>\n",
       "    <tr>\n",
       "      <th>25%</th>\n",
       "      <td>-0.689792</td>\n",
       "      <td>-0.658642</td>\n",
       "      <td>-0.721712</td>\n",
       "      <td>-0.637531</td>\n",
       "    </tr>\n",
       "    <tr>\n",
       "      <th>50%</th>\n",
       "      <td>-0.055441</td>\n",
       "      <td>-0.012069</td>\n",
       "      <td>-0.030545</td>\n",
       "      <td>0.008278</td>\n",
       "    </tr>\n",
       "    <tr>\n",
       "      <th>75%</th>\n",
       "      <td>0.633175</td>\n",
       "      <td>0.702070</td>\n",
       "      <td>0.677046</td>\n",
       "      <td>0.691846</td>\n",
       "    </tr>\n",
       "    <tr>\n",
       "      <th>max</th>\n",
       "      <td>3.092069</td>\n",
       "      <td>3.197255</td>\n",
       "      <td>3.231777</td>\n",
       "      <td>3.010584</td>\n",
       "    </tr>\n",
       "  </tbody>\n",
       "</table>\n",
       "</div>"
      ],
      "text/plain": [
       "                 0            1            2            3\n",
       "count  1000.000000  1000.000000  1000.000000  1000.000000\n",
       "mean     -0.012917    -0.013361    -0.006238     0.024644\n",
       "std       0.991988     0.980378     1.044887     0.972823\n",
       "min      -3.836348    -3.287518    -3.348320    -3.230354\n",
       "25%      -0.689792    -0.658642    -0.721712    -0.637531\n",
       "50%      -0.055441    -0.012069    -0.030545     0.008278\n",
       "75%       0.633175     0.702070     0.677046     0.691846\n",
       "max       3.092069     3.197255     3.231777     3.010584"
      ]
     },
     "execution_count": 42,
     "metadata": {},
     "output_type": "execute_result"
    }
   ],
   "source": [
    "data.describe()"
   ]
  },
  {
   "cell_type": "markdown",
   "id": "d4f0a767-4b54-4a88-a7d8-a993cd60d35d",
   "metadata": {},
   "source": [
    "Suponha que quiséssemos encontrar os valores que excedessem 3\n",
    "em valor absoluto em uma das colunas:"
   ]
  },
  {
   "cell_type": "code",
   "execution_count": 44,
   "id": "d0dd16b5-dd43-40e8-add8-e62e38da50ce",
   "metadata": {},
   "outputs": [],
   "source": [
    "col = data[2] # queremos verificar quais valores são maior que três em módulo"
   ]
  },
  {
   "cell_type": "code",
   "execution_count": 45,
   "id": "acaaee84-09d7-4fc0-95a7-12260118daa6",
   "metadata": {},
   "outputs": [
    {
     "data": {
      "text/plain": [
       "125   -3.224879\n",
       "291   -3.348320\n",
       "385   -3.124051\n",
       "789    3.231777\n",
       "Name: 2, dtype: float64"
      ]
     },
     "execution_count": 45,
     "metadata": {},
     "output_type": "execute_result"
    }
   ],
   "source": [
    "col[np.abs(col)>3]"
   ]
  },
  {
   "cell_type": "markdown",
   "id": "43fc1c13-9564-489f-90e9-a2d0a052c55c",
   "metadata": {},
   "source": [
    "Para selecionar todas as linhas que tenham um valor que exceda 3\n",
    "ou –3, podemos utilizar o método any em um DataFrame booleano:"
   ]
  },
  {
   "cell_type": "code",
   "execution_count": 47,
   "id": "a139b546-6da8-4dae-aaa4-e8b76a6ea5c4",
   "metadata": {},
   "outputs": [
    {
     "data": {
      "text/html": [
       "<div>\n",
       "<style scoped>\n",
       "    .dataframe tbody tr th:only-of-type {\n",
       "        vertical-align: middle;\n",
       "    }\n",
       "\n",
       "    .dataframe tbody tr th {\n",
       "        vertical-align: top;\n",
       "    }\n",
       "\n",
       "    .dataframe thead th {\n",
       "        text-align: right;\n",
       "    }\n",
       "</style>\n",
       "<table border=\"1\" class=\"dataframe\">\n",
       "  <thead>\n",
       "    <tr style=\"text-align: right;\">\n",
       "      <th></th>\n",
       "      <th>0</th>\n",
       "      <th>1</th>\n",
       "      <th>2</th>\n",
       "      <th>3</th>\n",
       "    </tr>\n",
       "  </thead>\n",
       "  <tbody>\n",
       "    <tr>\n",
       "      <th>42</th>\n",
       "      <td>0.815462</td>\n",
       "      <td>-3.125678</td>\n",
       "      <td>1.651093</td>\n",
       "      <td>0.947768</td>\n",
       "    </tr>\n",
       "    <tr>\n",
       "      <th>125</th>\n",
       "      <td>1.172826</td>\n",
       "      <td>1.454403</td>\n",
       "      <td>-3.224879</td>\n",
       "      <td>0.249235</td>\n",
       "    </tr>\n",
       "    <tr>\n",
       "      <th>191</th>\n",
       "      <td>-0.521588</td>\n",
       "      <td>3.197255</td>\n",
       "      <td>-1.040604</td>\n",
       "      <td>1.000398</td>\n",
       "    </tr>\n",
       "    <tr>\n",
       "      <th>222</th>\n",
       "      <td>-1.297322</td>\n",
       "      <td>-3.287518</td>\n",
       "      <td>-0.010484</td>\n",
       "      <td>-0.497120</td>\n",
       "    </tr>\n",
       "    <tr>\n",
       "      <th>291</th>\n",
       "      <td>1.446913</td>\n",
       "      <td>-0.807819</td>\n",
       "      <td>-3.348320</td>\n",
       "      <td>0.430838</td>\n",
       "    </tr>\n",
       "    <tr>\n",
       "      <th>385</th>\n",
       "      <td>0.038583</td>\n",
       "      <td>0.352480</td>\n",
       "      <td>-3.124051</td>\n",
       "      <td>1.357400</td>\n",
       "    </tr>\n",
       "    <tr>\n",
       "      <th>424</th>\n",
       "      <td>-0.512190</td>\n",
       "      <td>-0.307188</td>\n",
       "      <td>0.260679</td>\n",
       "      <td>-3.230354</td>\n",
       "    </tr>\n",
       "    <tr>\n",
       "      <th>644</th>\n",
       "      <td>-3.614486</td>\n",
       "      <td>-0.808980</td>\n",
       "      <td>-0.262634</td>\n",
       "      <td>1.252298</td>\n",
       "    </tr>\n",
       "    <tr>\n",
       "      <th>753</th>\n",
       "      <td>-3.836348</td>\n",
       "      <td>0.736059</td>\n",
       "      <td>-1.998035</td>\n",
       "      <td>-2.025658</td>\n",
       "    </tr>\n",
       "    <tr>\n",
       "      <th>782</th>\n",
       "      <td>-0.945094</td>\n",
       "      <td>-0.526549</td>\n",
       "      <td>-0.425353</td>\n",
       "      <td>3.010584</td>\n",
       "    </tr>\n",
       "    <tr>\n",
       "      <th>789</th>\n",
       "      <td>0.856815</td>\n",
       "      <td>-0.799770</td>\n",
       "      <td>3.231777</td>\n",
       "      <td>0.978855</td>\n",
       "    </tr>\n",
       "    <tr>\n",
       "      <th>995</th>\n",
       "      <td>3.092069</td>\n",
       "      <td>-0.022750</td>\n",
       "      <td>0.881305</td>\n",
       "      <td>-0.373574</td>\n",
       "    </tr>\n",
       "  </tbody>\n",
       "</table>\n",
       "</div>"
      ],
      "text/plain": [
       "            0         1         2         3\n",
       "42   0.815462 -3.125678  1.651093  0.947768\n",
       "125  1.172826  1.454403 -3.224879  0.249235\n",
       "191 -0.521588  3.197255 -1.040604  1.000398\n",
       "222 -1.297322 -3.287518 -0.010484 -0.497120\n",
       "291  1.446913 -0.807819 -3.348320  0.430838\n",
       "385  0.038583  0.352480 -3.124051  1.357400\n",
       "424 -0.512190 -0.307188  0.260679 -3.230354\n",
       "644 -3.614486 -0.808980 -0.262634  1.252298\n",
       "753 -3.836348  0.736059 -1.998035 -2.025658\n",
       "782 -0.945094 -0.526549 -0.425353  3.010584\n",
       "789  0.856815 -0.799770  3.231777  0.978855\n",
       "995  3.092069 -0.022750  0.881305 -0.373574"
      ]
     },
     "execution_count": 47,
     "metadata": {},
     "output_type": "execute_result"
    }
   ],
   "source": [
    "data[(np.abs(data) > 3).any(1)]"
   ]
  },
  {
   "cell_type": "markdown",
   "id": "e9870e6c-b762-487c-a2ad-c058f22c8aad",
   "metadata": {},
   "source": [
    "## Permutação e amostragem aleatória\n",
    "---\n",
    "\n",
    "Permutar (reordenar aleatoriamente) uma Series ou as linhas de um\n",
    "DataFrame é fácil utilizando a função numpy.random.permutation.\n",
    "Chamar permutation com o tamanho do eixo que você quer permutar\n",
    "gera um array de inteiros informando a nova ordem:\n",
    "\n"
   ]
  },
  {
   "cell_type": "code",
   "execution_count": 48,
   "id": "4639d4e4-3658-4052-bab2-00fe90f7c373",
   "metadata": {},
   "outputs": [],
   "source": [
    "df = pd.DataFrame(np.arange(5 * 4).reshape((5, 4)))"
   ]
  },
  {
   "cell_type": "code",
   "execution_count": 50,
   "id": "5e30ccb9-7238-47f1-a0a0-3721342cad3d",
   "metadata": {},
   "outputs": [
    {
     "data": {
      "text/plain": [
       "array([0, 2, 4, 3, 1])"
      ]
     },
     "execution_count": 50,
     "metadata": {},
     "output_type": "execute_result"
    }
   ],
   "source": [
    "sampler = np.random.permutation(5)\n",
    "sampler"
   ]
  },
  {
   "cell_type": "code",
   "execution_count": 51,
   "id": "cba3b9e5-7379-4636-b0c0-483fedaaaf81",
   "metadata": {},
   "outputs": [
    {
     "data": {
      "text/html": [
       "<div>\n",
       "<style scoped>\n",
       "    .dataframe tbody tr th:only-of-type {\n",
       "        vertical-align: middle;\n",
       "    }\n",
       "\n",
       "    .dataframe tbody tr th {\n",
       "        vertical-align: top;\n",
       "    }\n",
       "\n",
       "    .dataframe thead th {\n",
       "        text-align: right;\n",
       "    }\n",
       "</style>\n",
       "<table border=\"1\" class=\"dataframe\">\n",
       "  <thead>\n",
       "    <tr style=\"text-align: right;\">\n",
       "      <th></th>\n",
       "      <th>0</th>\n",
       "      <th>1</th>\n",
       "      <th>2</th>\n",
       "      <th>3</th>\n",
       "    </tr>\n",
       "  </thead>\n",
       "  <tbody>\n",
       "    <tr>\n",
       "      <th>0</th>\n",
       "      <td>0</td>\n",
       "      <td>1</td>\n",
       "      <td>2</td>\n",
       "      <td>3</td>\n",
       "    </tr>\n",
       "    <tr>\n",
       "      <th>1</th>\n",
       "      <td>4</td>\n",
       "      <td>5</td>\n",
       "      <td>6</td>\n",
       "      <td>7</td>\n",
       "    </tr>\n",
       "    <tr>\n",
       "      <th>2</th>\n",
       "      <td>8</td>\n",
       "      <td>9</td>\n",
       "      <td>10</td>\n",
       "      <td>11</td>\n",
       "    </tr>\n",
       "    <tr>\n",
       "      <th>3</th>\n",
       "      <td>12</td>\n",
       "      <td>13</td>\n",
       "      <td>14</td>\n",
       "      <td>15</td>\n",
       "    </tr>\n",
       "    <tr>\n",
       "      <th>4</th>\n",
       "      <td>16</td>\n",
       "      <td>17</td>\n",
       "      <td>18</td>\n",
       "      <td>19</td>\n",
       "    </tr>\n",
       "  </tbody>\n",
       "</table>\n",
       "</div>"
      ],
      "text/plain": [
       "    0   1   2   3\n",
       "0   0   1   2   3\n",
       "1   4   5   6   7\n",
       "2   8   9  10  11\n",
       "3  12  13  14  15\n",
       "4  16  17  18  19"
      ]
     },
     "execution_count": 51,
     "metadata": {},
     "output_type": "execute_result"
    }
   ],
   "source": [
    "df"
   ]
  },
  {
   "cell_type": "markdown",
   "id": "75f26a4e-044e-4c9a-a64d-67d5e5f41458",
   "metadata": {},
   "source": [
    "Esse array pode então ser usado na indexação baseada em iloc ou\n",
    "na função [take](https://pandas.pydata.org/docs/reference/api/pandas.DataFrame.take.html) equivalente:"
   ]
  },
  {
   "cell_type": "code",
   "execution_count": 52,
   "id": "01c9e1e8-06bb-4516-8d81-8577b8846e8e",
   "metadata": {},
   "outputs": [
    {
     "data": {
      "text/html": [
       "<div>\n",
       "<style scoped>\n",
       "    .dataframe tbody tr th:only-of-type {\n",
       "        vertical-align: middle;\n",
       "    }\n",
       "\n",
       "    .dataframe tbody tr th {\n",
       "        vertical-align: top;\n",
       "    }\n",
       "\n",
       "    .dataframe thead th {\n",
       "        text-align: right;\n",
       "    }\n",
       "</style>\n",
       "<table border=\"1\" class=\"dataframe\">\n",
       "  <thead>\n",
       "    <tr style=\"text-align: right;\">\n",
       "      <th></th>\n",
       "      <th>0</th>\n",
       "      <th>1</th>\n",
       "      <th>2</th>\n",
       "      <th>3</th>\n",
       "    </tr>\n",
       "  </thead>\n",
       "  <tbody>\n",
       "    <tr>\n",
       "      <th>0</th>\n",
       "      <td>0</td>\n",
       "      <td>1</td>\n",
       "      <td>2</td>\n",
       "      <td>3</td>\n",
       "    </tr>\n",
       "    <tr>\n",
       "      <th>2</th>\n",
       "      <td>8</td>\n",
       "      <td>9</td>\n",
       "      <td>10</td>\n",
       "      <td>11</td>\n",
       "    </tr>\n",
       "    <tr>\n",
       "      <th>4</th>\n",
       "      <td>16</td>\n",
       "      <td>17</td>\n",
       "      <td>18</td>\n",
       "      <td>19</td>\n",
       "    </tr>\n",
       "    <tr>\n",
       "      <th>3</th>\n",
       "      <td>12</td>\n",
       "      <td>13</td>\n",
       "      <td>14</td>\n",
       "      <td>15</td>\n",
       "    </tr>\n",
       "    <tr>\n",
       "      <th>1</th>\n",
       "      <td>4</td>\n",
       "      <td>5</td>\n",
       "      <td>6</td>\n",
       "      <td>7</td>\n",
       "    </tr>\n",
       "  </tbody>\n",
       "</table>\n",
       "</div>"
      ],
      "text/plain": [
       "    0   1   2   3\n",
       "0   0   1   2   3\n",
       "2   8   9  10  11\n",
       "4  16  17  18  19\n",
       "3  12  13  14  15\n",
       "1   4   5   6   7"
      ]
     },
     "execution_count": 52,
     "metadata": {},
     "output_type": "execute_result"
    }
   ],
   "source": [
    "df.take(sampler)"
   ]
  },
  {
   "cell_type": "code",
   "execution_count": 53,
   "id": "218b9e65-96c5-453e-a0a8-08700ea34575",
   "metadata": {},
   "outputs": [
    {
     "data": {
      "text/html": [
       "<div>\n",
       "<style scoped>\n",
       "    .dataframe tbody tr th:only-of-type {\n",
       "        vertical-align: middle;\n",
       "    }\n",
       "\n",
       "    .dataframe tbody tr th {\n",
       "        vertical-align: top;\n",
       "    }\n",
       "\n",
       "    .dataframe thead th {\n",
       "        text-align: right;\n",
       "    }\n",
       "</style>\n",
       "<table border=\"1\" class=\"dataframe\">\n",
       "  <thead>\n",
       "    <tr style=\"text-align: right;\">\n",
       "      <th></th>\n",
       "      <th>0</th>\n",
       "      <th>1</th>\n",
       "      <th>2</th>\n",
       "      <th>3</th>\n",
       "    </tr>\n",
       "  </thead>\n",
       "  <tbody>\n",
       "    <tr>\n",
       "      <th>0</th>\n",
       "      <td>0</td>\n",
       "      <td>1</td>\n",
       "      <td>2</td>\n",
       "      <td>3</td>\n",
       "    </tr>\n",
       "    <tr>\n",
       "      <th>2</th>\n",
       "      <td>8</td>\n",
       "      <td>9</td>\n",
       "      <td>10</td>\n",
       "      <td>11</td>\n",
       "    </tr>\n",
       "    <tr>\n",
       "      <th>4</th>\n",
       "      <td>16</td>\n",
       "      <td>17</td>\n",
       "      <td>18</td>\n",
       "      <td>19</td>\n",
       "    </tr>\n",
       "    <tr>\n",
       "      <th>3</th>\n",
       "      <td>12</td>\n",
       "      <td>13</td>\n",
       "      <td>14</td>\n",
       "      <td>15</td>\n",
       "    </tr>\n",
       "    <tr>\n",
       "      <th>1</th>\n",
       "      <td>4</td>\n",
       "      <td>5</td>\n",
       "      <td>6</td>\n",
       "      <td>7</td>\n",
       "    </tr>\n",
       "  </tbody>\n",
       "</table>\n",
       "</div>"
      ],
      "text/plain": [
       "    0   1   2   3\n",
       "0   0   1   2   3\n",
       "2   8   9  10  11\n",
       "4  16  17  18  19\n",
       "3  12  13  14  15\n",
       "1   4   5   6   7"
      ]
     },
     "execution_count": 53,
     "metadata": {},
     "output_type": "execute_result"
    }
   ],
   "source": [
    "df.iloc[sampler]"
   ]
  },
  {
   "cell_type": "markdown",
   "id": "4246844c-be05-4fbe-85a2-113eb84cdfd1",
   "metadata": {},
   "source": [
    "Para selecionar um subconjunto aleatório sem substituição, o\n",
    "método [sample](https://pandas.pydata.org/docs/reference/api/pandas.DataFrame.sample.html) pode ser usado em Series e em DataFrame:"
   ]
  },
  {
   "cell_type": "code",
   "execution_count": 59,
   "id": "54b418fe-e827-47df-8edb-4a4a62013da7",
   "metadata": {},
   "outputs": [
    {
     "data": {
      "text/html": [
       "<div>\n",
       "<style scoped>\n",
       "    .dataframe tbody tr th:only-of-type {\n",
       "        vertical-align: middle;\n",
       "    }\n",
       "\n",
       "    .dataframe tbody tr th {\n",
       "        vertical-align: top;\n",
       "    }\n",
       "\n",
       "    .dataframe thead th {\n",
       "        text-align: right;\n",
       "    }\n",
       "</style>\n",
       "<table border=\"1\" class=\"dataframe\">\n",
       "  <thead>\n",
       "    <tr style=\"text-align: right;\">\n",
       "      <th></th>\n",
       "      <th>0</th>\n",
       "      <th>1</th>\n",
       "      <th>2</th>\n",
       "      <th>3</th>\n",
       "    </tr>\n",
       "  </thead>\n",
       "  <tbody>\n",
       "    <tr>\n",
       "      <th>2</th>\n",
       "      <td>8</td>\n",
       "      <td>9</td>\n",
       "      <td>10</td>\n",
       "      <td>11</td>\n",
       "    </tr>\n",
       "    <tr>\n",
       "      <th>4</th>\n",
       "      <td>16</td>\n",
       "      <td>17</td>\n",
       "      <td>18</td>\n",
       "      <td>19</td>\n",
       "    </tr>\n",
       "    <tr>\n",
       "      <th>3</th>\n",
       "      <td>12</td>\n",
       "      <td>13</td>\n",
       "      <td>14</td>\n",
       "      <td>15</td>\n",
       "    </tr>\n",
       "  </tbody>\n",
       "</table>\n",
       "</div>"
      ],
      "text/plain": [
       "    0   1   2   3\n",
       "2   8   9  10  11\n",
       "4  16  17  18  19\n",
       "3  12  13  14  15"
      ]
     },
     "execution_count": 59,
     "metadata": {},
     "output_type": "execute_result"
    }
   ],
   "source": [
    "df.sample(n=3)"
   ]
  },
  {
   "cell_type": "markdown",
   "id": "d07053df-29c0-4898-a96e-e4dda0ee24eb",
   "metadata": {},
   "source": [
    "Para gerar uma amostra com substituição (a fim de permitir opções\n",
    "repetidas), passe replace=True para sample:"
   ]
  },
  {
   "cell_type": "code",
   "execution_count": 61,
   "id": "3159b559-d7e8-44fd-8057-bbb85df3996d",
   "metadata": {},
   "outputs": [
    {
     "data": {
      "text/plain": [
       "0    5\n",
       "2   -1\n",
       "4    4\n",
       "2   -1\n",
       "1    7\n",
       "4    4\n",
       "3    6\n",
       "4    4\n",
       "1    7\n",
       "1    7\n",
       "dtype: int64"
      ]
     },
     "execution_count": 61,
     "metadata": {},
     "output_type": "execute_result"
    }
   ],
   "source": [
    "choices = pd.Series([5, 7, -1, 6, 4])\n",
    "draws = choices.sample(n=10, replace=True)\n",
    "draws"
   ]
  },
  {
   "cell_type": "markdown",
   "id": "d2c8a880-b7c9-47fb-9339-35f75bbc8900",
   "metadata": {},
   "source": [
    "## Calculando variáveis indicadoras/dummy\n",
    "---\n",
    "Outro tipo de transformação para modelagem estatística ou\n",
    "aplicações de aprendizado de máquina (machine learning) consiste\n",
    "em converter uma variável de categorias em uma matriz “dummy”\n",
    "ou “indicadora”. Se uma coluna em um DataFrame tiver k valores\n",
    "distintos, poderíamos derivar uma matriz ou um DataFrame com k\n",
    "colunas contendo somente 1s e 0s. O pandas tem uma função\n",
    "[get_dummies](https://pandas.pydata.org/docs/reference/api/pandas.get_dummies.html) para isso, embora criar uma função por conta própria\n",
    "não seria difícil. Vamos retomar um exemplo anterior com"
   ]
  },
  {
   "cell_type": "code",
   "execution_count": 2,
   "id": "63cc4c74-b806-480c-a104-2de3c2aa7ada",
   "metadata": {},
   "outputs": [
    {
     "data": {
      "text/html": [
       "<div>\n",
       "<style scoped>\n",
       "    .dataframe tbody tr th:only-of-type {\n",
       "        vertical-align: middle;\n",
       "    }\n",
       "\n",
       "    .dataframe tbody tr th {\n",
       "        vertical-align: top;\n",
       "    }\n",
       "\n",
       "    .dataframe thead th {\n",
       "        text-align: right;\n",
       "    }\n",
       "</style>\n",
       "<table border=\"1\" class=\"dataframe\">\n",
       "  <thead>\n",
       "    <tr style=\"text-align: right;\">\n",
       "      <th></th>\n",
       "      <th>key</th>\n",
       "      <th>data1</th>\n",
       "    </tr>\n",
       "  </thead>\n",
       "  <tbody>\n",
       "    <tr>\n",
       "      <th>0</th>\n",
       "      <td>b</td>\n",
       "      <td>0</td>\n",
       "    </tr>\n",
       "    <tr>\n",
       "      <th>1</th>\n",
       "      <td>b</td>\n",
       "      <td>1</td>\n",
       "    </tr>\n",
       "    <tr>\n",
       "      <th>2</th>\n",
       "      <td>a</td>\n",
       "      <td>2</td>\n",
       "    </tr>\n",
       "    <tr>\n",
       "      <th>3</th>\n",
       "      <td>c</td>\n",
       "      <td>3</td>\n",
       "    </tr>\n",
       "    <tr>\n",
       "      <th>4</th>\n",
       "      <td>a</td>\n",
       "      <td>4</td>\n",
       "    </tr>\n",
       "    <tr>\n",
       "      <th>5</th>\n",
       "      <td>b</td>\n",
       "      <td>5</td>\n",
       "    </tr>\n",
       "  </tbody>\n",
       "</table>\n",
       "</div>"
      ],
      "text/plain": [
       "  key  data1\n",
       "0   b      0\n",
       "1   b      1\n",
       "2   a      2\n",
       "3   c      3\n",
       "4   a      4\n",
       "5   b      5"
      ]
     },
     "execution_count": 2,
     "metadata": {},
     "output_type": "execute_result"
    }
   ],
   "source": [
    "df = pd.DataFrame({'key': ['b', 'b', 'a', 'c', 'a', 'b'],\n",
    "... 'data1': range(6)})\n",
    "df"
   ]
  },
  {
   "cell_type": "code",
   "execution_count": 3,
   "id": "2c20b57e-f9d8-40e3-8b6f-4ea5d6014c0c",
   "metadata": {},
   "outputs": [
    {
     "data": {
      "text/html": [
       "<div>\n",
       "<style scoped>\n",
       "    .dataframe tbody tr th:only-of-type {\n",
       "        vertical-align: middle;\n",
       "    }\n",
       "\n",
       "    .dataframe tbody tr th {\n",
       "        vertical-align: top;\n",
       "    }\n",
       "\n",
       "    .dataframe thead th {\n",
       "        text-align: right;\n",
       "    }\n",
       "</style>\n",
       "<table border=\"1\" class=\"dataframe\">\n",
       "  <thead>\n",
       "    <tr style=\"text-align: right;\">\n",
       "      <th></th>\n",
       "      <th>a</th>\n",
       "      <th>b</th>\n",
       "      <th>c</th>\n",
       "    </tr>\n",
       "  </thead>\n",
       "  <tbody>\n",
       "    <tr>\n",
       "      <th>0</th>\n",
       "      <td>0</td>\n",
       "      <td>1</td>\n",
       "      <td>0</td>\n",
       "    </tr>\n",
       "    <tr>\n",
       "      <th>1</th>\n",
       "      <td>0</td>\n",
       "      <td>1</td>\n",
       "      <td>0</td>\n",
       "    </tr>\n",
       "    <tr>\n",
       "      <th>2</th>\n",
       "      <td>1</td>\n",
       "      <td>0</td>\n",
       "      <td>0</td>\n",
       "    </tr>\n",
       "    <tr>\n",
       "      <th>3</th>\n",
       "      <td>0</td>\n",
       "      <td>0</td>\n",
       "      <td>1</td>\n",
       "    </tr>\n",
       "    <tr>\n",
       "      <th>4</th>\n",
       "      <td>1</td>\n",
       "      <td>0</td>\n",
       "      <td>0</td>\n",
       "    </tr>\n",
       "    <tr>\n",
       "      <th>5</th>\n",
       "      <td>0</td>\n",
       "      <td>1</td>\n",
       "      <td>0</td>\n",
       "    </tr>\n",
       "  </tbody>\n",
       "</table>\n",
       "</div>"
      ],
      "text/plain": [
       "   a  b  c\n",
       "0  0  1  0\n",
       "1  0  1  0\n",
       "2  1  0  0\n",
       "3  0  0  1\n",
       "4  1  0  0\n",
       "5  0  1  0"
      ]
     },
     "execution_count": 3,
     "metadata": {},
     "output_type": "execute_result"
    }
   ],
   "source": [
    "pd.get_dummies(df['key'])"
   ]
  },
  {
   "cell_type": "markdown",
   "id": "09934531-4f87-48b7-bb00-666bce8610bc",
   "metadata": {},
   "source": [
    "Em alguns casos, talvez você queira adicionar um prefixo às\n",
    "colunas no DataFrame indicador, que poderá então ser mesclado\n",
    "com os outros dados. get_dummies tem um argumento de prefixo para\n",
    "isso:"
   ]
  },
  {
   "cell_type": "code",
   "execution_count": 5,
   "id": "4da19075-101b-404d-b850-0b1560b91ea8",
   "metadata": {},
   "outputs": [
    {
     "data": {
      "text/html": [
       "<div>\n",
       "<style scoped>\n",
       "    .dataframe tbody tr th:only-of-type {\n",
       "        vertical-align: middle;\n",
       "    }\n",
       "\n",
       "    .dataframe tbody tr th {\n",
       "        vertical-align: top;\n",
       "    }\n",
       "\n",
       "    .dataframe thead th {\n",
       "        text-align: right;\n",
       "    }\n",
       "</style>\n",
       "<table border=\"1\" class=\"dataframe\">\n",
       "  <thead>\n",
       "    <tr style=\"text-align: right;\">\n",
       "      <th></th>\n",
       "      <th>key_a</th>\n",
       "      <th>key_b</th>\n",
       "      <th>key_c</th>\n",
       "    </tr>\n",
       "  </thead>\n",
       "  <tbody>\n",
       "    <tr>\n",
       "      <th>0</th>\n",
       "      <td>0</td>\n",
       "      <td>1</td>\n",
       "      <td>0</td>\n",
       "    </tr>\n",
       "    <tr>\n",
       "      <th>1</th>\n",
       "      <td>0</td>\n",
       "      <td>1</td>\n",
       "      <td>0</td>\n",
       "    </tr>\n",
       "    <tr>\n",
       "      <th>2</th>\n",
       "      <td>1</td>\n",
       "      <td>0</td>\n",
       "      <td>0</td>\n",
       "    </tr>\n",
       "    <tr>\n",
       "      <th>3</th>\n",
       "      <td>0</td>\n",
       "      <td>0</td>\n",
       "      <td>1</td>\n",
       "    </tr>\n",
       "    <tr>\n",
       "      <th>4</th>\n",
       "      <td>1</td>\n",
       "      <td>0</td>\n",
       "      <td>0</td>\n",
       "    </tr>\n",
       "    <tr>\n",
       "      <th>5</th>\n",
       "      <td>0</td>\n",
       "      <td>1</td>\n",
       "      <td>0</td>\n",
       "    </tr>\n",
       "  </tbody>\n",
       "</table>\n",
       "</div>"
      ],
      "text/plain": [
       "   key_a  key_b  key_c\n",
       "0      0      1      0\n",
       "1      0      1      0\n",
       "2      1      0      0\n",
       "3      0      0      1\n",
       "4      1      0      0\n",
       "5      0      1      0"
      ]
     },
     "execution_count": 5,
     "metadata": {},
     "output_type": "execute_result"
    }
   ],
   "source": [
    "dummies = pd.get_dummies(df['key'], prefix='key')\n",
    "dummies"
   ]
  },
  {
   "cell_type": "code",
   "execution_count": 6,
   "id": "6750b343-f4b5-4734-9e9e-eca95cf26c68",
   "metadata": {},
   "outputs": [
    {
     "data": {
      "text/html": [
       "<div>\n",
       "<style scoped>\n",
       "    .dataframe tbody tr th:only-of-type {\n",
       "        vertical-align: middle;\n",
       "    }\n",
       "\n",
       "    .dataframe tbody tr th {\n",
       "        vertical-align: top;\n",
       "    }\n",
       "\n",
       "    .dataframe thead th {\n",
       "        text-align: right;\n",
       "    }\n",
       "</style>\n",
       "<table border=\"1\" class=\"dataframe\">\n",
       "  <thead>\n",
       "    <tr style=\"text-align: right;\">\n",
       "      <th></th>\n",
       "      <th>data1</th>\n",
       "      <th>key_a</th>\n",
       "      <th>key_b</th>\n",
       "      <th>key_c</th>\n",
       "    </tr>\n",
       "  </thead>\n",
       "  <tbody>\n",
       "    <tr>\n",
       "      <th>0</th>\n",
       "      <td>0</td>\n",
       "      <td>0</td>\n",
       "      <td>1</td>\n",
       "      <td>0</td>\n",
       "    </tr>\n",
       "    <tr>\n",
       "      <th>1</th>\n",
       "      <td>1</td>\n",
       "      <td>0</td>\n",
       "      <td>1</td>\n",
       "      <td>0</td>\n",
       "    </tr>\n",
       "    <tr>\n",
       "      <th>2</th>\n",
       "      <td>2</td>\n",
       "      <td>1</td>\n",
       "      <td>0</td>\n",
       "      <td>0</td>\n",
       "    </tr>\n",
       "    <tr>\n",
       "      <th>3</th>\n",
       "      <td>3</td>\n",
       "      <td>0</td>\n",
       "      <td>0</td>\n",
       "      <td>1</td>\n",
       "    </tr>\n",
       "    <tr>\n",
       "      <th>4</th>\n",
       "      <td>4</td>\n",
       "      <td>1</td>\n",
       "      <td>0</td>\n",
       "      <td>0</td>\n",
       "    </tr>\n",
       "    <tr>\n",
       "      <th>5</th>\n",
       "      <td>5</td>\n",
       "      <td>0</td>\n",
       "      <td>1</td>\n",
       "      <td>0</td>\n",
       "    </tr>\n",
       "  </tbody>\n",
       "</table>\n",
       "</div>"
      ],
      "text/plain": [
       "   data1  key_a  key_b  key_c\n",
       "0      0      0      1      0\n",
       "1      1      0      1      0\n",
       "2      2      1      0      0\n",
       "3      3      0      0      1\n",
       "4      4      1      0      0\n",
       "5      5      0      1      0"
      ]
     },
     "execution_count": 6,
     "metadata": {},
     "output_type": "execute_result"
    }
   ],
   "source": [
    "df_with_dummy = df[['data1']].join(dummies)\n",
    "df_with_dummy"
   ]
  },
  {
   "cell_type": "markdown",
   "id": "cbfd86e8-a793-4c8a-85a7-116a336188c8",
   "metadata": {},
   "source": [
    "## Manipulação de strings\n",
    "---\n",
    "\n",
    "Python tem sido uma linguagem popular para manipulação de dados\n",
    "brutos há muito tempo, em parte por causa de sua facilidade de uso\n",
    "para processamento de strings e de texto. A maior parte das\n",
    "operações em texto são simplificadas com os métodos embutidos\n",
    "do objeto string. Para uma correspondência de padrões e\n",
    "manipulações de texto mais complexas, o uso de expressões\n",
    "regulares talvez seja necessário. O pandas complementa a mistura\n",
    "permitindo aplicar strings e expressões regulares de forma concisa\n",
    "em arrays inteiros de dados, além de lidar com o transtorno dos\n",
    "dados ausentes."
   ]
  },
  {
   "cell_type": "markdown",
   "id": "aaf4381f-400a-4482-b97c-0387646c8164",
   "metadata": {},
   "source": [
    "* **Métodos de objetos string:** Para muitas aplicações de manipulação de strings e de scripting, os\n",
    "métodos embutidos de string são suficientes. Como exemplo, uma\n",
    "string separada por vírgulas pode ser dividida em partes usando\n",
    "split:"
   ]
  },
  {
   "cell_type": "code",
   "execution_count": 8,
   "id": "a20b173a-da5e-4eab-b09e-ab01d30fdb63",
   "metadata": {},
   "outputs": [
    {
     "data": {
      "text/plain": [
       "'a,b, guido'"
      ]
     },
     "execution_count": 8,
     "metadata": {},
     "output_type": "execute_result"
    }
   ],
   "source": [
    "val = 'a,b, guido'\n",
    "val"
   ]
  },
  {
   "cell_type": "code",
   "execution_count": 12,
   "id": "48e80581-1299-4442-ac60-47d3d8caf3fb",
   "metadata": {},
   "outputs": [
    {
     "data": {
      "text/plain": [
       "['a', 'b', ' guido']"
      ]
     },
     "execution_count": 12,
     "metadata": {},
     "output_type": "execute_result"
    }
   ],
   "source": [
    "val.split(',') # sem a remoção do espaço em branco na string ' guido'"
   ]
  },
  {
   "cell_type": "markdown",
   "id": "47467226-595d-48f4-884a-4c9fa63bddcd",
   "metadata": {},
   "source": [
    "Com frequência, split é usado em conjunto com strip para remover espaços em\n",
    "branco (incluindo quebras de linha):"
   ]
  },
  {
   "cell_type": "code",
   "execution_count": 11,
   "id": "54471138-ac12-45fa-9613-81b3557723bd",
   "metadata": {},
   "outputs": [
    {
     "data": {
      "text/plain": [
       "['a', 'b', 'guido']"
      ]
     },
     "execution_count": 11,
     "metadata": {},
     "output_type": "execute_result"
    }
   ],
   "source": [
    "pieces = [x.strip() for x in val.split(',')]\n",
    "pieces"
   ]
  },
  {
   "cell_type": "code",
   "execution_count": 13,
   "id": "c1662725-9176-4860-b97d-f4dbe2e30706",
   "metadata": {},
   "outputs": [],
   "source": [
    "first, second, third = pieces"
   ]
  },
  {
   "cell_type": "code",
   "execution_count": 14,
   "id": "635ec120-ad54-45ea-aa57-f72a56c3ef05",
   "metadata": {},
   "outputs": [
    {
     "data": {
      "text/plain": [
       "'a::b::guido'"
      ]
     },
     "execution_count": 14,
     "metadata": {},
     "output_type": "execute_result"
    }
   ],
   "source": [
    "first + '::' + second + '::' + third"
   ]
  },
  {
   "cell_type": "markdown",
   "id": "bd73c33f-73ef-4b29-a165-e510ebc0d041",
   "metadata": {},
   "source": [
    "No entanto, esse não é um método genérico prático. Uma forma\n",
    "mais rápida e pythônica consiste em passar uma lista ou uma tupla\n",
    "para o método join na string '::':"
   ]
  },
  {
   "cell_type": "code",
   "execution_count": 15,
   "id": "156b91be-123c-41a0-8cff-d1a932e409c2",
   "metadata": {},
   "outputs": [
    {
     "data": {
      "text/plain": [
       "'a::b::guido'"
      ]
     },
     "execution_count": 15,
     "metadata": {},
     "output_type": "execute_result"
    }
   ],
   "source": [
    "'::'.join(pieces)"
   ]
  },
  {
   "cell_type": "markdown",
   "id": "fdad8fc3-2dd8-4c2d-829d-637d2b38c1b9",
   "metadata": {},
   "source": [
    "Outros métodos dizem respeito à localização de substrings. Usar a\n",
    "palavra reservada in de Python é a melhor maneira de detectar uma\n",
    "substring, embora index e find também possam ser utilizados:"
   ]
  },
  {
   "cell_type": "code",
   "execution_count": 17,
   "id": "35f5679d-1e11-4a68-8a13-4b0ad4b7f8a0",
   "metadata": {},
   "outputs": [
    {
     "data": {
      "text/plain": [
       "'a,b, guido'"
      ]
     },
     "execution_count": 17,
     "metadata": {},
     "output_type": "execute_result"
    }
   ],
   "source": [
    "val"
   ]
  },
  {
   "cell_type": "code",
   "execution_count": 18,
   "id": "a1fce0a6-c40a-49da-8b31-084e666c4868",
   "metadata": {},
   "outputs": [
    {
     "data": {
      "text/plain": [
       "True"
      ]
     },
     "execution_count": 18,
     "metadata": {},
     "output_type": "execute_result"
    }
   ],
   "source": [
    "'guido' in val"
   ]
  },
  {
   "cell_type": "code",
   "execution_count": 21,
   "id": "4d55af53-94ed-4826-b8f6-40535828509b",
   "metadata": {},
   "outputs": [
    {
     "data": {
      "text/plain": [
       "1"
      ]
     },
     "execution_count": 21,
     "metadata": {},
     "output_type": "execute_result"
    }
   ],
   "source": [
    "val.index(',')"
   ]
  },
  {
   "cell_type": "code",
   "execution_count": 23,
   "id": "e0fcad24-4e87-49b2-95e3-7ed7368109df",
   "metadata": {},
   "outputs": [
    {
     "data": {
      "text/plain": [
       "-1"
      ]
     },
     "execution_count": 23,
     "metadata": {},
     "output_type": "execute_result"
    }
   ],
   "source": [
    "val.find(':') # -1 -> indica que não foi encontrado"
   ]
  },
  {
   "cell_type": "code",
   "execution_count": 24,
   "id": "d900d3b1-cff0-4d48-851c-733542b49ced",
   "metadata": {},
   "outputs": [
    {
     "data": {
      "text/plain": [
       "2"
      ]
     },
     "execution_count": 24,
     "metadata": {},
     "output_type": "execute_result"
    }
   ],
   "source": [
    "val.count(',') # retorna o número de ocorrências de uma substring em particular."
   ]
  },
  {
   "cell_type": "markdown",
   "id": "31604a27-5c31-437f-858f-370dc3e0f2b6",
   "metadata": {},
   "source": [
    "**replace** substituirá as ocorrências de um padrão por outro. É\n",
    "comumente utilizado também para apagar padrões, passando uma\n",
    "string vazia:"
   ]
  },
  {
   "cell_type": "code",
   "execution_count": 25,
   "id": "70d2aa2a-4bc7-4935-828c-b2a0b7bc3a40",
   "metadata": {},
   "outputs": [
    {
     "data": {
      "text/plain": [
       "'a::b:: guido'"
      ]
     },
     "execution_count": 25,
     "metadata": {},
     "output_type": "execute_result"
    }
   ],
   "source": [
    "val.replace(',','::')"
   ]
  },
  {
   "cell_type": "code",
   "execution_count": 26,
   "id": "45a850fe-ba8f-46a4-a9dd-36a7d2b80149",
   "metadata": {},
   "outputs": [
    {
     "data": {
      "text/plain": [
       "'ab guido'"
      ]
     },
     "execution_count": 26,
     "metadata": {},
     "output_type": "execute_result"
    }
   ],
   "source": [
    "val.replace(',','')"
   ]
  },
  {
   "attachments": {
    "40939953-da89-45f0-9aec-0e51d13080cc.png": {
     "image/png": "[encoded data removed]"
    }
   },
   "cell_type": "markdown",
   "id": "a633a4c0-b0c4-416d-9485-d41d65a6448f",
   "metadata": {},
   "source": [
    "![image.png](attachment:40939953-da89-45f0-9aec-0e51d13080cc.png)"
   ]
  },
  {
   "cell_type": "markdown",
   "id": "f321713f-956f-4c32-8d89-ee5bc810c99e",
   "metadata": {},
   "source": [
    "## Expressões regulares\n",
    "---"
   ]
  },
  {
   "cell_type": "markdown",
   "id": "c3995eac-ce4c-44c1-9079-1ad84251e23f",
   "metadata": {},
   "source": [
    "* Uma breve introdução sobre expressões regulares:\n",
    "\n",
    "> correspondência;\n",
    "\n",
    "> substituição;\n",
    "\n",
    "> separação."
   ]
  },
  {
   "cell_type": "code",
   "execution_count": 1,
   "id": "812c3933-8a45-44a1-aa00-6a13e4498247",
   "metadata": {},
   "outputs": [],
   "source": [
    "import re"
   ]
  },
  {
   "cell_type": "code",
   "execution_count": 2,
   "id": "6e66a4d0-5f31-45f9-8dad-183c9612a3a1",
   "metadata": {},
   "outputs": [],
   "source": [
    "string = 'Este é um teste de expressões teste regulares'"
   ]
  },
  {
   "cell_type": "code",
   "execution_count": 3,
   "id": "69a0b5db-6197-46fc-abc8-771d1b1c1bd9",
   "metadata": {},
   "outputs": [
    {
     "data": {
      "text/plain": [
       "<re.Match object; span=(10, 15), match='teste'>"
      ]
     },
     "execution_count": 3,
     "metadata": {},
     "output_type": "execute_result"
    }
   ],
   "source": [
    "re.search(r'teste', string) #  r'digite seu texto aqui' é para ser uma entrda crua"
   ]
  },
  {
   "cell_type": "code",
   "execution_count": 4,
   "id": "5356c4da-a525-4860-9624-f98020ffdd2d",
   "metadata": {},
   "outputs": [
    {
     "data": {
      "text/plain": [
       "['teste', 'teste']"
      ]
     },
     "execution_count": 4,
     "metadata": {},
     "output_type": "execute_result"
    }
   ],
   "source": [
    "re.findall(r'teste',string)"
   ]
  },
  {
   "cell_type": "code",
   "execution_count": 5,
   "id": "15acdc79-379f-423a-bf7d-6790fc932f7c",
   "metadata": {},
   "outputs": [
    {
     "data": {
      "text/plain": [
       "'Este é um ABCD de expressões ABCD regulares'"
      ]
     },
     "execution_count": 5,
     "metadata": {},
     "output_type": "execute_result"
    }
   ],
   "source": [
    "re.sub(r'teste','ABCD',string)"
   ]
  },
  {
   "cell_type": "code",
   "execution_count": 6,
   "id": "95fd7695-98da-413a-aaae-8496cfa5bc09",
   "metadata": {},
   "outputs": [],
   "source": [
    "regexp = re.compile(r'teste')"
   ]
  },
  {
   "cell_type": "code",
   "execution_count": 7,
   "id": "53b9eb36-9fb6-46f5-927b-6d28e6f4dbbf",
   "metadata": {},
   "outputs": [
    {
     "data": {
      "text/plain": [
       "<re.Match object; span=(10, 15), match='teste'>"
      ]
     },
     "execution_count": 7,
     "metadata": {},
     "output_type": "execute_result"
    }
   ],
   "source": [
    "regexp.search(string)"
   ]
  },
  {
   "cell_type": "code",
   "execution_count": 8,
   "id": "5e2decb1-bd12-4021-bde8-9cc76b8b7dbe",
   "metadata": {},
   "outputs": [
    {
     "data": {
      "text/plain": [
       "['teste', 'teste']"
      ]
     },
     "execution_count": 8,
     "metadata": {},
     "output_type": "execute_result"
    }
   ],
   "source": [
    "regexp.findall(string)"
   ]
  },
  {
   "cell_type": "code",
   "execution_count": 9,
   "id": "1851798d-b3b7-44ee-9b7a-e1c3ed5fa38f",
   "metadata": {},
   "outputs": [
    {
     "data": {
      "text/plain": [
       "'Este é um DEF de expressões DEF regulares'"
      ]
     },
     "execution_count": 9,
     "metadata": {},
     "output_type": "execute_result"
    }
   ],
   "source": [
    "regexp.sub('DEF',string)"
   ]
  },
  {
   "cell_type": "markdown",
   "id": "9ac71dc0-8227-4a69-8cdb-5f2e139c38e1",
   "metadata": {},
   "source": [
    "Vamos analisar um exemplo simples: suponha\n",
    "que quiséssemos separar uma string com um número variável de\n",
    "caracteres de espaços em branco (tabulações, espaços e quebras\n",
    "de linha). A regex que descreve um ou mais caracteres para\n",
    "espaços em branco é **\\s+**:"
   ]
  },
  {
   "cell_type": "code",
   "execution_count": 10,
   "id": "6014d170-6bd0-4550-9581-59d82297a487",
   "metadata": {},
   "outputs": [],
   "source": [
    "text = \"foo bar\\t baz \\tqux\""
   ]
  },
  {
   "cell_type": "code",
   "execution_count": 11,
   "id": "c0c9c3ed-7c0e-47e2-8681-f95085eb9093",
   "metadata": {},
   "outputs": [
    {
     "data": {
      "text/plain": [
       "['foo', 'bar', 'baz', 'qux']"
      ]
     },
     "execution_count": 11,
     "metadata": {},
     "output_type": "execute_result"
    }
   ],
   "source": [
    "re.split('\\s+', text)"
   ]
  },
  {
   "cell_type": "markdown",
   "id": "fddf3300-8f2f-445d-b8a7-815753c61e8a",
   "metadata": {},
   "source": [
    "Quando chamamos re.split('\\s+', text), a expressão regular inicialmente\n",
    "é compilada; então seu método split é chamado no texto que lhe é\n",
    "passado. Podemos compilar a regex por conta própria com\n",
    "re.compile, criando um objeto regex reutilizável:"
   ]
  },
  {
   "cell_type": "code",
   "execution_count": 12,
   "id": "b2b0c6cb-bee2-4712-9b87-d7a0d586e376",
   "metadata": {},
   "outputs": [],
   "source": [
    "regex = re.compile('\\s+')"
   ]
  },
  {
   "cell_type": "code",
   "execution_count": 13,
   "id": "d0ccec75-54e4-457e-a824-eed01c5de265",
   "metadata": {},
   "outputs": [
    {
     "data": {
      "text/plain": [
       "['foo', 'bar', 'baz', 'qux']"
      ]
     },
     "execution_count": 13,
     "metadata": {},
     "output_type": "execute_result"
    }
   ],
   "source": [
    "regex.split(text)"
   ]
  },
  {
   "cell_type": "code",
   "execution_count": 14,
   "id": "869b798c-e9a1-4d67-a701-58e5a342fc4f",
   "metadata": {},
   "outputs": [
    {
     "data": {
      "text/plain": [
       "[' ', '\\t ', ' \\t']"
      ]
     },
     "execution_count": 14,
     "metadata": {},
     "output_type": "execute_result"
    }
   ],
   "source": [
    "regex.findall(text)"
   ]
  }
 ],
 "metadata": {
  "kernelspec": {
   "display_name": "Python 3",
   "language": "python",
   "name": "python3"
  },
  "language_info": {
   "codemirror_mode": {
    "name": "ipython",
    "version": 3
   },
   "file_extension": ".py",
   "mimetype": "text/x-python",
   "name": "python",
   "nbconvert_exporter": "python",
   "pygments_lexer": "ipython3",
   "version": "3.8.8"
  },
  "toc-autonumbering": true
 },
 "nbformat": 4,
 "nbformat_minor": 5
}
