{
 "cells": [
  {
   "attachments": {
    "image.png": {
     "image/png": "[encoded data removed]"
    }
   },
   "cell_type": "markdown",
   "id": "e4c7d4cb",
   "metadata": {},
   "source": [
    "# Módulo numpy\n",
    "---\n",
    "\n",
    "![image.png](attachment:image.png)\n",
    "\n",
    "* A biblioteca numpy é uma biblioteca de cálculo numéricos;\n",
    "* A documentaçãdo do [numpy](https://numpy.org/)."
   ]
  },
  {
   "cell_type": "markdown",
   "id": "134ab9ca",
   "metadata": {},
   "source": [
    "## Importações\n",
    "---"
   ]
  },
  {
   "cell_type": "code",
   "execution_count": 47,
   "id": "4aae0268",
   "metadata": {},
   "outputs": [],
   "source": [
    "import numpy as np\n",
    "import matplotlib.pyplot as plt"
   ]
  },
  {
   "cell_type": "markdown",
   "id": "e8fe6285",
   "metadata": {},
   "source": [
    "## Primeiro *array*\n",
    "---"
   ]
  },
  {
   "cell_type": "code",
   "execution_count": 48,
   "id": "7f9c0e51",
   "metadata": {},
   "outputs": [],
   "source": [
    "my_array =  np.array([1, 4, 5, 6, 7, 8])"
   ]
  },
  {
   "cell_type": "code",
   "execution_count": 49,
   "id": "1b10547b",
   "metadata": {},
   "outputs": [
    {
     "data": {
      "text/plain": [
       "array([1, 4, 5, 6, 7, 8])"
      ]
     },
     "execution_count": 49,
     "metadata": {},
     "output_type": "execute_result"
    }
   ],
   "source": [
    "my_array"
   ]
  },
  {
   "cell_type": "code",
   "execution_count": 50,
   "id": "69700f1e",
   "metadata": {},
   "outputs": [
    {
     "data": {
      "text/plain": [
       "numpy.ndarray"
      ]
     },
     "execution_count": 50,
     "metadata": {},
     "output_type": "execute_result"
    }
   ],
   "source": [
    "type(my_array)"
   ]
  },
  {
   "cell_type": "code",
   "execution_count": 51,
   "id": "f6c2553c",
   "metadata": {},
   "outputs": [
    {
     "name": "stdout",
     "output_type": "stream",
     "text": [
      "1\n",
      "4\n",
      "5\n",
      "6\n",
      "7\n",
      "8\n"
     ]
    }
   ],
   "source": [
    "for item in my_array:\n",
    "    print(item)"
   ]
  },
  {
   "cell_type": "markdown",
   "id": "2072328a",
   "metadata": {},
   "source": [
    "## Criando alguns arrays\n",
    "---\n"
   ]
  },
  {
   "cell_type": "code",
   "execution_count": 52,
   "id": "18593b5d",
   "metadata": {},
   "outputs": [
    {
     "data": {
      "text/plain": [
       "array([1, 6, 7, 9])"
      ]
     },
     "execution_count": 52,
     "metadata": {},
     "output_type": "execute_result"
    }
   ],
   "source": [
    "my_array2 = np.array((1, 6, 7, 9))\n",
    "my_array2"
   ]
  },
  {
   "cell_type": "code",
   "execution_count": 53,
   "id": "d78eaeef",
   "metadata": {},
   "outputs": [
    {
     "data": {
      "text/plain": [
       "array([[4, 6, 8, 9, 4, 8],\n",
       "       [5, 6, 8, 7, 9, 8]])"
      ]
     },
     "execution_count": 53,
     "metadata": {},
     "output_type": "execute_result"
    }
   ],
   "source": [
    "my_array3 = np.array([[4, 6, 8, 9, 4, 8], [5, 6, 8, 7, 9, 8]])\n",
    "my_array3"
   ]
  },
  {
   "cell_type": "code",
   "execution_count": 54,
   "id": "74b547db",
   "metadata": {},
   "outputs": [
    {
     "data": {
      "text/plain": [
       "(2, 6)"
      ]
     },
     "execution_count": 54,
     "metadata": {},
     "output_type": "execute_result"
    }
   ],
   "source": [
    "my_array3.shape # o atributo shape verifica a quantidade de linhas e colunas, retorna uma tupla"
   ]
  },
  {
   "cell_type": "markdown",
   "id": "4d04a582",
   "metadata": {},
   "source": [
    "## Verificando a velocidade do numpy\n",
    "---\n",
    "\n",
    "* A biblioteca numpy é muito superior ao python em termos de velocidade;\n",
    "\n",
    "* o método arange() == método range();\n",
    "\n",
    "* [arange](https://numpy.org/doc/stable/reference/generated/numpy.arange.html)"
   ]
  },
  {
   "cell_type": "code",
   "execution_count": 55,
   "id": "c4990f1b",
   "metadata": {},
   "outputs": [],
   "source": [
    "# criando um array numpy com 100000 elementos\n",
    "my_arr = np.arange(100000)"
   ]
  },
  {
   "cell_type": "code",
   "execution_count": 56,
   "id": "1d8ce265",
   "metadata": {},
   "outputs": [],
   "source": [
    "# criando um lista com 100000 elementos\n",
    "my_list = list(range(100000))"
   ]
  },
  {
   "cell_type": "markdown",
   "id": "34b0ed7a",
   "metadata": {},
   "source": [
    "* Verificando a velocidade do array"
   ]
  },
  {
   "cell_type": "code",
   "execution_count": 57,
   "id": "ad928fbe",
   "metadata": {},
   "outputs": [
    {
     "name": "stdout",
     "output_type": "stream",
     "text": [
      "Wall time: 1.99 ms\n"
     ]
    }
   ],
   "source": [
    "%time for _ in range(10): my_arr2 = my_arr * 2"
   ]
  },
  {
   "cell_type": "markdown",
   "id": "a5d1105a",
   "metadata": {},
   "source": [
    "* Verificando a velocidade do python padrão"
   ]
  },
  {
   "cell_type": "code",
   "execution_count": 58,
   "id": "aa64a9ef",
   "metadata": {},
   "outputs": [
    {
     "name": "stdout",
     "output_type": "stream",
     "text": [
      "Wall time: 20.9 ms\n"
     ]
    }
   ],
   "source": [
    "%time for _ in range(10): my_list2 = my_list * 2"
   ]
  },
  {
   "cell_type": "markdown",
   "id": "d67d70e0",
   "metadata": {},
   "source": [
    "* Esse resultado demonstra que a biblioteca numpy é muito superior na velocidade de cálculo do que a biblioteca padrão do python;"
   ]
  },
  {
   "cell_type": "markdown",
   "id": "504309f5",
   "metadata": {},
   "source": [
    "## Gerando dados aleatórios\n",
    "---\n",
    "\n",
    "[random.randn](https://numpy.org/doc/stable/reference/random/generated/numpy.random.randn.html)"
   ]
  },
  {
   "cell_type": "code",
   "execution_count": 59,
   "id": "51d4fa8f",
   "metadata": {},
   "outputs": [],
   "source": [
    "data = np.random.randn(2, 3)"
   ]
  },
  {
   "cell_type": "code",
   "execution_count": 60,
   "id": "84239401",
   "metadata": {
    "scrolled": true
   },
   "outputs": [
    {
     "data": {
      "text/plain": [
       "array([[ 1.65983038,  0.68269894, -0.5619286 ],\n",
       "       [-0.77435658, -1.32225812,  0.02631823]])"
      ]
     },
     "execution_count": 60,
     "metadata": {},
     "output_type": "execute_result"
    }
   ],
   "source": [
    "data"
   ]
  },
  {
   "cell_type": "code",
   "execution_count": 61,
   "id": "54bdfef8",
   "metadata": {},
   "outputs": [
    {
     "data": {
      "text/plain": [
       "array([[ 16.59830375,   6.82698936,  -5.61928598],\n",
       "       [ -7.7435658 , -13.22258122,   0.26318232]])"
      ]
     },
     "execution_count": 61,
     "metadata": {},
     "output_type": "execute_result"
    }
   ],
   "source": [
    "data * 10"
   ]
  },
  {
   "cell_type": "code",
   "execution_count": 62,
   "id": "88adbb24",
   "metadata": {},
   "outputs": [
    {
     "data": {
      "text/plain": [
       "array([[ 3.31966075,  1.36539787, -1.1238572 ],\n",
       "       [-1.54871316, -2.64451624,  0.05263646]])"
      ]
     },
     "execution_count": 62,
     "metadata": {},
     "output_type": "execute_result"
    }
   ],
   "source": [
    "data + data"
   ]
  },
  {
   "cell_type": "code",
   "execution_count": 63,
   "id": "295683eb",
   "metadata": {},
   "outputs": [],
   "source": [
    "data2 = 1 + np.random.randn()"
   ]
  },
  {
   "cell_type": "code",
   "execution_count": 64,
   "id": "16597146",
   "metadata": {
    "scrolled": true
   },
   "outputs": [
    {
     "data": {
      "text/plain": [
       "-1.5699476688424725"
      ]
     },
     "execution_count": 64,
     "metadata": {},
     "output_type": "execute_result"
    }
   ],
   "source": [
    "data2"
   ]
  },
  {
   "cell_type": "markdown",
   "id": "e92750d0",
   "metadata": {},
   "source": [
    "## Alguns atributos e observações\n",
    "---\n",
    "\n",
    "\n",
    "* shape -> nº de linhas, nº de colunas;\n",
    "\n",
    "* dtype -> tipo de dados;\n",
    "\n",
    "* ndarray deve ser do mesmo tipo de dados **(homogêneos)**;"
   ]
  },
  {
   "cell_type": "code",
   "execution_count": 65,
   "id": "205e14d9",
   "metadata": {},
   "outputs": [
    {
     "data": {
      "text/plain": [
       "(2, 3)"
      ]
     },
     "execution_count": 65,
     "metadata": {},
     "output_type": "execute_result"
    }
   ],
   "source": [
    "data.shape"
   ]
  },
  {
   "cell_type": "code",
   "execution_count": 66,
   "id": "127e70d0",
   "metadata": {},
   "outputs": [
    {
     "data": {
      "text/plain": [
       "dtype('float64')"
      ]
     },
     "execution_count": 66,
     "metadata": {},
     "output_type": "execute_result"
    }
   ],
   "source": [
    "data.dtype"
   ]
  },
  {
   "cell_type": "markdown",
   "id": "c30c57f3",
   "metadata": {},
   "source": [
    "## Criando arrays\n",
    "---\n",
    "\n",
    "* [np.array](https://numpy.org/doc/stable/reference/generated/numpy.array.html)"
   ]
  },
  {
   "cell_type": "code",
   "execution_count": 67,
   "id": "f0b50bfc",
   "metadata": {},
   "outputs": [],
   "source": [
    "data1 = [6, 7.6, 8, 0,5] # lista"
   ]
  },
  {
   "cell_type": "code",
   "execution_count": 68,
   "id": "7ffa8610",
   "metadata": {},
   "outputs": [],
   "source": [
    "arr1 = np.array(data1)  # criando o array a partir de uma lista"
   ]
  },
  {
   "cell_type": "code",
   "execution_count": 69,
   "id": "4624b459",
   "metadata": {},
   "outputs": [
    {
     "data": {
      "text/plain": [
       "array([6. , 7.6, 8. , 0. , 5. ])"
      ]
     },
     "execution_count": 69,
     "metadata": {},
     "output_type": "execute_result"
    }
   ],
   "source": [
    "arr1"
   ]
  },
  {
   "cell_type": "markdown",
   "id": "bbaf8edc",
   "metadata": {},
   "source": [
    "* Sequências aninhadas, como lista de listas de mesmo tamanho, serão convertidas em uma array multidimensional:"
   ]
  },
  {
   "cell_type": "code",
   "execution_count": 70,
   "id": "033d628e",
   "metadata": {},
   "outputs": [],
   "source": [
    "data2 = [[4,6,8,8],[4,5,6,8]]"
   ]
  },
  {
   "cell_type": "code",
   "execution_count": 71,
   "id": "fca50f7b",
   "metadata": {},
   "outputs": [],
   "source": [
    "arr2 = np.array(data2)"
   ]
  },
  {
   "cell_type": "code",
   "execution_count": 72,
   "id": "3f656032",
   "metadata": {},
   "outputs": [
    {
     "data": {
      "text/plain": [
       "array([[4, 6, 8, 8],\n",
       "       [4, 5, 6, 8]])"
      ]
     },
     "execution_count": 72,
     "metadata": {},
     "output_type": "execute_result"
    }
   ],
   "source": [
    "arr2"
   ]
  },
  {
   "cell_type": "markdown",
   "id": "55636270",
   "metadata": {},
   "source": [
    "* O atributo ndim -> indica a dimensão"
   ]
  },
  {
   "cell_type": "code",
   "execution_count": 73,
   "id": "9d3287e5",
   "metadata": {},
   "outputs": [
    {
     "data": {
      "text/plain": [
       "2"
      ]
     },
     "execution_count": 73,
     "metadata": {},
     "output_type": "execute_result"
    }
   ],
   "source": [
    "arr2.ndim"
   ]
  },
  {
   "cell_type": "markdown",
   "id": "14768fa9",
   "metadata": {},
   "source": [
    "* np.zeros, np.ones e np.empty"
   ]
  },
  {
   "cell_type": "code",
   "execution_count": 74,
   "id": "29fb3cee",
   "metadata": {},
   "outputs": [
    {
     "data": {
      "text/plain": [
       "array([[[0., 0.],\n",
       "        [0., 0.]],\n",
       "\n",
       "       [[0., 0.],\n",
       "        [0., 0.]]])"
      ]
     },
     "execution_count": 74,
     "metadata": {},
     "output_type": "execute_result"
    }
   ],
   "source": [
    "np.zeros((2,2,2))"
   ]
  },
  {
   "cell_type": "code",
   "execution_count": 75,
   "id": "eac138c3",
   "metadata": {},
   "outputs": [
    {
     "data": {
      "text/plain": [
       "2"
      ]
     },
     "execution_count": 75,
     "metadata": {},
     "output_type": "execute_result"
    }
   ],
   "source": [
    "np.zeros((2,2)).ndim"
   ]
  },
  {
   "cell_type": "markdown",
   "id": "3c814aa8",
   "metadata": {},
   "source": [
    "* np.identy"
   ]
  },
  {
   "cell_type": "code",
   "execution_count": 76,
   "id": "12c96a1f",
   "metadata": {
    "scrolled": true
   },
   "outputs": [
    {
     "data": {
      "text/plain": [
       "array([[1., 0., 0., 0.],\n",
       "       [0., 1., 0., 0.],\n",
       "       [0., 0., 1., 0.],\n",
       "       [0., 0., 0., 1.]])"
      ]
     },
     "execution_count": 76,
     "metadata": {},
     "output_type": "execute_result"
    }
   ],
   "source": [
    "np.identity(4)"
   ]
  },
  {
   "cell_type": "markdown",
   "id": "2bbe78f1",
   "metadata": {},
   "source": [
    "* Convertendo o tipo do dado no numpy"
   ]
  },
  {
   "cell_type": "code",
   "execution_count": 77,
   "id": "f8ad0e05",
   "metadata": {},
   "outputs": [],
   "source": [
    "arr = np.array([1, 2, 3, 4, 5])"
   ]
  },
  {
   "cell_type": "code",
   "execution_count": 78,
   "id": "d710437b",
   "metadata": {},
   "outputs": [
    {
     "data": {
      "text/plain": [
       "dtype('int32')"
      ]
     },
     "execution_count": 78,
     "metadata": {},
     "output_type": "execute_result"
    }
   ],
   "source": [
    "arr.dtype"
   ]
  },
  {
   "cell_type": "code",
   "execution_count": 79,
   "id": "98194fab",
   "metadata": {},
   "outputs": [],
   "source": [
    "float_arr = arr.astype(np.float64)"
   ]
  },
  {
   "cell_type": "code",
   "execution_count": 80,
   "id": "b9e7d7fc",
   "metadata": {
    "scrolled": true
   },
   "outputs": [
    {
     "data": {
      "text/plain": [
       "dtype('float64')"
      ]
     },
     "execution_count": 80,
     "metadata": {},
     "output_type": "execute_result"
    }
   ],
   "source": [
    "float_arr.dtype"
   ]
  },
  {
   "cell_type": "code",
   "execution_count": 81,
   "id": "29ed46b1",
   "metadata": {},
   "outputs": [
    {
     "data": {
      "text/plain": [
       "array([1, 2, 3, 4, 5])"
      ]
     },
     "execution_count": 81,
     "metadata": {},
     "output_type": "execute_result"
    }
   ],
   "source": [
    "arr"
   ]
  },
  {
   "cell_type": "markdown",
   "id": "acd48bc8",
   "metadata": {},
   "source": [
    "* Se for uma lista de números em formato strig"
   ]
  },
  {
   "cell_type": "code",
   "execution_count": 82,
   "id": "074de145",
   "metadata": {},
   "outputs": [],
   "source": [
    "numbers = ['1', '2', '5', '6', '8']"
   ]
  },
  {
   "cell_type": "code",
   "execution_count": 83,
   "id": "9e937b0c",
   "metadata": {},
   "outputs": [],
   "source": [
    "str_arr = np.array(numbers, dtype=np.string_)"
   ]
  },
  {
   "cell_type": "code",
   "execution_count": 84,
   "id": "73d9cee9",
   "metadata": {},
   "outputs": [
    {
     "data": {
      "text/plain": [
       "dtype('S1')"
      ]
     },
     "execution_count": 84,
     "metadata": {},
     "output_type": "execute_result"
    }
   ],
   "source": [
    "str_arr.dtype"
   ]
  },
  {
   "cell_type": "code",
   "execution_count": 85,
   "id": "04d91977",
   "metadata": {},
   "outputs": [
    {
     "data": {
      "text/plain": [
       "array([1., 2., 5., 6., 8.])"
      ]
     },
     "execution_count": 85,
     "metadata": {},
     "output_type": "execute_result"
    }
   ],
   "source": [
    "str_arr.astype(float)"
   ]
  },
  {
   "cell_type": "markdown",
   "id": "4b9847b1",
   "metadata": {},
   "source": [
    "## Operações aritmética com arrays nump\n",
    "---"
   ]
  },
  {
   "cell_type": "code",
   "execution_count": 86,
   "id": "e25db7ed",
   "metadata": {},
   "outputs": [],
   "source": [
    "arr = np.array([[1, 2, 3], [4, 5, 6]], dtype=np.float64) # especificando o tipo do formato"
   ]
  },
  {
   "cell_type": "code",
   "execution_count": 87,
   "id": "40e8fd04",
   "metadata": {},
   "outputs": [
    {
     "data": {
      "text/plain": [
       "array([[1., 2., 3.],\n",
       "       [4., 5., 6.]])"
      ]
     },
     "execution_count": 87,
     "metadata": {},
     "output_type": "execute_result"
    }
   ],
   "source": [
    "arr"
   ]
  },
  {
   "cell_type": "code",
   "execution_count": 88,
   "id": "5555a397",
   "metadata": {},
   "outputs": [
    {
     "data": {
      "text/plain": [
       "array([[ 1.,  4.,  9.],\n",
       "       [16., 25., 36.]])"
      ]
     },
     "execution_count": 88,
     "metadata": {},
     "output_type": "execute_result"
    }
   ],
   "source": [
    "arr * arr"
   ]
  },
  {
   "cell_type": "code",
   "execution_count": 89,
   "id": "26b3be84",
   "metadata": {},
   "outputs": [
    {
     "data": {
      "text/plain": [
       "array([[0., 0., 0.],\n",
       "       [0., 0., 0.]])"
      ]
     },
     "execution_count": 89,
     "metadata": {},
     "output_type": "execute_result"
    }
   ],
   "source": [
    "arr - arr"
   ]
  },
  {
   "cell_type": "code",
   "execution_count": 90,
   "id": "098914fc",
   "metadata": {},
   "outputs": [
    {
     "data": {
      "text/plain": [
       "array([[1.        , 0.5       , 0.33333333],\n",
       "       [0.25      , 0.2       , 0.16666667]])"
      ]
     },
     "execution_count": 90,
     "metadata": {},
     "output_type": "execute_result"
    }
   ],
   "source": [
    "1 / arr"
   ]
  },
  {
   "cell_type": "code",
   "execution_count": 91,
   "id": "471f21fa",
   "metadata": {},
   "outputs": [
    {
     "data": {
      "text/plain": [
       "array([[1.        , 1.41421356, 1.73205081],\n",
       "       [2.        , 2.23606798, 2.44948974]])"
      ]
     },
     "execution_count": 91,
     "metadata": {},
     "output_type": "execute_result"
    }
   ],
   "source": [
    "arr**0.5"
   ]
  },
  {
   "cell_type": "markdown",
   "id": "0c3cc138",
   "metadata": {},
   "source": [
    "* A comparação entre dois arrays de mesmo tamanho gera um array booleano"
   ]
  },
  {
   "cell_type": "code",
   "execution_count": 92,
   "id": "8e0dae3e",
   "metadata": {},
   "outputs": [],
   "source": [
    "arr2 = np.random.randn(2,3)"
   ]
  },
  {
   "cell_type": "code",
   "execution_count": 93,
   "id": "5ae681a8",
   "metadata": {},
   "outputs": [
    {
     "data": {
      "text/plain": [
       "array([[1., 2., 3.],\n",
       "       [4., 5., 6.]])"
      ]
     },
     "execution_count": 93,
     "metadata": {},
     "output_type": "execute_result"
    }
   ],
   "source": [
    "arr"
   ]
  },
  {
   "cell_type": "code",
   "execution_count": 94,
   "id": "ac128242",
   "metadata": {},
   "outputs": [
    {
     "data": {
      "text/plain": [
       "array([[ 0.61051763, -0.05537216,  0.46294887],\n",
       "       [-0.13423034,  0.54667854, -0.85137977]])"
      ]
     },
     "execution_count": 94,
     "metadata": {},
     "output_type": "execute_result"
    }
   ],
   "source": [
    "arr2"
   ]
  },
  {
   "cell_type": "code",
   "execution_count": 95,
   "id": "b6b74d58",
   "metadata": {},
   "outputs": [
    {
     "data": {
      "text/plain": [
       "array([[ True,  True,  True],\n",
       "       [ True,  True,  True]])"
      ]
     },
     "execution_count": 95,
     "metadata": {},
     "output_type": "execute_result"
    }
   ],
   "source": [
    "arr > arr2"
   ]
  },
  {
   "cell_type": "markdown",
   "id": "7e206792",
   "metadata": {},
   "source": [
    "### Indexação básica e fatiamento\n",
    "---"
   ]
  },
  {
   "cell_type": "code",
   "execution_count": 96,
   "id": "e93d4375",
   "metadata": {},
   "outputs": [],
   "source": [
    "arr = np.arange(10)"
   ]
  },
  {
   "cell_type": "code",
   "execution_count": 97,
   "id": "c1d815eb",
   "metadata": {},
   "outputs": [
    {
     "data": {
      "text/plain": [
       "array([0, 1, 2, 3, 4, 5, 6, 7, 8, 9])"
      ]
     },
     "execution_count": 97,
     "metadata": {},
     "output_type": "execute_result"
    }
   ],
   "source": [
    "arr"
   ]
  },
  {
   "cell_type": "code",
   "execution_count": 98,
   "id": "43feb440",
   "metadata": {},
   "outputs": [
    {
     "data": {
      "text/plain": [
       "5"
      ]
     },
     "execution_count": 98,
     "metadata": {},
     "output_type": "execute_result"
    }
   ],
   "source": [
    "arr[5]"
   ]
  },
  {
   "cell_type": "code",
   "execution_count": 99,
   "id": "9fab0d41",
   "metadata": {},
   "outputs": [
    {
     "data": {
      "text/plain": [
       "array([5, 6, 7])"
      ]
     },
     "execution_count": 99,
     "metadata": {},
     "output_type": "execute_result"
    }
   ],
   "source": [
    "arr[5:8]"
   ]
  },
  {
   "cell_type": "code",
   "execution_count": 100,
   "id": "48d6733b",
   "metadata": {},
   "outputs": [],
   "source": [
    "arr[5:8] = 12"
   ]
  },
  {
   "cell_type": "code",
   "execution_count": 101,
   "id": "d560d387",
   "metadata": {},
   "outputs": [
    {
     "data": {
      "text/plain": [
       "array([ 0,  1,  2,  3,  4, 12, 12, 12,  8,  9])"
      ]
     },
     "execution_count": 101,
     "metadata": {},
     "output_type": "execute_result"
    }
   ],
   "source": [
    "arr"
   ]
  },
  {
   "cell_type": "markdown",
   "id": "8624db83",
   "metadata": {},
   "source": [
    "* Criando uma fatia do array"
   ]
  },
  {
   "cell_type": "code",
   "execution_count": 102,
   "id": "1667e591",
   "metadata": {},
   "outputs": [],
   "source": [
    "arr_slice = arr[5:8]"
   ]
  },
  {
   "cell_type": "code",
   "execution_count": 103,
   "id": "38cd559a",
   "metadata": {},
   "outputs": [
    {
     "data": {
      "text/plain": [
       "array([12, 12, 12])"
      ]
     },
     "execution_count": 103,
     "metadata": {},
     "output_type": "execute_result"
    }
   ],
   "source": [
    "arr_slice"
   ]
  },
  {
   "cell_type": "code",
   "execution_count": 104,
   "id": "fa7f8975",
   "metadata": {},
   "outputs": [],
   "source": [
    "arr_slice[1] = 14578"
   ]
  },
  {
   "cell_type": "markdown",
   "id": "7d272f57",
   "metadata": {},
   "source": [
    "* A alteração do slice -> altera o array original\n",
    "\n",
    "Para não alterar use .copy()"
   ]
  },
  {
   "cell_type": "code",
   "execution_count": 105,
   "id": "41adee00",
   "metadata": {},
   "outputs": [
    {
     "data": {
      "text/plain": [
       "array([    0,     1,     2,     3,     4,    12, 14578,    12,     8,\n",
       "           9])"
      ]
     },
     "execution_count": 105,
     "metadata": {},
     "output_type": "execute_result"
    }
   ],
   "source": [
    "arr"
   ]
  },
  {
   "cell_type": "markdown",
   "id": "6d4a5b07",
   "metadata": {},
   "source": [
    "* Acessando array multi-dimensionais"
   ]
  },
  {
   "cell_type": "code",
   "execution_count": 106,
   "id": "f3be61b3",
   "metadata": {},
   "outputs": [],
   "source": [
    "array2d = 6 + np.random.randn(3,3)"
   ]
  },
  {
   "cell_type": "code",
   "execution_count": 107,
   "id": "fd0d98e1",
   "metadata": {},
   "outputs": [
    {
     "data": {
      "text/plain": [
       "array([[6.45998951, 7.0232673 , 6.48509119],\n",
       "       [5.58796855, 7.00812732, 6.20604041],\n",
       "       [5.6972192 , 3.71905267, 5.2728272 ]])"
      ]
     },
     "execution_count": 107,
     "metadata": {},
     "output_type": "execute_result"
    }
   ],
   "source": [
    "array2d"
   ]
  },
  {
   "cell_type": "code",
   "execution_count": 108,
   "id": "cf020351",
   "metadata": {},
   "outputs": [
    {
     "data": {
      "text/plain": [
       "array([5.58796855, 7.00812732, 6.20604041])"
      ]
     },
     "execution_count": 108,
     "metadata": {},
     "output_type": "execute_result"
    }
   ],
   "source": [
    "array2d[1]"
   ]
  },
  {
   "cell_type": "code",
   "execution_count": 109,
   "id": "48997090",
   "metadata": {},
   "outputs": [
    {
     "data": {
      "text/plain": [
       "7.008127323614816"
      ]
     },
     "execution_count": 109,
     "metadata": {},
     "output_type": "execute_result"
    }
   ],
   "source": [
    "array2d[1][1]"
   ]
  },
  {
   "cell_type": "code",
   "execution_count": 110,
   "id": "450d2322",
   "metadata": {},
   "outputs": [
    {
     "data": {
      "text/plain": [
       "7.008127323614816"
      ]
     },
     "execution_count": 110,
     "metadata": {},
     "output_type": "execute_result"
    }
   ],
   "source": [
    "array2d[1,1]"
   ]
  },
  {
   "cell_type": "markdown",
   "id": "26bdb9a1",
   "metadata": {},
   "source": [
    "* EIXO = 0 -> LINHAS\n",
    "* EIXO = 1 -> COLUNAS"
   ]
  },
  {
   "cell_type": "code",
   "execution_count": 111,
   "id": "e0469061",
   "metadata": {},
   "outputs": [],
   "source": [
    "arr3d = np.random.randn(2,3,2)"
   ]
  },
  {
   "cell_type": "code",
   "execution_count": 112,
   "id": "2704c66a",
   "metadata": {},
   "outputs": [
    {
     "data": {
      "text/plain": [
       "array([[[ 0.46567226,  0.40412892],\n",
       "        [ 0.91103087,  0.33342832],\n",
       "        [-0.34864627, -0.50091164]],\n",
       "\n",
       "       [[-0.73412702,  0.78734816],\n",
       "        [ 0.6147177 ,  0.98732588],\n",
       "        [-0.1485065 ,  0.32881321]]])"
      ]
     },
     "execution_count": 112,
     "metadata": {},
     "output_type": "execute_result"
    }
   ],
   "source": [
    "arr3d"
   ]
  },
  {
   "cell_type": "code",
   "execution_count": 113,
   "id": "ad7c6ab2",
   "metadata": {},
   "outputs": [
    {
     "data": {
      "text/plain": [
       "array([[ 0.46567226,  0.40412892],\n",
       "       [ 0.91103087,  0.33342832],\n",
       "       [-0.34864627, -0.50091164]])"
      ]
     },
     "execution_count": 113,
     "metadata": {},
     "output_type": "execute_result"
    }
   ],
   "source": [
    "arr3d[0]"
   ]
  },
  {
   "cell_type": "code",
   "execution_count": 114,
   "id": "9a24a99c",
   "metadata": {},
   "outputs": [],
   "source": [
    "arr3d[0] = 42"
   ]
  },
  {
   "cell_type": "code",
   "execution_count": 115,
   "id": "1c48f862",
   "metadata": {},
   "outputs": [
    {
     "data": {
      "text/plain": [
       "array([[[42.        , 42.        ],\n",
       "        [42.        , 42.        ],\n",
       "        [42.        , 42.        ]],\n",
       "\n",
       "       [[-0.73412702,  0.78734816],\n",
       "        [ 0.6147177 ,  0.98732588],\n",
       "        [-0.1485065 ,  0.32881321]]])"
      ]
     },
     "execution_count": 115,
     "metadata": {},
     "output_type": "execute_result"
    }
   ],
   "source": [
    "arr3d"
   ]
  },
  {
   "cell_type": "markdown",
   "id": "99cde864",
   "metadata": {},
   "source": [
    "## Indexando com fatias\n",
    "---\n",
    "\n",
    "> Array bidimensionais;\n",
    "\n",
    "**OBS**:Para arrays de uma dimensão, o fatiamento é igual ao tratameto de listas. "
   ]
  },
  {
   "cell_type": "code",
   "execution_count": 116,
   "id": "475bcc4f",
   "metadata": {},
   "outputs": [],
   "source": [
    "index_array = 5 + 2*np.random.randn(4,3)"
   ]
  },
  {
   "cell_type": "code",
   "execution_count": 117,
   "id": "97679fce",
   "metadata": {},
   "outputs": [
    {
     "data": {
      "text/plain": [
       "array([[4.68601442, 3.45502245, 3.27386189],\n",
       "       [3.52833066, 7.66538799, 5.46186595],\n",
       "       [4.87044468, 5.70218414, 5.76389234],\n",
       "       [5.63362647, 6.30942234, 5.19964417]])"
      ]
     },
     "execution_count": 117,
     "metadata": {},
     "output_type": "execute_result"
    }
   ],
   "source": [
    "index_array"
   ]
  },
  {
   "cell_type": "code",
   "execution_count": 118,
   "id": "d4614f8f",
   "metadata": {},
   "outputs": [
    {
     "data": {
      "text/plain": [
       "array([[3.52833066, 7.66538799, 5.46186595],\n",
       "       [4.87044468, 5.70218414, 5.76389234],\n",
       "       [5.63362647, 6.30942234, 5.19964417]])"
      ]
     },
     "execution_count": 118,
     "metadata": {},
     "output_type": "execute_result"
    }
   ],
   "source": [
    "index_array[1:]"
   ]
  },
  {
   "cell_type": "code",
   "execution_count": 119,
   "id": "f57f49ea",
   "metadata": {},
   "outputs": [
    {
     "data": {
      "text/plain": [
       "array([[3.52833066, 7.66538799, 5.46186595],\n",
       "       [4.87044468, 5.70218414, 5.76389234]])"
      ]
     },
     "execution_count": 119,
     "metadata": {},
     "output_type": "execute_result"
    }
   ],
   "source": [
    "index_array[1:3]"
   ]
  },
  {
   "cell_type": "code",
   "execution_count": 120,
   "id": "90f543d7",
   "metadata": {},
   "outputs": [
    {
     "data": {
      "text/plain": [
       "array([[7.66538799, 5.46186595],\n",
       "       [5.70218414, 5.76389234],\n",
       "       [6.30942234, 5.19964417]])"
      ]
     },
     "execution_count": 120,
     "metadata": {},
     "output_type": "execute_result"
    }
   ],
   "source": [
    "index_array[1:,1:]"
   ]
  },
  {
   "cell_type": "markdown",
   "id": "aa3f34b5",
   "metadata": {},
   "source": [
    "## Indexação booleana\n",
    "---"
   ]
  },
  {
   "cell_type": "code",
   "execution_count": 121,
   "id": "34beb482",
   "metadata": {},
   "outputs": [],
   "source": [
    "names = np.array(['Bob','Joe','Will','Bob','Will','Joe','Joe'])"
   ]
  },
  {
   "cell_type": "code",
   "execution_count": 122,
   "id": "283e0f16",
   "metadata": {},
   "outputs": [],
   "source": [
    "data = np.random.randn(7,4)"
   ]
  },
  {
   "cell_type": "code",
   "execution_count": 123,
   "id": "b01b4954",
   "metadata": {},
   "outputs": [
    {
     "data": {
      "text/plain": [
       "array([[-0.34417375, -0.85248371, -2.36775038,  1.60015245],\n",
       "       [-0.7589333 ,  0.90692024, -0.6734658 , -0.22264656],\n",
       "       [-0.66539566, -0.46062086,  1.49154134,  0.29611854],\n",
       "       [-1.25501803,  1.61568819, -1.55496767, -0.23793563],\n",
       "       [-0.32957208,  0.41582529,  0.62482678,  1.4268776 ],\n",
       "       [-1.17039941,  0.10003141,  0.95417875,  0.46062902],\n",
       "       [-0.78874787, -2.95621378,  0.77610816, -0.82498765]])"
      ]
     },
     "execution_count": 123,
     "metadata": {},
     "output_type": "execute_result"
    }
   ],
   "source": [
    "data"
   ]
  },
  {
   "cell_type": "code",
   "execution_count": 124,
   "id": "bc6ca473",
   "metadata": {},
   "outputs": [
    {
     "data": {
      "text/plain": [
       "array([ True, False, False,  True, False, False, False])"
      ]
     },
     "execution_count": 124,
     "metadata": {},
     "output_type": "execute_result"
    }
   ],
   "source": [
    "names == 'Bob'"
   ]
  },
  {
   "cell_type": "code",
   "execution_count": 125,
   "id": "e0e297f8",
   "metadata": {},
   "outputs": [
    {
     "data": {
      "text/plain": [
       "array([[-0.34417375, -0.85248371, -2.36775038,  1.60015245],\n",
       "       [-1.25501803,  1.61568819, -1.55496767, -0.23793563]])"
      ]
     },
     "execution_count": 125,
     "metadata": {},
     "output_type": "execute_result"
    }
   ],
   "source": [
    "data[names=='Bob'] # gera um array onde tem True"
   ]
  },
  {
   "cell_type": "markdown",
   "id": "09c44703",
   "metadata": {},
   "source": [
    "## Transposição de arrays e troca de eixos\n",
    "---\n",
    "\n",
    "- .transpose(); <br>\n",
    "- .T -> atributo;"
   ]
  },
  {
   "cell_type": "code",
   "execution_count": 126,
   "id": "28580ead",
   "metadata": {},
   "outputs": [],
   "source": [
    "arr = np.arange(15).reshape((3,5))"
   ]
  },
  {
   "cell_type": "code",
   "execution_count": 127,
   "id": "384cbcb7",
   "metadata": {},
   "outputs": [
    {
     "data": {
      "text/plain": [
       "array([[ 0,  1,  2,  3,  4],\n",
       "       [ 5,  6,  7,  8,  9],\n",
       "       [10, 11, 12, 13, 14]])"
      ]
     },
     "execution_count": 127,
     "metadata": {},
     "output_type": "execute_result"
    }
   ],
   "source": [
    "arr"
   ]
  },
  {
   "cell_type": "code",
   "execution_count": 128,
   "id": "8d3c67ec",
   "metadata": {},
   "outputs": [
    {
     "data": {
      "text/plain": [
       "array([[ 0,  5, 10],\n",
       "       [ 1,  6, 11],\n",
       "       [ 2,  7, 12],\n",
       "       [ 3,  8, 13],\n",
       "       [ 4,  9, 14]])"
      ]
     },
     "execution_count": 128,
     "metadata": {},
     "output_type": "execute_result"
    }
   ],
   "source": [
    "arr.T # transpondo a matriz pelo atributo"
   ]
  },
  {
   "cell_type": "code",
   "execution_count": 129,
   "id": "8efaa483",
   "metadata": {},
   "outputs": [
    {
     "data": {
      "text/plain": [
       "array([[ 0,  5, 10],\n",
       "       [ 1,  6, 11],\n",
       "       [ 2,  7, 12],\n",
       "       [ 3,  8, 13],\n",
       "       [ 4,  9, 14]])"
      ]
     },
     "execution_count": 129,
     "metadata": {},
     "output_type": "execute_result"
    }
   ],
   "source": [
    "arr.transpose() # transpondo a matriz pelo método"
   ]
  },
  {
   "cell_type": "code",
   "execution_count": 130,
   "id": "ae88e43c",
   "metadata": {},
   "outputs": [],
   "source": [
    "arr = np.random.randn(6,3)"
   ]
  },
  {
   "cell_type": "code",
   "execution_count": 131,
   "id": "de2e2e23",
   "metadata": {},
   "outputs": [
    {
     "data": {
      "text/plain": [
       "array([[-1.16263316, -1.51718188,  1.19109115],\n",
       "       [-0.1150923 ,  0.89631578,  0.22892724],\n",
       "       [-1.3723989 , -0.78924768,  2.02586391],\n",
       "       [-0.50377154, -0.28088381,  0.03153561],\n",
       "       [-0.93715408,  1.2873396 , -0.57873561],\n",
       "       [-0.43713065, -1.38590893, -2.32299197]])"
      ]
     },
     "execution_count": 131,
     "metadata": {},
     "output_type": "execute_result"
    }
   ],
   "source": [
    "arr"
   ]
  },
  {
   "cell_type": "code",
   "execution_count": 132,
   "id": "27f67042",
   "metadata": {},
   "outputs": [
    {
     "data": {
      "text/plain": [
       "array([[ 4.57156759,  2.28481856, -2.64951456],\n",
       "       [ 2.28481856,  7.38501725, -0.73525101],\n",
       "       [-2.64951456, -0.73525101, 11.30745144]])"
      ]
     },
     "execution_count": 132,
     "metadata": {},
     "output_type": "execute_result"
    }
   ],
   "source": [
    "np.dot(arr.T,arr) # .dot() realiza a multiplicação de matrizes"
   ]
  },
  {
   "cell_type": "markdown",
   "id": "f09eff11",
   "metadata": {},
   "source": [
    "## Funções universais: funções rápidas de arrays para todos os elementos\n",
    "---\n",
    "\n",
    "_ufunc_ : é uma função que executa operações em todos os membros do array;\n",
    "\n",
    "* sqrt()\n",
    "* exp()"
   ]
  },
  {
   "cell_type": "code",
   "execution_count": 133,
   "id": "5b6f33bf",
   "metadata": {},
   "outputs": [],
   "source": [
    "arr = np.arange(10)"
   ]
  },
  {
   "cell_type": "code",
   "execution_count": 134,
   "id": "22809f7e",
   "metadata": {},
   "outputs": [
    {
     "data": {
      "text/plain": [
       "array([0, 1, 2, 3, 4, 5, 6, 7, 8, 9])"
      ]
     },
     "execution_count": 134,
     "metadata": {},
     "output_type": "execute_result"
    }
   ],
   "source": [
    "arr"
   ]
  },
  {
   "cell_type": "code",
   "execution_count": 135,
   "id": "431f9bd4",
   "metadata": {},
   "outputs": [
    {
     "data": {
      "text/plain": [
       "array([0.        , 1.        , 1.41421356, 1.73205081, 2.        ,\n",
       "       2.23606798, 2.44948974, 2.64575131, 2.82842712, 3.        ])"
      ]
     },
     "execution_count": 135,
     "metadata": {},
     "output_type": "execute_result"
    }
   ],
   "source": [
    "np.sqrt(arr)"
   ]
  },
  {
   "cell_type": "code",
   "execution_count": 136,
   "id": "ce9ddd1d",
   "metadata": {},
   "outputs": [
    {
     "data": {
      "text/plain": [
       "array([1.00000000e+00, 2.71828183e+00, 7.38905610e+00, 2.00855369e+01,\n",
       "       5.45981500e+01, 1.48413159e+02, 4.03428793e+02, 1.09663316e+03,\n",
       "       2.98095799e+03, 8.10308393e+03])"
      ]
     },
     "execution_count": 136,
     "metadata": {},
     "output_type": "execute_result"
    }
   ],
   "source": [
    "np.exp(arr)"
   ]
  },
  {
   "cell_type": "markdown",
   "id": "ce6494b0",
   "metadata": {},
   "source": [
    "* Essas funções utilizadas acima são chamadas de unárias"
   ]
  },
  {
   "cell_type": "code",
   "execution_count": 137,
   "id": "38521dc7",
   "metadata": {},
   "outputs": [],
   "source": [
    "x = np.random.rand(8)"
   ]
  },
  {
   "cell_type": "code",
   "execution_count": 138,
   "id": "b916482c",
   "metadata": {},
   "outputs": [
    {
     "data": {
      "text/plain": [
       "array([0.82504891, 0.09220049, 0.96756219, 0.95348062, 0.26032958,\n",
       "       0.02938564, 0.64654167, 0.09489036])"
      ]
     },
     "execution_count": 138,
     "metadata": {},
     "output_type": "execute_result"
    }
   ],
   "source": [
    "x"
   ]
  },
  {
   "cell_type": "code",
   "execution_count": 139,
   "id": "24069a77",
   "metadata": {},
   "outputs": [],
   "source": [
    "y = np.random.rand(8)"
   ]
  },
  {
   "cell_type": "code",
   "execution_count": 140,
   "id": "d02e68c3",
   "metadata": {},
   "outputs": [
    {
     "data": {
      "text/plain": [
       "array([0.996919  , 0.88747459, 0.79583209, 0.5127349 , 0.65863233,\n",
       "       0.13207687, 0.32751544, 0.5049299 ])"
      ]
     },
     "execution_count": 140,
     "metadata": {},
     "output_type": "execute_result"
    }
   ],
   "source": [
    "y"
   ]
  },
  {
   "cell_type": "code",
   "execution_count": 141,
   "id": "65f58b3e",
   "metadata": {},
   "outputs": [
    {
     "data": {
      "text/plain": [
       "array([0.996919  , 0.88747459, 0.96756219, 0.95348062, 0.65863233,\n",
       "       0.13207687, 0.64654167, 0.5049299 ])"
      ]
     },
     "execution_count": 141,
     "metadata": {},
     "output_type": "execute_result"
    }
   ],
   "source": [
    "np.maximum(x,y)"
   ]
  },
  {
   "cell_type": "markdown",
   "id": "51a48136",
   "metadata": {},
   "source": [
    "* _ufunc_ -> **.modf** - pode devolver várias arrays"
   ]
  },
  {
   "cell_type": "code",
   "execution_count": 142,
   "id": "70def934",
   "metadata": {},
   "outputs": [],
   "source": [
    "arr = np.random.randn(7)*5"
   ]
  },
  {
   "cell_type": "code",
   "execution_count": 143,
   "id": "fd723149",
   "metadata": {},
   "outputs": [
    {
     "data": {
      "text/plain": [
       "array([-9.42295395,  6.72267023,  5.00331229,  1.12366963, -2.81039677,\n",
       "       17.09298923, -6.03868479])"
      ]
     },
     "execution_count": 143,
     "metadata": {},
     "output_type": "execute_result"
    }
   ],
   "source": [
    "arr"
   ]
  },
  {
   "cell_type": "code",
   "execution_count": 144,
   "id": "d12825df",
   "metadata": {},
   "outputs": [],
   "source": [
    "remainder, whole_part = np.modf(arr)"
   ]
  },
  {
   "cell_type": "code",
   "execution_count": 145,
   "id": "402ebd15",
   "metadata": {},
   "outputs": [
    {
     "data": {
      "text/plain": [
       "array([-0.42295395,  0.72267023,  0.00331229,  0.12366963, -0.81039677,\n",
       "        0.09298923, -0.03868479])"
      ]
     },
     "execution_count": 145,
     "metadata": {},
     "output_type": "execute_result"
    }
   ],
   "source": [
    "remainder"
   ]
  },
  {
   "cell_type": "code",
   "execution_count": 146,
   "id": "9c15b05a",
   "metadata": {},
   "outputs": [
    {
     "data": {
      "text/plain": [
       "array([-9.,  6.,  5.,  1., -2., 17., -6.])"
      ]
     },
     "execution_count": 146,
     "metadata": {},
     "output_type": "execute_result"
    }
   ],
   "source": [
    "whole_part"
   ]
  },
  {
   "cell_type": "markdown",
   "id": "7cfb6b0f",
   "metadata": {},
   "source": [
    "### Programação orientada a arrays\n",
    "---\n"
   ]
  },
  {
   "cell_type": "code",
   "execution_count": 147,
   "id": "0e0ee090",
   "metadata": {},
   "outputs": [],
   "source": [
    "points = np.arange(-5, 5, 0.01)"
   ]
  },
  {
   "cell_type": "code",
   "execution_count": 148,
   "id": "5f6e3ec3",
   "metadata": {},
   "outputs": [],
   "source": [
    "xs, ys = np.meshgrid(points,points)"
   ]
  },
  {
   "cell_type": "code",
   "execution_count": 149,
   "id": "7c2189b6",
   "metadata": {},
   "outputs": [
    {
     "data": {
      "text/plain": [
       "array([[-5.  , -4.99, -4.98, ...,  4.97,  4.98,  4.99],\n",
       "       [-5.  , -4.99, -4.98, ...,  4.97,  4.98,  4.99],\n",
       "       [-5.  , -4.99, -4.98, ...,  4.97,  4.98,  4.99],\n",
       "       ...,\n",
       "       [-5.  , -4.99, -4.98, ...,  4.97,  4.98,  4.99],\n",
       "       [-5.  , -4.99, -4.98, ...,  4.97,  4.98,  4.99],\n",
       "       [-5.  , -4.99, -4.98, ...,  4.97,  4.98,  4.99]])"
      ]
     },
     "execution_count": 149,
     "metadata": {},
     "output_type": "execute_result"
    }
   ],
   "source": [
    "xs"
   ]
  },
  {
   "cell_type": "code",
   "execution_count": 150,
   "id": "331e588e",
   "metadata": {},
   "outputs": [
    {
     "data": {
      "text/plain": [
       "array([[-5.  , -5.  , -5.  , ..., -5.  , -5.  , -5.  ],\n",
       "       [-4.99, -4.99, -4.99, ..., -4.99, -4.99, -4.99],\n",
       "       [-4.98, -4.98, -4.98, ..., -4.98, -4.98, -4.98],\n",
       "       ...,\n",
       "       [ 4.97,  4.97,  4.97, ...,  4.97,  4.97,  4.97],\n",
       "       [ 4.98,  4.98,  4.98, ...,  4.98,  4.98,  4.98],\n",
       "       [ 4.99,  4.99,  4.99, ...,  4.99,  4.99,  4.99]])"
      ]
     },
     "execution_count": 150,
     "metadata": {},
     "output_type": "execute_result"
    }
   ],
   "source": [
    "ys"
   ]
  },
  {
   "cell_type": "code",
   "execution_count": 151,
   "id": "e124caa1",
   "metadata": {},
   "outputs": [],
   "source": [
    "z = np.sqrt(xs**2 + ys**2)"
   ]
  },
  {
   "cell_type": "code",
   "execution_count": 152,
   "id": "606a1e08",
   "metadata": {},
   "outputs": [
    {
     "data": {
      "text/plain": [
       "array([[7.07106781, 7.06400028, 7.05693985, ..., 7.04988652, 7.05693985,\n",
       "        7.06400028],\n",
       "       [7.06400028, 7.05692568, 7.04985815, ..., 7.04279774, 7.04985815,\n",
       "        7.05692568],\n",
       "       [7.05693985, 7.04985815, 7.04278354, ..., 7.03571603, 7.04278354,\n",
       "        7.04985815],\n",
       "       ...,\n",
       "       [7.04988652, 7.04279774, 7.03571603, ..., 7.0286414 , 7.03571603,\n",
       "        7.04279774],\n",
       "       [7.05693985, 7.04985815, 7.04278354, ..., 7.03571603, 7.04278354,\n",
       "        7.04985815],\n",
       "       [7.06400028, 7.05692568, 7.04985815, ..., 7.04279774, 7.04985815,\n",
       "        7.05692568]])"
      ]
     },
     "execution_count": 152,
     "metadata": {},
     "output_type": "execute_result"
    }
   ],
   "source": [
    "z"
   ]
  },
  {
   "cell_type": "code",
   "execution_count": 153,
   "id": "5a1081ed",
   "metadata": {},
   "outputs": [
    {
     "data": {
      "text/plain": [
       "Text(0.5, 1.0, 'Image plot of $\\\\sqrt{x^2+y^2}$ for a grid of values')"
      ]
     },
     "execution_count": 153,
     "metadata": {},
     "output_type": "execute_result"
    },
    {
     "data": {
      "image/png": "[encoded data removed]",
      "text/plain": [
       "<Figure size 432x288 with 2 Axes>"
      ]
     },
     "metadata": {
      "needs_background": "light"
     },
     "output_type": "display_data"
    }
   ],
   "source": [
    "plt.imshow(z, cmap=plt.cm.gray); plt.colorbar()\n",
    "plt.title('Image plot of $\\sqrt{x^2+y^2}$ for a grid of values')"
   ]
  },
  {
   "cell_type": "markdown",
   "id": "c6c51177",
   "metadata": {},
   "source": [
    "### Expressando uma lógica condicional como operações de array\n",
    "---\n",
    "\n",
    "\n",
    "A função _numpy.where_ é uma versão vetorizada da expressão ternária:\n",
    "\n",
    "> _x_ **if** condition **else** _y_"
   ]
  },
  {
   "cell_type": "code",
   "execution_count": 154,
   "id": "2a9cca2e",
   "metadata": {},
   "outputs": [],
   "source": [
    "xarr = np.array([1.1, 1.2, 1.3, 1.4, 1.5])"
   ]
  },
  {
   "cell_type": "code",
   "execution_count": 155,
   "id": "2b9c02f3",
   "metadata": {},
   "outputs": [],
   "source": [
    "yarr = np.array([2.1, 2.2, 2.3, 2.4, 2.5])"
   ]
  },
  {
   "cell_type": "code",
   "execution_count": 156,
   "id": "2997aead",
   "metadata": {},
   "outputs": [],
   "source": [
    "cond = np.array([True, False, True, True, False])"
   ]
  },
  {
   "cell_type": "markdown",
   "id": "ab17fa34",
   "metadata": {},
   "source": [
    "* Usando list comprehension:"
   ]
  },
  {
   "cell_type": "code",
   "execution_count": 157,
   "id": "da6bacd0",
   "metadata": {},
   "outputs": [],
   "source": [
    "result = [(x if c else y)\n",
    "          for x, y, c in zip(xarr,yarr,cond)]"
   ]
  },
  {
   "cell_type": "code",
   "execution_count": 158,
   "id": "e950dc42",
   "metadata": {},
   "outputs": [
    {
     "data": {
      "text/plain": [
       "[1.1, 2.2, 1.3, 1.4, 2.5]"
      ]
     },
     "execution_count": 158,
     "metadata": {},
     "output_type": "execute_result"
    }
   ],
   "source": [
    "result"
   ]
  },
  {
   "cell_type": "code",
   "execution_count": 159,
   "id": "f1557be7",
   "metadata": {},
   "outputs": [],
   "source": [
    "result = np.where(cond, xarr, yarr)"
   ]
  },
  {
   "cell_type": "code",
   "execution_count": 160,
   "id": "371d6a91",
   "metadata": {},
   "outputs": [
    {
     "data": {
      "text/plain": [
       "array([1.1, 2.2, 1.3, 1.4, 2.5])"
      ]
     },
     "execution_count": 160,
     "metadata": {},
     "output_type": "execute_result"
    }
   ],
   "source": [
    "result"
   ]
  },
  {
   "cell_type": "code",
   "execution_count": 161,
   "id": "e95077fd",
   "metadata": {},
   "outputs": [],
   "source": [
    "arr = np.random.randn(4,4)"
   ]
  },
  {
   "cell_type": "code",
   "execution_count": 162,
   "id": "4106a2f5",
   "metadata": {},
   "outputs": [
    {
     "data": {
      "text/plain": [
       "array([[ 0.55966881, -0.26787372,  0.83756886, -1.13963595],\n",
       "       [-0.58181293, -0.73602787, -0.94145071,  2.44649104],\n",
       "       [-0.28210288,  0.31076568,  0.78106656,  0.30290523],\n",
       "       [-0.33219809,  0.91546571,  0.11846577, -0.99586597]])"
      ]
     },
     "execution_count": 162,
     "metadata": {},
     "output_type": "execute_result"
    }
   ],
   "source": [
    "arr"
   ]
  },
  {
   "cell_type": "code",
   "execution_count": 163,
   "id": "0ce496da",
   "metadata": {},
   "outputs": [
    {
     "data": {
      "text/plain": [
       "array([[ True, False,  True, False],\n",
       "       [False, False, False,  True],\n",
       "       [False,  True,  True,  True],\n",
       "       [False,  True,  True, False]])"
      ]
     },
     "execution_count": 163,
     "metadata": {},
     "output_type": "execute_result"
    }
   ],
   "source": [
    "arr > 0"
   ]
  },
  {
   "cell_type": "code",
   "execution_count": 164,
   "id": "587a6598",
   "metadata": {},
   "outputs": [
    {
     "data": {
      "text/plain": [
       "array([[ 2, -2,  2, -2],\n",
       "       [-2, -2, -2,  2],\n",
       "       [-2,  2,  2,  2],\n",
       "       [-2,  2,  2, -2]])"
      ]
     },
     "execution_count": 164,
     "metadata": {},
     "output_type": "execute_result"
    }
   ],
   "source": [
    "np.where(arr > 0, 2, -2)"
   ]
  },
  {
   "cell_type": "code",
   "execution_count": 165,
   "id": "164db3ed",
   "metadata": {},
   "outputs": [
    {
     "data": {
      "text/plain": [
       "array([[ 2.        , -0.26787372,  2.        , -1.13963595],\n",
       "       [-0.58181293, -0.73602787, -0.94145071,  2.        ],\n",
       "       [-0.28210288,  2.        ,  2.        ,  2.        ],\n",
       "       [-0.33219809,  2.        ,  2.        , -0.99586597]])"
      ]
     },
     "execution_count": 165,
     "metadata": {},
     "output_type": "execute_result"
    }
   ],
   "source": [
    "np.where(arr > 0, 2, arr)"
   ]
  },
  {
   "cell_type": "markdown",
   "id": "def125af",
   "metadata": {},
   "source": [
    "### Métodos matemáticos e estatísticos\n",
    "---\n",
    "\n",
    "Um conjunto de funções matemáticas que calcula estatísticas sobre um array inteiro ou sobre os dados ao londo de um eixo;\n",
    "\n",
    "* sum()\n",
    "* mean()\n",
    "* std()"
   ]
  },
  {
   "cell_type": "code",
   "execution_count": 166,
   "id": "8b0d2058",
   "metadata": {},
   "outputs": [],
   "source": [
    "arr = np.random.randn(5,4)"
   ]
  },
  {
   "cell_type": "code",
   "execution_count": 167,
   "id": "643a7604",
   "metadata": {},
   "outputs": [
    {
     "data": {
      "text/plain": [
       "array([[ 1.26278358,  1.00835471,  0.60465938,  0.68081518],\n",
       "       [-1.25614092, -0.15592332, -0.12959441,  1.23242309],\n",
       "       [-0.49452935, -0.25064918,  1.15668941, -0.58138358],\n",
       "       [ 0.14585529, -0.67473316,  0.66102704,  0.66511976],\n",
       "       [-0.12000242, -1.27918736,  0.08288453, -0.59049226]])"
      ]
     },
     "execution_count": 167,
     "metadata": {},
     "output_type": "execute_result"
    }
   ],
   "source": [
    "arr"
   ]
  },
  {
   "cell_type": "code",
   "execution_count": 168,
   "id": "2b39e409",
   "metadata": {},
   "outputs": [
    {
     "data": {
      "text/plain": [
       "0.09839880116041848"
      ]
     },
     "execution_count": 168,
     "metadata": {},
     "output_type": "execute_result"
    }
   ],
   "source": [
    "arr.mean()"
   ]
  },
  {
   "cell_type": "code",
   "execution_count": 169,
   "id": "718ab773",
   "metadata": {},
   "outputs": [
    {
     "data": {
      "text/plain": [
       "0.09839880116041848"
      ]
     },
     "execution_count": 169,
     "metadata": {},
     "output_type": "execute_result"
    }
   ],
   "source": [
    "np.mean(arr)"
   ]
  },
  {
   "cell_type": "code",
   "execution_count": 170,
   "id": "5f2ad83c",
   "metadata": {},
   "outputs": [
    {
     "data": {
      "text/plain": [
       "1.9679760232083696"
      ]
     },
     "execution_count": 170,
     "metadata": {},
     "output_type": "execute_result"
    }
   ],
   "source": [
    "arr.sum()"
   ]
  },
  {
   "cell_type": "markdown",
   "id": "9d077fb3",
   "metadata": {},
   "source": [
    "* As funções mean e sum aceitam um argumento opcional **axis** que calcula a estatística no eixo dado, resultando em um array com uma dimensão a menos:\n",
    "\n",
    "> axis = 0 : pelas linhas\n",
    "\n",
    "> axis = 1 : pelas colunas"
   ]
  },
  {
   "cell_type": "code",
   "execution_count": 171,
   "id": "a0b4e274",
   "metadata": {},
   "outputs": [
    {
     "data": {
      "text/plain": [
       "array([ 0.88915321, -0.07730889, -0.04246817,  0.19931723, -0.47669938])"
      ]
     },
     "execution_count": 171,
     "metadata": {},
     "output_type": "execute_result"
    }
   ],
   "source": [
    "arr.mean(axis=1) "
   ]
  },
  {
   "cell_type": "code",
   "execution_count": 172,
   "id": "651b746e",
   "metadata": {},
   "outputs": [
    {
     "data": {
      "text/plain": [
       "array([-0.46203381, -1.35213831,  2.37566594,  1.4064822 ])"
      ]
     },
     "execution_count": 172,
     "metadata": {},
     "output_type": "execute_result"
    }
   ],
   "source": [
    "arr.sum(axis=0)"
   ]
  },
  {
   "cell_type": "markdown",
   "id": "fb49ca7f",
   "metadata": {},
   "source": [
    "## Métodos para arrays booleanos\n",
    "---\n",
    "```python\n",
    "True == 1\n",
    "\n",
    "False == 0\n",
    "```"
   ]
  },
  {
   "cell_type": "code",
   "execution_count": 173,
   "id": "313b492e",
   "metadata": {},
   "outputs": [],
   "source": [
    "arr = np.random.randn(100)"
   ]
  },
  {
   "cell_type": "code",
   "execution_count": 174,
   "id": "da5f81a3",
   "metadata": {},
   "outputs": [
    {
     "data": {
      "text/plain": [
       "44"
      ]
     },
     "execution_count": 174,
     "metadata": {},
     "output_type": "execute_result"
    }
   ],
   "source": [
    "(arr > 0).sum()"
   ]
  },
  {
   "cell_type": "markdown",
   "id": "f04031f7",
   "metadata": {},
   "source": [
    "* Existem dois métodos, **any** e **all**, que são úteis para arrays booleanos.\n",
    "\n",
    "* **any** -  testa se um ou mais valores de um array são True;\n",
    "* **all** - teste se todos os valores são True;"
   ]
  },
  {
   "cell_type": "code",
   "execution_count": 175,
   "id": "86c6d1c4",
   "metadata": {},
   "outputs": [],
   "source": [
    "bools = np.array([False, False, True, False])"
   ]
  },
  {
   "cell_type": "code",
   "execution_count": 176,
   "id": "c8a5f3be",
   "metadata": {},
   "outputs": [
    {
     "data": {
      "text/plain": [
       "True"
      ]
     },
     "execution_count": 176,
     "metadata": {},
     "output_type": "execute_result"
    }
   ],
   "source": [
    "bools.any()"
   ]
  },
  {
   "cell_type": "code",
   "execution_count": 177,
   "id": "7a158051",
   "metadata": {},
   "outputs": [
    {
     "data": {
      "text/plain": [
       "False"
      ]
     },
     "execution_count": 177,
     "metadata": {},
     "output_type": "execute_result"
    }
   ],
   "source": [
    "bools.all()"
   ]
  },
  {
   "cell_type": "markdown",
   "id": "6c16e208",
   "metadata": {},
   "source": [
    "* **OBS**: Esses métodos também funcionam com arrays não booleanos, em que elementos diferentes de zero são considerados como True"
   ]
  },
  {
   "cell_type": "markdown",
   "id": "a8fb3bd6",
   "metadata": {},
   "source": [
    "## Ordenação\n",
    "---"
   ]
  },
  {
   "cell_type": "code",
   "execution_count": 178,
   "id": "3e41d626",
   "metadata": {},
   "outputs": [],
   "source": [
    "arr = np.random.randn(6)"
   ]
  },
  {
   "cell_type": "code",
   "execution_count": 179,
   "id": "c3603e8d",
   "metadata": {},
   "outputs": [
    {
     "data": {
      "text/plain": [
       "array([ 0.66651665, -1.26166504, -1.26869061,  1.99769707, -0.68849131,\n",
       "        1.67276351])"
      ]
     },
     "execution_count": 179,
     "metadata": {},
     "output_type": "execute_result"
    }
   ],
   "source": [
    "arr"
   ]
  },
  {
   "cell_type": "code",
   "execution_count": 180,
   "id": "77d41a02",
   "metadata": {},
   "outputs": [],
   "source": [
    "arr.sort()"
   ]
  },
  {
   "cell_type": "code",
   "execution_count": 181,
   "id": "a598379c",
   "metadata": {},
   "outputs": [
    {
     "data": {
      "text/plain": [
       "array([-1.26869061, -1.26166504, -0.68849131,  0.66651665,  1.67276351,\n",
       "        1.99769707])"
      ]
     },
     "execution_count": 181,
     "metadata": {},
     "output_type": "execute_result"
    }
   ],
   "source": [
    "arr"
   ]
  },
  {
   "cell_type": "markdown",
   "id": "1a805d26",
   "metadata": {},
   "source": [
    "## Criando vetores e funções:\n",
    "---\n",
    "\n",
    "* **linspace**"
   ]
  },
  {
   "cell_type": "code",
   "execution_count": 182,
   "id": "9c8b7b0c",
   "metadata": {},
   "outputs": [],
   "source": [
    "my_vector = np.linspace(-1, 1, 10000)"
   ]
  },
  {
   "cell_type": "code",
   "execution_count": 183,
   "id": "a733b562",
   "metadata": {},
   "outputs": [],
   "source": [
    "z = np.power(my_vector,2)"
   ]
  },
  {
   "cell_type": "code",
   "execution_count": 184,
   "id": "0f24bfc6",
   "metadata": {},
   "outputs": [],
   "source": [
    "z_func = 2 * z - z + 5"
   ]
  },
  {
   "cell_type": "code",
   "execution_count": 185,
   "id": "1462d9f0",
   "metadata": {},
   "outputs": [
    {
     "data": {
      "image/png": "[encoded data removed]",
      "text/plain": [
       "<Figure size 1080x360 with 1 Axes>"
      ]
     },
     "metadata": {
      "needs_background": "light"
     },
     "output_type": "display_data"
    }
   ],
   "source": [
    "plt.figure(figsize=(15, 5))\n",
    "plt.plot(my_vector, z_func)\n",
    "plt.show()"
   ]
  }
 ],
 "metadata": {
  "kernelspec": {
   "display_name": "Python 3",
   "language": "python",
   "name": "python3"
  },
  "language_info": {
   "codemirror_mode": {
    "name": "ipython",
    "version": 3
   },
   "file_extension": ".py",
   "mimetype": "text/x-python",
   "name": "python",
   "nbconvert_exporter": "python",
   "pygments_lexer": "ipython3",
   "version": "3.8.8"
  }
 },
 "nbformat": 4,
 "nbformat_minor": 5
}
