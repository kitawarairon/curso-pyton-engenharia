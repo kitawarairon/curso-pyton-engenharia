{
 "cells": [
  {
   "cell_type": "markdown",
   "id": "8c876dd2",
   "metadata": {},
   "source": [
    "# Análise da turbina eólica\n",
    "---\n",
    "\n",
    "## Introdução\n",
    "---\n",
    "\n",
    "A energia eólica é gerada a partir da energia cinética proveniente da força de massas de ar em movimento (ventos), que é captada pelas turbinas dos aerogeradores e, posteriormente, convertida em eletricidade.\n",
    "\n",
    "Este material encontra-se dividido em três etapas: \n",
    "* 1ª Etapa:Tratamento dos dados e analise inicial;\n",
    "* 2ª Etapa: Análises dos dados e conclusões;\n",
    "\n",
    "## Objeto de análise\n",
    "---\n",
    "\n",
    "\n",
    "**OBJETIVOS DA EMPRESA:** A empresa `HEnergiaRenovável` delimitou as seguintes imposições e pedidos:\n",
    "* Produção mensal de energia; \n",
    "* Produção de energia pela hora do dia;\n",
    "* Como estão correlacionadas as features;\n",
    "* Identificar o nível médio de saída de energia para diferentes velocidades do vento;\n",
    "    * em passos de 5 m/s\n",
    "* Identificar quais direções de vento produzem maiores erros; \n",
    "* Identificar a produção mensal média do ano de 2018 do primeiro semestre;\n",
    "* Gráficos de comparação entre a potência real e a potência teórica; \n",
    "* Identificar os valores de potência zero e fazer uma análise mais detalhada;\n",
    "    * Identificar os outliers e verificar se devem ser utilizados ou não.\n",
    "* Gerar arquivo csv contendo os dados não nulos de potência ativa e teórica;\n",
    "* Dados com 5% para mais ou para menos do limite teórico devem ser desconsiderados;\n",
    "    * Gerar uma coluna de erros\n",
    "* Um sistema de predição de potência produzida a partir do banco de dados.\n",
    "    * Identificar a melhor forma de subdividir o dataframe.\n",
    "        \n"
   ]
  },
  {
   "cell_type": "markdown",
   "id": "5d00fee3",
   "metadata": {},
   "source": [
    "## Importações\n",
    "---"
   ]
  },
  {
   "cell_type": "code",
   "execution_count": 5,
   "id": "6f9cd39f",
   "metadata": {},
   "outputs": [],
   "source": [
    "import matplotlib.pyplot as plt\n",
    "import numpy as np\n",
    "import pandas as pd\n",
    "import seaborn as sns"
   ]
  },
  {
   "cell_type": "markdown",
   "id": "14d86907",
   "metadata": {},
   "source": [
    "## Análise inicial do dados\n",
    "---"
   ]
  },
  {
   "cell_type": "code",
   "execution_count": 13,
   "id": "a6ad6201",
   "metadata": {},
   "outputs": [
    {
     "data": {
      "text/html": [
       "<div>\n",
       "<style scoped>\n",
       "    .dataframe tbody tr th:only-of-type {\n",
       "        vertical-align: middle;\n",
       "    }\n",
       "\n",
       "    .dataframe tbody tr th {\n",
       "        vertical-align: top;\n",
       "    }\n",
       "\n",
       "    .dataframe thead th {\n",
       "        text-align: right;\n",
       "    }\n",
       "</style>\n",
       "<table border=\"1\" class=\"dataframe\">\n",
       "  <thead>\n",
       "    <tr style=\"text-align: right;\">\n",
       "      <th></th>\n",
       "      <th>Date/Time</th>\n",
       "      <th>LV ActivePower (kW)</th>\n",
       "      <th>Wind Speed (m/s)</th>\n",
       "      <th>Theoretical_Power_Curve (KWh)</th>\n",
       "      <th>Wind Direction (°)</th>\n",
       "    </tr>\n",
       "  </thead>\n",
       "  <tbody>\n",
       "    <tr>\n",
       "      <th>0</th>\n",
       "      <td>01 01 2018 00:00</td>\n",
       "      <td>380.047791</td>\n",
       "      <td>5.311336</td>\n",
       "      <td>416.328908</td>\n",
       "      <td>259.994904</td>\n",
       "    </tr>\n",
       "    <tr>\n",
       "      <th>1</th>\n",
       "      <td>01 01 2018 00:10</td>\n",
       "      <td>453.769196</td>\n",
       "      <td>5.672167</td>\n",
       "      <td>519.917511</td>\n",
       "      <td>268.641113</td>\n",
       "    </tr>\n",
       "    <tr>\n",
       "      <th>2</th>\n",
       "      <td>01 01 2018 00:20</td>\n",
       "      <td>306.376587</td>\n",
       "      <td>5.216037</td>\n",
       "      <td>390.900016</td>\n",
       "      <td>272.564789</td>\n",
       "    </tr>\n",
       "    <tr>\n",
       "      <th>3</th>\n",
       "      <td>01 01 2018 00:30</td>\n",
       "      <td>419.645905</td>\n",
       "      <td>5.659674</td>\n",
       "      <td>516.127569</td>\n",
       "      <td>271.258087</td>\n",
       "    </tr>\n",
       "    <tr>\n",
       "      <th>4</th>\n",
       "      <td>01 01 2018 00:40</td>\n",
       "      <td>380.650696</td>\n",
       "      <td>5.577941</td>\n",
       "      <td>491.702972</td>\n",
       "      <td>265.674286</td>\n",
       "    </tr>\n",
       "  </tbody>\n",
       "</table>\n",
       "</div>"
      ],
      "text/plain": [
       "          Date/Time  LV ActivePower (kW)  Wind Speed (m/s)  \\\n",
       "0  01 01 2018 00:00           380.047791          5.311336   \n",
       "1  01 01 2018 00:10           453.769196          5.672167   \n",
       "2  01 01 2018 00:20           306.376587          5.216037   \n",
       "3  01 01 2018 00:30           419.645905          5.659674   \n",
       "4  01 01 2018 00:40           380.650696          5.577941   \n",
       "\n",
       "   Theoretical_Power_Curve (KWh)  Wind Direction (°)  \n",
       "0                     416.328908          259.994904  \n",
       "1                     519.917511          268.641113  \n",
       "2                     390.900016          272.564789  \n",
       "3                     516.127569          271.258087  \n",
       "4                     491.702972          265.674286  "
      ]
     },
     "execution_count": 13,
     "metadata": {},
     "output_type": "execute_result"
    }
   ],
   "source": [
    "turbina = pd.read_csv('../dados/T1.csv')\n",
    "turbina.head()"
   ]
  },
  {
   "cell_type": "markdown",
   "id": "e30e0250",
   "metadata": {},
   "source": [
    "* Verificando o tipos das colunas"
   ]
  },
  {
   "cell_type": "code",
   "execution_count": 14,
   "id": "7656f348",
   "metadata": {},
   "outputs": [
    {
     "data": {
      "text/plain": [
       "Date/Time                         object\n",
       "LV ActivePower (kW)              float64\n",
       "Wind Speed (m/s)                 float64\n",
       "Theoretical_Power_Curve (KWh)    float64\n",
       "Wind Direction (°)               float64\n",
       "dtype: object"
      ]
     },
     "execution_count": 14,
     "metadata": {},
     "output_type": "execute_result"
    }
   ],
   "source": [
    "turbina.dtypes"
   ]
  },
  {
   "cell_type": "markdown",
   "id": "3f70652c",
   "metadata": {},
   "source": [
    "* Ajustando a coluna do `Date/Time` (convertendo para o tipo datetime)"
   ]
  },
  {
   "cell_type": "code",
   "execution_count": 15,
   "id": "a049fb49",
   "metadata": {},
   "outputs": [],
   "source": [
    "turbina['Date/Time'] = pd.to_datetime(turbina['Date/Time'])"
   ]
  },
  {
   "cell_type": "code",
   "execution_count": 16,
   "id": "3274253b",
   "metadata": {},
   "outputs": [
    {
     "data": {
      "text/plain": [
       "Date/Time                        datetime64[ns]\n",
       "LV ActivePower (kW)                     float64\n",
       "Wind Speed (m/s)                        float64\n",
       "Theoretical_Power_Curve (KWh)           float64\n",
       "Wind Direction (°)                      float64\n",
       "dtype: object"
      ]
     },
     "execution_count": 16,
     "metadata": {},
     "output_type": "execute_result"
    }
   ],
   "source": [
    "turbina.dtypes"
   ]
  },
  {
   "cell_type": "markdown",
   "id": "243b3d95",
   "metadata": {},
   "source": [
    "* Vamos renomear as colunas do dataset"
   ]
  },
  {
   "cell_type": "code",
   "execution_count": 17,
   "id": "c309842c",
   "metadata": {},
   "outputs": [
    {
     "data": {
      "text/plain": [
       "Index(['Date/Time', 'LV ActivePower (kW)', 'Wind Speed (m/s)',\n",
       "       'Theoretical_Power_Curve (KWh)', 'Wind Direction (°)'],\n",
       "      dtype='object')"
      ]
     },
     "execution_count": 17,
     "metadata": {},
     "output_type": "execute_result"
    }
   ],
   "source": [
    "turbina.columns"
   ]
  },
  {
   "cell_type": "code",
   "execution_count": 18,
   "id": "91135777",
   "metadata": {},
   "outputs": [],
   "source": [
    "colunas = {\n",
    "    'Date/Time':'Tempo',\n",
    "    'LV ActivePower (kW)':'potencia_ativa',\n",
    "    'Wind Speed (m/s)':'velocidade_do_vento',\n",
    "    'Theoretical_Power_Curve (KWh)':'potencia_teorica',\n",
    "    'Wind Direction (°)':'direcao_do_vento',\n",
    "}\n"
   ]
  },
  {
   "cell_type": "code",
   "execution_count": 21,
   "id": "50a143e1",
   "metadata": {},
   "outputs": [],
   "source": [
    "turbina.rename(columns=colunas, inplace=True)"
   ]
  },
  {
   "cell_type": "markdown",
   "id": "bea32131",
   "metadata": {},
   "source": [
    "* Colocando a coluna do tempo como o index"
   ]
  },
  {
   "cell_type": "code",
   "execution_count": 26,
   "id": "6c0b3615",
   "metadata": {},
   "outputs": [],
   "source": [
    "turbina.set_index('Tempo', inplace=True)"
   ]
  },
  {
   "cell_type": "code",
   "execution_count": 27,
   "id": "3b639204",
   "metadata": {},
   "outputs": [
    {
     "data": {
      "text/html": [
       "<div>\n",
       "<style scoped>\n",
       "    .dataframe tbody tr th:only-of-type {\n",
       "        vertical-align: middle;\n",
       "    }\n",
       "\n",
       "    .dataframe tbody tr th {\n",
       "        vertical-align: top;\n",
       "    }\n",
       "\n",
       "    .dataframe thead th {\n",
       "        text-align: right;\n",
       "    }\n",
       "</style>\n",
       "<table border=\"1\" class=\"dataframe\">\n",
       "  <thead>\n",
       "    <tr style=\"text-align: right;\">\n",
       "      <th></th>\n",
       "      <th>potencia_ativa</th>\n",
       "      <th>velocidade_do_vento</th>\n",
       "      <th>potencia_teorica</th>\n",
       "      <th>direcao_do_vento</th>\n",
       "    </tr>\n",
       "    <tr>\n",
       "      <th>Tempo</th>\n",
       "      <th></th>\n",
       "      <th></th>\n",
       "      <th></th>\n",
       "      <th></th>\n",
       "    </tr>\n",
       "  </thead>\n",
       "  <tbody>\n",
       "    <tr>\n",
       "      <th>2018-01-01 00:00:00</th>\n",
       "      <td>380.047791</td>\n",
       "      <td>5.311336</td>\n",
       "      <td>416.328908</td>\n",
       "      <td>259.994904</td>\n",
       "    </tr>\n",
       "    <tr>\n",
       "      <th>2018-01-01 00:10:00</th>\n",
       "      <td>453.769196</td>\n",
       "      <td>5.672167</td>\n",
       "      <td>519.917511</td>\n",
       "      <td>268.641113</td>\n",
       "    </tr>\n",
       "    <tr>\n",
       "      <th>2018-01-01 00:20:00</th>\n",
       "      <td>306.376587</td>\n",
       "      <td>5.216037</td>\n",
       "      <td>390.900016</td>\n",
       "      <td>272.564789</td>\n",
       "    </tr>\n",
       "    <tr>\n",
       "      <th>2018-01-01 00:30:00</th>\n",
       "      <td>419.645905</td>\n",
       "      <td>5.659674</td>\n",
       "      <td>516.127569</td>\n",
       "      <td>271.258087</td>\n",
       "    </tr>\n",
       "    <tr>\n",
       "      <th>2018-01-01 00:40:00</th>\n",
       "      <td>380.650696</td>\n",
       "      <td>5.577941</td>\n",
       "      <td>491.702972</td>\n",
       "      <td>265.674286</td>\n",
       "    </tr>\n",
       "    <tr>\n",
       "      <th>...</th>\n",
       "      <td>...</td>\n",
       "      <td>...</td>\n",
       "      <td>...</td>\n",
       "      <td>...</td>\n",
       "    </tr>\n",
       "    <tr>\n",
       "      <th>2018-12-31 23:10:00</th>\n",
       "      <td>2963.980957</td>\n",
       "      <td>11.404030</td>\n",
       "      <td>3397.190793</td>\n",
       "      <td>80.502724</td>\n",
       "    </tr>\n",
       "    <tr>\n",
       "      <th>2018-12-31 23:20:00</th>\n",
       "      <td>1684.353027</td>\n",
       "      <td>7.332648</td>\n",
       "      <td>1173.055771</td>\n",
       "      <td>84.062599</td>\n",
       "    </tr>\n",
       "    <tr>\n",
       "      <th>2018-12-31 23:30:00</th>\n",
       "      <td>2201.106934</td>\n",
       "      <td>8.435358</td>\n",
       "      <td>1788.284755</td>\n",
       "      <td>84.742500</td>\n",
       "    </tr>\n",
       "    <tr>\n",
       "      <th>2018-12-31 23:40:00</th>\n",
       "      <td>2515.694092</td>\n",
       "      <td>9.421366</td>\n",
       "      <td>2418.382503</td>\n",
       "      <td>84.297913</td>\n",
       "    </tr>\n",
       "    <tr>\n",
       "      <th>2018-12-31 23:50:00</th>\n",
       "      <td>2820.466064</td>\n",
       "      <td>9.979332</td>\n",
       "      <td>2779.184096</td>\n",
       "      <td>82.274620</td>\n",
       "    </tr>\n",
       "  </tbody>\n",
       "</table>\n",
       "<p>50530 rows × 4 columns</p>\n",
       "</div>"
      ],
      "text/plain": [
       "                     potencia_ativa  velocidade_do_vento  potencia_teorica  \\\n",
       "Tempo                                                                        \n",
       "2018-01-01 00:00:00      380.047791             5.311336        416.328908   \n",
       "2018-01-01 00:10:00      453.769196             5.672167        519.917511   \n",
       "2018-01-01 00:20:00      306.376587             5.216037        390.900016   \n",
       "2018-01-01 00:30:00      419.645905             5.659674        516.127569   \n",
       "2018-01-01 00:40:00      380.650696             5.577941        491.702972   \n",
       "...                             ...                  ...               ...   \n",
       "2018-12-31 23:10:00     2963.980957            11.404030       3397.190793   \n",
       "2018-12-31 23:20:00     1684.353027             7.332648       1173.055771   \n",
       "2018-12-31 23:30:00     2201.106934             8.435358       1788.284755   \n",
       "2018-12-31 23:40:00     2515.694092             9.421366       2418.382503   \n",
       "2018-12-31 23:50:00     2820.466064             9.979332       2779.184096   \n",
       "\n",
       "                     direcao_do_vento  \n",
       "Tempo                                  \n",
       "2018-01-01 00:00:00        259.994904  \n",
       "2018-01-01 00:10:00        268.641113  \n",
       "2018-01-01 00:20:00        272.564789  \n",
       "2018-01-01 00:30:00        271.258087  \n",
       "2018-01-01 00:40:00        265.674286  \n",
       "...                               ...  \n",
       "2018-12-31 23:10:00         80.502724  \n",
       "2018-12-31 23:20:00         84.062599  \n",
       "2018-12-31 23:30:00         84.742500  \n",
       "2018-12-31 23:40:00         84.297913  \n",
       "2018-12-31 23:50:00         82.274620  \n",
       "\n",
       "[50530 rows x 4 columns]"
      ]
     },
     "execution_count": 27,
     "metadata": {},
     "output_type": "execute_result"
    }
   ],
   "source": [
    "turbina"
   ]
  },
  {
   "cell_type": "markdown",
   "id": "f9694440",
   "metadata": {},
   "source": [
    "* Descrições estatísticas"
   ]
  },
  {
   "cell_type": "code",
   "execution_count": 28,
   "id": "1ca4da07",
   "metadata": {},
   "outputs": [
    {
     "data": {
      "text/html": [
       "<div>\n",
       "<style scoped>\n",
       "    .dataframe tbody tr th:only-of-type {\n",
       "        vertical-align: middle;\n",
       "    }\n",
       "\n",
       "    .dataframe tbody tr th {\n",
       "        vertical-align: top;\n",
       "    }\n",
       "\n",
       "    .dataframe thead th {\n",
       "        text-align: right;\n",
       "    }\n",
       "</style>\n",
       "<table border=\"1\" class=\"dataframe\">\n",
       "  <thead>\n",
       "    <tr style=\"text-align: right;\">\n",
       "      <th></th>\n",
       "      <th>potencia_ativa</th>\n",
       "      <th>velocidade_do_vento</th>\n",
       "      <th>potencia_teorica</th>\n",
       "      <th>direcao_do_vento</th>\n",
       "    </tr>\n",
       "  </thead>\n",
       "  <tbody>\n",
       "    <tr>\n",
       "      <th>count</th>\n",
       "      <td>50530.000000</td>\n",
       "      <td>50530.000000</td>\n",
       "      <td>50530.000000</td>\n",
       "      <td>50530.000000</td>\n",
       "    </tr>\n",
       "    <tr>\n",
       "      <th>mean</th>\n",
       "      <td>1307.684332</td>\n",
       "      <td>7.557952</td>\n",
       "      <td>1492.175463</td>\n",
       "      <td>123.687559</td>\n",
       "    </tr>\n",
       "    <tr>\n",
       "      <th>std</th>\n",
       "      <td>1312.459242</td>\n",
       "      <td>4.227166</td>\n",
       "      <td>1368.018238</td>\n",
       "      <td>93.443736</td>\n",
       "    </tr>\n",
       "    <tr>\n",
       "      <th>min</th>\n",
       "      <td>-2.471405</td>\n",
       "      <td>0.000000</td>\n",
       "      <td>0.000000</td>\n",
       "      <td>0.000000</td>\n",
       "    </tr>\n",
       "    <tr>\n",
       "      <th>25%</th>\n",
       "      <td>50.677890</td>\n",
       "      <td>4.201395</td>\n",
       "      <td>161.328167</td>\n",
       "      <td>49.315437</td>\n",
       "    </tr>\n",
       "    <tr>\n",
       "      <th>50%</th>\n",
       "      <td>825.838074</td>\n",
       "      <td>7.104594</td>\n",
       "      <td>1063.776283</td>\n",
       "      <td>73.712978</td>\n",
       "    </tr>\n",
       "    <tr>\n",
       "      <th>75%</th>\n",
       "      <td>2482.507568</td>\n",
       "      <td>10.300020</td>\n",
       "      <td>2964.972462</td>\n",
       "      <td>201.696720</td>\n",
       "    </tr>\n",
       "    <tr>\n",
       "      <th>max</th>\n",
       "      <td>3618.732910</td>\n",
       "      <td>25.206011</td>\n",
       "      <td>3600.000000</td>\n",
       "      <td>359.997589</td>\n",
       "    </tr>\n",
       "  </tbody>\n",
       "</table>\n",
       "</div>"
      ],
      "text/plain": [
       "       potencia_ativa  velocidade_do_vento  potencia_teorica  direcao_do_vento\n",
       "count    50530.000000         50530.000000      50530.000000      50530.000000\n",
       "mean      1307.684332             7.557952       1492.175463        123.687559\n",
       "std       1312.459242             4.227166       1368.018238         93.443736\n",
       "min         -2.471405             0.000000          0.000000          0.000000\n",
       "25%         50.677890             4.201395        161.328167         49.315437\n",
       "50%        825.838074             7.104594       1063.776283         73.712978\n",
       "75%       2482.507568            10.300020       2964.972462        201.696720\n",
       "max       3618.732910            25.206011       3600.000000        359.997589"
      ]
     },
     "execution_count": 28,
     "metadata": {},
     "output_type": "execute_result"
    }
   ],
   "source": [
    "turbina.describe()"
   ]
  },
  {
   "cell_type": "markdown",
   "id": "ce56573c",
   "metadata": {},
   "source": [
    "* Verificando com as variáveis estão correlacionadas"
   ]
  },
  {
   "cell_type": "code",
   "execution_count": 30,
   "id": "e41b0618",
   "metadata": {},
   "outputs": [
    {
     "data": {
      "text/html": [
       "<div>\n",
       "<style scoped>\n",
       "    .dataframe tbody tr th:only-of-type {\n",
       "        vertical-align: middle;\n",
       "    }\n",
       "\n",
       "    .dataframe tbody tr th {\n",
       "        vertical-align: top;\n",
       "    }\n",
       "\n",
       "    .dataframe thead th {\n",
       "        text-align: right;\n",
       "    }\n",
       "</style>\n",
       "<table border=\"1\" class=\"dataframe\">\n",
       "  <thead>\n",
       "    <tr style=\"text-align: right;\">\n",
       "      <th></th>\n",
       "      <th>potencia_ativa</th>\n",
       "      <th>velocidade_do_vento</th>\n",
       "      <th>potencia_teorica</th>\n",
       "      <th>direcao_do_vento</th>\n",
       "    </tr>\n",
       "  </thead>\n",
       "  <tbody>\n",
       "    <tr>\n",
       "      <th>potencia_ativa</th>\n",
       "      <td>1.000000</td>\n",
       "      <td>0.912774</td>\n",
       "      <td>0.949918</td>\n",
       "      <td>-0.062702</td>\n",
       "    </tr>\n",
       "    <tr>\n",
       "      <th>velocidade_do_vento</th>\n",
       "      <td>0.912774</td>\n",
       "      <td>1.000000</td>\n",
       "      <td>0.944209</td>\n",
       "      <td>-0.077188</td>\n",
       "    </tr>\n",
       "    <tr>\n",
       "      <th>potencia_teorica</th>\n",
       "      <td>0.949918</td>\n",
       "      <td>0.944209</td>\n",
       "      <td>1.000000</td>\n",
       "      <td>-0.099076</td>\n",
       "    </tr>\n",
       "    <tr>\n",
       "      <th>direcao_do_vento</th>\n",
       "      <td>-0.062702</td>\n",
       "      <td>-0.077188</td>\n",
       "      <td>-0.099076</td>\n",
       "      <td>1.000000</td>\n",
       "    </tr>\n",
       "  </tbody>\n",
       "</table>\n",
       "</div>"
      ],
      "text/plain": [
       "                     potencia_ativa  velocidade_do_vento  potencia_teorica  \\\n",
       "potencia_ativa             1.000000             0.912774          0.949918   \n",
       "velocidade_do_vento        0.912774             1.000000          0.944209   \n",
       "potencia_teorica           0.949918             0.944209          1.000000   \n",
       "direcao_do_vento          -0.062702            -0.077188         -0.099076   \n",
       "\n",
       "                     direcao_do_vento  \n",
       "potencia_ativa              -0.062702  \n",
       "velocidade_do_vento         -0.077188  \n",
       "potencia_teorica            -0.099076  \n",
       "direcao_do_vento             1.000000  "
      ]
     },
     "execution_count": 30,
     "metadata": {},
     "output_type": "execute_result"
    }
   ],
   "source": [
    "turbina.corr()"
   ]
  },
  {
   "cell_type": "markdown",
   "id": "fd2b876e",
   "metadata": {},
   "source": [
    "* Visualizando a correlação graficamente"
   ]
  },
  {
   "cell_type": "code",
   "execution_count": 35,
   "id": "d627ef95",
   "metadata": {},
   "outputs": [
    {
     "data": {
      "text/plain": [
       "Text(0.5, 1.0, 'Correlação entre os atributos')"
      ]
     },
     "execution_count": 35,
     "metadata": {},
     "output_type": "execute_result"
    },
    {
     "data": {
      "image/png": "[encoded data removed]",
      "text/plain": [
       "<Figure size 936x576 with 2 Axes>"
      ]
     },
     "metadata": {},
     "output_type": "display_data"
    }
   ],
   "source": [
    "from biokit.viz import corrplot\n",
    "corr_graph = corrplot.Corrplot(turbina.corr())\n",
    "corr_graph.plot(upper='ellipse', fontsize='x-large')\n",
    "fig = plt.gcf()\n",
    "fig.set_size_inches(13, 8)\n",
    "plt.title('Correlação entre os atributos', fontsize=18)"
   ]
  },
  {
   "cell_type": "code",
   "execution_count": null,
   "id": "53cada9f",
   "metadata": {},
   "outputs": [],
   "source": []
  },
  {
   "cell_type": "code",
   "execution_count": null,
   "id": "e18d8cea",
   "metadata": {},
   "outputs": [],
   "source": []
  },
  {
   "cell_type": "code",
   "execution_count": null,
   "id": "34a1a48c",
   "metadata": {},
   "outputs": [],
   "source": []
  },
  {
   "cell_type": "markdown",
   "id": "72aa8b25",
   "metadata": {},
   "source": [
    "## Respondendo as questões\n",
    "---"
   ]
  },
  {
   "cell_type": "markdown",
   "id": "7e5cd2d0",
   "metadata": {},
   "source": [
    "### Quantidade mensal de produção de energia\n",
    "---\n",
    "\n",
    "Existe alguma diferença entre os meses para a produção média de energia?"
   ]
  },
  {
   "cell_type": "code",
   "execution_count": 40,
   "id": "9988a2c2",
   "metadata": {},
   "outputs": [
    {
     "data": {
      "text/html": [
       "<div>\n",
       "<style scoped>\n",
       "    .dataframe tbody tr th:only-of-type {\n",
       "        vertical-align: middle;\n",
       "    }\n",
       "\n",
       "    .dataframe tbody tr th {\n",
       "        vertical-align: top;\n",
       "    }\n",
       "\n",
       "    .dataframe thead th {\n",
       "        text-align: right;\n",
       "    }\n",
       "</style>\n",
       "<table border=\"1\" class=\"dataframe\">\n",
       "  <thead>\n",
       "    <tr style=\"text-align: right;\">\n",
       "      <th></th>\n",
       "      <th>potencia_ativa</th>\n",
       "      <th>velocidade_do_vento</th>\n",
       "      <th>potencia_teorica</th>\n",
       "      <th>direcao_do_vento</th>\n",
       "    </tr>\n",
       "    <tr>\n",
       "      <th>Meses</th>\n",
       "      <th></th>\n",
       "      <th></th>\n",
       "      <th></th>\n",
       "      <th></th>\n",
       "    </tr>\n",
       "  </thead>\n",
       "  <tbody>\n",
       "    <tr>\n",
       "      <th>Janeiro</th>\n",
       "      <td>1469.538834</td>\n",
       "      <td>9.407847</td>\n",
       "      <td>2051.432742</td>\n",
       "      <td>137.723051</td>\n",
       "    </tr>\n",
       "    <tr>\n",
       "      <th>Fevereiro</th>\n",
       "      <td>1398.812191</td>\n",
       "      <td>8.179499</td>\n",
       "      <td>1670.969069</td>\n",
       "      <td>124.670508</td>\n",
       "    </tr>\n",
       "    <tr>\n",
       "      <th>Março</th>\n",
       "      <td>1778.547254</td>\n",
       "      <td>9.204149</td>\n",
       "      <td>1899.451986</td>\n",
       "      <td>157.674416</td>\n",
       "    </tr>\n",
       "    <tr>\n",
       "      <th>Abril</th>\n",
       "      <td>1062.471714</td>\n",
       "      <td>6.740089</td>\n",
       "      <td>1186.013869</td>\n",
       "      <td>94.857182</td>\n",
       "    </tr>\n",
       "    <tr>\n",
       "      <th>Maio</th>\n",
       "      <td>1099.212305</td>\n",
       "      <td>6.693869</td>\n",
       "      <td>1271.246602</td>\n",
       "      <td>104.178431</td>\n",
       "    </tr>\n",
       "    <tr>\n",
       "      <th>Junho</th>\n",
       "      <td>1168.209523</td>\n",
       "      <td>6.844458</td>\n",
       "      <td>1330.927093</td>\n",
       "      <td>133.941694</td>\n",
       "    </tr>\n",
       "    <tr>\n",
       "      <th>Julho</th>\n",
       "      <td>694.432261</td>\n",
       "      <td>5.474675</td>\n",
       "      <td>781.056052</td>\n",
       "      <td>148.386055</td>\n",
       "    </tr>\n",
       "    <tr>\n",
       "      <th>Agosto</th>\n",
       "      <td>1510.816574</td>\n",
       "      <td>8.050320</td>\n",
       "      <td>1695.374114</td>\n",
       "      <td>88.250307</td>\n",
       "    </tr>\n",
       "    <tr>\n",
       "      <th>Setembro</th>\n",
       "      <td>1491.921321</td>\n",
       "      <td>7.704346</td>\n",
       "      <td>1601.570319</td>\n",
       "      <td>107.495466</td>\n",
       "    </tr>\n",
       "    <tr>\n",
       "      <th>Outubro</th>\n",
       "      <td>1178.213240</td>\n",
       "      <td>6.859317</td>\n",
       "      <td>1291.069849</td>\n",
       "      <td>120.533551</td>\n",
       "    </tr>\n",
       "    <tr>\n",
       "      <th>Novembro</th>\n",
       "      <td>1745.561611</td>\n",
       "      <td>8.871619</td>\n",
       "      <td>1857.157038</td>\n",
       "      <td>133.394652</td>\n",
       "    </tr>\n",
       "    <tr>\n",
       "      <th>Dezembro</th>\n",
       "      <td>1189.075727</td>\n",
       "      <td>7.169057</td>\n",
       "      <td>1423.850606</td>\n",
       "      <td>134.724835</td>\n",
       "    </tr>\n",
       "  </tbody>\n",
       "</table>\n",
       "</div>"
      ],
      "text/plain": [
       "           potencia_ativa  velocidade_do_vento  potencia_teorica  \\\n",
       "Meses                                                              \n",
       "Janeiro       1469.538834             9.407847       2051.432742   \n",
       "Fevereiro     1398.812191             8.179499       1670.969069   \n",
       "Março         1778.547254             9.204149       1899.451986   \n",
       "Abril         1062.471714             6.740089       1186.013869   \n",
       "Maio          1099.212305             6.693869       1271.246602   \n",
       "Junho         1168.209523             6.844458       1330.927093   \n",
       "Julho          694.432261             5.474675        781.056052   \n",
       "Agosto        1510.816574             8.050320       1695.374114   \n",
       "Setembro      1491.921321             7.704346       1601.570319   \n",
       "Outubro       1178.213240             6.859317       1291.069849   \n",
       "Novembro      1745.561611             8.871619       1857.157038   \n",
       "Dezembro      1189.075727             7.169057       1423.850606   \n",
       "\n",
       "           direcao_do_vento  \n",
       "Meses                        \n",
       "Janeiro          137.723051  \n",
       "Fevereiro        124.670508  \n",
       "Março            157.674416  \n",
       "Abril             94.857182  \n",
       "Maio             104.178431  \n",
       "Junho            133.941694  \n",
       "Julho            148.386055  \n",
       "Agosto            88.250307  \n",
       "Setembro         107.495466  \n",
       "Outubro          120.533551  \n",
       "Novembro         133.394652  \n",
       "Dezembro         134.724835  "
      ]
     },
     "execution_count": 40,
     "metadata": {},
     "output_type": "execute_result"
    }
   ],
   "source": [
    "colunas = {\n",
    "    1:'Janeiro',\n",
    "    2:'Fevereiro',\n",
    "    3:'Março',\n",
    "    4:'Abril',\n",
    "    5:'Maio',\n",
    "    6:'Junho',\n",
    "    7:'Julho',\n",
    "    8:'Agosto',\n",
    "    9:'Setembro',\n",
    "    10:'Outubro',\n",
    "    11:'Novembro',\n",
    "    12:'Dezembro'\n",
    "}\n",
    "\n",
    "# criando um dataframe dos meses\n",
    "energia_mensal =  turbina.groupby(turbina.index.month).mean()\n",
    "\n",
    "# renomeando o index\n",
    "energia_mensal.rename(index=colunas, inplace=True)\n",
    "\n",
    "# ajustando o nome da coluna do índice\n",
    "energia_mensal.index.name = 'Meses'\n",
    "\n",
    "# visualizando o dataframe\n",
    "energia_mensal"
   ]
  },
  {
   "cell_type": "code",
   "execution_count": 53,
   "id": "41c968d2",
   "metadata": {},
   "outputs": [
    {
     "data": {
      "text/plain": [
       "Text(0.5, 0, 'Meses')"
      ]
     },
     "execution_count": 53,
     "metadata": {},
     "output_type": "execute_result"
    },
    {
     "data": {
      "image/png": "[encoded data removed]",
      "text/plain": [
       "<Figure size 1440x576 with 1 Axes>"
      ]
     },
     "metadata": {
      "needs_background": "light"
     },
     "output_type": "display_data"
    }
   ],
   "source": [
    "plt.figure(figsize=(20, 8))\n",
    "\n",
    "# colorindo o gráfico\n",
    "cores = list(np.full(12, 'grey'))\n",
    "cores[2], cores[6], cores[10] = 'orange', 'red', 'orange' \n",
    "\n",
    "plt.grid()\n",
    "plt.bar(energia_mensal.index, height=energia_mensal.potencia_ativa, color=cores)\n",
    "plt.title('Produção mensal média de energia', fontsize=24)\n",
    "plt.ylabel('Energia média mensal', fontsize=22)\n",
    "plt.xlabel('Meses', fontsize=22)"
   ]
  },
  {
   "cell_type": "code",
   "execution_count": null,
   "id": "75b26dee",
   "metadata": {},
   "outputs": [],
   "source": []
  },
  {
   "cell_type": "code",
   "execution_count": null,
   "id": "594ac344",
   "metadata": {},
   "outputs": [],
   "source": []
  },
  {
   "cell_type": "markdown",
   "id": "65a2efb2",
   "metadata": {},
   "source": [
    "###  Quantidade diária de produção de energia\n",
    "---\n",
    "\n",
    "Existe alguma diferença entre as horas para a produção média de energia?"
   ]
  },
  {
   "cell_type": "code",
   "execution_count": null,
   "id": "2d920244",
   "metadata": {},
   "outputs": [],
   "source": []
  },
  {
   "cell_type": "code",
   "execution_count": null,
   "id": "9fa524f9",
   "metadata": {},
   "outputs": [],
   "source": []
  },
  {
   "cell_type": "markdown",
   "id": "490d2ab3",
   "metadata": {},
   "source": [
    "### Como estão correlacionadas as features ?\n",
    "---"
   ]
  },
  {
   "cell_type": "code",
   "execution_count": null,
   "id": "3817d64d",
   "metadata": {},
   "outputs": [],
   "source": []
  },
  {
   "cell_type": "code",
   "execution_count": null,
   "id": "cb90ea02",
   "metadata": {},
   "outputs": [],
   "source": []
  },
  {
   "cell_type": "markdown",
   "id": "794e4666",
   "metadata": {},
   "source": [
    "### Qual é o nível médio de saída de energia para diferentes velocidades do vento?\n",
    "---\n"
   ]
  },
  {
   "cell_type": "code",
   "execution_count": null,
   "id": "fe3f4849",
   "metadata": {},
   "outputs": [],
   "source": []
  },
  {
   "cell_type": "code",
   "execution_count": null,
   "id": "16f7ff70",
   "metadata": {},
   "outputs": [],
   "source": []
  },
  {
   "cell_type": "markdown",
   "id": "de7a0c1e",
   "metadata": {},
   "source": [
    "### Produção de energia no ano de 2018\n",
    "---\n"
   ]
  },
  {
   "cell_type": "code",
   "execution_count": null,
   "id": "29ca784a",
   "metadata": {},
   "outputs": [],
   "source": []
  },
  {
   "cell_type": "code",
   "execution_count": null,
   "id": "1cef55aa",
   "metadata": {},
   "outputs": [],
   "source": []
  },
  {
   "cell_type": "markdown",
   "id": "fbacc0fe",
   "metadata": {},
   "source": [
    "### Velocidade do vento e produção de energia\n",
    "---\n"
   ]
  },
  {
   "cell_type": "code",
   "execution_count": null,
   "id": "04e71dfd",
   "metadata": {},
   "outputs": [],
   "source": []
  },
  {
   "cell_type": "code",
   "execution_count": null,
   "id": "2110d66e",
   "metadata": {},
   "outputs": [],
   "source": []
  },
  {
   "cell_type": "markdown",
   "id": "436f016c",
   "metadata": {},
   "source": [
    "### Qual é o valor limite da velocidade do vento para potência teórica zero?"
   ]
  },
  {
   "cell_type": "code",
   "execution_count": null,
   "id": "09b7b816",
   "metadata": {},
   "outputs": [],
   "source": []
  },
  {
   "cell_type": "code",
   "execution_count": null,
   "id": "162d95e7",
   "metadata": {},
   "outputs": [],
   "source": []
  }
 ],
 "metadata": {
  "kernelspec": {
   "display_name": "Python 3",
   "language": "python",
   "name": "python3"
  },
  "language_info": {
   "codemirror_mode": {
    "name": "ipython",
    "version": 3
   },
   "file_extension": ".py",
   "mimetype": "text/x-python",
   "name": "python",
   "nbconvert_exporter": "python",
   "pygments_lexer": "ipython3",
   "version": "3.8.8"
  }
 },
 "nbformat": 4,
 "nbformat_minor": 5
}
