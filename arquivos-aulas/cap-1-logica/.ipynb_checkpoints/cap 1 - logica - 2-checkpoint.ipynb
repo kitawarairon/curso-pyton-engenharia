{
 "cells": [
  {
   "cell_type": "markdown",
   "id": "3b254bdd-3fc6-4935-a3b6-ef2edd0b9304",
   "metadata": {},
   "source": [
    "# Operações básicas com o Python\n",
    "\n",
    "* Operações de matemática básica;\n",
    "* Entrada de dados;\n",
    "* Criando o primeiro algorítimo."
   ]
  },
  {
   "cell_type": "markdown",
   "id": "b4af326a-c4e5-454c-8097-86f81b103aa5",
   "metadata": {},
   "source": [
    "## Operações básicas\n",
    "```python\n",
    "+  soma\n",
    "-  diferença\n",
    "*  multiplicação\n",
    "/  divisão\n",
    "** potenciação\n",
    "%  mod (resto da divisão)\n",
    "```"
   ]
  },
  {
   "cell_type": "code",
   "execution_count": 1,
   "id": "e26db37f-0f72-4ad9-b76f-f5d32a215bb6",
   "metadata": {},
   "outputs": [
    {
     "name": "stdout",
     "output_type": "stream",
     "text": [
      "4\n"
     ]
    }
   ],
   "source": [
    "print(2+2)"
   ]
  },
  {
   "cell_type": "code",
   "execution_count": 2,
   "id": "b9508089-4727-4b70-9f1b-d6d104436cfb",
   "metadata": {},
   "outputs": [
    {
     "name": "stdout",
     "output_type": "stream",
     "text": [
      "-40898.54216\n"
     ]
    }
   ],
   "source": [
    "print(14587.45784 - 55486)"
   ]
  },
  {
   "cell_type": "code",
   "execution_count": 3,
   "id": "0241af94-abcb-4905-b71b-7f3019e588b7",
   "metadata": {},
   "outputs": [
    {
     "name": "stdout",
     "output_type": "stream",
     "text": [
      "10\n"
     ]
    }
   ],
   "source": [
    "print(2 * 5)"
   ]
  },
  {
   "cell_type": "code",
   "execution_count": 4,
   "id": "7af3702e-85b0-4d05-ad58-1e29dad1f4f6",
   "metadata": {},
   "outputs": [
    {
     "name": "stdout",
     "output_type": "stream",
     "text": [
      "5.0\n"
     ]
    }
   ],
   "source": [
    "print(25/5)"
   ]
  },
  {
   "cell_type": "code",
   "execution_count": 5,
   "id": "a5a1a369-5048-423c-8ddb-2e4b2f30bfab",
   "metadata": {},
   "outputs": [
    {
     "name": "stdout",
     "output_type": "stream",
     "text": [
      "32\n"
     ]
    }
   ],
   "source": [
    "print(2**5)"
   ]
  },
  {
   "cell_type": "code",
   "execution_count": 6,
   "id": "22ea0fd2-fa65-4d1a-b0a5-b3a55d60e769",
   "metadata": {},
   "outputs": [
    {
     "name": "stdout",
     "output_type": "stream",
     "text": [
      "0\n"
     ]
    }
   ],
   "source": [
    "print(10%5)"
   ]
  },
  {
   "cell_type": "code",
   "execution_count": 8,
   "id": "bf74514a-b21b-4431-bc16-aee078184d11",
   "metadata": {},
   "outputs": [
    {
     "name": "stdout",
     "output_type": "stream",
     "text": [
      "1\n"
     ]
    }
   ],
   "source": [
    "print(11%5)"
   ]
  },
  {
   "cell_type": "code",
   "execution_count": 9,
   "id": "d1b08075-4ed6-4b90-87e5-246fcd70b82d",
   "metadata": {},
   "outputs": [
    {
     "name": "stdout",
     "output_type": "stream",
     "text": [
      "6\n"
     ]
    }
   ],
   "source": [
    "print(2 + 2**2)"
   ]
  },
  {
   "cell_type": "code",
   "execution_count": 10,
   "id": "b877567c-7685-45fb-af03-8c9d96250878",
   "metadata": {},
   "outputs": [
    {
     "name": "stdout",
     "output_type": "stream",
     "text": [
      "16\n"
     ]
    }
   ],
   "source": [
    "print((2 + 2)**2)"
   ]
  },
  {
   "cell_type": "markdown",
   "id": "aaaef303-e2e7-4a08-8bed-c58697d33c68",
   "metadata": {},
   "source": [
    "## Entrada de dados\n",
    "---\n",
    "\n",
    "Para entrada de dados utilizada a função *built-in* `input()`.\n",
    "\n",
    "```python\n",
    "input()\n",
    "```\n"
   ]
  },
  {
   "cell_type": "code",
   "execution_count": 11,
   "id": "2616180c-d899-41d7-81cc-0037691510d3",
   "metadata": {},
   "outputs": [
    {
     "name": "stdin",
     "output_type": "stream",
     "text": [
      " Arthuuurrruu\n"
     ]
    }
   ],
   "source": [
    "pedir_nome = input()"
   ]
  },
  {
   "cell_type": "code",
   "execution_count": 12,
   "id": "2480e1fa-9b6f-493b-ba86-c824f00b81bb",
   "metadata": {},
   "outputs": [
    {
     "name": "stdout",
     "output_type": "stream",
     "text": [
      "Arthuuurrruu\n"
     ]
    }
   ],
   "source": [
    "print(pedir_nome)"
   ]
  },
  {
   "cell_type": "code",
   "execution_count": 22,
   "id": "45d912e3-829c-49db-9906-b90efded2b5f",
   "metadata": {},
   "outputs": [
    {
     "name": "stdin",
     "output_type": "stream",
     "text": [
      "Insira a sua idade:  25\n"
     ]
    }
   ],
   "source": [
    "pedir_idade = int(input('Insira a sua idade: '))"
   ]
  },
  {
   "cell_type": "code",
   "execution_count": 23,
   "id": "bdd739a1-b934-4c17-b489-1429c7248288",
   "metadata": {},
   "outputs": [
    {
     "name": "stdout",
     "output_type": "stream",
     "text": [
      "25\n"
     ]
    }
   ],
   "source": [
    "print(pedir_idade)"
   ]
  },
  {
   "cell_type": "code",
   "execution_count": 24,
   "id": "9d81e6af-4b13-4616-8f5d-1f4a96f9bbb7",
   "metadata": {},
   "outputs": [
    {
     "data": {
      "text/plain": [
       "int"
      ]
     },
     "execution_count": 24,
     "metadata": {},
     "output_type": "execute_result"
    }
   ],
   "source": [
    "type(pedir_idade)"
   ]
  },
  {
   "cell_type": "markdown",
   "id": "92c7a146-fc7d-4743-a066-7c2b135458bb",
   "metadata": {},
   "source": [
    "## Primeiro algoritimo\n",
    "---\n",
    "\n",
    "Deseja-se criar um algoritimo que calcule o aumento do salário. O usuário vai colocar o seu salário e o  algoritimo vai **retornar o valor do salário com o aumento**. Considere o aumento $i = 25\\%$.\n",
    "\n",
    "Lembre-se\n",
    "\n",
    "$aumento = salário.i$"
   ]
  },
  {
   "cell_type": "code",
   "execution_count": null,
   "id": "cb2a3153-897e-4172-ad55-571306d52be6",
   "metadata": {},
   "outputs": [],
   "source": [
    "# passo a passo\n",
    "\n",
    "# dados de entrada\n",
    "# salário \n",
    "# taxa\n",
    "\n",
    "# salário = salário + salário*i"
   ]
  },
  {
   "cell_type": "code",
   "execution_count": 27,
   "id": "81bb49b8-4802-44eb-8d33-8ed371379274",
   "metadata": {},
   "outputs": [
    {
     "name": "stdin",
     "output_type": "stream",
     "text": [
      "Salário:  1000\n"
     ]
    },
    {
     "name": "stdout",
     "output_type": "stream",
     "text": [
      "1250.0\n"
     ]
    }
   ],
   "source": [
    "salario = float(input('Salário: '))\n",
    "i = 0.25\n",
    "aumento = salario*i\n",
    "print(salario + aumento)"
   ]
  },
  {
   "cell_type": "code",
   "execution_count": 30,
   "id": "f6070bae-722f-4f78-b39c-a95f2fa65440",
   "metadata": {},
   "outputs": [
    {
     "name": "stdin",
     "output_type": "stream",
     "text": [
      "Salário (R$):  10000\n",
      "Taxa de aumento (%):  50\n"
     ]
    },
    {
     "name": "stdout",
     "output_type": "stream",
     "text": [
      "15000.0\n"
     ]
    }
   ],
   "source": [
    "salario = float(input('Salário (R$): '))\n",
    "i = float(input('Taxa de aumento (%): '))/100\n",
    "aumento = salario * i\n",
    "print(salario + aumento)"
   ]
  },
  {
   "cell_type": "markdown",
   "id": "06bfda2c",
   "metadata": {},
   "source": [
    "* Exercícios extras\n",
    "\n",
    "**<font color =\"red\">Exercício 1</font>**: Deseja-se criar um algoritimo que transforme a velocidade em m/s para km/h e imprima o resultado em km/h.\n",
    "\n",
    "Lembre-se que:\n",
    "\n",
    "10 m/s = 36 km/h"
   ]
  },
  {
   "cell_type": "code",
   "execution_count": 2,
   "id": "605719ab",
   "metadata": {},
   "outputs": [
    {
     "name": "stdout",
     "output_type": "stream",
     "text": [
      "Velocidade (m/s): 20\n",
      "72.0\n"
     ]
    }
   ],
   "source": [
    "# solução\n",
    "# dados de entrada\n",
    "velocidade_ms = float(input('Velocidade (m/s): '))\n",
    "\n",
    "# conversão\n",
    "fator_conversao = 3.6\n",
    "\n",
    "# convertendo m/s em k/h\n",
    "velocidade_kmh = velocidade_ms * fator_conversao\n",
    "\n",
    "# impressão de resultados\n",
    "print(velocidade_kmh)\n",
    "\n"
   ]
  }
 ],
 "metadata": {
  "kernelspec": {
   "display_name": "Python 3",
   "language": "python",
   "name": "python3"
  },
  "language_info": {
   "codemirror_mode": {
    "name": "ipython",
    "version": 3
   },
   "file_extension": ".py",
   "mimetype": "text/x-python",
   "name": "python",
   "nbconvert_exporter": "python",
   "pygments_lexer": "ipython3",
   "version": "3.8.8"
  }
 },
 "nbformat": 4,
 "nbformat_minor": 5
}
