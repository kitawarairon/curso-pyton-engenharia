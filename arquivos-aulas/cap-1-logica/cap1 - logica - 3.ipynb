{
 "cells": [
  {
   "cell_type": "markdown",
   "id": "2df8d44c-fa6a-400c-a657-642bf6d819dc",
   "metadata": {},
   "source": [
    "# Treinando a lógica de programação\n",
    "---\n",
    "\n",
    "* Melhorando a impressão dos nossos dados;\n",
    "* Resolvendo exercícios."
   ]
  },
  {
   "cell_type": "markdown",
   "id": "8aaacecb-55cf-43ac-a36a-66017ae4301f",
   "metadata": {},
   "source": [
    "## Formatando os nossos dados\n",
    "---"
   ]
  },
  {
   "cell_type": "code",
   "execution_count": 12,
   "id": "eab9b067-2cc4-4ac3-9d89-acb883369d33",
   "metadata": {},
   "outputs": [],
   "source": [
    "nome = 'João'\n",
    "idade = 25\n",
    "peso = 62.45458212154"
   ]
  },
  {
   "cell_type": "code",
   "execution_count": 16,
   "id": "38118b3f-b2ac-48c6-8f02-e7f79c231771",
   "metadata": {},
   "outputs": [
    {
     "data": {
      "text/plain": [
       "int"
      ]
     },
     "execution_count": 16,
     "metadata": {},
     "output_type": "execute_result"
    }
   ],
   "source": [
    "type(idade)"
   ]
  },
  {
   "cell_type": "code",
   "execution_count": 17,
   "id": "71f7aa91-6248-4797-82ba-75041aae7338",
   "metadata": {},
   "outputs": [],
   "source": [
    "idade = str(idade)"
   ]
  },
  {
   "cell_type": "code",
   "execution_count": 18,
   "id": "f4167f79-0732-477e-b977-90ce4a49e286",
   "metadata": {},
   "outputs": [
    {
     "data": {
      "text/plain": [
       "str"
      ]
     },
     "execution_count": 18,
     "metadata": {},
     "output_type": "execute_result"
    }
   ],
   "source": [
    "type(idade)"
   ]
  },
  {
   "cell_type": "code",
   "execution_count": 15,
   "id": "1cf53146-e0bf-4c1d-b4d7-10e0c22af44b",
   "metadata": {},
   "outputs": [
    {
     "name": "stdout",
     "output_type": "stream",
     "text": [
      "Meu nome é 4 e tenho 25 anos com peso de 62.45 kg\n"
     ]
    }
   ],
   "source": [
    "print(f'Meu nome é {2 + 2} e tenho {idade} anos com peso de {peso:.2f} kg')"
   ]
  },
  {
   "cell_type": "markdown",
   "id": "48d0d7a4-9dca-499a-8680-d4b75811458c",
   "metadata": {},
   "source": [
    "## Exercícios\n",
    "---\n",
    "\n",
    "* Exemplo: Crie um programa que converta um valor em metros para milímetros\n",
    "\n"
   ]
  },
  {
   "cell_type": "code",
   "execution_count": 1,
   "id": "f58ecaad-9f1d-4451-8581-9fcb0c6b7db3",
   "metadata": {},
   "outputs": [],
   "source": [
    "# dado de entrada -> valor em m\n",
    "# dado de saida -> valor em mm\n",
    "\n",
    "# m -> mm : 1 m = 1000 mm"
   ]
  },
  {
   "cell_type": "code",
   "execution_count": 21,
   "id": "5dd66d6d-f57e-402f-9908-a95fe5010c08",
   "metadata": {},
   "outputs": [
    {
     "name": "stdin",
     "output_type": "stream",
     "text": [
      "Insira o valor em metros:  1245\n"
     ]
    },
    {
     "name": "stdout",
     "output_type": "stream",
     "text": [
      "O valor em metros era de 1245.000 m e em milímetros ficou com 1245000.00\n"
     ]
    }
   ],
   "source": [
    "valor_em_metros = float(input('Insira o valor em metros: '))\n",
    "\n",
    "conversor = 1000\n",
    "\n",
    "valor_em_milimetros = valor_em_metros * conversor\n",
    "\n",
    "print(f'O valor em metros era de {valor_em_metros:.3f} m e em milímetros ficou com {valor_em_milimetros:.2f}')"
   ]
  },
  {
   "cell_type": "markdown",
   "id": "b8e3ec31-1be8-45e3-a12c-bb062d1306b0",
   "metadata": {},
   "source": [
    "* Crie um programa que calcule o tempo médio de viagem, considerando dados de entrada: a velocidade média e a distância.\n",
    "\n",
    " Lembre-se:\n",
    " \n",
    " $velocidade = \\frac{distancia}{tempo}$\n",
    " \n",
    "**Atenção as unidades**\n"
   ]
  },
  {
   "cell_type": "code",
   "execution_count": null,
   "id": "43486e5c-4fe2-4168-9741-af3e15d366de",
   "metadata": {},
   "outputs": [],
   "source": [
    "# dados de entrada:\n",
    "# velocidade media\n",
    "# distancia\n",
    "\n",
    "# dados de saida \n",
    "# tempo\n",
    "\n",
    "# tempo = distancia/velocidade"
   ]
  },
  {
   "cell_type": "code",
   "execution_count": 26,
   "id": "99af1a10-7037-4ba1-b2c5-e8a5881b37d1",
   "metadata": {},
   "outputs": [
    {
     "name": "stdin",
     "output_type": "stream",
     "text": [
      " Velocidade (km/h):  100\n",
      "Distância (km):  450\n"
     ]
    },
    {
     "name": "stdout",
     "output_type": "stream",
     "text": [
      "O tempo de viagem vai ser de 4.5 horas\n"
     ]
    }
   ],
   "source": [
    "velocidade = float(input(' Velocidade (km/h): '))\n",
    "distancia = float(input('Distância (km): '))\n",
    "\n",
    "print(f'O tempo de viagem vai ser de {distancia/velocidade} horas')"
   ]
  },
  {
   "cell_type": "markdown",
   "id": "2586e871-b508-479d-bdde-df7581b19b0a",
   "metadata": {},
   "source": [
    "* Crie um programa que calcule o valor do aluguel de um carro, sendo que existem três taxas, a primeira referente a quantidade de dias utilizados ( 60 REAIS POR DIA), a segunda uma taxa de seguro fixa (500 REAIS) e, finalmente, a terceira taxa que representa  o custo por km rodado (15 REAIS POR KM RODADO). Assim, o seu programa deve pedir a quantidade de dias utilizados e a quantidade de km rodados e como saída deve informar o custo total."
   ]
  },
  {
   "cell_type": "code",
   "execution_count": null,
   "id": "314484c6-9cb0-4329-bf0d-6dbb984ce15b",
   "metadata": {},
   "outputs": [],
   "source": [
    "# entrada\n",
    "# dias de uso\n",
    "# km rodados\n",
    "# saida\n",
    "# custo total\n",
    "\n",
    "# custo total = custo da taxa 1 + custo da taxa 2 + custo da taxa 3\n",
    "# custo total = dias * custo/dia + 500 + km * custo/km"
   ]
  },
  {
   "cell_type": "code",
   "execution_count": 28,
   "id": "fb6e0586-a3b7-458a-a2c4-6998d42db419",
   "metadata": {},
   "outputs": [
    {
     "name": "stdin",
     "output_type": "stream",
     "text": [
      "Dias:  28\n",
      "km:  600\n"
     ]
    },
    {
     "name": "stdout",
     "output_type": "stream",
     "text": [
      "O custo total foi de 11180.0\n"
     ]
    }
   ],
   "source": [
    "# dados de entrada\n",
    "dias_de_uso = int(input('Dias: '))\n",
    "km_rodados = float(input('km: '))\n",
    "\n",
    "# taxas\n",
    "taxa_dias = 60\n",
    "taxa_inicial = 500\n",
    "taxa_km = 15\n",
    "\n",
    "# custo\n",
    "custo_do_dias = dias_de_uso * taxa_dias \n",
    "custo_inicial = taxa_inicial\n",
    "custo_rodado = km_rodados * taxa_km\n",
    "\n",
    "# custo total\n",
    "custo_total = custo_do_dias + custo_inicial + custo_rodado\n",
    "\n",
    "# retorno\n",
    "print(f'O custo total foi de {custo_total} R$')"
   ]
  },
  {
   "cell_type": "markdown",
   "id": "8d82d5c3-beb0-4c11-b6e9-c3a86963471d",
   "metadata": {},
   "source": [
    "*  Crie um programa que peça a coordenada de dois pontos no plano cartesiano e resulte na distância entre eles.\n",
    "\n",
    "**Lembrete:**\n",
    "\n",
    "`Pontos`\n",
    "\n",
    "$a = (x_a, y_a)$ \n",
    "\n",
    "$b = (x_b, y_b)$ \n",
    "\n",
    "`Distância entre os pontos`\n",
    "\n",
    "$d(a, b) = \\sqrt{(x_a -  x_b)^2 + (y_a - y_b)^2 )}$\n"
   ]
  },
  {
   "cell_type": "code",
   "execution_count": null,
   "id": "bb01bfb3-06e1-40c7-a51c-e7800811d6d8",
   "metadata": {},
   "outputs": [],
   "source": [
    "# dados de entrada\n",
    "# xa, xb, ya, yb\n",
    "\n",
    "# distancia = ((xa - xb)**2 + (ya - yb)**2)**(1/2))\n",
    "\n",
    "# retorno distancia\n",
    "# a (3,0)\n",
    "# b (4,0)\n",
    "#  5"
   ]
  },
  {
   "cell_type": "code",
   "execution_count": 3,
   "id": "521e78c5",
   "metadata": {},
   "outputs": [
    {
     "name": "stdout",
     "output_type": "stream",
     "text": [
      "A distância entre os pontos é de 5.0\n"
     ]
    }
   ],
   "source": [
    "# solução \n",
    "# ponto A\n",
    "xa = 3\n",
    "ya = 0\n",
    "\n",
    "# ponto B\n",
    "xb = 0\n",
    "yb = 4\n",
    "\n",
    "# distancia\n",
    "dist = ((xa-xb)**2 + (ya - yb)**2)**(0.5)\n",
    "\n",
    "\n",
    "# impressão\n",
    "print('A distância entre os pontos é de {}'.format(dist))"
   ]
  },
  {
   "cell_type": "code",
   "execution_count": 29,
   "id": "8674fdb9-2cc1-4634-b768-fa3a84795014",
   "metadata": {},
   "outputs": [
    {
     "name": "stdin",
     "output_type": "stream",
     "text": [
      "Salário:  100\n",
      "Taxa (%):  10\n"
     ]
    },
    {
     "name": "stdout",
     "output_type": "stream",
     "text": [
      "100.0\n",
      "110.00000000000001\n"
     ]
    }
   ],
   "source": [
    "# salario = salario + salario * taxa\n",
    "# salario = salario(1+taxa)\n",
    "\n",
    "salario = float(input('Salário: ')) # float 100\n",
    "taxa = float(input('Taxa (%): '))/100 # float\n",
    "\n",
    "print(salario) # 100\n",
    "\n",
    "salario = salario*(1+taxa)\n",
    "\n",
    "print(salario) # 110"
   ]
  },
  {
   "cell_type": "code",
   "execution_count": 33,
   "id": "0dc6e808-b35a-492a-af24-4c20fba4586b",
   "metadata": {},
   "outputs": [
    {
     "name": "stdout",
     "output_type": "stream",
     "text": [
      "pedro\n",
      "pedroGustavo\n"
     ]
    }
   ],
   "source": [
    "nome = 'pedro'\n",
    "\n",
    "print(nome) # pedro\n",
    "       # pedro\n",
    "nome = nome + 'Gustavo'\n",
    "\n",
    "print(nome) # pedro gustavo"
   ]
  },
  {
   "cell_type": "markdown",
   "id": "4b3dfa16",
   "metadata": {},
   "source": [
    "* Exercicios extras\n",
    "\n",
    "**<font color=\"red\">Exemplo 1:</font>** O que acontece se a gente colocar um valor inteiro na função `input()`?"
   ]
  },
  {
   "cell_type": "code",
   "execution_count": null,
   "id": "f4373df0",
   "metadata": {},
   "outputs": [],
   "source": [
    "# solução exemplo 1:\n",
    "# A função input irá converter o número inteiro para um tipo string"
   ]
  },
  {
   "cell_type": "markdown",
   "id": "fb9ab0fc",
   "metadata": {},
   "source": [
    "**<font color=\"red\">Exemplo 2:</font>** Qual a vantagem de usar um variável?"
   ]
  },
  {
   "cell_type": "code",
   "execution_count": null,
   "id": "03ba8dc8",
   "metadata": {},
   "outputs": [],
   "source": [
    "# solução exemplo 2\n",
    "# a variável nos permite fazer apenas uma alteração em um único ponto do código e alterar em toda  a estrutura do codigo "
   ]
  },
  {
   "cell_type": "markdown",
   "id": "8e1e8f59",
   "metadata": {},
   "source": [
    "* Exercícios extras\n",
    "\n",
    "**<font color =\"red\">Exercício 3</font>**: Deseja criar um programa que transforme a temperatura em graus Celcius para Kelvin. Assim, o seu programa vai receber um dado de entrada em Celcius e vai retornar o valor da temperatura em Kelvin."
   ]
  },
  {
   "cell_type": "code",
   "execution_count": 1,
   "id": "1241c947",
   "metadata": {},
   "outputs": [
    {
     "name": "stdout",
     "output_type": "stream",
     "text": [
      "Temperatura em (Cº): 27\n",
      "A temperatura em Kelvin é 300.0 K\n"
     ]
    }
   ],
   "source": [
    "# solução exercicio 1\n",
    "\n",
    "temp_celcius = float(input('Temperatura em (Cº): '))\n",
    "\n",
    "temp_kelvin = temp_celcius + 273 \n",
    "\n",
    "print('A temperatura em Kelvin é', temp_kelvin, 'K')"
   ]
  },
  {
   "cell_type": "markdown",
   "id": "3ccfd871",
   "metadata": {},
   "source": [
    "**<font color =\"red\">Exercício 4:<font>** Crie um programa que peça o seu nome, altura e peso. Como retorno gere uma frase no seguinte formato:\n",
    "\n",
    "```python\n",
    "'Pedro seu IMC é de 25.00'\n",
    "```"
   ]
  },
  {
   "cell_type": "code",
   "execution_count": 2,
   "id": "32df57e7",
   "metadata": {},
   "outputs": [
    {
     "name": "stdout",
     "output_type": "stream",
     "text": [
      "Nome: Pedro\n",
      "Altura (m): 1.80\n",
      "Peso (kg): 65\n",
      "Pedro seu IMC é de 20.06\n"
     ]
    }
   ],
   "source": [
    "# ---\n",
    "# solução\n",
    "# ---\n",
    "# dados de entrada\n",
    "nome = input('Nome: ')\n",
    "altura =  float(input('Altura (m): '))\n",
    "peso = float(input('Peso (kg): '))\n",
    "\n",
    "# calculo do imc\n",
    "imc = peso / altura ** 2\n",
    "\n",
    "# impressão do resultado\n",
    "print(f'{nome} seu IMC é de {imc:.2f}')"
   ]
  }
 ],
 "metadata": {
  "kernelspec": {
   "display_name": "Python 3",
   "language": "python",
   "name": "python3"
  },
  "language_info": {
   "codemirror_mode": {
    "name": "ipython",
    "version": 3
   },
   "file_extension": ".py",
   "mimetype": "text/x-python",
   "name": "python",
   "nbconvert_exporter": "python",
   "pygments_lexer": "ipython3",
   "version": "3.8.8"
  }
 },
 "nbformat": 4,
 "nbformat_minor": 5
}
