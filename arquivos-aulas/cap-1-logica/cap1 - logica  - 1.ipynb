{
 "cells": [
  {
   "cell_type": "markdown",
   "id": "9ad0c545-667f-49ae-b2fa-1e66063d1d5e",
   "metadata": {},
   "source": [
    "# Conceitos iniciais\n",
    "---\n",
    "* O que é lógica de programação/ algoritimo ?\n",
    "* O que é uma variável ? \n",
    "* Tipos de variáveis\n",
    "* Primeiro Hello World!\n",
    "```python\n",
    "print()\n",
    "```"
   ]
  },
  {
   "cell_type": "markdown",
   "id": "33cea190-e417-4040-a90a-3e08c2e270db",
   "metadata": {},
   "source": [
    "## Lógica de programação\n",
    "---\n",
    "* Situação A - tomar café;\n",
    "* Situação B - levar o cachorro para passear."
   ]
  },
  {
   "cell_type": "code",
   "execution_count": null,
   "id": "d21c565a-ecf3-4a46-a607-10691736f818",
   "metadata": {},
   "outputs": [],
   "source": [
    "# algoritimo para a situação A\n",
    "# fazer o café\n",
    "# pegar o café e colocar no copo\n",
    "# pegar o copo\n",
    "# levar o copo até a boca\n",
    "# beber o café"
   ]
  },
  {
   "cell_type": "code",
   "execution_count": null,
   "id": "f3db9e77-8cd5-4e27-b117-403de9985d29",
   "metadata": {},
   "outputs": [],
   "source": [
    "# algoritimo para a situação B\n",
    "\n",
    "# pegar a coleira\n",
    "# colocar a coleira no cachorro\n",
    "# ir até a porta\n",
    "# abrir a porta\n",
    "# sair de casa\n",
    "# fechar a porta\n",
    "# passear \n",
    "# abrir a porta\n",
    "# entrar em casa\n",
    "# fechar a porta"
   ]
  },
  {
   "cell_type": "markdown",
   "id": "35808e4f-ea53-4b99-82cd-ea2493266380",
   "metadata": {},
   "source": [
    "## O que é uma variável\n",
    "---"
   ]
  },
  {
   "cell_type": "code",
   "execution_count": 1,
   "id": "1575a5ac-fb90-47b5-9362-354022be818e",
   "metadata": {},
   "outputs": [],
   "source": [
    "nome = 'Pedro'"
   ]
  },
  {
   "cell_type": "markdown",
   "id": "b7839c11-fef5-46b8-a5fb-2dc4f5597ec0",
   "metadata": {},
   "source": [
    "## Tipos de variáveis\n",
    "---"
   ]
  },
  {
   "cell_type": "code",
   "execution_count": 5,
   "id": "a8f7ef9f-4857-44d4-bc39-734404a0d8dc",
   "metadata": {},
   "outputs": [],
   "source": [
    "# strings\n",
    "nome_do_professor = \"Prof. Juca Tatu\""
   ]
  },
  {
   "cell_type": "code",
   "execution_count": 6,
   "id": "6b252dd6-587d-4fe6-9550-417215242816",
   "metadata": {},
   "outputs": [
    {
     "data": {
      "text/plain": [
       "str"
      ]
     },
     "execution_count": 6,
     "metadata": {},
     "output_type": "execute_result"
    }
   ],
   "source": [
    "type(nome_do_professor)"
   ]
  },
  {
   "cell_type": "code",
   "execution_count": 13,
   "id": "4ffd8547-663e-4976-9575-ab8e1af44ec7",
   "metadata": {},
   "outputs": [],
   "source": [
    "# inteiros\n",
    "idade_do_professor = 45"
   ]
  },
  {
   "cell_type": "code",
   "execution_count": 14,
   "id": "e0f4cf95-a387-4112-951b-3c25483eed61",
   "metadata": {},
   "outputs": [
    {
     "data": {
      "text/plain": [
       "int"
      ]
     },
     "execution_count": 14,
     "metadata": {},
     "output_type": "execute_result"
    }
   ],
   "source": [
    "type(idade_do_professor)"
   ]
  },
  {
   "cell_type": "code",
   "execution_count": 9,
   "id": "d9eab77e-5cbc-47f4-bd50-7cace9b1789b",
   "metadata": {},
   "outputs": [],
   "source": [
    "# floats\n",
    "altura_do_professor = 1.8745212454"
   ]
  },
  {
   "cell_type": "code",
   "execution_count": 10,
   "id": "e9c2ecc8-dee1-425e-854a-b559f9433cde",
   "metadata": {},
   "outputs": [
    {
     "data": {
      "text/plain": [
       "float"
      ]
     },
     "execution_count": 10,
     "metadata": {},
     "output_type": "execute_result"
    }
   ],
   "source": [
    "type(altura_do_professor)"
   ]
  },
  {
   "cell_type": "code",
   "execution_count": 15,
   "id": "3dd97403-40d3-425c-a945-c693bbf13dfe",
   "metadata": {},
   "outputs": [],
   "source": [
    "# booleanos\n",
    "# 0 -> False\n",
    "# 1 -> True\n",
    "professor_eh_efetivado = True"
   ]
  },
  {
   "cell_type": "code",
   "execution_count": 16,
   "id": "c980d86e-d062-4d56-a902-297addf5a5cb",
   "metadata": {},
   "outputs": [
    {
     "data": {
      "text/plain": [
       "bool"
      ]
     },
     "execution_count": 16,
     "metadata": {},
     "output_type": "execute_result"
    }
   ],
   "source": [
    "type(professor_eh_efetivado)"
   ]
  },
  {
   "cell_type": "markdown",
   "id": "3cd81632-250c-4660-8c35-dd6772c7bd49",
   "metadata": {},
   "source": [
    "## Primeiro Hello World!\n",
    "---"
   ]
  },
  {
   "cell_type": "code",
   "execution_count": 17,
   "id": "9e94831f-bad1-43be-ab37-f12c1e3054cd",
   "metadata": {},
   "outputs": [
    {
     "name": "stdout",
     "output_type": "stream",
     "text": [
      "Hello World!\n"
     ]
    }
   ],
   "source": [
    "print(\"Hello World!\")"
   ]
  },
  {
   "cell_type": "code",
   "execution_count": 21,
   "id": "0c81f251-2835-4a15-89ef-6f3a25145a36",
   "metadata": {},
   "outputs": [
    {
     "name": "stdout",
     "output_type": "stream",
     "text": [
      "Prof. Juca Tatu 45\n"
     ]
    }
   ],
   "source": [
    "print(nome_do_professor, idade_do_professor)"
   ]
  },
  {
   "cell_type": "markdown",
   "id": "67cad4a1",
   "metadata": {},
   "source": [
    "* Exercícios extras:\n",
    "\n",
    "**<font color=\"red\">Exercício extra 1</font>**: O que é lógica de programação ? Dê um exemplo."
   ]
  },
  {
   "cell_type": "code",
   "execution_count": null,
   "id": "f2784419",
   "metadata": {},
   "outputs": [],
   "source": [
    "# solução\n",
    "# a  lógica de programação são um conjunto de comandos seguidos por um passo a passo. O passo a passo de escovar os dentes."
   ]
  },
  {
   "cell_type": "markdown",
   "id": "36246929",
   "metadata": {},
   "source": [
    "**<font color=\"red\">Exercício extra 2</font>**: O que a função `print()` faz ?"
   ]
  },
  {
   "cell_type": "code",
   "execution_count": null,
   "id": "20233ba0",
   "metadata": {},
   "outputs": [],
   "source": [
    "# a função print receber variáveos (objetos) como argumento e \"imprime\" no terminal"
   ]
  },
  {
   "cell_type": "markdown",
   "id": "328bf0f1",
   "metadata": {},
   "source": [
    "**<font color=\"red\">Exercício extra 3</font>**: O que a função `type()` faz ?"
   ]
  },
  {
   "cell_type": "code",
   "execution_count": null,
   "id": "653d5ad2",
   "metadata": {},
   "outputs": [],
   "source": [
    "# a função type retorna o tipo da variável/objeto"
   ]
  },
  {
   "cell_type": "markdown",
   "id": "b2f4aaa0",
   "metadata": {},
   "source": [
    "**<font color=\"red\">Exercício extra 4</font>**: Indique 4 tipos utilizados no python"
   ]
  },
  {
   "cell_type": "code",
   "execution_count": null,
   "id": "a362c70f",
   "metadata": {},
   "outputs": [],
   "source": [
    "# inteiro\n",
    "# ponto flutuante\n",
    "# boleano\n",
    "# string\n",
    "# listas\n",
    "# tuplas\n",
    "# dicionarios\n",
    "# complexo"
   ]
  }
 ],
 "metadata": {
  "kernelspec": {
   "display_name": "Python 3",
   "language": "python",
   "name": "python3"
  },
  "language_info": {
   "codemirror_mode": {
    "name": "ipython",
    "version": 3
   },
   "file_extension": ".py",
   "mimetype": "text/x-python",
   "name": "python",
   "nbconvert_exporter": "python",
   "pygments_lexer": "ipython3",
   "version": "3.8.8"
  }
 },
 "nbformat": 4,
 "nbformat_minor": 5
}
