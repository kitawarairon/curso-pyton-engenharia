{
 "cells": [
  {
   "cell_type": "markdown",
   "id": "4e353779",
   "metadata": {},
   "source": [
    "# Introdução\n",
    "---\n",
    "* Introdução e objetivos do curso!\n",
    "* Conceitos básicos de computação!\n",
    "* Por qual motivo o Python ?"
   ]
  },
  {
   "cell_type": "markdown",
   "id": "e463cf27",
   "metadata": {},
   "source": [
    "## Introdução ao curso e objetivos do curso\n",
    "---\n",
    "* <font color=\"red\">Aprender lógica de programação;</font>\n",
    "* <font color=\"red\">Dominar a linguagem Python;</font>\n",
    "* <font color=\"red\">Solucionar problemas de otimização;</font>\n",
    "* <font color=\"red\">Realizar análises de dados;</font>\n",
    "* <font color=\"red\">Aplicar o aprendizado de máquina;</font>\n",
    "* <font color=\"red\">Desenvolver uma aplicação web;</font>\n",
    "* <font color=\"red\">E muito mais...</font>"
   ]
  },
  {
   "cell_type": "markdown",
   "id": "96ec0058",
   "metadata": {},
   "source": [
    "## Conceitos básicos de computação\n",
    "---\n",
    "\n",
    "### Iteração entre pessoa e máquina!\n",
    "\n",
    "**Linguagem da máquina - 01 - binária**\n",
    "\n",
    "**Linguam de programação: Python, Java, JavaScript, C, C++, ...**\n",
    "\n",
    "### Pilares da computação!\n",
    "\n",
    "* **HARDWARE**\n",
    "\n",
    "* **SOFTWARE**\n",
    "\n",
    "* **DADOS**\n",
    "\n"
   ]
  },
  {
   "cell_type": "markdown",
   "id": "e0bf7bca",
   "metadata": {},
   "source": [
    "## Por qual motivo Python ?\n",
    "---\n",
    "\n",
    "* Python é simples!\n",
    "* Python é muito popular e está crescendo cada vez mais;\n",
    "* A comunidade é imensa;\n",
    "* Data Science;\n",
    "* Desenvolvimento Web;\n",
    "* etc..."
   ]
  }
 ],
 "metadata": {
  "kernelspec": {
   "display_name": "Python 3",
   "language": "python",
   "name": "python3"
  },
  "language_info": {
   "codemirror_mode": {
    "name": "ipython",
    "version": 3
   },
   "file_extension": ".py",
   "mimetype": "text/x-python",
   "name": "python",
   "nbconvert_exporter": "python",
   "pygments_lexer": "ipython3",
   "version": "3.8.8"
  }
 },
 "nbformat": 4,
 "nbformat_minor": 5
}
