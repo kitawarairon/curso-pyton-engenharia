{
 "cells": [
  {
   "cell_type": "markdown",
   "id": "e9ab0f80",
   "metadata": {},
   "source": [
    "# Um pouco mais de tuplas\n",
    "---\n",
    "\n",
    "* alguns métodos e funções built-in do Python;\n",
    "* `in` em tuplas;\n",
    "* um if e else diferente..\n",
    "* atividade;\n",
    "* empacotamento e desempacotamento;\n",
    "* Tuple comprehension ????"
   ]
  },
  {
   "cell_type": "markdown",
   "id": "8ee8abe0",
   "metadata": {},
   "source": [
    "## Alguns métodos e funções built-in\n",
    "---"
   ]
  },
  {
   "cell_type": "markdown",
   "id": "91373f47",
   "metadata": {},
   "source": [
    "* Métodos"
   ]
  },
  {
   "cell_type": "code",
   "execution_count": 34,
   "id": "37fca466",
   "metadata": {},
   "outputs": [],
   "source": [
    "salarios = (100, 150, 250, 50, 60, 60, 80, 90, 100, 205)"
   ]
  },
  {
   "cell_type": "markdown",
   "id": "819ee117",
   "metadata": {},
   "source": [
    "* count()"
   ]
  },
  {
   "cell_type": "code",
   "execution_count": 35,
   "id": "3ffcdf65",
   "metadata": {},
   "outputs": [
    {
     "data": {
      "text/plain": [
       "2"
      ]
     },
     "execution_count": 35,
     "metadata": {},
     "output_type": "execute_result"
    }
   ],
   "source": [
    "salarios.count(60)"
   ]
  },
  {
   "cell_type": "markdown",
   "id": "8116e2f0",
   "metadata": {},
   "source": [
    "* index()"
   ]
  },
  {
   "cell_type": "code",
   "execution_count": 42,
   "id": "5d52cd11",
   "metadata": {},
   "outputs": [
    {
     "data": {
      "text/plain": [
       "7"
      ]
     },
     "execution_count": 42,
     "metadata": {},
     "output_type": "execute_result"
    }
   ],
   "source": [
    "salarios.index(90)"
   ]
  },
  {
   "cell_type": "code",
   "execution_count": 40,
   "id": "2bfeada9",
   "metadata": {},
   "outputs": [
    {
     "ename": "ValueError",
     "evalue": "tuple.index(x): x not in tuple",
     "output_type": "error",
     "traceback": [
      "\u001b[1;31m---------------------------------------------------------------------------\u001b[0m",
      "\u001b[1;31mValueError\u001b[0m                                Traceback (most recent call last)",
      "\u001b[1;32m<ipython-input-40-ca5e60788b27>\u001b[0m in \u001b[0;36m<module>\u001b[1;34m\u001b[0m\n\u001b[1;32m----> 1\u001b[1;33m \u001b[0msalarios\u001b[0m\u001b[1;33m.\u001b[0m\u001b[0mindex\u001b[0m\u001b[1;33m(\u001b[0m\u001b[1;36m5698\u001b[0m\u001b[1;33m)\u001b[0m\u001b[1;33m\u001b[0m\u001b[1;33m\u001b[0m\u001b[0m\n\u001b[0m",
      "\u001b[1;31mValueError\u001b[0m: tuple.index(x): x not in tuple"
     ]
    }
   ],
   "source": [
    "salarios.index(5698)"
   ]
  },
  {
   "cell_type": "code",
   "execution_count": 41,
   "id": "af56bf55",
   "metadata": {},
   "outputs": [
    {
     "name": "stdout",
     "output_type": "stream",
     "text": [
      "-1\n"
     ]
    }
   ],
   "source": [
    "try:\n",
    "    i = salarios.index(5698)\n",
    "except:\n",
    "    i = -1\n",
    "print(i)"
   ]
  },
  {
   "cell_type": "markdown",
   "id": "ac03efe5",
   "metadata": {},
   "source": [
    "* funções built-in\n",
    "```python\n",
    "sum()\n",
    "min()\n",
    "max()\n",
    "sorted()\n",
    "abs()\n",
    "```"
   ]
  },
  {
   "cell_type": "code",
   "execution_count": 50,
   "id": "3d72d840",
   "metadata": {},
   "outputs": [
    {
     "data": {
      "text/plain": [
       "(100, 150, 250, 50, 60, 60, 80, 90, 100, 205)"
      ]
     },
     "execution_count": 50,
     "metadata": {},
     "output_type": "execute_result"
    }
   ],
   "source": [
    "salarios"
   ]
  },
  {
   "cell_type": "code",
   "execution_count": 45,
   "id": "eee1311c",
   "metadata": {},
   "outputs": [
    {
     "data": {
      "text/plain": [
       "1145"
      ]
     },
     "execution_count": 45,
     "metadata": {},
     "output_type": "execute_result"
    }
   ],
   "source": [
    "sum(salarios)"
   ]
  },
  {
   "cell_type": "code",
   "execution_count": 46,
   "id": "1764b570",
   "metadata": {},
   "outputs": [
    {
     "data": {
      "text/plain": [
       "50"
      ]
     },
     "execution_count": 46,
     "metadata": {},
     "output_type": "execute_result"
    }
   ],
   "source": [
    "min(salarios)"
   ]
  },
  {
   "cell_type": "code",
   "execution_count": 47,
   "id": "0864b4ce",
   "metadata": {},
   "outputs": [
    {
     "data": {
      "text/plain": [
       "250"
      ]
     },
     "execution_count": 47,
     "metadata": {},
     "output_type": "execute_result"
    }
   ],
   "source": [
    "max(salarios)"
   ]
  },
  {
   "cell_type": "code",
   "execution_count": 53,
   "id": "420f600f",
   "metadata": {},
   "outputs": [
    {
     "data": {
      "text/plain": [
       "[250, 205, 150, 100, 100, 90, 80, 60, 60, 50]"
      ]
     },
     "execution_count": 53,
     "metadata": {},
     "output_type": "execute_result"
    }
   ],
   "source": [
    "sorted(salarios, reverse=True)"
   ]
  },
  {
   "cell_type": "code",
   "execution_count": 54,
   "id": "3165665b",
   "metadata": {},
   "outputs": [
    {
     "data": {
      "text/plain": [
       "1"
      ]
     },
     "execution_count": 54,
     "metadata": {},
     "output_type": "execute_result"
    }
   ],
   "source": [
    "abs(-1)"
   ]
  },
  {
   "cell_type": "code",
   "execution_count": 55,
   "id": "bdf695ff",
   "metadata": {},
   "outputs": [
    {
     "ename": "TypeError",
     "evalue": "bad operand type for abs(): 'tuple'",
     "output_type": "error",
     "traceback": [
      "\u001b[1;31m---------------------------------------------------------------------------\u001b[0m",
      "\u001b[1;31mTypeError\u001b[0m                                 Traceback (most recent call last)",
      "\u001b[1;32m<ipython-input-55-8956a0253db1>\u001b[0m in \u001b[0;36m<module>\u001b[1;34m\u001b[0m\n\u001b[1;32m----> 1\u001b[1;33m \u001b[0mabs\u001b[0m\u001b[1;33m(\u001b[0m\u001b[0msalarios\u001b[0m\u001b[1;33m)\u001b[0m\u001b[1;33m\u001b[0m\u001b[1;33m\u001b[0m\u001b[0m\n\u001b[0m",
      "\u001b[1;31mTypeError\u001b[0m: bad operand type for abs(): 'tuple'"
     ]
    }
   ],
   "source": [
    "abs(salarios)"
   ]
  },
  {
   "cell_type": "markdown",
   "id": "1857da5f",
   "metadata": {},
   "source": [
    "## `in` em tuplas"
   ]
  },
  {
   "cell_type": "code",
   "execution_count": 56,
   "id": "ea8af5f3",
   "metadata": {},
   "outputs": [
    {
     "data": {
      "text/plain": [
       "(100, 150, 250, 50, 60, 60, 80, 90, 100, 205)"
      ]
     },
     "execution_count": 56,
     "metadata": {},
     "output_type": "execute_result"
    }
   ],
   "source": [
    "salarios"
   ]
  },
  {
   "cell_type": "code",
   "execution_count": 57,
   "id": "ecc3c15f",
   "metadata": {},
   "outputs": [
    {
     "data": {
      "text/plain": [
       "True"
      ]
     },
     "execution_count": 57,
     "metadata": {},
     "output_type": "execute_result"
    }
   ],
   "source": [
    "100 in salarios"
   ]
  },
  {
   "cell_type": "code",
   "execution_count": 60,
   "id": "f4a80200",
   "metadata": {},
   "outputs": [
    {
     "data": {
      "text/plain": [
       "False"
      ]
     },
     "execution_count": 60,
     "metadata": {},
     "output_type": "execute_result"
    }
   ],
   "source": [
    "tupla_de_string = tuple('Kkaksaksdkaskd aksdhhfas5da4s84as456d7as64d5as4d65asdaskdjahsdlkashfabvs')\n",
    "'m' in tupla_de_string"
   ]
  },
  {
   "cell_type": "markdown",
   "id": "da151a70",
   "metadata": {},
   "source": [
    "## um if e else diferente\n",
    "---"
   ]
  },
  {
   "cell_type": "code",
   "execution_count": 74,
   "id": "b3dc44c4",
   "metadata": {},
   "outputs": [],
   "source": [
    "x = 3\n",
    "if x:\n",
    "     i = 0\n",
    "else:\n",
    "    i = 1"
   ]
  },
  {
   "cell_type": "code",
   "execution_count": 75,
   "id": "e2891622",
   "metadata": {},
   "outputs": [
    {
     "data": {
      "text/plain": [
       "0"
      ]
     },
     "execution_count": 75,
     "metadata": {},
     "output_type": "execute_result"
    }
   ],
   "source": [
    "i"
   ]
  },
  {
   "cell_type": "code",
   "execution_count": 77,
   "id": "12a65278",
   "metadata": {},
   "outputs": [
    {
     "data": {
      "text/plain": [
       "0"
      ]
     },
     "execution_count": 77,
     "metadata": {},
     "output_type": "execute_result"
    }
   ],
   "source": [
    "0 if x else 1"
   ]
  },
  {
   "cell_type": "markdown",
   "id": "5f0b4127",
   "metadata": {},
   "source": [
    "## atividade\n",
    "---\n",
    "\n",
    "Abaixo segue um conjunto de cpf de clientes e eles devem ser colocados em uma estrutura segura, pois são dados extremamentes importantes.\n",
    "\n",
    "cpf_01 = 55566699923\n",
    "\n",
    "cpf_02 = 55544589928\n",
    "\n",
    "cpf_03 = 55544589924\n",
    "\n",
    "cpf_04 = 44456666521"
   ]
  },
  {
   "cell_type": "code",
   "execution_count": 105,
   "id": "2b795398",
   "metadata": {},
   "outputs": [],
   "source": [
    "cpf_01 = 55566699923,\n",
    "cpf_02 = 55544589928,\n",
    "cpf_03 = 55544589924,\n",
    "cpf_04 = 44456666521,"
   ]
  },
  {
   "cell_type": "code",
   "execution_count": null,
   "id": "642312c4",
   "metadata": {},
   "outputs": [],
   "source": [
    "# solucao 1"
   ]
  },
  {
   "cell_type": "code",
   "execution_count": 106,
   "id": "27cd509e",
   "metadata": {},
   "outputs": [
    {
     "data": {
      "text/plain": [
       "(tuple, tuple, tuple, tuple)"
      ]
     },
     "execution_count": 106,
     "metadata": {},
     "output_type": "execute_result"
    }
   ],
   "source": [
    "type(cpf_01), type(cpf_02), type(cpf_03), type(cpf_04)"
   ]
  },
  {
   "cell_type": "code",
   "execution_count": 108,
   "id": "21854e6a",
   "metadata": {},
   "outputs": [],
   "source": [
    "cpfs = cpf_01 + cpf_02 + cpf_03 + cpf_04"
   ]
  },
  {
   "cell_type": "code",
   "execution_count": 112,
   "id": "c50b4681",
   "metadata": {},
   "outputs": [
    {
     "name": "stdout",
     "output_type": "stream",
     "text": [
      "<class 'tuple'> (55566699923, 55544589928, 55544589924, 44456666521)\n"
     ]
    }
   ],
   "source": [
    "print(type(cpfs), cpfs)"
   ]
  },
  {
   "cell_type": "code",
   "execution_count": null,
   "id": "05b66fa9",
   "metadata": {},
   "outputs": [],
   "source": [
    "# solucao 2"
   ]
  },
  {
   "cell_type": "code",
   "execution_count": 113,
   "id": "671d7d7e",
   "metadata": {},
   "outputs": [],
   "source": [
    "cpfs_5 = 55566699923, 55544589928, 55544589924, 44456666521"
   ]
  },
  {
   "cell_type": "code",
   "execution_count": 114,
   "id": "5285f0c0",
   "metadata": {},
   "outputs": [
    {
     "data": {
      "text/plain": [
       "(55566699923, 55544589928, 55544589924, 44456666521)"
      ]
     },
     "execution_count": 114,
     "metadata": {},
     "output_type": "execute_result"
    }
   ],
   "source": [
    "cpfs_5"
   ]
  },
  {
   "cell_type": "markdown",
   "id": "5ac5dbe8",
   "metadata": {},
   "source": [
    "* Criando um programa para pegar cpfs"
   ]
  },
  {
   "cell_type": "code",
   "execution_count": 118,
   "id": "05764e1c",
   "metadata": {},
   "outputs": [
    {
     "name": "stdout",
     "output_type": "stream",
     "text": [
      "Digite seu CPF: 4567\n",
      "Digite seu CPF: 3218\n",
      "Digite seu CPF: -1\n"
     ]
    }
   ],
   "source": [
    "cpfs = list()\n",
    "\n",
    "while True:\n",
    "    cpf = int(input('Digite seu CPF: '))\n",
    "    if cpf == -1:\n",
    "        break\n",
    "    forte_cpf = tuple([cpf])\n",
    "    cpfs.append(forte_cpf)\n",
    "\n",
    "cpfs = tuple(cpfs)"
   ]
  },
  {
   "cell_type": "code",
   "execution_count": 119,
   "id": "b9a33d83",
   "metadata": {},
   "outputs": [
    {
     "data": {
      "text/plain": [
       "((4567,), (3218,))"
      ]
     },
     "execution_count": 119,
     "metadata": {},
     "output_type": "execute_result"
    }
   ],
   "source": [
    "cpfs"
   ]
  },
  {
   "cell_type": "markdown",
   "id": "651ceb45",
   "metadata": {},
   "source": [
    "## empacotamento e desempacotamento\n",
    "---"
   ]
  },
  {
   "cell_type": "code",
   "execution_count": 121,
   "id": "c54d9b20",
   "metadata": {},
   "outputs": [],
   "source": [
    "numbers = (1, 2, 3, 4, 5)"
   ]
  },
  {
   "cell_type": "code",
   "execution_count": 123,
   "id": "43866ef8",
   "metadata": {},
   "outputs": [],
   "source": [
    "*a, b = numbers"
   ]
  },
  {
   "cell_type": "code",
   "execution_count": 124,
   "id": "7b12ff5b",
   "metadata": {},
   "outputs": [
    {
     "data": {
      "text/plain": [
       "[1, 2, 3, 4]"
      ]
     },
     "execution_count": 124,
     "metadata": {},
     "output_type": "execute_result"
    }
   ],
   "source": [
    "a"
   ]
  },
  {
   "cell_type": "code",
   "execution_count": 125,
   "id": "ac7ad653",
   "metadata": {},
   "outputs": [
    {
     "data": {
      "text/plain": [
       "5"
      ]
     },
     "execution_count": 125,
     "metadata": {},
     "output_type": "execute_result"
    }
   ],
   "source": [
    "b"
   ]
  },
  {
   "cell_type": "code",
   "execution_count": 126,
   "id": "3f62c323",
   "metadata": {},
   "outputs": [],
   "source": [
    "a, *b = numbers"
   ]
  },
  {
   "cell_type": "code",
   "execution_count": 127,
   "id": "9b690ef2",
   "metadata": {},
   "outputs": [
    {
     "data": {
      "text/plain": [
       "1"
      ]
     },
     "execution_count": 127,
     "metadata": {},
     "output_type": "execute_result"
    }
   ],
   "source": [
    "a"
   ]
  },
  {
   "cell_type": "code",
   "execution_count": 128,
   "id": "20673154",
   "metadata": {},
   "outputs": [
    {
     "data": {
      "text/plain": [
       "[2, 3, 4, 5]"
      ]
     },
     "execution_count": 128,
     "metadata": {},
     "output_type": "execute_result"
    }
   ],
   "source": [
    "b"
   ]
  },
  {
   "cell_type": "code",
   "execution_count": 129,
   "id": "1cb51d23",
   "metadata": {},
   "outputs": [],
   "source": [
    "a, b, c, *_ = numbers"
   ]
  },
  {
   "cell_type": "code",
   "execution_count": 131,
   "id": "c7a1b2ba",
   "metadata": {},
   "outputs": [
    {
     "data": {
      "text/plain": [
       "(1, 2, 3)"
      ]
     },
     "execution_count": 131,
     "metadata": {},
     "output_type": "execute_result"
    }
   ],
   "source": [
    "a, b, c"
   ]
  },
  {
   "cell_type": "code",
   "execution_count": 132,
   "id": "045cb381",
   "metadata": {},
   "outputs": [
    {
     "data": {
      "text/plain": [
       "[4, 5]"
      ]
     },
     "execution_count": 132,
     "metadata": {},
     "output_type": "execute_result"
    }
   ],
   "source": [
    "_"
   ]
  },
  {
   "cell_type": "code",
   "execution_count": 134,
   "id": "a997404c",
   "metadata": {},
   "outputs": [
    {
     "data": {
      "text/plain": [
       "(1, 2, 3, 4, 5)"
      ]
     },
     "execution_count": 134,
     "metadata": {},
     "output_type": "execute_result"
    }
   ],
   "source": [
    "numbers"
   ]
  },
  {
   "cell_type": "code",
   "execution_count": 135,
   "id": "dbcbd522",
   "metadata": {},
   "outputs": [],
   "source": [
    "a, *b, c, = numbers"
   ]
  },
  {
   "cell_type": "code",
   "execution_count": 136,
   "id": "57c5a5be",
   "metadata": {},
   "outputs": [
    {
     "data": {
      "text/plain": [
       "1"
      ]
     },
     "execution_count": 136,
     "metadata": {},
     "output_type": "execute_result"
    }
   ],
   "source": [
    "a"
   ]
  },
  {
   "cell_type": "code",
   "execution_count": 137,
   "id": "0ef6b8a3",
   "metadata": {},
   "outputs": [
    {
     "data": {
      "text/plain": [
       "[2, 3, 4]"
      ]
     },
     "execution_count": 137,
     "metadata": {},
     "output_type": "execute_result"
    }
   ],
   "source": [
    "b"
   ]
  },
  {
   "cell_type": "code",
   "execution_count": 138,
   "id": "b37987dc",
   "metadata": {},
   "outputs": [
    {
     "data": {
      "text/plain": [
       "5"
      ]
     },
     "execution_count": 138,
     "metadata": {},
     "output_type": "execute_result"
    }
   ],
   "source": [
    "c"
   ]
  },
  {
   "cell_type": "markdown",
   "id": "68383b02",
   "metadata": {},
   "source": [
    "```python\n",
    "divmod(a, b)\n",
    "```"
   ]
  },
  {
   "cell_type": "code",
   "execution_count": 141,
   "id": "09a9bb96",
   "metadata": {},
   "outputs": [
    {
     "data": {
      "text/plain": [
       "2"
      ]
     },
     "execution_count": 141,
     "metadata": {},
     "output_type": "execute_result"
    }
   ],
   "source": [
    "a, b = divmod(7, 3)\n",
    "a"
   ]
  },
  {
   "cell_type": "code",
   "execution_count": 142,
   "id": "38d98e6c",
   "metadata": {},
   "outputs": [
    {
     "data": {
      "text/plain": [
       "1"
      ]
     },
     "execution_count": 142,
     "metadata": {},
     "output_type": "execute_result"
    }
   ],
   "source": [
    "b"
   ]
  },
  {
   "cell_type": "markdown",
   "id": "b42bceb4",
   "metadata": {},
   "source": [
    "## tuple comprehension ???\n",
    "---"
   ]
  },
  {
   "cell_type": "code",
   "execution_count": 146,
   "id": "f74532e2",
   "metadata": {},
   "outputs": [
    {
     "data": {
      "text/plain": [
       "[0.0, 0.1, 0.2, 0.3, 0.4, 0.5, 0.6, 0.7, 0.8, 0.9]"
      ]
     },
     "execution_count": 146,
     "metadata": {},
     "output_type": "execute_result"
    }
   ],
   "source": [
    "[x/10 for x in range(10)]"
   ]
  },
  {
   "cell_type": "code",
   "execution_count": 155,
   "id": "21232b31",
   "metadata": {},
   "outputs": [
    {
     "name": "stdout",
     "output_type": "stream",
     "text": [
      "('é par', 'é impar', 'é par', 'é impar', 'é par', 'é impar', 'é par', 'é impar', 'é par', 'é impar')\n"
     ]
    }
   ],
   "source": [
    "print(tuple(['é par' if x%2==0 else 'é impar' for x in range(10)]))"
   ]
  },
  {
   "cell_type": "code",
   "execution_count": 151,
   "id": "fd76233b",
   "metadata": {},
   "outputs": [
    {
     "data": {
      "text/plain": [
       "generator"
      ]
     },
     "execution_count": 151,
     "metadata": {},
     "output_type": "execute_result"
    }
   ],
   "source": [
    "x/10 for x in range(10)"
   ]
  }
 ],
 "metadata": {
  "kernelspec": {
   "display_name": "Python 3",
   "language": "python",
   "name": "python3"
  },
  "language_info": {
   "codemirror_mode": {
    "name": "ipython",
    "version": 3
   },
   "file_extension": ".py",
   "mimetype": "text/x-python",
   "name": "python",
   "nbconvert_exporter": "python",
   "pygments_lexer": "ipython3",
   "version": "3.8.8"
  }
 },
 "nbformat": 4,
 "nbformat_minor": 5
}
