{
 "cells": [
  {
   "cell_type": "markdown",
   "id": "89b74746",
   "metadata": {},
   "source": [
    "# Tuplas\n",
    "---\n",
    "\n",
    "* O que são tuplas ?\n",
    "* Primeira tupla...\n",
    "* Múltiplas atribuições na mesma linha\n",
    "* Lista x Tuplas..."
   ]
  },
  {
   "cell_type": "markdown",
   "id": "7b9926c9",
   "metadata": {},
   "source": [
    "## O que são tuplas ?\n",
    "---\n",
    "\n",
    "Tuplas podem ser vistas como listas em Python, com a grande diferença de **serem imutáveis**. As tuplas são ideais para representar listas de valores constantes e realizar empacotamento (**packaging**) e desempacotamento (**unpacking**). \n",
    "\n",
    "**OBS:** As tuplas pode ter vários tipos como uma lista."
   ]
  },
  {
   "cell_type": "markdown",
   "id": "1d7de3b5",
   "metadata": {},
   "source": [
    "## Primeira tupla\n",
    "\n",
    "```python\n",
    "minha_primeira_tupla = (4, 6) # as tuplas usam parenteses \n",
    "minha_segunda_tupla = 4, 6 # ou não....\n",
    "\n",
    "```"
   ]
  },
  {
   "cell_type": "code",
   "execution_count": 5,
   "id": "0eb3c57f",
   "metadata": {},
   "outputs": [
    {
     "data": {
      "text/plain": [
       "tuple"
      ]
     },
     "execution_count": 5,
     "metadata": {},
     "output_type": "execute_result"
    }
   ],
   "source": [
    "minha_primeira_tupla = (4, 6)\n",
    "type(minha_primeira_tupla)"
   ]
  },
  {
   "cell_type": "code",
   "execution_count": 6,
   "id": "f1866681",
   "metadata": {},
   "outputs": [
    {
     "data": {
      "text/plain": [
       "tuple"
      ]
     },
     "execution_count": 6,
     "metadata": {},
     "output_type": "execute_result"
    }
   ],
   "source": [
    "minha_segunda_tupla = 4, 6\n",
    "type(minha_segunda_tupla)"
   ]
  },
  {
   "cell_type": "code",
   "execution_count": 7,
   "id": "7e9c1e56",
   "metadata": {},
   "outputs": [
    {
     "data": {
      "text/plain": [
       "('pedro', 25, 55566622245)"
      ]
     },
     "execution_count": 7,
     "metadata": {},
     "output_type": "execute_result"
    }
   ],
   "source": [
    "pessoa = ('pedro', 25, 55566622245)\n",
    "pessoa"
   ]
  },
  {
   "cell_type": "code",
   "execution_count": 8,
   "id": "4f5a48bf",
   "metadata": {},
   "outputs": [
    {
     "data": {
      "text/plain": [
       "'pedro'"
      ]
     },
     "execution_count": 8,
     "metadata": {},
     "output_type": "execute_result"
    }
   ],
   "source": [
    "pessoa[0]"
   ]
  },
  {
   "cell_type": "code",
   "execution_count": 9,
   "id": "fbc68763",
   "metadata": {},
   "outputs": [
    {
     "data": {
      "text/plain": [
       "25"
      ]
     },
     "execution_count": 9,
     "metadata": {},
     "output_type": "execute_result"
    }
   ],
   "source": [
    "pessoa[1]"
   ]
  },
  {
   "cell_type": "code",
   "execution_count": 10,
   "id": "e9c0a847",
   "metadata": {},
   "outputs": [
    {
     "data": {
      "text/plain": [
       "(25, 55566622245)"
      ]
     },
     "execution_count": 10,
     "metadata": {},
     "output_type": "execute_result"
    }
   ],
   "source": [
    "pessoa[1:]"
   ]
  },
  {
   "cell_type": "code",
   "execution_count": 11,
   "id": "8eb28802",
   "metadata": {},
   "outputs": [
    {
     "ename": "TypeError",
     "evalue": "'tuple' object does not support item assignment",
     "output_type": "error",
     "traceback": [
      "\u001b[1;31m---------------------------------------------------------------------------\u001b[0m",
      "\u001b[1;31mTypeError\u001b[0m                                 Traceback (most recent call last)",
      "\u001b[1;32m<ipython-input-11-de3ca87c175c>\u001b[0m in \u001b[0;36m<module>\u001b[1;34m\u001b[0m\n\u001b[1;32m----> 1\u001b[1;33m \u001b[0mpessoa\u001b[0m\u001b[1;33m[\u001b[0m\u001b[1;36m0\u001b[0m\u001b[1;33m]\u001b[0m \u001b[1;33m=\u001b[0m \u001b[1;34m'Juca'\u001b[0m\u001b[1;33m\u001b[0m\u001b[1;33m\u001b[0m\u001b[0m\n\u001b[0m",
      "\u001b[1;31mTypeError\u001b[0m: 'tuple' object does not support item assignment"
     ]
    }
   ],
   "source": [
    "pessoa[0] = 'Juca'"
   ]
  },
  {
   "cell_type": "code",
   "execution_count": 12,
   "id": "9618525a",
   "metadata": {},
   "outputs": [],
   "source": [
    "pessoa = ('pedro', 25, 55566622245)"
   ]
  },
  {
   "cell_type": "code",
   "execution_count": 13,
   "id": "906920d8",
   "metadata": {},
   "outputs": [
    {
     "name": "stdout",
     "output_type": "stream",
     "text": [
      "pedro\n",
      "25\n",
      "55566622245\n"
     ]
    }
   ],
   "source": [
    "for i in pessoa:\n",
    "    print(i)"
   ]
  },
  {
   "cell_type": "markdown",
   "id": "78415a65",
   "metadata": {},
   "source": [
    "## Multiplas atribuições na mesma linha\n",
    "---"
   ]
  },
  {
   "cell_type": "code",
   "execution_count": 14,
   "id": "80e8e76e",
   "metadata": {},
   "outputs": [],
   "source": [
    "x, y, z = 1, 4, 6"
   ]
  },
  {
   "cell_type": "code",
   "execution_count": 15,
   "id": "2bb952a0",
   "metadata": {},
   "outputs": [
    {
     "data": {
      "text/plain": [
       "1"
      ]
     },
     "execution_count": 15,
     "metadata": {},
     "output_type": "execute_result"
    }
   ],
   "source": [
    "x"
   ]
  },
  {
   "cell_type": "code",
   "execution_count": 16,
   "id": "9a3a30c5",
   "metadata": {},
   "outputs": [
    {
     "data": {
      "text/plain": [
       "4"
      ]
     },
     "execution_count": 16,
     "metadata": {},
     "output_type": "execute_result"
    }
   ],
   "source": [
    "y"
   ]
  },
  {
   "cell_type": "code",
   "execution_count": 17,
   "id": "2e5ac80c",
   "metadata": {},
   "outputs": [
    {
     "data": {
      "text/plain": [
       "6"
      ]
     },
     "execution_count": 17,
     "metadata": {},
     "output_type": "execute_result"
    }
   ],
   "source": [
    "z"
   ]
  },
  {
   "cell_type": "code",
   "execution_count": 27,
   "id": "04809364",
   "metadata": {},
   "outputs": [
    {
     "name": "stdout",
     "output_type": "stream",
     "text": [
      "3 5\n",
      "5 3\n"
     ]
    }
   ],
   "source": [
    "a = 3 # a -> b\n",
    "b = 5 # b -> 5\n",
    "print(a, b)\n",
    "\n",
    "temp = a\n",
    "a = b\n",
    "b = temp\n",
    "print(a, b)"
   ]
  },
  {
   "cell_type": "code",
   "execution_count": 29,
   "id": "a4a9d58d",
   "metadata": {},
   "outputs": [
    {
     "name": "stdout",
     "output_type": "stream",
     "text": [
      "3 5\n",
      "5 3\n"
     ]
    }
   ],
   "source": [
    "a = 3 # a -> b\n",
    "b = 5 # b -> 5\n",
    "print(a, b)\n",
    "a, b = b, a \n",
    "print(a, b)"
   ]
  },
  {
   "cell_type": "code",
   "execution_count": 30,
   "id": "05e6f37f",
   "metadata": {},
   "outputs": [],
   "source": [
    "pessoas = (['pedro', 25], ['joana', 33])"
   ]
  },
  {
   "cell_type": "code",
   "execution_count": 31,
   "id": "f6ccb521",
   "metadata": {},
   "outputs": [
    {
     "data": {
      "text/plain": [
       "(['pedro', 25], ['joana', 33])"
      ]
     },
     "execution_count": 31,
     "metadata": {},
     "output_type": "execute_result"
    }
   ],
   "source": [
    "pessoas"
   ]
  },
  {
   "cell_type": "code",
   "execution_count": 33,
   "id": "7d26e20e",
   "metadata": {},
   "outputs": [],
   "source": [
    "pessoas = tuple([['pedro', 25], ['joana', 33]])"
   ]
  },
  {
   "cell_type": "code",
   "execution_count": 34,
   "id": "98a24467",
   "metadata": {},
   "outputs": [
    {
     "data": {
      "text/plain": [
       "(['pedro', 25], ['joana', 33])"
      ]
     },
     "execution_count": 34,
     "metadata": {},
     "output_type": "execute_result"
    }
   ],
   "source": [
    "pessoas"
   ]
  },
  {
   "cell_type": "markdown",
   "id": "8925f3d0",
   "metadata": {},
   "source": [
    "## Lista x Tuplas\n",
    "---"
   ]
  },
  {
   "cell_type": "code",
   "execution_count": 36,
   "id": "39afd1ca",
   "metadata": {},
   "outputs": [],
   "source": [
    "lista_nomes = ['pedro', 'joana']"
   ]
  },
  {
   "cell_type": "code",
   "execution_count": 39,
   "id": "1684fb9b",
   "metadata": {},
   "outputs": [],
   "source": [
    "lista_nomes.append('juca')"
   ]
  },
  {
   "cell_type": "code",
   "execution_count": 40,
   "id": "7bdb68ed",
   "metadata": {},
   "outputs": [
    {
     "data": {
      "text/plain": [
       "['pedro', 'joana', 'juca']"
      ]
     },
     "execution_count": 40,
     "metadata": {},
     "output_type": "execute_result"
    }
   ],
   "source": [
    "lista_nomes"
   ]
  },
  {
   "cell_type": "code",
   "execution_count": 35,
   "id": "1bd1efc7",
   "metadata": {},
   "outputs": [],
   "source": [
    "tupla_nomes = ('pedro', 'joana')"
   ]
  },
  {
   "cell_type": "code",
   "execution_count": 41,
   "id": "cadf829b",
   "metadata": {},
   "outputs": [
    {
     "ename": "AttributeError",
     "evalue": "'tuple' object has no attribute 'append'",
     "output_type": "error",
     "traceback": [
      "\u001b[1;31m---------------------------------------------------------------------------\u001b[0m",
      "\u001b[1;31mAttributeError\u001b[0m                            Traceback (most recent call last)",
      "\u001b[1;32m<ipython-input-41-174336f73ea2>\u001b[0m in \u001b[0;36m<module>\u001b[1;34m\u001b[0m\n\u001b[1;32m----> 1\u001b[1;33m \u001b[0mtupla_nomes\u001b[0m\u001b[1;33m.\u001b[0m\u001b[0mappend\u001b[0m\u001b[1;33m(\u001b[0m\u001b[1;34m'juca'\u001b[0m\u001b[1;33m)\u001b[0m\u001b[1;33m\u001b[0m\u001b[1;33m\u001b[0m\u001b[0m\n\u001b[0m",
      "\u001b[1;31mAttributeError\u001b[0m: 'tuple' object has no attribute 'append'"
     ]
    }
   ],
   "source": [
    "tupla_nomes.append('juca')"
   ]
  },
  {
   "cell_type": "code",
   "execution_count": 42,
   "id": "f47f25ee",
   "metadata": {},
   "outputs": [],
   "source": [
    "lista_tuplas_2 = tuple(lista_nomes)"
   ]
  },
  {
   "cell_type": "code",
   "execution_count": 43,
   "id": "bde51517",
   "metadata": {},
   "outputs": [
    {
     "data": {
      "text/plain": [
       "('pedro', 'joana', 'juca')"
      ]
     },
     "execution_count": 43,
     "metadata": {},
     "output_type": "execute_result"
    }
   ],
   "source": [
    "lista_tuplas_2"
   ]
  }
 ],
 "metadata": {
  "kernelspec": {
   "display_name": "Python 3",
   "language": "python",
   "name": "python3"
  },
  "language_info": {
   "codemirror_mode": {
    "name": "ipython",
    "version": 3
   },
   "file_extension": ".py",
   "mimetype": "text/x-python",
   "name": "python",
   "nbconvert_exporter": "python",
   "pygments_lexer": "ipython3",
   "version": "3.8.8"
  }
 },
 "nbformat": 4,
 "nbformat_minor": 5
}
