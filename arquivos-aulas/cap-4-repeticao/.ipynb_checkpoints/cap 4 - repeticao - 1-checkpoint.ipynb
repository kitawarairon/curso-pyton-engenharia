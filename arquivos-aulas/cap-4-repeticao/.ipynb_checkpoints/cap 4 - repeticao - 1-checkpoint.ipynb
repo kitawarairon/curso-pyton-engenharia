{
 "cells": [
  {
   "cell_type": "markdown",
   "id": "eef32c44",
   "metadata": {},
   "source": [
    "# Estruturas de repetição\n",
    "---\n",
    "\n",
    "* Motivação das estruturas de repetição;\n",
    "* Nossa primeira estrutura de repetição `while`;\n",
    "* Criando uma média iterativa;"
   ]
  },
  {
   "cell_type": "markdown",
   "id": "0efb29df",
   "metadata": {},
   "source": [
    "## Motivação das estruturas de repetição\n",
    "---\n",
    "\n",
    "é legal fazer coisas repetitivas ?"
   ]
  },
  {
   "cell_type": "code",
   "execution_count": null,
   "id": "26f960dc",
   "metadata": {},
   "outputs": [],
   "source": [
    "var1 = 18787\n",
    "var2 = 1215465\n",
    "var3 = 454878\n",
    "var4 = 54548\n",
    "var5 = 78787\n",
    "print(var1, var2)\n",
    "print(var1)\n",
    "print(var2)"
   ]
  },
  {
   "cell_type": "markdown",
   "id": "6b3b525b",
   "metadata": {},
   "source": [
    "Fazer tarefas repetitivas!"
   ]
  },
  {
   "cell_type": "markdown",
   "id": "8257f0d7",
   "metadata": {},
   "source": [
    "## while\n",
    "---\n",
    "\n",
    "```python\n",
    "while expressão:\n",
    "    codigo1\n",
    "    codigo2\n",
    "```\n",
    "\n",
    "```python\n",
    "while True: # enquando a condição foi verdade a gente executa o código\n",
    "    codigo1 # executa toda vez que a condição for verdadeira\n",
    "    codigo2 # executa toda vez que a condição for verdadeira\n",
    "```\n",
    "\n",
    "```python\n",
    "while False: # quando a condição o False, o código para!\n",
    "    codigo1\n",
    "    codigo2\n",
    "```\n",
    "\n"
   ]
  },
  {
   "cell_type": "code",
   "execution_count": 4,
   "id": "8e3d22e5",
   "metadata": {},
   "outputs": [
    {
     "data": {
      "text/plain": [
       "True"
      ]
     },
     "execution_count": 4,
     "metadata": {},
     "output_type": "execute_result"
    }
   ],
   "source": [
    "(2 < 3)"
   ]
  },
  {
   "cell_type": "code",
   "execution_count": null,
   "id": "c3db530f",
   "metadata": {
    "scrolled": false
   },
   "outputs": [],
   "source": [
    "# a gente um loop infinito\n",
    "while (2 < 3):\n",
    "    print('é verdade!')"
   ]
  },
  {
   "cell_type": "code",
   "execution_count": 5,
   "id": "22bf8dea",
   "metadata": {},
   "outputs": [
    {
     "name": "stdout",
     "output_type": "stream",
     "text": [
      "1\n",
      "2\n",
      "3\n",
      "4\n",
      "5\n",
      "6\n",
      "7\n",
      "8\n",
      "9\n"
     ]
    }
   ],
   "source": [
    "x = 1 # é contador\n",
    "while x < 10:\n",
    "    print(x)\n",
    "    x = x + 1"
   ]
  },
  {
   "cell_type": "code",
   "execution_count": 7,
   "id": "6979fb36",
   "metadata": {},
   "outputs": [
    {
     "name": "stdout",
     "output_type": "stream",
     "text": [
      "10\n",
      "9\n",
      "8\n",
      "7\n",
      "6\n",
      "5\n",
      "4\n",
      "3\n",
      "2\n",
      "1\n",
      "O foguete já foi!!\n"
     ]
    }
   ],
   "source": [
    "x = 10\n",
    "while x > 0:\n",
    "    print(x)\n",
    "    x -= 1\n",
    "print('O foguete já foi!!')"
   ]
  },
  {
   "cell_type": "markdown",
   "id": "80bcae2a",
   "metadata": {},
   "source": [
    "## Média iterativa\n",
    "---"
   ]
  },
  {
   "cell_type": "code",
   "execution_count": 27,
   "id": "515bbceb",
   "metadata": {},
   "outputs": [
    {
     "name": "stdout",
     "output_type": "stream",
     "text": [
      "Insira a quantidade de provas realizadas: \n",
      "3\n",
      "Insira a sua nota 1: \n",
      "1\n",
      "Insira a sua nota 2: \n",
      "2\n",
      "Insira a sua nota 3: \n",
      "10\n",
      "O aluno foi reprovado!\n"
     ]
    }
   ],
   "source": [
    "# n -> numero de notas\n",
    "\n",
    "# número de notas\n",
    "n = int(input('Insira a quantidade de provas realizadas: \\n'))\n",
    "\n",
    "# contador\n",
    "i = 1\n",
    "\n",
    "# acumulador\n",
    "soma = 0\n",
    "\n",
    "while i <= n:\n",
    "    nota = float(input(f'Insira a sua nota {i}: \\n'))\n",
    "    soma += nota \n",
    "    i += 1\n",
    "\n",
    "# media\n",
    "media = soma/n\n",
    "\n",
    "# verificação se passou\n",
    "if media > 6:\n",
    "    print('O aluno passou!')\n",
    "else:\n",
    "    print('O aluno foi reprovado!')"
   ]
  }
 ],
 "metadata": {
  "kernelspec": {
   "display_name": "Python 3",
   "language": "python",
   "name": "python3"
  },
  "language_info": {
   "codemirror_mode": {
    "name": "ipython",
    "version": 3
   },
   "file_extension": ".py",
   "mimetype": "text/x-python",
   "name": "python",
   "nbconvert_exporter": "python",
   "pygments_lexer": "ipython3",
   "version": "3.8.8"
  }
 },
 "nbformat": 4,
 "nbformat_minor": 5
}
