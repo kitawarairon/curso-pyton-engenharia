{
 "cells": [
  {
   "cell_type": "markdown",
   "id": "e169c120",
   "metadata": {},
   "source": [
    "# Exercitando o while\n",
    "---\n",
    "\n",
    "* Criando nossa primeira máquina registradora;\n",
    "* Criando nossa primeira tabuada;\n",
    "* Entendendo o conceito de otimização."
   ]
  },
  {
   "attachments": {
    "image.png": {
     "image/png": "[encoded data removed]"
    }
   },
   "cell_type": "markdown",
   "id": "d178162c",
   "metadata": {},
   "source": [
    "## Máquina registradora\n",
    "---\n",
    "\n",
    "Escreva um programa para controlar uma pequena máquina registradora. Você deve solicitar ao usuário que digite o código do produto e a quantidade comprada. Utilize a tabela abaixo para obter os códigos dos produtos.\n",
    "\n",
    "![image.png](attachment:image.png)\n",
    "\n",
    "O programa deve exibir o total de compras depois que o usuário digitar 0. Qualquer outro código deve gerar a mensagem de erro \"Código inválido.\""
   ]
  },
  {
   "cell_type": "code",
   "execution_count": 6,
   "id": "7a675032",
   "metadata": {},
   "outputs": [
    {
     "name": "stdout",
     "output_type": "stream",
     "text": [
      "Código do produto: \n",
      "1\n",
      "Quantidade: \n",
      "10\n",
      "Código do produto: \n",
      "2\n",
      "Quantidade: \n",
      "5\n",
      "Código do produto: \n",
      "0\n",
      "O total das compras foi de 10.0 R$\n"
     ]
    }
   ],
   "source": [
    "# maquina registradora\n",
    "\n",
    "soma = 0\n",
    "\n",
    "while True:\n",
    "    codigo = int(input('Código do produto: \\n'))\n",
    "    if codigo == 0:\n",
    "        break\n",
    "    quantidade = int(input('Quantidade: \\n'))\n",
    "    if codigo == 1:\n",
    "        preco = 0.5\n",
    "    elif codigo == 2:\n",
    "        preco = 1\n",
    "    elif codigo == 3:\n",
    "        preco = 4\n",
    "    elif codigo == 5:\n",
    "        preco = 7\n",
    "    elif codigo == 9:\n",
    "        preco = 8\n",
    "    else:\n",
    "        print('Código inválido')\n",
    "        continue\n",
    "    produto = preco * quantidade \n",
    "    soma += produto\n",
    "\n",
    "print(f'O total das compras foi de {soma} R$')"
   ]
  },
  {
   "cell_type": "markdown",
   "id": "302d1502",
   "metadata": {},
   "source": [
    "## Tabuada \n",
    "---\n",
    "\n",
    "Vamos construir uma tabuada!!!"
   ]
  },
  {
   "cell_type": "code",
   "execution_count": 7,
   "id": "a3b43432",
   "metadata": {},
   "outputs": [
    {
     "name": "stdout",
     "output_type": "stream",
     "text": [
      "1x1 = 1\n",
      "1x2 = 2\n",
      "1x3 = 3\n",
      "1x4 = 4\n",
      "1x5 = 5\n",
      "1x6 = 6\n",
      "1x7 = 7\n",
      "1x8 = 8\n",
      "1x9 = 9\n",
      "1x10 = 10\n",
      "2x1 = 2\n",
      "2x2 = 4\n",
      "2x3 = 6\n",
      "2x4 = 8\n",
      "2x5 = 10\n",
      "2x6 = 12\n",
      "2x7 = 14\n",
      "2x8 = 16\n",
      "2x9 = 18\n",
      "2x10 = 20\n",
      "3x1 = 3\n",
      "3x2 = 6\n",
      "3x3 = 9\n",
      "3x4 = 12\n",
      "3x5 = 15\n",
      "3x6 = 18\n",
      "3x7 = 21\n",
      "3x8 = 24\n",
      "3x9 = 27\n",
      "3x10 = 30\n",
      "4x1 = 4\n",
      "4x2 = 8\n",
      "4x3 = 12\n",
      "4x4 = 16\n",
      "4x5 = 20\n",
      "4x6 = 24\n",
      "4x7 = 28\n",
      "4x8 = 32\n",
      "4x9 = 36\n",
      "4x10 = 40\n",
      "5x1 = 5\n",
      "5x2 = 10\n",
      "5x3 = 15\n",
      "5x4 = 20\n",
      "5x5 = 25\n",
      "5x6 = 30\n",
      "5x7 = 35\n",
      "5x8 = 40\n",
      "5x9 = 45\n",
      "5x10 = 50\n",
      "6x1 = 6\n",
      "6x2 = 12\n",
      "6x3 = 18\n",
      "6x4 = 24\n",
      "6x5 = 30\n",
      "6x6 = 36\n",
      "6x7 = 42\n",
      "6x8 = 48\n",
      "6x9 = 54\n",
      "6x10 = 60\n",
      "7x1 = 7\n",
      "7x2 = 14\n",
      "7x3 = 21\n",
      "7x4 = 28\n",
      "7x5 = 35\n",
      "7x6 = 42\n",
      "7x7 = 49\n",
      "7x8 = 56\n",
      "7x9 = 63\n",
      "7x10 = 70\n",
      "8x1 = 8\n",
      "8x2 = 16\n",
      "8x3 = 24\n",
      "8x4 = 32\n",
      "8x5 = 40\n",
      "8x6 = 48\n",
      "8x7 = 56\n",
      "8x8 = 64\n",
      "8x9 = 72\n",
      "8x10 = 80\n",
      "9x1 = 9\n",
      "9x2 = 18\n",
      "9x3 = 27\n",
      "9x4 = 36\n",
      "9x5 = 45\n",
      "9x6 = 54\n",
      "9x7 = 63\n",
      "9x8 = 72\n",
      "9x9 = 81\n",
      "9x10 = 90\n",
      "10x1 = 10\n",
      "10x2 = 20\n",
      "10x3 = 30\n",
      "10x4 = 40\n",
      "10x5 = 50\n",
      "10x6 = 60\n",
      "10x7 = 70\n",
      "10x8 = 80\n",
      "10x9 = 90\n",
      "10x10 = 100\n"
     ]
    }
   ],
   "source": [
    "tabuada = 1\n",
    "\n",
    "while tabuada <=10:\n",
    "    numero = 1\n",
    "    while numero <=10:\n",
    "        print(f'{tabuada}x{numero} = {tabuada * numero}')\n",
    "        numero += 1\n",
    "    tabuada += 1    "
   ]
  },
  {
   "cell_type": "markdown",
   "id": "fb57fcfc",
   "metadata": {},
   "source": [
    "## Conceito de otimização\n",
    "\n",
    "* Otimizar é encontrar o melhor resultado!\n",
    "\n",
    "* Repetições nos ajudam na otimização!!!\n",
    "\n",
    "**Exemplo:** Escreve um programa que calcule a raiz quadrada de um número. Utilize o método de Newton para obter um resultado aproximado. Sendo $n$ o número a obter a raiz quadrada, considere a vase $b$=2. Calcule $p$ usando a fórmula $p=(b + (n/b))/2$. Agora, calcule o quadrado de $p$. A cada passo, faça b=p e recalcule $p$ usando a fórmula apresentada. Pare quando a diferença entre absoluta entre $n$ e $p^{2}$ for menor que 0.0001.\n",
    "\n"
   ]
  },
  {
   "cell_type": "code",
   "execution_count": 36,
   "id": "f6bbdf39",
   "metadata": {},
   "outputs": [
    {
     "name": "stdout",
     "output_type": "stream",
     "text": [
      "9 3.25\n"
     ]
    }
   ],
   "source": [
    "n = 9 # número que a gente quer a raiz\n",
    "b = 2 # valor base\n",
    "\n",
    "while True:\n",
    "    p = (b + (n/b))/2\n",
    "    p2 = p ** 2\n",
    "    b = p\n",
    "    if (n - p2) < 0.0001:\n",
    "        break       \n",
    "print(n, p)"
   ]
  },
  {
   "cell_type": "code",
   "execution_count": 35,
   "id": "52522fb6",
   "metadata": {},
   "outputs": [
    {
     "data": {
      "text/plain": [
       "1.7320508075688772"
      ]
     },
     "execution_count": 35,
     "metadata": {},
     "output_type": "execute_result"
    }
   ],
   "source": [
    "(3)**0.5"
   ]
  }
 ],
 "metadata": {
  "kernelspec": {
   "display_name": "Python 3",
   "language": "python",
   "name": "python3"
  },
  "language_info": {
   "codemirror_mode": {
    "name": "ipython",
    "version": 3
   },
   "file_extension": ".py",
   "mimetype": "text/x-python",
   "name": "python",
   "nbconvert_exporter": "python",
   "pygments_lexer": "ipython3",
   "version": "3.8.8"
  }
 },
 "nbformat": 4,
 "nbformat_minor": 5
}
