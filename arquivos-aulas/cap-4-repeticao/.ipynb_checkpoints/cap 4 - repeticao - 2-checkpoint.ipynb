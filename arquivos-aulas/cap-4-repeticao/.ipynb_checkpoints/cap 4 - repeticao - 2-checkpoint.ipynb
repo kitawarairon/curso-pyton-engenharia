{
 "cells": [
  {
   "cell_type": "markdown",
   "id": "2ade1455",
   "metadata": {},
   "source": [
    "# Estruturas de parada\n",
    "---\n",
    "\n",
    "* exemplos\n",
    "* `break`\n",
    "* `continue`\n",
    "* exemplos"
   ]
  },
  {
   "cell_type": "markdown",
   "id": "95c5d783",
   "metadata": {},
   "source": [
    "## Exemplos\n",
    "---\n",
    "\n",
    "* Construa um código que imprima todas as letras de uma string"
   ]
  },
  {
   "cell_type": "code",
   "execution_count": 5,
   "id": "5952d906",
   "metadata": {},
   "outputs": [
    {
     "name": "stdout",
     "output_type": "stream",
     "text": [
      "d\n",
      "e\n",
      " \n",
      "r\n",
      "o\n",
      "m\n",
      "a\n",
      "!\n",
      "!\n",
      "!\n",
      "!\n"
     ]
    }
   ],
   "source": [
    "string = 'de roma!!!!'\n",
    "\n",
    "contador = 1\n",
    "while contador <= len(string):\n",
    "    print(string[contador - 1])\n",
    "    contador += 1"
   ]
  },
  {
   "cell_type": "code",
   "execution_count": 2,
   "id": "fa406413",
   "metadata": {},
   "outputs": [
    {
     "data": {
      "text/plain": [
       "'r'"
      ]
     },
     "execution_count": 2,
     "metadata": {},
     "output_type": "execute_result"
    }
   ],
   "source": [
    "nome = 'pedro'\n",
    "nome[3]"
   ]
  },
  {
   "cell_type": "markdown",
   "id": "b77676e2",
   "metadata": {},
   "source": [
    "* Construa um código que corriga o teste de múltipla escolha"
   ]
  },
  {
   "cell_type": "code",
   "execution_count": 7,
   "id": "1c2840ef",
   "metadata": {},
   "outputs": [
    {
     "name": "stdout",
     "output_type": "stream",
     "text": [
      "A resposta da questão 1:\n",
      " b\n",
      "A resposta da questão 2:\n",
      " a\n",
      "A resposta da questão 3:\n",
      " g\n",
      "O aluno fez 2 pontos!\n"
     ]
    }
   ],
   "source": [
    "# três questões\n",
    "# questao 1 - b\n",
    "# questao 2 - a\n",
    "# questao 3 - d\n",
    "\n",
    "# acumulador\n",
    "pontos = 0\n",
    "questao = 1\n",
    "\n",
    "while questao <= 3:\n",
    "    resposta = input(f'A resposta da questão {questao}:\\n ')\n",
    "    if questao == 1 and resposta == 'b':\n",
    "        pontos += 1\n",
    "    if questao == 2 and resposta == 'a':\n",
    "        pontos += 1\n",
    "    if questao == 3 and resposta == 'd':\n",
    "        postos +=1\n",
    "    questao += 1\n",
    "    \n",
    "print(f'O aluno fez {pontos} pontos!')"
   ]
  },
  {
   "cell_type": "markdown",
   "id": "fd297e6f",
   "metadata": {},
   "source": [
    "## break\n",
    "---\n",
    "\n",
    "```python\n",
    "while True:\n",
    "    nome=input('Insira seu nome')\n",
    "    if nome == '0':\n",
    "        break\n",
    "```\n"
   ]
  },
  {
   "cell_type": "code",
   "execution_count": 11,
   "id": "5c66da0a",
   "metadata": {},
   "outputs": [
    {
     "name": "stdout",
     "output_type": "stream",
     "text": [
      "Insira seu nomejuca\n",
      "Seu nome é juca\n",
      "Insira seu nomejose\n",
      "Seu nome é jose\n",
      "Insira seu nome0\n"
     ]
    }
   ],
   "source": [
    "while True:\n",
    "    nome=input('Insira seu nome')\n",
    "    if nome == '0':\n",
    "        break\n",
    "    print('Seu nome é {} '.format(nome))"
   ]
  },
  {
   "cell_type": "code",
   "execution_count": 16,
   "id": "a2f5cf4e",
   "metadata": {},
   "outputs": [
    {
     "name": "stdout",
     "output_type": "stream",
     "text": [
      "Insira um número\n",
      "4\n",
      "Insira um número\n",
      "6\n",
      "Insira um número\n",
      "2\n",
      "Insira um número\n",
      "0\n",
      "48.0\n"
     ]
    }
   ],
   "source": [
    "# variáveis auxiliares\n",
    "multiplicacao = 1\n",
    "\n",
    "while True:\n",
    "    n = float(input('Insira um número\\n'))\n",
    "    if n == 0:\n",
    "        break\n",
    "    multiplicacao *= n \n",
    "\n",
    "print(multiplicacao)    "
   ]
  },
  {
   "cell_type": "code",
   "execution_count": 43,
   "id": "2dbb35e4",
   "metadata": {},
   "outputs": [
    {
     "name": "stdout",
     "output_type": "stream",
     "text": [
      "peter_parker_do_tobey_eh_o_melhor\n"
     ]
    }
   ],
   "source": [
    "email = 'peter_parker_do_tobey_eh_o_melhor@gmail.com'\n",
    "\n",
    "# variáveis auxiliares\n",
    "string_vazia = '' # acumulador\n",
    "i = 0 # contador\n",
    "\n",
    "while True:\n",
    "    if email[i] == '@':\n",
    "        break\n",
    "    string_vazia += email[i]\n",
    "    i += 1\n",
    "print(string_vazia)"
   ]
  },
  {
   "cell_type": "code",
   "execution_count": 73,
   "id": "5f02344d",
   "metadata": {},
   "outputs": [
    {
     "name": "stdout",
     "output_type": "stream",
     "text": [
      "O domínio é google_da_arvore\n"
     ]
    }
   ],
   "source": [
    "email = 'tom_juca_tatao@google_da_arvore.com'\n",
    "\n",
    "i = 0\n",
    "\n",
    "while i < len(email):\n",
    "    \n",
    "    if email[i] == '@':\n",
    "        menor = i + 1\n",
    "        \n",
    "    if email[i] == '.':\n",
    "        maior = i\n",
    "        \n",
    "    i += 1\n",
    "    \n",
    "dominio = email[menor:maior]\n",
    "print(f'O domínio é {dominio}')"
   ]
  },
  {
   "cell_type": "markdown",
   "id": "877a75e9",
   "metadata": {},
   "source": [
    "## continue\n",
    "---\n",
    "\n",
    "```python\n",
    "while True:\n",
    "    nome=input('Insira seu nome')\n",
    "    if nome == '0':\n",
    "        break\n",
    "    if nome == '-1':\n",
    "        continue\n",
    "    print('Olá!!!!')\n",
    "```"
   ]
  },
  {
   "cell_type": "code",
   "execution_count": 96,
   "id": "4083e246",
   "metadata": {},
   "outputs": [
    {
     "name": "stdout",
     "output_type": "stream",
     "text": [
      "2\n",
      "4\n",
      "6\n",
      "8\n",
      "10\n"
     ]
    }
   ],
   "source": [
    "i = 0\n",
    "\n",
    "while i < 10:\n",
    "    i += 1\n",
    "    if i % 2 == 1:\n",
    "        continue\n",
    "    print(i)\n"
   ]
  },
  {
   "cell_type": "code",
   "execution_count": 97,
   "id": "941568e2",
   "metadata": {},
   "outputs": [
    {
     "name": "stdout",
     "output_type": "stream",
     "text": [
      "1\n",
      "3\n",
      "5\n"
     ]
    }
   ],
   "source": [
    "i = 0\n",
    "\n",
    "while i < 10:\n",
    "    i += 1\n",
    "    if i % 2 == 0:\n",
    "        continue\n",
    "    if i > 5:\n",
    "        break\n",
    "    print(i)\n",
    "# 1, 3, 5 "
   ]
  }
 ],
 "metadata": {
  "kernelspec": {
   "display_name": "Python 3",
   "language": "python",
   "name": "python3"
  },
  "language_info": {
   "codemirror_mode": {
    "name": "ipython",
    "version": 3
   },
   "file_extension": ".py",
   "mimetype": "text/x-python",
   "name": "python",
   "nbconvert_exporter": "python",
   "pygments_lexer": "ipython3",
   "version": "3.8.8"
  }
 },
 "nbformat": 4,
 "nbformat_minor": 5
}
