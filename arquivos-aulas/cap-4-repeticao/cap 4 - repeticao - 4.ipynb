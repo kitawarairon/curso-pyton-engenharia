{
 "cells": [
  {
   "cell_type": "markdown",
   "id": "04a7c49d",
   "metadata": {},
   "source": [
    "# Breve introdução do for\n",
    "---\n",
    "\n",
    "* funcionamento do `for`\n",
    "* aplicando o for         "
   ]
  },
  {
   "cell_type": "markdown",
   "id": "2e562fb1",
   "metadata": {},
   "source": [
    "## Funcionamento do for\n",
    "---\n",
    "\n",
    "A repetição for itera sobre um iterável.\n",
    "\n",
    "* Aplicação\n",
    "\n",
    "```python\n",
    "for i in iteravel:\n",
    "    executa_algo\n",
    "```\n",
    "\n",
    "A variável i assume o valores presentes no iterável."
   ]
  },
  {
   "cell_type": "markdown",
   "id": "a100a18f",
   "metadata": {},
   "source": [
    "## Aplicando o for\n",
    "---\n"
   ]
  },
  {
   "cell_type": "code",
   "execution_count": 7,
   "id": "03df22fc",
   "metadata": {},
   "outputs": [
    {
     "name": "stdout",
     "output_type": "stream",
     "text": [
      "1 é impar\n",
      "5 é impar\n",
      "4 é par\n",
      "5 é impar\n",
      "7 é impar\n",
      "8 é par\n",
      "7 é impar\n",
      "8 é par\n",
      "5 é impar\n"
     ]
    }
   ],
   "source": [
    "string = '154578785'\n",
    "\n",
    "\n",
    "for i in string:\n",
    "    if int(i) % 2 == 0:\n",
    "        print(i, 'é par')\n",
    "    else:\n",
    "        print(i, 'é impar')\n",
    "    \n"
   ]
  }
 ],
 "metadata": {
  "kernelspec": {
   "display_name": "Python 3",
   "language": "python",
   "name": "python3"
  },
  "language_info": {
   "codemirror_mode": {
    "name": "ipython",
    "version": 3
   },
   "file_extension": ".py",
   "mimetype": "text/x-python",
   "name": "python",
   "nbconvert_exporter": "python",
   "pygments_lexer": "ipython3",
   "version": "3.8.8"
  }
 },
 "nbformat": 4,
 "nbformat_minor": 5
}
