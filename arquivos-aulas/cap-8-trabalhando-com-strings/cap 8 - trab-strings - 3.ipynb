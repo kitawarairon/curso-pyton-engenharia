{
 "cells": [
  {
   "cell_type": "markdown",
   "id": "5b5a06ee",
   "metadata": {},
   "source": [
    "# Aplicando\n",
    "---\n",
    "* Exercícios"
   ]
  },
  {
   "cell_type": "markdown",
   "id": "eb89e7e1",
   "metadata": {},
   "source": [
    "## Exercícios\n",
    "---\n"
   ]
  },
  {
   "cell_type": "markdown",
   "id": "e1450f77",
   "metadata": {},
   "source": [
    "**<font color=\"red\">Exercício 1</font>**"
   ]
  },
  {
   "cell_type": "code",
   "execution_count": 7,
   "id": "3aded60e",
   "metadata": {},
   "outputs": [
    {
     "ename": "TypeError",
     "evalue": "'bool' object is not iterable",
     "output_type": "error",
     "traceback": [
      "\u001b[1;31m---------------------------------------------------------------------------\u001b[0m",
      "\u001b[1;31mTypeError\u001b[0m                                 Traceback (most recent call last)",
      "\u001b[1;32m<ipython-input-7-236fdf894138>\u001b[0m in \u001b[0;36m<module>\u001b[1;34m\u001b[0m\n\u001b[1;32m----> 1\u001b[1;33m \u001b[0many\u001b[0m\u001b[1;33m(\u001b[0m\u001b[1;34m'asddasd4'\u001b[0m\u001b[1;33m.\u001b[0m\u001b[0misdigit\u001b[0m\u001b[1;33m(\u001b[0m\u001b[1;33m)\u001b[0m\u001b[1;33m)\u001b[0m\u001b[1;33m\u001b[0m\u001b[1;33m\u001b[0m\u001b[0m\n\u001b[0m",
      "\u001b[1;31mTypeError\u001b[0m: 'bool' object is not iterable"
     ]
    }
   ],
   "source": [
    "any('asddasd4'.isdigit())"
   ]
  },
  {
   "cell_type": "code",
   "execution_count": null,
   "id": "f0f732a6",
   "metadata": {},
   "outputs": [],
   "source": []
  },
  {
   "cell_type": "markdown",
   "id": "9cd46f6c",
   "metadata": {},
   "source": [
    "**<font color=\"red\">Exercício 2</font>**"
   ]
  },
  {
   "cell_type": "code",
   "execution_count": null,
   "id": "71b5b46c",
   "metadata": {},
   "outputs": [],
   "source": []
  },
  {
   "cell_type": "code",
   "execution_count": null,
   "id": "273af861",
   "metadata": {},
   "outputs": [],
   "source": []
  },
  {
   "cell_type": "markdown",
   "id": "e59fa241",
   "metadata": {},
   "source": [
    "**<font color=\"red\">Exercício 3</font>**"
   ]
  },
  {
   "cell_type": "code",
   "execution_count": null,
   "id": "3e7ed3fd",
   "metadata": {},
   "outputs": [],
   "source": []
  },
  {
   "cell_type": "code",
   "execution_count": null,
   "id": "374406ee",
   "metadata": {},
   "outputs": [],
   "source": []
  }
 ],
 "metadata": {
  "kernelspec": {
   "display_name": "Python 3",
   "language": "python",
   "name": "python3"
  },
  "language_info": {
   "codemirror_mode": {
    "name": "ipython",
    "version": 3
   },
   "file_extension": ".py",
   "mimetype": "text/x-python",
   "name": "python",
   "nbconvert_exporter": "python",
   "pygments_lexer": "ipython3",
   "version": "3.8.8"
  }
 },
 "nbformat": 4,
 "nbformat_minor": 5
}
