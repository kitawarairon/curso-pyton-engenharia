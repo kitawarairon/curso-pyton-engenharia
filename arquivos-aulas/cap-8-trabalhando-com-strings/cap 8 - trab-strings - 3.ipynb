{
 "cells": [
  {
   "cell_type": "markdown",
   "id": "5b5a06ee",
   "metadata": {},
   "source": [
    "# Aplicando\n",
    "---\n",
    "* Exercícios"
   ]
  },
  {
   "cell_type": "markdown",
   "id": "eb89e7e1",
   "metadata": {},
   "source": [
    "## Exercícios\n",
    "---\n"
   ]
  },
  {
   "cell_type": "markdown",
   "id": "e1450f77",
   "metadata": {},
   "source": [
    "**<font color=\"red\">Exercício 1</font>** Seu chefe mandou a seguinte lista.\n",
    "\n",
    "```python\n",
    "participantes = [\n",
    "                 ('pedro', '45786'), (' julio', '11458a'),\n",
    "                 ('Daniela ', '48756'), ('Rafael', '865#45')\n",
    "                 ('Poly','45687'), ('Julie','4566874')\n",
    "\n",
    "]\n",
    "```\n",
    "\n",
    "e pediu que você seleciona-se os participantes que se cadastraram de forma correta, isto é, o código tem que ser apenas numérico e com tamanho igual a 5. Ele pediu para você entregar uma lista com todos os participantes com a primeira letra maiúscula, dos aprovados com todas as letras maiúsculas e, por fim, os reprovadas com letras minúsculas."
   ]
  },
  {
   "cell_type": "code",
   "execution_count": 19,
   "id": "f0f732a6",
   "metadata": {},
   "outputs": [],
   "source": [
    "participantes = [\n",
    "                 ('pedro', '45786'), (' julio', '11458a'),\n",
    "                 ('Daniela ', '48756'), ('RaFAel', '865#45'),\n",
    "                 ('Poly','45687'), ('Julie','4566874'),\n",
    "]"
   ]
  },
  {
   "cell_type": "code",
   "execution_count": 26,
   "id": "9f946cb9",
   "metadata": {},
   "outputs": [],
   "source": [
    "# variáveis auxiliares\n",
    "nome_dos_participantes = []\n",
    "nome_dos_aprovados = []\n",
    "nome_dos_reprovados = []\n",
    "\n",
    "\n",
    "for participante in participantes:\n",
    "    \n",
    "    # participantes\n",
    "    nome_dos_participantes.append(participante[0].replace(' ','').capitalize())\n",
    "    \n",
    "    # aprovado\n",
    "    if participante[1].isnumeric() and len(participante[1]) == 5:\n",
    "        nome_dos_aprovados.append(participante[0].upper())\n",
    "    else:\n",
    "        nome_dos_reprovados.append(participante[0].lower().replace(' ',''))\n",
    "    "
   ]
  },
  {
   "cell_type": "code",
   "execution_count": 27,
   "id": "8ef9b53c",
   "metadata": {},
   "outputs": [
    {
     "data": {
      "text/plain": [
       "['Pedro', 'Julio', 'Daniela', 'Rafael', 'Poly', 'Julie']"
      ]
     },
     "execution_count": 27,
     "metadata": {},
     "output_type": "execute_result"
    }
   ],
   "source": [
    "nome_dos_participantes"
   ]
  },
  {
   "cell_type": "code",
   "execution_count": 28,
   "id": "54674cfe",
   "metadata": {},
   "outputs": [
    {
     "data": {
      "text/plain": [
       "['PEDRO', 'DANIELA ', 'POLY']"
      ]
     },
     "execution_count": 28,
     "metadata": {},
     "output_type": "execute_result"
    }
   ],
   "source": [
    "nome_dos_aprovados"
   ]
  },
  {
   "cell_type": "code",
   "execution_count": 29,
   "id": "499f8f04",
   "metadata": {},
   "outputs": [
    {
     "data": {
      "text/plain": [
       "['julio', 'rafael', 'julie']"
      ]
     },
     "execution_count": 29,
     "metadata": {},
     "output_type": "execute_result"
    }
   ],
   "source": [
    "nome_dos_reprovados"
   ]
  },
  {
   "cell_type": "code",
   "execution_count": 33,
   "id": "bcaea4e4",
   "metadata": {},
   "outputs": [
    {
     "data": {
      "text/plain": [
       "'&&Bbasbdbas&&&&db&&&&a&&b&&das'"
      ]
     },
     "execution_count": 33,
     "metadata": {},
     "output_type": "execute_result"
    }
   ],
   "source": [
    "'ABbasbdbasAAdbAAaAbAdas'.replace('A','&&')"
   ]
  },
  {
   "cell_type": "code",
   "execution_count": 39,
   "id": "a05f6dcd",
   "metadata": {},
   "outputs": [
    {
     "data": {
      "text/plain": [
       "['&&Bbas', 'bdbas&&&&d', 'b&&&&a&&b', '&&das']"
      ]
     },
     "execution_count": 39,
     "metadata": {},
     "output_type": "execute_result"
    }
   ],
   "source": [
    "'ABbas,bdbasAAd,bAAaAb,Adas'.replace('A','&&').split(',')"
   ]
  },
  {
   "cell_type": "code",
   "execution_count": 40,
   "id": "b27f08e5",
   "metadata": {},
   "outputs": [
    {
     "ename": "AttributeError",
     "evalue": "'list' object has no attribute 'replace'",
     "output_type": "error",
     "traceback": [
      "\u001b[1;31m---------------------------------------------------------------------------\u001b[0m",
      "\u001b[1;31mAttributeError\u001b[0m                            Traceback (most recent call last)",
      "\u001b[1;32m<ipython-input-40-0cf9340e1e8c>\u001b[0m in \u001b[0;36m<module>\u001b[1;34m\u001b[0m\n\u001b[1;32m----> 1\u001b[1;33m \u001b[1;34m'ABbas,bdbasAAd,bAAaAb,Adas'\u001b[0m\u001b[1;33m.\u001b[0m\u001b[0msplit\u001b[0m\u001b[1;33m(\u001b[0m\u001b[1;34m','\u001b[0m\u001b[1;33m)\u001b[0m\u001b[1;33m.\u001b[0m\u001b[0mreplace\u001b[0m\u001b[1;33m(\u001b[0m\u001b[1;34m'A'\u001b[0m\u001b[1;33m,\u001b[0m\u001b[1;34m'&&'\u001b[0m\u001b[1;33m)\u001b[0m\u001b[1;33m\u001b[0m\u001b[1;33m\u001b[0m\u001b[0m\n\u001b[0m",
      "\u001b[1;31mAttributeError\u001b[0m: 'list' object has no attribute 'replace'"
     ]
    }
   ],
   "source": [
    "'ABbas,bdbasAAd,bAAaAb,Adas'.split(',').replace('A','&&')"
   ]
  },
  {
   "cell_type": "markdown",
   "id": "9cd46f6c",
   "metadata": {},
   "source": [
    "**<font color=\"red\">Exercício 2</font>**\n",
    "\n",
    "Vamos criar o jogo da forca ???\n",
    "\n",
    "> 6 Tentativas"
   ]
  },
  {
   "cell_type": "code",
   "execution_count": null,
   "id": "dbbc71fd",
   "metadata": {},
   "outputs": [],
   "source": [
    "# dados de entrada\n",
    "# palavra\n",
    "# tentativas (letras)\n",
    "\n",
    "# variáveis auxiliares\n",
    "# digitadas, acertos, erros\n",
    "\n",
    "# while True\n",
    "# vc ganhar gabarito == palavra ou a gente erros == 6"
   ]
  },
  {
   "cell_type": "code",
   "execution_count": 91,
   "id": "98e7454a",
   "metadata": {
    "scrolled": true
   },
   "outputs": [
    {
     "name": "stdout",
     "output_type": "stream",
     "text": [
      "Digite a palavra: peixe\n",
      "_ _ _ _ _ \n",
      "Digite a sua tentativa: p\n",
      "p_ _ _ _ \n",
      "Digite a sua tentativa: e\n",
      "pe_ _ e\n",
      "Digite a sua tentativa: i\n",
      "pei_ e\n",
      "Digite a sua tentativa: x\n",
      "peixe\n",
      "Parabéns, você ganhou o jogo!!!\n"
     ]
    }
   ],
   "source": [
    "# dados de entrada\n",
    "palavra = input('Digite a palavra: ').lower().strip()\n",
    "\n",
    "# variáveis auxiliares\n",
    "digitadas = []\n",
    "acertos = [] # p\n",
    "erros = 0\n",
    "\n",
    "while True:\n",
    "    gabarito = ''\n",
    "    for letra in palavra:\n",
    "        gabarito += letra if letra in acertos else '_ '\n",
    "    print(gabarito)\n",
    "    if gabarito == palavra:\n",
    "        print('Parabéns, você ganhou o jogo!!!')\n",
    "        break\n",
    "    tentativa = input('Digite a sua tentativa: ').lower().strip()\n",
    "    if tentativa in digitadas:\n",
    "        print('Você já digitou essa letra, por favor, tente novamente!')\n",
    "        continue\n",
    "    else:\n",
    "        digitadas += tentativa\n",
    "        if tentativa in palavra:\n",
    "            acertos += tentativa\n",
    "        else:\n",
    "            erros += 1\n",
    "            print('Você errou, marreco!!!')\n",
    "    if erros == 6:\n",
    "        print('Você foi enforcado, marreco!!!')\n",
    "        break  "
   ]
  },
  {
   "cell_type": "code",
   "execution_count": 86,
   "id": "75605fb0",
   "metadata": {},
   "outputs": [
    {
     "name": "stdout",
     "output_type": "stream",
     "text": [
      "....\n"
     ]
    }
   ],
   "source": [
    "# variáveis auxiliares\n",
    "digitadas = []\n",
    "acertos = []\n",
    "erros = 0\n",
    "\n",
    "palavra = 'Juca'\n",
    "\n",
    "gabarito = ''\n",
    "for letra in  palavra:\n",
    "    gabarito += letra if letra in acertos else '.'\n",
    "print(gabarito)\n"
   ]
  },
  {
   "cell_type": "markdown",
   "id": "e59fa241",
   "metadata": {},
   "source": [
    "**<font color=\"red\">Exercício 3</font>** Implemente os desenhos na forca."
   ]
  },
  {
   "cell_type": "code",
   "execution_count": null,
   "id": "3e7ed3fd",
   "metadata": {},
   "outputs": [],
   "source": []
  },
  {
   "cell_type": "code",
   "execution_count": null,
   "id": "374406ee",
   "metadata": {},
   "outputs": [],
   "source": []
  }
 ],
 "metadata": {
  "kernelspec": {
   "display_name": "Python 3",
   "language": "python",
   "name": "python3"
  },
  "language_info": {
   "codemirror_mode": {
    "name": "ipython",
    "version": 3
   },
   "file_extension": ".py",
   "mimetype": "text/x-python",
   "name": "python",
   "nbconvert_exporter": "python",
   "pygments_lexer": "ipython3",
   "version": "3.8.8"
  }
 },
 "nbformat": 4,
 "nbformat_minor": 5
}
