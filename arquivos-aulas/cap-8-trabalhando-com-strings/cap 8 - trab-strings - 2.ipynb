{
 "cells": [
  {
   "cell_type": "markdown",
   "id": "efb389d6",
   "metadata": {},
   "source": [
    "# Operações com strings e métodos \n",
    "---\n",
    "* Concatenação;\n",
    "* Composição;\n",
    "* Formatação;\n",
    "* Métodos."
   ]
  },
  {
   "cell_type": "markdown",
   "id": "96f349e7",
   "metadata": {},
   "source": [
    "## Concatenação\n",
    "---\n",
    "É operação de somar strings"
   ]
  },
  {
   "cell_type": "code",
   "execution_count": 1,
   "id": "794a2293",
   "metadata": {},
   "outputs": [
    {
     "data": {
      "text/plain": [
       "'JoséJoao'"
      ]
     },
     "execution_count": 1,
     "metadata": {},
     "output_type": "execute_result"
    }
   ],
   "source": [
    "'José' + 'Joao'"
   ]
  },
  {
   "cell_type": "code",
   "execution_count": 2,
   "id": "dc99c9d0",
   "metadata": {},
   "outputs": [],
   "source": [
    "s = 'AbC'"
   ]
  },
  {
   "cell_type": "code",
   "execution_count": 3,
   "id": "ea37f6d5",
   "metadata": {},
   "outputs": [
    {
     "data": {
      "text/plain": [
       "'AbCD'"
      ]
     },
     "execution_count": 3,
     "metadata": {},
     "output_type": "execute_result"
    }
   ],
   "source": [
    "s + 'D'"
   ]
  },
  {
   "cell_type": "code",
   "execution_count": 6,
   "id": "57c77179",
   "metadata": {},
   "outputs": [
    {
     "data": {
      "text/plain": [
       "'*'"
      ]
     },
     "execution_count": 6,
     "metadata": {},
     "output_type": "execute_result"
    }
   ],
   "source": [
    "ponto = '*'\n",
    "ponto"
   ]
  },
  {
   "cell_type": "code",
   "execution_count": 7,
   "id": "47fbce5a",
   "metadata": {},
   "outputs": [
    {
     "data": {
      "text/plain": [
       "'*****'"
      ]
     },
     "execution_count": 7,
     "metadata": {},
     "output_type": "execute_result"
    }
   ],
   "source": [
    "ponto * 5"
   ]
  },
  {
   "cell_type": "code",
   "execution_count": 8,
   "id": "bc372b0a",
   "metadata": {},
   "outputs": [
    {
     "data": {
      "text/plain": [
       "'*****'"
      ]
     },
     "execution_count": 8,
     "metadata": {},
     "output_type": "execute_result"
    }
   ],
   "source": [
    "ponto + ponto + ponto + ponto + ponto"
   ]
  },
  {
   "cell_type": "markdown",
   "id": "8972a2e2",
   "metadata": {},
   "source": [
    "## Composição\n",
    "---\n",
    "É a operação de juntar vários objetos e textos e gerar uma impressão."
   ]
  },
  {
   "cell_type": "code",
   "execution_count": 9,
   "id": "3beefced",
   "metadata": {},
   "outputs": [],
   "source": [
    "nome = 'Duda'\n",
    "idade = 32\n",
    "altura = 1.75"
   ]
  },
  {
   "cell_type": "code",
   "execution_count": 14,
   "id": "c1a841b4",
   "metadata": {},
   "outputs": [
    {
     "name": "stdout",
     "output_type": "stream",
     "text": [
      "Duda tem 32 anos e mede 1.75 m\n"
     ]
    }
   ],
   "source": [
    "print(nome, 'tem', idade, 'anos e mede', altura, 'm')"
   ]
  },
  {
   "cell_type": "markdown",
   "id": "bf575868",
   "metadata": {},
   "source": [
    "* forma mais antiga"
   ]
  },
  {
   "cell_type": "code",
   "execution_count": 13,
   "id": "d2507753",
   "metadata": {},
   "outputs": [],
   "source": [
    "# %d numeros inteiros\n",
    "# %s strings\n",
    "# %f floats"
   ]
  },
  {
   "cell_type": "code",
   "execution_count": 19,
   "id": "6da43ec4",
   "metadata": {
    "scrolled": true
   },
   "outputs": [
    {
     "name": "stdout",
     "output_type": "stream",
     "text": [
      "Duda tem 32 anos e mede 1.75 m\n"
     ]
    }
   ],
   "source": [
    "print('%s tem %d anos e mede %.2f m' %(nome, idade, altura))"
   ]
  },
  {
   "cell_type": "code",
   "execution_count": 16,
   "id": "a483c69c",
   "metadata": {},
   "outputs": [
    {
     "ename": "TypeError",
     "evalue": "%d format: a number is required, not str",
     "output_type": "error",
     "traceback": [
      "\u001b[1;31m---------------------------------------------------------------------------\u001b[0m",
      "\u001b[1;31mTypeError\u001b[0m                                 Traceback (most recent call last)",
      "\u001b[1;32m<ipython-input-16-139a15a16fda>\u001b[0m in \u001b[0;36m<module>\u001b[1;34m\u001b[0m\n\u001b[1;32m----> 1\u001b[1;33m \u001b[0mprint\u001b[0m\u001b[1;33m(\u001b[0m\u001b[1;34m'%s tem %d anos e mede %f m'\u001b[0m \u001b[1;33m%\u001b[0m\u001b[1;33m(\u001b[0m\u001b[0midade\u001b[0m\u001b[1;33m,\u001b[0m \u001b[0mnome\u001b[0m\u001b[1;33m,\u001b[0m \u001b[0maltura\u001b[0m\u001b[1;33m)\u001b[0m\u001b[1;33m)\u001b[0m\u001b[1;33m\u001b[0m\u001b[1;33m\u001b[0m\u001b[0m\n\u001b[0m",
      "\u001b[1;31mTypeError\u001b[0m: %d format: a number is required, not str"
     ]
    }
   ],
   "source": [
    "print('%s tem %d anos e mede %f m' %(idade, nome, altura))"
   ]
  },
  {
   "cell_type": "markdown",
   "id": "3a34629f",
   "metadata": {},
   "source": [
    "* pelo método"
   ]
  },
  {
   "cell_type": "code",
   "execution_count": 17,
   "id": "929a8dd4",
   "metadata": {},
   "outputs": [
    {
     "name": "stdout",
     "output_type": "stream",
     "text": [
      "Duda tem 32 anos e mede 1.75 m\n"
     ]
    }
   ],
   "source": [
    "print('{} tem {} anos e mede {} m'.format(nome, idade, altura))"
   ]
  },
  {
   "cell_type": "markdown",
   "id": "914a0d2e",
   "metadata": {},
   "source": [
    "* f-string"
   ]
  },
  {
   "cell_type": "code",
   "execution_count": 18,
   "id": "9d7174aa",
   "metadata": {},
   "outputs": [
    {
     "name": "stdout",
     "output_type": "stream",
     "text": [
      "Duda tem 32 anos e mede 1.75 m\n"
     ]
    }
   ],
   "source": [
    "print(f'{nome} tem {idade} anos e mede {altura} m')"
   ]
  },
  {
   "attachments": {
    "image.png": {
     "image/png": "[encoded data removed]"
    }
   },
   "cell_type": "markdown",
   "id": "2c0f9226",
   "metadata": {},
   "source": [
    "## Formatação\n",
    "---\n",
    "\n",
    "[Documentação](https://docs.python.org/pt-br/3/library/string.html#formatstrings)\n",
    "\n",
    "**<font color='purple'>:[preencher][alinhar][largura].[precisão] </font>**\n",
    "\n",
    "![image.png](attachment:image.png)"
   ]
  },
  {
   "cell_type": "code",
   "execution_count": 102,
   "id": "66856e7b",
   "metadata": {},
   "outputs": [],
   "source": [
    "s = 'Eu gosto de Python'"
   ]
  },
  {
   "cell_type": "code",
   "execution_count": 111,
   "id": "ce76e652",
   "metadata": {},
   "outputs": [
    {
     "data": {
      "text/plain": [
       "18"
      ]
     },
     "execution_count": 111,
     "metadata": {},
     "output_type": "execute_result"
    }
   ],
   "source": [
    "len(s)"
   ]
  },
  {
   "cell_type": "code",
   "execution_count": 109,
   "id": "a900f6eb",
   "metadata": {},
   "outputs": [
    {
     "data": {
      "text/plain": [
       "'Eu gosto de Python'"
      ]
     },
     "execution_count": 109,
     "metadata": {},
     "output_type": "execute_result"
    }
   ],
   "source": [
    "'{:}'.format(s)"
   ]
  },
  {
   "cell_type": "code",
   "execution_count": 110,
   "id": "1e974cbe",
   "metadata": {},
   "outputs": [
    {
     "data": {
      "text/plain": [
       "18"
      ]
     },
     "execution_count": 110,
     "metadata": {},
     "output_type": "execute_result"
    }
   ],
   "source": [
    "len('{:}'.format(s))"
   ]
  },
  {
   "cell_type": "code",
   "execution_count": 103,
   "id": "79a0f5ff",
   "metadata": {},
   "outputs": [
    {
     "data": {
      "text/plain": [
       "'  Eu gosto de Python'"
      ]
     },
     "execution_count": 103,
     "metadata": {},
     "output_type": "execute_result"
    }
   ],
   "source": [
    "'{:>20}'.format(s)"
   ]
  },
  {
   "cell_type": "code",
   "execution_count": 104,
   "id": "2a2cbabe",
   "metadata": {},
   "outputs": [
    {
     "data": {
      "text/plain": [
       "'            Eu gosto de Python'"
      ]
     },
     "execution_count": 104,
     "metadata": {},
     "output_type": "execute_result"
    }
   ],
   "source": [
    "'{:>30}'.format(s)"
   ]
  },
  {
   "cell_type": "code",
   "execution_count": 108,
   "id": "3dc5d19e",
   "metadata": {
    "scrolled": true
   },
   "outputs": [
    {
     "data": {
      "text/plain": [
       "30"
      ]
     },
     "execution_count": 108,
     "metadata": {},
     "output_type": "execute_result"
    }
   ],
   "source": [
    "len('{:>30}'.format(s))"
   ]
  },
  {
   "cell_type": "code",
   "execution_count": 105,
   "id": "954ccf2c",
   "metadata": {},
   "outputs": [
    {
     "data": {
      "text/plain": [
       "'      Eu gosto de Python      '"
      ]
     },
     "execution_count": 105,
     "metadata": {},
     "output_type": "execute_result"
    }
   ],
   "source": [
    "'{:^30}'.format(s)"
   ]
  },
  {
   "cell_type": "code",
   "execution_count": 106,
   "id": "3d99147a",
   "metadata": {},
   "outputs": [
    {
     "data": {
      "text/plain": [
       "'######Eu gosto de Python######'"
      ]
     },
     "execution_count": 106,
     "metadata": {},
     "output_type": "execute_result"
    }
   ],
   "source": [
    "'{:#^30}'.format(s)"
   ]
  },
  {
   "cell_type": "code",
   "execution_count": 107,
   "id": "55632d1e",
   "metadata": {},
   "outputs": [
    {
     "data": {
      "text/plain": [
       "'Eu gosto de Python            '"
      ]
     },
     "execution_count": 107,
     "metadata": {},
     "output_type": "execute_result"
    }
   ],
   "source": [
    "'{:<30}'.format(s)"
   ]
  },
  {
   "cell_type": "code",
   "execution_count": 113,
   "id": "452ba8dc",
   "metadata": {},
   "outputs": [
    {
     "data": {
      "text/plain": [
       "'Eu go'"
      ]
     },
     "execution_count": 113,
     "metadata": {},
     "output_type": "execute_result"
    }
   ],
   "source": [
    "'{:.5}'.format(s)"
   ]
  },
  {
   "cell_type": "code",
   "execution_count": 115,
   "id": "df35e9ed",
   "metadata": {},
   "outputs": [
    {
     "data": {
      "text/plain": [
       "'Eu gosto de Python'"
      ]
     },
     "execution_count": 115,
     "metadata": {},
     "output_type": "execute_result"
    }
   ],
   "source": [
    "'{:.18}'.format(s)"
   ]
  },
  {
   "cell_type": "code",
   "execution_count": 133,
   "id": "036d02ef",
   "metadata": {},
   "outputs": [],
   "source": [
    "nome = 'Gaules'\n",
    "idade = 12458\n",
    "altura_da_cabeca = 3.454548"
   ]
  },
  {
   "cell_type": "code",
   "execution_count": 99,
   "id": "d3b4b2d1",
   "metadata": {},
   "outputs": [
    {
     "name": "stdout",
     "output_type": "stream",
     "text": [
      "Gaules tem 12458 e a sua cabeça tem 3.45 metros\n"
     ]
    }
   ],
   "source": [
    "print('{} tem {} e a sua cabeça tem {} metros'.format(nome, idade, altura_da_cabeca))"
   ]
  },
  {
   "cell_type": "code",
   "execution_count": 100,
   "id": "8fdb53a9",
   "metadata": {},
   "outputs": [
    {
     "name": "stdout",
     "output_type": "stream",
     "text": [
      "Gaules tem 12458 anos e a sua cabeça tem 3.45 metros\n"
     ]
    }
   ],
   "source": [
    "print('{0} tem {1} anos e a sua cabeça tem {2} metros'.format(nome, idade, altura_da_cabeca))"
   ]
  },
  {
   "cell_type": "code",
   "execution_count": 101,
   "id": "004887f7",
   "metadata": {},
   "outputs": [
    {
     "name": "stdout",
     "output_type": "stream",
     "text": [
      "Gaules tem 3.45 anos e a sua cabeça tem 12458 metros\n"
     ]
    }
   ],
   "source": [
    "print('{0} tem {2} anos e a sua cabeça tem {1} metros'.format(nome, idade, altura_da_cabeca))"
   ]
  },
  {
   "attachments": {
    "image.png": {
     "image/png": "[encoded data removed]"
    }
   },
   "cell_type": "markdown",
   "id": "5e68291e",
   "metadata": {},
   "source": [
    "* Formatação de números\n",
    "\n",
    "**<font color=\"purple\">:[preencher][alinhar][sinal][largura].[precisão][tipo] </font>**\n",
    "\n",
    "![image.png](attachment:image.png)"
   ]
  },
  {
   "cell_type": "code",
   "execution_count": 210,
   "id": "8e9afe14",
   "metadata": {},
   "outputs": [],
   "source": [
    "copas = 5\n",
    "salario = 1250.458312\n",
    "saldo_bancario = 30.42"
   ]
  },
  {
   "cell_type": "code",
   "execution_count": 211,
   "id": "89f283a1",
   "metadata": {},
   "outputs": [
    {
     "data": {
      "text/plain": [
       "'############+30.42############'"
      ]
     },
     "execution_count": 211,
     "metadata": {},
     "output_type": "execute_result"
    }
   ],
   "source": [
    "\"{:#^+30}\".format(saldo_bancario)"
   ]
  },
  {
   "cell_type": "code",
   "execution_count": 212,
   "id": "3b4a4384",
   "metadata": {},
   "outputs": [
    {
     "data": {
      "text/plain": [
       "'1250.458312'"
      ]
     },
     "execution_count": 212,
     "metadata": {},
     "output_type": "execute_result"
    }
   ],
   "source": [
    "('{}').format(salario)"
   ]
  },
  {
   "cell_type": "code",
   "execution_count": 216,
   "id": "837655ab",
   "metadata": {},
   "outputs": [
    {
     "data": {
      "text/plain": [
       "'1.3e+03'"
      ]
     },
     "execution_count": 216,
     "metadata": {},
     "output_type": "execute_result"
    }
   ],
   "source": [
    "('{:.2}').format(salario)"
   ]
  },
  {
   "cell_type": "code",
   "execution_count": 215,
   "id": "186b6321",
   "metadata": {},
   "outputs": [
    {
     "name": "stdout",
     "output_type": "stream",
     "text": [
      "1.25e+03\n"
     ]
    }
   ],
   "source": [
    "print(('{:.3}').format(salario))"
   ]
  },
  {
   "cell_type": "code",
   "execution_count": 218,
   "id": "aecbf8a9",
   "metadata": {},
   "outputs": [
    {
     "data": {
      "text/plain": [
       "1300.0"
      ]
     },
     "execution_count": 218,
     "metadata": {},
     "output_type": "execute_result"
    }
   ],
   "source": [
    "1.3 * (10**3)"
   ]
  },
  {
   "cell_type": "code",
   "execution_count": 219,
   "id": "58ad05d8",
   "metadata": {},
   "outputs": [
    {
     "name": "stdout",
     "output_type": "stream",
     "text": [
      "1.25e+03\n"
     ]
    }
   ],
   "source": [
    "print(('{:.4}').format(salario))"
   ]
  },
  {
   "cell_type": "code",
   "execution_count": 220,
   "id": "64872730",
   "metadata": {
    "scrolled": true
   },
   "outputs": [
    {
     "name": "stdout",
     "output_type": "stream",
     "text": [
      "1250.5\n"
     ]
    }
   ],
   "source": [
    "print(('{:.5}').format(salario))"
   ]
  },
  {
   "cell_type": "code",
   "execution_count": 222,
   "id": "b71c6856",
   "metadata": {},
   "outputs": [
    {
     "ename": "ValueError",
     "evalue": "Format specifier missing precision",
     "output_type": "error",
     "traceback": [
      "\u001b[1;31m---------------------------------------------------------------------------\u001b[0m",
      "\u001b[1;31mValueError\u001b[0m                                Traceback (most recent call last)",
      "\u001b[1;32m<ipython-input-222-a9c49103ab33>\u001b[0m in \u001b[0;36m<module>\u001b[1;34m\u001b[0m\n\u001b[1;32m----> 1\u001b[1;33m \u001b[0mprint\u001b[0m\u001b[1;33m(\u001b[0m\u001b[1;33m(\u001b[0m\u001b[1;34m'{:.f}'\u001b[0m\u001b[1;33m)\u001b[0m\u001b[1;33m.\u001b[0m\u001b[0mformat\u001b[0m\u001b[1;33m(\u001b[0m\u001b[0msalario\u001b[0m\u001b[1;33m)\u001b[0m\u001b[1;33m)\u001b[0m\u001b[1;33m\u001b[0m\u001b[1;33m\u001b[0m\u001b[0m\n\u001b[0m",
      "\u001b[1;31mValueError\u001b[0m: Format specifier missing precision"
     ]
    }
   ],
   "source": [
    "print(('{:.f}').format(salario))"
   ]
  },
  {
   "cell_type": "code",
   "execution_count": 223,
   "id": "113ce40f",
   "metadata": {},
   "outputs": [
    {
     "name": "stdout",
     "output_type": "stream",
     "text": [
      "1250.46\n"
     ]
    }
   ],
   "source": [
    "print(('{:.2f}').format(salario))"
   ]
  },
  {
   "cell_type": "code",
   "execution_count": 226,
   "id": "5c306dcf",
   "metadata": {},
   "outputs": [
    {
     "data": {
      "text/plain": [
       "'1250.46'"
      ]
     },
     "execution_count": 226,
     "metadata": {},
     "output_type": "execute_result"
    }
   ],
   "source": [
    "('{:.2F}').format(salario)"
   ]
  },
  {
   "cell_type": "code",
   "execution_count": 227,
   "id": "e66c1f40",
   "metadata": {},
   "outputs": [
    {
     "data": {
      "text/plain": [
       "'125045.83%'"
      ]
     },
     "execution_count": 227,
     "metadata": {},
     "output_type": "execute_result"
    }
   ],
   "source": [
    "('{:.2%}').format(salario)"
   ]
  },
  {
   "cell_type": "code",
   "execution_count": 231,
   "id": "ee1d32a5",
   "metadata": {},
   "outputs": [],
   "source": [
    "copas = 125"
   ]
  },
  {
   "cell_type": "code",
   "execution_count": 237,
   "id": "acff933e",
   "metadata": {},
   "outputs": [
    {
     "data": {
      "text/plain": [
       "'##################7D'"
      ]
     },
     "execution_count": 237,
     "metadata": {},
     "output_type": "execute_result"
    }
   ],
   "source": [
    "f'{copas:#>20X}'"
   ]
  },
  {
   "cell_type": "code",
   "execution_count": 238,
   "id": "c2a89465",
   "metadata": {},
   "outputs": [
    {
     "ename": "ValueError",
     "evalue": "Format specifier missing precision",
     "output_type": "error",
     "traceback": [
      "\u001b[1;31m---------------------------------------------------------------------------\u001b[0m",
      "\u001b[1;31mValueError\u001b[0m                                Traceback (most recent call last)",
      "\u001b[1;32m<ipython-input-238-d73e59650550>\u001b[0m in \u001b[0;36m<module>\u001b[1;34m\u001b[0m\n\u001b[1;32m----> 1\u001b[1;33m \u001b[1;34mf'{copas:#>20.X}'\u001b[0m \u001b[1;31m# DA ERRO!\u001b[0m\u001b[1;33m\u001b[0m\u001b[1;33m\u001b[0m\u001b[0m\n\u001b[0m",
      "\u001b[1;31mValueError\u001b[0m: Format specifier missing precision"
     ]
    }
   ],
   "source": [
    "f'{copas:#>20.X}' # DA ERRO!"
   ]
  },
  {
   "cell_type": "markdown",
   "id": "25959f01",
   "metadata": {},
   "source": [
    "## Métodos\n",
    "\n",
    "---\n"
   ]
  },
  {
   "cell_type": "code",
   "execution_count": 244,
   "id": "9cf97deb",
   "metadata": {},
   "outputs": [
    {
     "data": {
      "text/plain": [
       "'o rato roeu a roupa do rei de roma'"
      ]
     },
     "execution_count": 244,
     "metadata": {},
     "output_type": "execute_result"
    }
   ],
   "source": [
    "string = 'o rato roeu a roupa do rei de roma'\n",
    "string"
   ]
  },
  {
   "cell_type": "code",
   "execution_count": 245,
   "id": "c1b813e7",
   "metadata": {},
   "outputs": [
    {
     "data": {
      "text/plain": [
       "'O rato roeu a roupa do rei de roma'"
      ]
     },
     "execution_count": 245,
     "metadata": {},
     "output_type": "execute_result"
    }
   ],
   "source": [
    "string.capitalize()"
   ]
  },
  {
   "cell_type": "code",
   "execution_count": 246,
   "id": "ea5ec9bb",
   "metadata": {},
   "outputs": [],
   "source": [
    "filmes = ['homem aranha', 'homem de ferro', 'o soldado ryan']"
   ]
  },
  {
   "cell_type": "code",
   "execution_count": 258,
   "id": "3344d422",
   "metadata": {},
   "outputs": [
    {
     "name": "stdout",
     "output_type": "stream",
     "text": [
      "Homem Aranha\n",
      "Homem De Ferro\n",
      "O Soldado Ryan\n"
     ]
    }
   ],
   "source": [
    "for filme in filmes:\n",
    "    print(filme.title())"
   ]
  },
  {
   "cell_type": "code",
   "execution_count": 248,
   "id": "5cf619ce",
   "metadata": {},
   "outputs": [
    {
     "data": {
      "text/plain": [
       "23"
      ]
     },
     "execution_count": 248,
     "metadata": {},
     "output_type": "execute_result"
    }
   ],
   "source": [
    "string.find('rei')"
   ]
  },
  {
   "cell_type": "code",
   "execution_count": 254,
   "id": "e3f261b0",
   "metadata": {},
   "outputs": [
    {
     "data": {
      "text/plain": [
       "'rei'"
      ]
     },
     "execution_count": 254,
     "metadata": {},
     "output_type": "execute_result"
    }
   ],
   "source": [
    "string[23:26]"
   ]
  },
  {
   "cell_type": "code",
   "execution_count": 255,
   "id": "59e96aec",
   "metadata": {},
   "outputs": [
    {
     "data": {
      "text/plain": [
       "False"
      ]
     },
     "execution_count": 255,
     "metadata": {},
     "output_type": "execute_result"
    }
   ],
   "source": [
    "string.isnumeric()"
   ]
  },
  {
   "cell_type": "code",
   "execution_count": 256,
   "id": "7c55e602",
   "metadata": {},
   "outputs": [
    {
     "data": {
      "text/plain": [
       "True"
      ]
     },
     "execution_count": 256,
     "metadata": {},
     "output_type": "execute_result"
    }
   ],
   "source": [
    "'12456'.isnumeric()"
   ]
  },
  {
   "cell_type": "code",
   "execution_count": 257,
   "id": "32a0942f",
   "metadata": {},
   "outputs": [
    {
     "data": {
      "text/plain": [
       "'O Rato Roeu A Roupa Do Rei De Roma'"
      ]
     },
     "execution_count": 257,
     "metadata": {},
     "output_type": "execute_result"
    }
   ],
   "source": [
    "string.title()"
   ]
  },
  {
   "cell_type": "code",
   "execution_count": 260,
   "id": "345aa7a6",
   "metadata": {
    "scrolled": true
   },
   "outputs": [
    {
     "data": {
      "text/plain": [
       "'o:rato:roeu:a:roupa:do:rei:de:roma'"
      ]
     },
     "execution_count": 260,
     "metadata": {},
     "output_type": "execute_result"
    }
   ],
   "source": [
    "string.replace(' ',':')"
   ]
  },
  {
   "cell_type": "code",
   "execution_count": 262,
   "id": "ddb29918",
   "metadata": {},
   "outputs": [
    {
     "data": {
      "text/plain": [
       "'o rato roeu a roupa do rei de roma'"
      ]
     },
     "execution_count": 262,
     "metadata": {},
     "output_type": "execute_result"
    }
   ],
   "source": [
    "string"
   ]
  },
  {
   "cell_type": "code",
   "execution_count": 261,
   "id": "1957f87c",
   "metadata": {},
   "outputs": [
    {
     "data": {
      "text/plain": [
       "['o', 'rato', 'roeu', 'a', 'roupa', 'do', 'rei', 'de', 'roma']"
      ]
     },
     "execution_count": 261,
     "metadata": {},
     "output_type": "execute_result"
    }
   ],
   "source": [
    "string.split()"
   ]
  },
  {
   "cell_type": "code",
   "execution_count": 263,
   "id": "f3d246e2",
   "metadata": {},
   "outputs": [],
   "source": [
    "s2 = 'o:rato:roeu:a:roupa:do:rei:de:roma'"
   ]
  },
  {
   "cell_type": "code",
   "execution_count": 264,
   "id": "9b6d7615",
   "metadata": {},
   "outputs": [
    {
     "data": {
      "text/plain": [
       "['o', 'rato', 'roeu', 'a', 'roupa', 'do', 'rei', 'de', 'roma']"
      ]
     },
     "execution_count": 264,
     "metadata": {},
     "output_type": "execute_result"
    }
   ],
   "source": [
    "s2.split(':')"
   ]
  },
  {
   "cell_type": "code",
   "execution_count": 268,
   "id": "ce2f5cd4",
   "metadata": {},
   "outputs": [
    {
     "data": {
      "text/plain": [
       "list"
      ]
     },
     "execution_count": 268,
     "metadata": {},
     "output_type": "execute_result"
    }
   ],
   "source": [
    "string.replace(' ',':').split(':')"
   ]
  },
  {
   "cell_type": "code",
   "execution_count": 271,
   "id": "8dba34cc",
   "metadata": {},
   "outputs": [],
   "source": [
    "string = 'AB'"
   ]
  },
  {
   "cell_type": "code",
   "execution_count": 276,
   "id": "4f459feb",
   "metadata": {},
   "outputs": [],
   "source": [
    "tabela = {'AB':123456}"
   ]
  },
  {
   "cell_type": "code",
   "execution_count": 278,
   "id": "74f27327",
   "metadata": {},
   "outputs": [
    {
     "data": {
      "text/plain": [
       "'AB'"
      ]
     },
     "execution_count": 278,
     "metadata": {},
     "output_type": "execute_result"
    }
   ],
   "source": [
    "string.translate(tabela)"
   ]
  },
  {
   "cell_type": "markdown",
   "id": "72cf633a",
   "metadata": {},
   "source": [
    "* [Como funciona o translate()](https://www.programiz.com/python-programming/methods/string/translate)"
   ]
  }
 ],
 "metadata": {
  "kernelspec": {
   "display_name": "Python 3",
   "language": "python",
   "name": "python3"
  },
  "language_info": {
   "codemirror_mode": {
    "name": "ipython",
    "version": 3
   },
   "file_extension": ".py",
   "mimetype": "text/x-python",
   "name": "python",
   "nbconvert_exporter": "python",
   "pygments_lexer": "ipython3",
   "version": "3.8.8"
  }
 },
 "nbformat": 4,
 "nbformat_minor": 5
}
