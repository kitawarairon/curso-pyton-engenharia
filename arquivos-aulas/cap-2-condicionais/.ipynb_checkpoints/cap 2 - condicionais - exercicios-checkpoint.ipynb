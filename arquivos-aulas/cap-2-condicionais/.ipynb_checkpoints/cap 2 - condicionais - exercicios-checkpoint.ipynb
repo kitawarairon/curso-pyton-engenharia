{
 "cells": [
  {
   "cell_type": "markdown",
   "id": "20b71853",
   "metadata": {},
   "source": [
    "# Exercicios de condicionais\n",
    "---\n"
   ]
  },
  {
   "cell_type": "markdown",
   "id": "90c93bb9",
   "metadata": {},
   "source": [
    "**<font color=\"red\">Exercício 1</font>**: Crie um programa que você irá digitar a idade do carro e se a idade do carro for menor que 5 anos, o programa responderá que o carro é novo, caso contrário ele é velho."
   ]
  },
  {
   "cell_type": "code",
   "execution_count": 1,
   "id": "5c948766",
   "metadata": {},
   "outputs": [
    {
     "name": "stdout",
     "output_type": "stream",
     "text": [
      "Digite a idade do carro: 3\n",
      "Seu carro é novo\n"
     ]
    }
   ],
   "source": [
    "# solução exercicio 1\n",
    "idade = int(input('Digite a idade do carro: '))\n",
    "\n",
    "if idade <= 5:\n",
    "    print('Seu carro é novo')\n",
    "if idade > 5:\n",
    "    print('Seu carro é velho')"
   ]
  },
  {
   "cell_type": "code",
   "execution_count": 3,
   "id": "6ec060a3",
   "metadata": {},
   "outputs": [
    {
     "name": "stdout",
     "output_type": "stream",
     "text": [
      "Digite a idade do carro: 7\n",
      "Seu carro é velho\n"
     ]
    }
   ],
   "source": [
    "# solução exercicio 1\n",
    "idade = int(input('Digite a idade do carro: '))\n",
    "\n",
    "if idade <= 5:\n",
    "    print('Seu carro é novo')\n",
    "else:\n",
    "    print('Seu carro é velho')"
   ]
  },
  {
   "cell_type": "markdown",
   "id": "5cbb640b",
   "metadata": {},
   "source": [
    "**<font color=\"red\">Exercício 2</font>** Escreva um programa que pergunte a velocidade do carro de um usuário. Caso ultrapasse 80km/h, exiiba mensagem dizendo que o usuário foi multado. Neste caso, exiba o valor da multa, cobrando R\\$5 por km acima de 80 km/h."
   ]
  },
  {
   "cell_type": "code",
   "execution_count": 7,
   "id": "5c09010c",
   "metadata": {
    "scrolled": true
   },
   "outputs": [
    {
     "name": "stdout",
     "output_type": "stream",
     "text": [
      "Velocidade: 90\n",
      "Você foi multado!\n",
      "O valor da multa foi de 50.0 R$\n"
     ]
    }
   ],
   "source": [
    "# solução exercicio 2\n",
    "\n",
    "# dados de entrada\n",
    "velocidade = float(input('Velocidade: '))\n",
    "\n",
    "# variável auxiliar\n",
    "taxa_por_km = 5\n",
    "\n",
    "if velocidade <= 80:\n",
    "    print('Velocidade segura!')\n",
    "\n",
    "if velocidade > 80:\n",
    "    diferenca_de_velocidade = velocidade - 80\n",
    "    print('Você foi multado!')\n",
    "    print(f'O valor da multa foi de { diferenca_de_velocidade * taxa_por_km} R$')"
   ]
  },
  {
   "cell_type": "code",
   "execution_count": 10,
   "id": "e7c91ded",
   "metadata": {},
   "outputs": [
    {
     "name": "stdout",
     "output_type": "stream",
     "text": [
      "Velocidade: 90\n",
      "Você foi multado!\n",
      "O valor da multa foi de 50.0 R$\n"
     ]
    }
   ],
   "source": [
    "# solução exercicio 2\n",
    "\n",
    "# dados de entrada\n",
    "velocidade = float(input('Velocidade: '))\n",
    "\n",
    "# variável auxiliar\n",
    "taxa_por_km = 5\n",
    "\n",
    "if velocidade <= 80:\n",
    "    print('Velocidade segura!')\n",
    "\n",
    "else:\n",
    "    diferenca_de_velocidade = velocidade - 80\n",
    "    print('Você foi multado!')\n",
    "    print(f'O valor da multa foi de { diferenca_de_velocidade * taxa_por_km} R$')"
   ]
  },
  {
   "cell_type": "markdown",
   "id": "88b2affa",
   "metadata": {},
   "source": [
    "**<font color=\"red\">Exercício 3</font>** Para o aluno ser aprovado, ele deve ter uma média superior à 6 e uma taxa de frequência superior a 0.75 ou um iea superior à 6. Dessa forma, crie um programa que peça à media, frequencia e iea e retorne se o aluno foi aprovado ou não."
   ]
  },
  {
   "cell_type": "code",
   "execution_count": 12,
   "id": "f7ab7bd7",
   "metadata": {},
   "outputs": [
    {
     "name": "stdout",
     "output_type": "stream",
     "text": [
      "Insira sua média: 8\n",
      "Frequência: 0.5\n",
      "IEA: 6\n",
      "Aprovado pelo IEA!\n"
     ]
    }
   ],
   "source": [
    "# solução exercicio 3\n",
    "media = float(input('Insira sua média: '))\n",
    "freq = float(input('Frequência: '))\n",
    "iea = float(input('IEA: '))\n",
    "\n",
    "if media >= 6:\n",
    "    if freq >= 0.75:\n",
    "        print('Aprovado pela média e frequência!')\n",
    "        \n",
    "if media < 6:\n",
    "    print('Reprovado pela média ou frequência!')\n",
    "        \n",
    "if iea >= 6:\n",
    "    print('Aprovado pelo IEA!')\n",
    "\n",
    "if iea < 6:\n",
    "    print('Reprovado pelo IEA!')"
   ]
  },
  {
   "cell_type": "code",
   "execution_count": 15,
   "id": "5af16570",
   "metadata": {},
   "outputs": [
    {
     "name": "stdout",
     "output_type": "stream",
     "text": [
      "Insira sua média: 7.3\n",
      "Frequência: 0.65\n",
      "IEA: 7\n",
      "Aprovado!\n"
     ]
    }
   ],
   "source": [
    "# solução exercicio 3\n",
    "media = float(input('Insira sua média: '))\n",
    "freq = float(input('Frequência: '))\n",
    "iea = float(input('IEA: '))\n",
    "\n",
    "condicao_esquerda = (media >= 6 and freq >= 0.75) # para ser verdade, as duas condições devem ser verdade\n",
    "condicao_direita = (iea >= 6) # basta apenas o iea ser superior ou igual a 6 que a condição, será verdade\n",
    "\n",
    "if condicao_esquerda  or condicao_direita:\n",
    "    print('Aprovado!')\n",
    "else:\n",
    "    print('Reprovado!')"
   ]
  }
 ],
 "metadata": {
  "kernelspec": {
   "display_name": "Python 3",
   "language": "python",
   "name": "python3"
  },
  "language_info": {
   "codemirror_mode": {
    "name": "ipython",
    "version": 3
   },
   "file_extension": ".py",
   "mimetype": "text/x-python",
   "name": "python",
   "nbconvert_exporter": "python",
   "pygments_lexer": "ipython3",
   "version": "3.8.8"
  }
 },
 "nbformat": 4,
 "nbformat_minor": 5
}
