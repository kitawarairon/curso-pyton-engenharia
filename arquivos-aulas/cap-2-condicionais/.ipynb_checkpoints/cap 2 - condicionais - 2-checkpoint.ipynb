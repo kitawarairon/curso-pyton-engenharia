{
 "cells": [
  {
   "cell_type": "markdown",
   "id": "4e4f83fa-cd9b-49de-af2b-283753042370",
   "metadata": {},
   "source": [
    "# Falando um pouco mais sobre condicionais\n",
    "---\n",
    "* Um pouco mais sobre o `if`\n",
    "* `if` e `else`\n",
    "* Problema"
   ]
  },
  {
   "cell_type": "markdown",
   "id": "7bcf4302-d61d-49c9-b1d4-3793138b5ad4",
   "metadata": {},
   "source": [
    "## Um pouco mais sobre of if\n",
    "---"
   ]
  },
  {
   "cell_type": "code",
   "execution_count": 2,
   "id": "ec31aba5-5a09-4886-861e-644ce75d4b37",
   "metadata": {},
   "outputs": [
    {
     "name": "stdout",
     "output_type": "stream",
     "text": [
      "maior que tres\n"
     ]
    }
   ],
   "source": [
    "x = 4\n",
    "if x > 3:\n",
    "    print('maior que tres')"
   ]
  },
  {
   "cell_type": "code",
   "execution_count": 3,
   "id": "ff18a8e8-a1b1-4e69-9758-e751971ec634",
   "metadata": {},
   "outputs": [
    {
     "name": "stdout",
     "output_type": "stream",
     "text": [
      "é igual\n"
     ]
    }
   ],
   "source": [
    "x = 4\n",
    "if x == 4:\n",
    "    print('é igual')"
   ]
  },
  {
   "cell_type": "code",
   "execution_count": 4,
   "id": "59784419-efff-498e-b3f8-105c9308f709",
   "metadata": {},
   "outputs": [
    {
     "name": "stdout",
     "output_type": "stream",
     "text": [
      "é igual\n"
     ]
    }
   ],
   "source": [
    "x = 4\n",
    "if x == 4.0:\n",
    "    print('é igual')"
   ]
  },
  {
   "cell_type": "code",
   "execution_count": 5,
   "id": "4d720b5c-e2be-4847-9ac4-f3953a5d2a76",
   "metadata": {},
   "outputs": [],
   "source": [
    "x = 4\n",
    "if x == '4':\n",
    "    print('é igual')"
   ]
  },
  {
   "cell_type": "code",
   "execution_count": 6,
   "id": "3c0d7fc9-afc2-4078-8173-9caceb2e0c0f",
   "metadata": {},
   "outputs": [
    {
     "name": "stdout",
     "output_type": "stream",
     "text": [
      "é diferente\n"
     ]
    }
   ],
   "source": [
    "x = 4\n",
    "if x != '4':\n",
    "    print('é diferente')"
   ]
  },
  {
   "cell_type": "code",
   "execution_count": 9,
   "id": "6b497b5f-f062-4655-ac18-d8cf1fc80068",
   "metadata": {},
   "outputs": [
    {
     "name": "stderr",
     "output_type": "stream",
     "text": [
      "<>:2: SyntaxWarning: \"is\" with a literal. Did you mean \"==\"?\n",
      "<>:2: SyntaxWarning: \"is\" with a literal. Did you mean \"==\"?\n",
      "<ipython-input-9-c8194d62b4b4>:2: SyntaxWarning: \"is\" with a literal. Did you mean \"==\"?\n",
      "  if x is 4.0:\n"
     ]
    }
   ],
   "source": [
    "x = 4\n",
    "if x is 4.0:\n",
    "    print('é igual')"
   ]
  },
  {
   "cell_type": "code",
   "execution_count": 12,
   "id": "a3f6adec-e704-4571-975c-be74e90d98a4",
   "metadata": {},
   "outputs": [],
   "source": [
    "x = 9\n",
    "if (x>5) and (x<8):\n",
    "    print('está dentro')"
   ]
  },
  {
   "cell_type": "code",
   "execution_count": 11,
   "id": "2916fc3a-f58d-42ea-ad50-edc0b1e3bf74",
   "metadata": {},
   "outputs": [
    {
     "data": {
      "text/plain": [
       "False"
      ]
     },
     "execution_count": 11,
     "metadata": {},
     "output_type": "execute_result"
    }
   ],
   "source": [
    "(9>5) and (9<8)\n",
    "# true and true\n",
    "# true"
   ]
  },
  {
   "cell_type": "markdown",
   "id": "8e41124e-6967-49a0-a9bb-a5af38b4e76c",
   "metadata": {},
   "source": [
    "## if e else\n",
    "---"
   ]
  },
  {
   "cell_type": "code",
   "execution_count": 13,
   "id": "03ec9fb4-1ae1-477e-aa4e-60bd19018374",
   "metadata": {},
   "outputs": [
    {
     "name": "stdout",
     "output_type": "stream",
     "text": [
      "aprovado!\n"
     ]
    }
   ],
   "source": [
    "nota = 6.5\n",
    "if nota > 5:\n",
    "    print('aprovado!')\n",
    "else: # nota <= 5\n",
    "    print('reprovado!')"
   ]
  },
  {
   "cell_type": "code",
   "execution_count": 15,
   "id": "19603686-d919-4b55-b845-7423b5df7d81",
   "metadata": {},
   "outputs": [
    {
     "name": "stdout",
     "output_type": "stream",
     "text": [
      "reprovado!\n"
     ]
    }
   ],
   "source": [
    "nota2 = 4\n",
    "if nota2 > 5:\n",
    "    print('aprovado!')\n",
    "else: # nota <= 5\n",
    "    print('reprovado!')"
   ]
  },
  {
   "cell_type": "markdown",
   "id": "9df2934c-f3f2-477e-a8b2-e8ff07b3f911",
   "metadata": {},
   "source": [
    "## Exemplos\n",
    "---\n",
    "* O professor Juca Tatu deseja criar um programa para ajuda-lo na identificação de alunos aprovados e reprovados. "
   ]
  },
  {
   "cell_type": "code",
   "execution_count": null,
   "id": "cd675e43-8b7e-4eb2-ab6b-0424fbd04050",
   "metadata": {},
   "outputs": [],
   "source": [
    "# são 3 notas\n",
    "# a média mínima para aprovação é de 6\n",
    "\n",
    "# dados de entrada\n",
    "# nota1\n",
    "# nota2\n",
    "# nota3\n",
    "\n",
    "# saida\n",
    "# se foi ou não reprovado\n",
    "\n",
    "# media = somatório das notas / quantidade de notas\n",
    "# media em verificação se foi aprovada ou não"
   ]
  },
  {
   "cell_type": "code",
   "execution_count": 35,
   "id": "0075125c-7f54-4d2e-9225-f4b895dd6e99",
   "metadata": {},
   "outputs": [
    {
     "name": "stdin",
     "output_type": "stream",
     "text": [
      "Nota 1:  50\n",
      "Nota 2:  20\n",
      "Nota 3:  10\n"
     ]
    },
    {
     "name": "stdout",
     "output_type": "stream",
     "text": [
      "A média é superior a 10! Logo, algo foi digitado de forma equivocada!\n"
     ]
    }
   ],
   "source": [
    "# dados de entrada\n",
    "nota1 = float(input('Nota 1: '))\n",
    "nota2 = float(input('Nota 2: '))\n",
    "nota3 = float(input('Nota 3: '))\n",
    "\n",
    "# cálculo da média\n",
    "soma_das_notas = nota1 + nota2 + nota3\n",
    "quantidade_de_notas = 3\n",
    "media = soma_das_notas / quantidade_de_notas\n",
    "\n",
    "# verificação\n",
    "if media >= 0:\n",
    "    if media <=10:\n",
    "        if media >= 6:\n",
    "            print(f'A nota foi {media:.2f}. O aluno foi aprovado!')\n",
    "        else: # media < 6\n",
    "            print(f'A nota foi {media:.2f}. O aluno foi reprovado!')\n",
    "    else: # media > 10\n",
    "        print('A média é superior a 10! Logo, algo foi digitado de forma equivocada!')\n",
    "else: # media < 0\n",
    "    print('A média é negativa, por isso algo foi digitado de forma equivocada!')"
   ]
  },
  {
   "cell_type": "code",
   "execution_count": 41,
   "id": "fa038eed-f3c5-4c80-9b23-dbc81fb9a8c9",
   "metadata": {},
   "outputs": [
    {
     "name": "stdin",
     "output_type": "stream",
     "text": [
      "Nota 1:  -50\n",
      "Nota 2:  10\n",
      "Nota 3:  10\n"
     ]
    },
    {
     "name": "stdout",
     "output_type": "stream",
     "text": [
      "Algo foi digitado incorretamente! -10.0\n"
     ]
    }
   ],
   "source": [
    "# dados de entrada\n",
    "nota1 = float(input('Nota 1: '))\n",
    "nota2 = float(input('Nota 2: '))\n",
    "nota3 = float(input('Nota 3: '))\n",
    "\n",
    "# cálculo da média\n",
    "soma_das_notas = nota1 + nota2 + nota3\n",
    "quantidade_de_notas = 3\n",
    "media = soma_das_notas / quantidade_de_notas\n",
    "\n",
    "# verificação\n",
    "if media >= 0 and media <=10:\n",
    "    if media >= 6:\n",
    "        print(f'A nota foi {media:.2f}. O aluno foi aprovado!')\n",
    "    else: # media < 6\n",
    "            print(f'A nota foi {media:.2f}. O aluno foi reprovado!')\n",
    "else: # media < 0 ou media > 10\n",
    "    print(f'Algo foi digitado incorretamente! {media}')"
   ]
  },
  {
   "cell_type": "code",
   "execution_count": 45,
   "id": "bad32407-5601-49d1-8eb1-2e1668c0652e",
   "metadata": {},
   "outputs": [
    {
     "name": "stdin",
     "output_type": "stream",
     "text": [
      "Nota 1:  -50\n",
      "Nota 2:  -10\n",
      "Nota 3:  -10\n"
     ]
    },
    {
     "name": "stdout",
     "output_type": "stream",
     "text": [
      "Algo foi digitado incorretamente! -23.333333333333332\n"
     ]
    }
   ],
   "source": [
    "# dados de entrada\n",
    "nota1 = float(input('Nota 1: '))\n",
    "nota2 = float(input('Nota 2: '))\n",
    "nota3 = float(input('Nota 3: '))\n",
    "\n",
    "# cálculo da média\n",
    "soma_das_notas = nota1 + nota2 + nota3\n",
    "quantidade_de_notas = 3\n",
    "media = soma_das_notas / quantidade_de_notas\n",
    "\n",
    "# verificação\n",
    "if 0 <= media <= 10:\n",
    "    if media >= 6:\n",
    "        print(f'A nota foi {media:.2f}. O aluno foi aprovado!')\n",
    "    else: # media < 6\n",
    "            print(f'A nota foi {media:.2f}. O aluno foi reprovado!')\n",
    "else: # media < 0 ou media > 10\n",
    "    print(f'Algo foi digitado incorretamente! {media}')"
   ]
  },
  {
   "cell_type": "code",
   "execution_count": 55,
   "id": "1338f41c-702b-4cec-aea4-9d60e55ce2fa",
   "metadata": {},
   "outputs": [
    {
     "name": "stdout",
     "output_type": "stream",
     "text": [
      "A nota foi 0.00. O aluno foi reprovado!\n"
     ]
    }
   ],
   "source": [
    "media = 0\n",
    "if 0 > media or media > 10:\n",
    "    print(\"Fora dos limites!\")\n",
    "else:\n",
    "    if media >= 6:\n",
    "        print(f'A nota foi {media:.2f}. O aluno foi aprovado!')\n",
    "    else: # media < 6\n",
    "            print(f'A nota foi {media:.2f}. O aluno foi reprovado!')\n",
    "    \n",
    "    \n",
    "        "
   ]
  }
 ],
 "metadata": {
  "kernelspec": {
   "display_name": "Python 3",
   "language": "python",
   "name": "python3"
  },
  "language_info": {
   "codemirror_mode": {
    "name": "ipython",
    "version": 3
   },
   "file_extension": ".py",
   "mimetype": "text/x-python",
   "name": "python",
   "nbconvert_exporter": "python",
   "pygments_lexer": "ipython3",
   "version": "3.8.8"
  }
 },
 "nbformat": 4,
 "nbformat_minor": 5
}
