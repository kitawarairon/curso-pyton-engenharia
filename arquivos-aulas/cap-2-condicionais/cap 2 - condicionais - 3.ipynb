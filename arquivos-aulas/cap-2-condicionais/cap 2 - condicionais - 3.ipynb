{
 "cells": [
  {
   "cell_type": "markdown",
   "id": "0e6103e5-2cff-47eb-bedc-8c3b348a9eb5",
   "metadata": {},
   "source": [
    "# if, elif e else\n",
    "---\n",
    "\n",
    "* Resolvendo o desafio\n",
    "* Operações com booleanos e operadores\n",
    "* if, elif e else\n",
    "* Questões"
   ]
  },
  {
   "cell_type": "markdown",
   "id": "4de93265-4043-4e6f-994d-04060f957633",
   "metadata": {},
   "source": [
    "## Resolvendo o desafio\n",
    "---"
   ]
  },
  {
   "cell_type": "code",
   "execution_count": null,
   "id": "4d44cb88-c827-4533-bde2-8aa1da68d268",
   "metadata": {},
   "outputs": [],
   "source": [
    "media = 6.5\n",
    "\n",
    "if 0 <= media <= 10:\n",
    "    if media >= 6:\n",
    "        print(f'A nota foi {media:.2f}. O aluno foi aprovado!')\n",
    "    else: # media < 6\n",
    "            print(f'A nota foi {media:.2f}. O aluno foi reprovado!')\n",
    "else: # media < 0 ou media > 10\n",
    "    print(f'Algo foi digitado incorretamente! {media}')"
   ]
  },
  {
   "cell_type": "code",
   "execution_count": 10,
   "id": "256a9471-b23b-4082-848d-e34dfe3da33a",
   "metadata": {},
   "outputs": [
    {
     "name": "stdout",
     "output_type": "stream",
     "text": [
      "A média é inválida!\n"
     ]
    }
   ],
   "source": [
    "media = \n",
    "\n",
    "if media < 0 or media > 10:\n",
    "    print('A média é inválida!')\n",
    "else:\n",
    "    if media >= 6:\n",
    "        print(f'A nota foi {media:.2f}. O aluno foi aprovado!')\n",
    "    else: # media < 6\n",
    "            print(f'A nota foi {media:.2f}. O aluno foi reprovado!')"
   ]
  },
  {
   "cell_type": "markdown",
   "id": "65bc93f9-c10e-45f7-bfa8-931cd35e4ba4",
   "metadata": {},
   "source": [
    "## Operações booleanos e alguns operadores\n",
    "---\n",
    "\n",
    "```python\n",
    "True # verdadeiro\n",
    "False # falso\n",
    "\n",
    "or # ou\n",
    "and # e\n",
    "not # nega o boleano\n",
    "\n",
    "None # vazio\n",
    "in # está dentro\n",
    "is # olhá lá na memória \n",
    "```"
   ]
  },
  {
   "cell_type": "code",
   "execution_count": 13,
   "id": "d5b3faee-cf3f-4d80-97c0-da422eff8f6c",
   "metadata": {},
   "outputs": [
    {
     "name": "stdout",
     "output_type": "stream",
     "text": [
      "True\n",
      "True\n",
      "True\n",
      "False\n"
     ]
    }
   ],
   "source": [
    "# or - pelo menos uma verdadeiro\n",
    "\n",
    "print(True or True) # verdadeiro\n",
    "print(False or True) # verdadeiro\n",
    "print(True or False) # verdadeiro\n",
    "print(False or False) # falso"
   ]
  },
  {
   "cell_type": "code",
   "execution_count": 14,
   "id": "ee41c17e-3fc0-47d6-bb9d-e92e50177cf4",
   "metadata": {},
   "outputs": [
    {
     "name": "stdout",
     "output_type": "stream",
     "text": [
      "True\n",
      "False\n",
      "False\n",
      "False\n"
     ]
    }
   ],
   "source": [
    "# and - todas tem que ser verdadeiras\n",
    "print(True and True) # verdadeiro\n",
    "print(False and True) # falso\n",
    "print(True and False) # falso\n",
    "print(False and False) # falso"
   ]
  },
  {
   "cell_type": "code",
   "execution_count": 16,
   "id": "9fc64bf9-4086-4cb4-8dec-4e32df09e9c2",
   "metadata": {},
   "outputs": [
    {
     "name": "stdout",
     "output_type": "stream",
     "text": [
      "False\n",
      "True\n"
     ]
    }
   ],
   "source": [
    "# not - ele vai inverter o valor do true\n",
    "print(not True and True) # falso\n",
    "print(True or not False) # verdadeiro\n"
   ]
  },
  {
   "cell_type": "markdown",
   "id": "1aa2ea7d-327e-4af7-a78c-eb65b07b13af",
   "metadata": {},
   "source": [
    "## if, elif e else\n",
    "---"
   ]
  },
  {
   "cell_type": "code",
   "execution_count": 18,
   "id": "ad7d5c53-eb49-47fe-a867-5c74865428fd",
   "metadata": {},
   "outputs": [
    {
     "name": "stdout",
     "output_type": "stream",
     "text": [
      "está acima da média\n"
     ]
    }
   ],
   "source": [
    "altura = 1.70\n",
    "\n",
    "if altura >= 1.60: # if principal\n",
    "    print('está acima da média')\n",
    "elif altura >= 1.75: # secundário\n",
    "    print('está muito acima da média')\n",
    "else: # secundário\n",
    "    print('está abaixo da média')"
   ]
  },
  {
   "cell_type": "code",
   "execution_count": 28,
   "id": "f74e0bd5-2bb0-4895-8a91-0d66f2dc1c2c",
   "metadata": {},
   "outputs": [
    {
     "name": "stdout",
     "output_type": "stream",
     "text": [
      "O preço é 45 R$. Além disso, a categoria é 4\n"
     ]
    }
   ],
   "source": [
    "# vamos pensar em uma situação em que nos temos um preço por categoria\n",
    "# cat1 => p = 10\n",
    "# cat2 => p = 20\n",
    "# cat3 => p = 30\n",
    "# cat4 => p = 45\n",
    "\n",
    "categoria = 4\n",
    "\n",
    "if categoria == 1:\n",
    "    preco = 10\n",
    "else:\n",
    "    if categoria == 2:\n",
    "        preco = 20\n",
    "    else:\n",
    "        if categoria == 3:\n",
    "            preco = 30\n",
    "        else:\n",
    "            if categoria == 4:\n",
    "                preco = 45\n",
    "print('O preço é', preco, 'R$. Além disso, a categoria é',categoria)"
   ]
  },
  {
   "cell_type": "code",
   "execution_count": 34,
   "id": "b21f4909-aaa1-4382-9c55-bfa9759532d2",
   "metadata": {},
   "outputs": [
    {
     "name": "stdout",
     "output_type": "stream",
     "text": [
      "10\n"
     ]
    }
   ],
   "source": [
    "categoria = 1\n",
    "if categoria == 1:\n",
    "    preco = 10\n",
    "elif categoria == 2:\n",
    "    preco = 20\n",
    "elif categoria == 3:\n",
    "    preco = 30\n",
    "elif categoria == 4:\n",
    "    preco = 45\n",
    "else:\n",
    "    print('Essa categoria não existe')\n",
    "print(preco)"
   ]
  },
  {
   "cell_type": "markdown",
   "id": "cbd9e8f7-18c4-4f69-a818-223c65d6e13c",
   "metadata": {},
   "source": [
    "## Questões\n",
    "\n",
    "* Para a pessoa pagar o imposto ela deve ter um salário maior de 1250.00 ou ser maior de 25 anos. Escreva um código que verifique essas condições."
   ]
  },
  {
   "cell_type": "code",
   "execution_count": 35,
   "id": "e66f3584-4f9e-4460-a144-ffb2e24cdfe3",
   "metadata": {},
   "outputs": [
    {
     "name": "stdin",
     "output_type": "stream",
     "text": [
      "Salário:  500\n",
      "Idade:  25\n"
     ]
    },
    {
     "name": "stdout",
     "output_type": "stream",
     "text": [
      "tá safe! irmão!\n"
     ]
    }
   ],
   "source": [
    "salario = float(input('Salário: '))\n",
    "idade = int(input('Idade: '))\n",
    "\n",
    "if salario > 1250 or idade > 25:\n",
    "    print('paga imposto! safado!')\n",
    "else:\n",
    "    print('tá safe! irmão!')"
   ]
  },
  {
   "cell_type": "markdown",
   "id": "e335173b-705a-4f13-8110-681acfefd81f",
   "metadata": {},
   "source": [
    "* Escreva um programa que leia dois números e que pergunte qual operação você deseja realizar. +, -, *, **, / e imprima o resultado solocitado"
   ]
  },
  {
   "cell_type": "code",
   "execution_count": 42,
   "id": "1b62a08b-75de-4d3b-a3b2-a325e93aaff2",
   "metadata": {},
   "outputs": [
    {
     "name": "stdin",
     "output_type": "stream",
     "text": [
      "Número 1:  7\n",
      "Número 2:  8\n",
      "Operação: + | - | * | / | ** ^\n"
     ]
    },
    {
     "name": "stdout",
     "output_type": "stream",
     "text": [
      "Operação inválida!\n",
      "8.0\n"
     ]
    }
   ],
   "source": [
    "# dados de entrada\n",
    "# n1\n",
    "# n2\n",
    "# operação\n",
    "\n",
    "n1 = float(input('Número 1: '))\n",
    "n2 = float(input('Número 2: '))\n",
    "operacao = input('Operação: + | - | * | / | **\\n')\n",
    "\n",
    "if operacao == '+':\n",
    "    resultado = n1 + n2\n",
    "elif operacao == '-':\n",
    "    resultado = n1 - n2\n",
    "elif operacao == '*':\n",
    "    resultado = n1 * n2\n",
    "elif operacao == '/':\n",
    "    resultado = n1 / n2\n",
    "elif operacao == '**':\n",
    "    resultado = n1 ** n2\n",
    "else:\n",
    "    print('Operação inválida!')\n",
    "print(resultado)"
   ]
  },
  {
   "cell_type": "markdown",
   "id": "de8195c6-1f69-434a-8f1f-8ae9daa465a1",
   "metadata": {},
   "source": [
    "* Escreva um programa para aprovar o empréstimo bancário para compra de uma casa. O programa deve perguntar o valor da casa a comprar, o salário e a quantidade de anos a pagar. O valor da prestação mensal não pode ser superior a 30% do salário."
   ]
  },
  {
   "cell_type": "code",
   "execution_count": null,
   "id": "863d2dcf-58c2-4910-9531-91618c144a7c",
   "metadata": {},
   "outputs": [],
   "source": [
    "# dados de entrada\n",
    "# valor da casa\n",
    "# salario \n",
    "# quantidade de anos (vamos ter que transformar para meses)\n",
    "\n",
    "# saida\n",
    "# resposta foi aprovado ou não\n",
    "\n",
    "# parcela da casa = valor da casa / quantidade de meses\n",
    "# parcela da casa > a 30% do salário\n"
   ]
  },
  {
   "cell_type": "code",
   "execution_count": 47,
   "id": "9d18dca2-8068-408c-9dd7-c9acdb8f3ab2",
   "metadata": {},
   "outputs": [
    {
     "name": "stdin",
     "output_type": "stream",
     "text": [
      "Valor da casa:  400000\n",
      "Salário:  6500\n",
      "Anos:  30\n"
     ]
    },
    {
     "name": "stdout",
     "output_type": "stream",
     "text": [
      "1111.111111111111\n",
      "Empréstimo aprovado!!!\n"
     ]
    }
   ],
   "source": [
    "casa = float(input('Valor da casa: '))\n",
    "salario = float(input('Salário: '))\n",
    "meses = int(input('Anos: '))*12\n",
    "\n",
    "parcela_mensal = casa/meses\n",
    "print(parcela_mensal)\n",
    "\n",
    "if parcela_mensal > 0.3 * salario:\n",
    "    print('Empréstimo negado!')\n",
    "else:\n",
    "    print('Empréstimo aprovado!!!')"
   ]
  },
  {
   "cell_type": "code",
   "execution_count": 48,
   "id": "9247a0ee-8529-4787-ae02-a3efd557b9a9",
   "metadata": {},
   "outputs": [],
   "source": [
    "# entrada\n",
    "# energia consumida\n",
    "# tipo de instalacao\n",
    "\n",
    "# saida\n",
    "# preco\n",
    "\n",
    "# preco = energia * taxa de consumo\n",
    "# tres tipos consumos\n",
    "# faixas"
   ]
  },
  {
   "attachments": {
    "73d1a8c2-7713-4133-be64-abf4274fe4c0.png": {
     "image/png": "[encoded data removed]"
    }
   },
   "cell_type": "markdown",
   "id": "7a2dba8f-499d-4eb1-ac05-08016cf779ce",
   "metadata": {},
   "source": [
    "* Escreva um programa que calcule o preço a pagar pelo fornecimento de energia elétrica. Pergunte a quantidade de $kWh$ consumida e o tipo de instalação. R para residências, C para comercial e I para indústrias. Calcule o preço de acordo com a tabela a seguir.\n",
    "\n",
    "![image.png](attachment:73d1a8c2-7713-4133-be64-abf4274fe4c0.png)\n",
    "\n"
   ]
  },
  {
   "cell_type": "code",
   "execution_count": 50,
   "id": "b8c02c3e-47c6-4093-b103-eb16e24c8790",
   "metadata": {
    "scrolled": false
   },
   "outputs": [
    {
     "name": "stdin",
     "output_type": "stream",
     "text": [
      "Energia (kWh):  10000\n",
      "Tipo de consumo:  I\n"
     ]
    },
    {
     "name": "stdout",
     "output_type": "stream",
     "text": [
      "A conta de energia total foi de 6000.000 R$\n"
     ]
    }
   ],
   "source": [
    "energia = float(input('Energia (kWh): '))\n",
    "tipo = input('Tipo de consumo: ')\n",
    "\n",
    "if tipo == 'R':\n",
    "    if energia <= 500:\n",
    "        preco = 0.4\n",
    "    else:\n",
    "        preco = 0.65\n",
    "        \n",
    "elif tipo == 'C':\n",
    "    if enegia <= 100:\n",
    "        preco = 0.55\n",
    "    else:\n",
    "        preco = 0.6\n",
    "        \n",
    "elif tipo == 'I':\n",
    "    if energia <= 5000:\n",
    "        preco = 0.55\n",
    "    else:\n",
    "        preco = 0.6\n",
    "else:\n",
    "    print('Tipo de consumo inválido!!!')\n",
    "    \n",
    "print(f'A conta de energia total foi de {energia * preco:.3f} R$')"
   ]
  },
  {
   "attachments": {
    "image.png": {
     "image/png": "[encoded data removed]"
    }
   },
   "cell_type": "markdown",
   "id": "2377e6cc",
   "metadata": {},
   "source": [
    "* Exemplos extras\n",
    "\n",
    "**<font color=\"red\">Exemplo 1:</font>** Crie um program que peça a seu nome, altura e peso e retorne a **classificação** e o **grau de obesidade** do imc conforme a tabela abaixo.\n",
    "\n",
    "![image.png](attachment:image.png)"
   ]
  },
  {
   "cell_type": "code",
   "execution_count": 6,
   "id": "90c0a7df",
   "metadata": {},
   "outputs": [
    {
     "name": "stdout",
     "output_type": "stream",
     "text": [
      "Nome: a\n",
      "Altura (m): 1.70\n",
      "Peso (kg): 40\n",
      "a você tem um IMC (magreza, 0)\n"
     ]
    }
   ],
   "source": [
    "# solução exemplo 1\n",
    "\n",
    "# solução com if e else\n",
    "# dados de entrada\n",
    "nome = input('Nome: ')\n",
    "altura = float(input('Altura (m): '))\n",
    "peso = float(input('Peso (kg): '))\n",
    "\n",
    "# calculo do imc\n",
    "imc = peso / altura ** 2\n",
    "\n",
    "# verificação\n",
    "\n",
    "if imc < 18.5:\n",
    "    classificacao = 'magreza'\n",
    "    grau = 0\n",
    "else:\n",
    "    if imc < 24.9:\n",
    "        classificacao = 'normal'\n",
    "        grau = 0\n",
    "    else:\n",
    "        if imc < 29.9:\n",
    "            classificacao = 'sobrepeso'\n",
    "            grau = 1\n",
    "        else:\n",
    "            if imc < 39.9:\n",
    "                classificacao = 'obesidade'\n",
    "                grau = 2\n",
    "            else:\n",
    "                classificacao = 'obesidade grave'\n",
    "                grau = 3\n",
    "\n",
    "print(f'{nome} você tem um IMC ({classificacao}, {grau})')"
   ]
  },
  {
   "cell_type": "code",
   "execution_count": 13,
   "id": "250a2c35",
   "metadata": {},
   "outputs": [
    {
     "name": "stdout",
     "output_type": "stream",
     "text": [
      "IMC (obesidade grave, 3)\n"
     ]
    }
   ],
   "source": [
    "# solução com if, elif e else\n",
    "\n",
    "imc = 39.9\n",
    "\n",
    "if imc < 18.5:\n",
    "    classificacao = 'magreza'\n",
    "    grau = 0\n",
    "elif 18.5 <= imc <= 24.9:\n",
    "    classificacao = 'normal'\n",
    "    grau = 0\n",
    "elif 25 <= imc <= 29.9:\n",
    "    classificacao = 'sobrepeso'\n",
    "    grau = 1\n",
    "elif 30 <= imc < 39.9:\n",
    "    classificacao = 'obesidade'\n",
    "    grau = 2\n",
    "else:\n",
    "    classificacao = 'obesidade grave'\n",
    "    grau = 3\n",
    "\n",
    "print(f'IMC ({classificacao}, {grau})')"
   ]
  }
 ],
 "metadata": {
  "kernelspec": {
   "display_name": "Python 3",
   "language": "python",
   "name": "python3"
  },
  "language_info": {
   "codemirror_mode": {
    "name": "ipython",
    "version": 3
   },
   "file_extension": ".py",
   "mimetype": "text/x-python",
   "name": "python",
   "nbconvert_exporter": "python",
   "pygments_lexer": "ipython3",
   "version": "3.8.8"
  }
 },
 "nbformat": 4,
 "nbformat_minor": 5
}
