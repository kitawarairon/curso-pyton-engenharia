{
 "cells": [
  {
   "cell_type": "markdown",
   "id": "15e408f2-9474-4e3d-a7bf-fd6b101d8543",
   "metadata": {},
   "source": [
    "# Entendendo as condicionais\n",
    "---\n",
    "\n",
    "* O que operador condicional e boleanos.\n",
    "* Fluxo do operador \n",
    "* Implementando o `if`\n"
   ]
  },
  {
   "cell_type": "markdown",
   "id": "f88a098b-0c9b-4310-9e00-546f69c7ce07",
   "metadata": {},
   "source": [
    "## Operador condicional básico\n",
    "---\n",
    "\n",
    "```python\n",
    "if condicao: # após os dois pontos a gente entra no bloco do if\n",
    "    expressão \n",
    "```\n",
    "\n",
    "* Situação - Se uma fruta é vermelha, ela está estragada."
   ]
  },
  {
   "cell_type": "markdown",
   "id": "7ab476e9-6940-4a8b-9983-2da88c827d79",
   "metadata": {},
   "source": [
    "## Fluxo do operador\n",
    "---\n",
    "\n",
    "```python\n",
    "if True: # executa a nossa expressão/código abaixo\n",
    "    expressão\n",
    "```\n",
    "\n",
    "\n",
    "```python\n",
    "if False: # não executa a nossa expressão/código abaixo\n",
    "    expressão\n",
    "```"
   ]
  },
  {
   "cell_type": "markdown",
   "id": "7e46c17a-a177-405e-9be4-d75dbc978e2a",
   "metadata": {},
   "source": [
    "## Implementando nosso primeiro if\n",
    "---"
   ]
  },
  {
   "cell_type": "code",
   "execution_count": 6,
   "id": "1effd956-03fb-438e-b612-d5cb77951c65",
   "metadata": {},
   "outputs": [
    {
     "name": "stdout",
     "output_type": "stream",
     "text": [
      "Começando o fluxograma do código\n",
      "Python não é top\n",
      "512\n"
     ]
    }
   ],
   "source": [
    "print('Começando o fluxograma do código')\n",
    "\n",
    "if 2 > 3: # false\n",
    "    print('Python é top') # não vai ser executado\n",
    "    print(2+2)\n",
    "\n",
    "if 3 > 2: # verdadeiro\n",
    "    print('Python não é top') # vai ser executado\n",
    "    print(2**9)"
   ]
  },
  {
   "cell_type": "code",
   "execution_count": 10,
   "id": "8e982e5f-d374-415b-98c6-bb71d17bd002",
   "metadata": {},
   "outputs": [
    {
     "name": "stdout",
     "output_type": "stream",
     "text": [
      "executei o segundo if\n",
      "1100.0\n"
     ]
    }
   ],
   "source": [
    "salario = 1000\n",
    "\n",
    "if salario > 1500:\n",
    "    print('executei o primeiro if')\n",
    "    taxa = 5/100\n",
    "\n",
    "if salario <= 1500:\n",
    "    print('executei o segundo if')\n",
    "    taxa = 10/100\n",
    "    \n",
    "salario = salario*(1+taxa)\n",
    "\n",
    "print(salario) # 1100"
   ]
  },
  {
   "cell_type": "code",
   "execution_count": 11,
   "id": "c77ae0ca-749c-4a06-b642-6626274b19ad",
   "metadata": {},
   "outputs": [
    {
     "name": "stdout",
     "output_type": "stream",
     "text": [
      "executei o primeiro if\n",
      "1732.5\n"
     ]
    }
   ],
   "source": [
    "salario = 1650\n",
    "\n",
    "if salario > 1500:\n",
    "    print('executei o primeiro if')\n",
    "    taxa = 5/100\n",
    "\n",
    "if salario <= 1500:\n",
    "    print('executei o segundo if')\n",
    "    taxa = 10/100\n",
    "    \n",
    "salario = salario*(1+taxa)\n",
    "\n",
    "print(salario) # 1732.5"
   ]
  },
  {
   "cell_type": "code",
   "execution_count": null,
   "id": "a46acabc-1f6e-4d55-9b2d-08ffd7ee7d06",
   "metadata": {},
   "outputs": [],
   "source": [
    "# 0 -> false\n",
    "# 1 -> true"
   ]
  },
  {
   "cell_type": "code",
   "execution_count": 12,
   "id": "9d35dcb3-83ba-4354-9d38-ac5fb3b4f8ce",
   "metadata": {},
   "outputs": [
    {
     "name": "stdout",
     "output_type": "stream",
     "text": [
      "vc perdeu na loteria\n"
     ]
    }
   ],
   "source": [
    "if 0:\n",
    "    print('vc ganhou na loteria')\n",
    "if 1:\n",
    "    print('vc perdeu na loteria')"
   ]
  },
  {
   "cell_type": "code",
   "execution_count": 18,
   "id": "b4decd66-c9dd-44c4-b2e7-b6a8bd00fad3",
   "metadata": {},
   "outputs": [
    {
     "name": "stdout",
     "output_type": "stream",
     "text": [
      "Entramos\n"
     ]
    }
   ],
   "source": [
    "lista_de_frutas = ['maca', 'banana'] # 1\n",
    "lista_vazia = [] # 0\n",
    "\n",
    "if lista_de_frutas:\n",
    "    print('Entramos')\n",
    "    \n",
    "if lista_vazia:\n",
    "    print('entramos ??')"
   ]
  }
 ],
 "metadata": {
  "kernelspec": {
   "display_name": "Python 3",
   "language": "python",
   "name": "python3"
  },
  "language_info": {
   "codemirror_mode": {
    "name": "ipython",
    "version": 3
   },
   "file_extension": ".py",
   "mimetype": "text/x-python",
   "name": "python",
   "nbconvert_exporter": "python",
   "pygments_lexer": "ipython3",
   "version": "3.8.8"
  }
 },
 "nbformat": 4,
 "nbformat_minor": 5
}
