{
 "cells": [
  {
   "cell_type": "markdown",
   "id": "e0a221ea",
   "metadata": {},
   "source": [
    "# Exceções\n",
    "---\n",
    "* O que são exceções;\n",
    "* try e except;\n",
    "* Aprofundando em exceções."
   ]
  },
  {
   "cell_type": "markdown",
   "id": "8de8341d",
   "metadata": {},
   "source": [
    "## O que são exceções\n",
    "---\n",
    "Exceções são situações inesperados em nosso código ou apenas algo que não tratamos diretamento no programa. A gente já trabalhou com vários tipos de exceções.\n",
    "\n",
    "[Documentação](https://docs.python.org/pt-br/3/tutorial/errors.html#)\n",
    "* Criando exceções:"
   ]
  },
  {
   "cell_type": "code",
   "execution_count": 26,
   "id": "0cf666c0",
   "metadata": {},
   "outputs": [
    {
     "ename": "TypeError",
     "evalue": "can only concatenate str (not \"int\") to str",
     "output_type": "error",
     "traceback": [
      "\u001b[1;31m---------------------------------------------------------------------------\u001b[0m",
      "\u001b[1;31mTypeError\u001b[0m                                 Traceback (most recent call last)",
      "\u001b[1;32m<ipython-input-26-cf4379c484af>\u001b[0m in \u001b[0;36m<module>\u001b[1;34m\u001b[0m\n\u001b[1;32m----> 1\u001b[1;33m \u001b[1;34m'Pedro'\u001b[0m \u001b[1;33m+\u001b[0m \u001b[1;36m1\u001b[0m\u001b[1;33m\u001b[0m\u001b[1;33m\u001b[0m\u001b[0m\n\u001b[0m",
      "\u001b[1;31mTypeError\u001b[0m: can only concatenate str (not \"int\") to str"
     ]
    }
   ],
   "source": [
    "'Pedro' + 1"
   ]
  },
  {
   "cell_type": "code",
   "execution_count": 27,
   "id": "0c1a4bcf",
   "metadata": {},
   "outputs": [],
   "source": [
    "idades = [0, 2, 6, 9]"
   ]
  },
  {
   "cell_type": "code",
   "execution_count": 29,
   "id": "673d5d43",
   "metadata": {},
   "outputs": [
    {
     "ename": "IndexError",
     "evalue": "list index out of range",
     "output_type": "error",
     "traceback": [
      "\u001b[1;31m---------------------------------------------------------------------------\u001b[0m",
      "\u001b[1;31mIndexError\u001b[0m                                Traceback (most recent call last)",
      "\u001b[1;32m<ipython-input-29-06543e732dd6>\u001b[0m in \u001b[0;36m<module>\u001b[1;34m\u001b[0m\n\u001b[1;32m----> 1\u001b[1;33m \u001b[0midades\u001b[0m\u001b[1;33m[\u001b[0m\u001b[1;36m6\u001b[0m\u001b[1;33m]\u001b[0m\u001b[1;33m\u001b[0m\u001b[1;33m\u001b[0m\u001b[0m\n\u001b[0m",
      "\u001b[1;31mIndexError\u001b[0m: list index out of range"
     ]
    }
   ],
   "source": [
    "idades[6]"
   ]
  },
  {
   "cell_type": "code",
   "execution_count": 30,
   "id": "e9606b97",
   "metadata": {},
   "outputs": [
    {
     "ename": "ZeroDivisionError",
     "evalue": "division by zero",
     "output_type": "error",
     "traceback": [
      "\u001b[1;31m---------------------------------------------------------------------------\u001b[0m",
      "\u001b[1;31mZeroDivisionError\u001b[0m                         Traceback (most recent call last)",
      "\u001b[1;32m<ipython-input-30-bc757c3fda29>\u001b[0m in \u001b[0;36m<module>\u001b[1;34m\u001b[0m\n\u001b[1;32m----> 1\u001b[1;33m \u001b[1;36m1\u001b[0m \u001b[1;33m/\u001b[0m \u001b[1;36m0\u001b[0m\u001b[1;33m\u001b[0m\u001b[1;33m\u001b[0m\u001b[0m\n\u001b[0m",
      "\u001b[1;31mZeroDivisionError\u001b[0m: division by zero"
     ]
    }
   ],
   "source": [
    "1 / 0"
   ]
  },
  {
   "cell_type": "code",
   "execution_count": 31,
   "id": "fbf6360b",
   "metadata": {},
   "outputs": [
    {
     "ename": "NameError",
     "evalue": "name 'idade' is not defined",
     "output_type": "error",
     "traceback": [
      "\u001b[1;31m---------------------------------------------------------------------------\u001b[0m",
      "\u001b[1;31mNameError\u001b[0m                                 Traceback (most recent call last)",
      "\u001b[1;32m<ipython-input-31-b8fdec784b61>\u001b[0m in \u001b[0;36m<module>\u001b[1;34m\u001b[0m\n\u001b[1;32m----> 1\u001b[1;33m \u001b[0mprint\u001b[0m\u001b[1;33m(\u001b[0m\u001b[0midade\u001b[0m\u001b[1;33m)\u001b[0m\u001b[1;33m\u001b[0m\u001b[1;33m\u001b[0m\u001b[0m\n\u001b[0m",
      "\u001b[1;31mNameError\u001b[0m: name 'idade' is not defined"
     ]
    }
   ],
   "source": [
    "print(idade)"
   ]
  },
  {
   "cell_type": "markdown",
   "id": "14fb63d1",
   "metadata": {},
   "source": [
    "## try e except\n",
    "---\n",
    "\n",
    "O bloco `try` é o responsável pelo tratamento de exceções. O `try` é complementado pelo `except`, se nenhum erro ocorrer durante o código, o `except` nem chegar a ser executado."
   ]
  },
  {
   "cell_type": "code",
   "execution_count": 36,
   "id": "8217d1f0",
   "metadata": {},
   "outputs": [
    {
     "name": "stdout",
     "output_type": "stream",
     "text": [
      "Digite o índice que você deseja imprimir: 6\n",
      "O valor de índice, inválido!\n",
      "Digite o índice que você deseja imprimir: 2\n",
      "Maria\n",
      "Digite o índice que você deseja imprimir: \n",
      "Digite um número!\n"
     ]
    }
   ],
   "source": [
    "nomes = ['Carlos', 'Ricardo', 'Maria']\n",
    "\n",
    "for tentativa in range(len(nomes)):\n",
    "    try:\n",
    "        i = int(input('Digite o índice que você deseja imprimir: '))\n",
    "        print(nomes[i])\n",
    "    except ValueError:\n",
    "        print('Digite um número!')\n",
    "    except IndexError:\n",
    "        print('O valor de índice, inválido!')"
   ]
  },
  {
   "cell_type": "code",
   "execution_count": 38,
   "id": "3ace1ec8",
   "metadata": {},
   "outputs": [
    {
     "name": "stdout",
     "output_type": "stream",
     "text": [
      "Digite o índice que você deseja imprimir: 5\n",
      "Algo de errado acontececeu! list index out of range\n",
      "Digite o índice que você deseja imprimir: \n",
      "Algo de errado acontececeu! invalid literal for int() with base 10: ''\n",
      "Digite o índice que você deseja imprimir: 2\n",
      "Maria\n"
     ]
    }
   ],
   "source": [
    "nomes = ['Carlos', 'Ricardo', 'Maria']\n",
    "\n",
    "for tentativa in range(len(nomes)):\n",
    "    try:\n",
    "        i = int(input('Digite o índice que você deseja imprimir: '))\n",
    "        print(nomes[i])\n",
    "    except Exception as error: # erro = fora do indice // erro = value erro\n",
    "        print(f'Algo de errado acontececeu! {error}')"
   ]
  },
  {
   "cell_type": "markdown",
   "id": "ae734a9e",
   "metadata": {},
   "source": [
    "## Aprofundando em exceções\n",
    "---"
   ]
  },
  {
   "cell_type": "markdown",
   "id": "d11d5f11",
   "metadata": {},
   "source": [
    "* `finally` - Ao declararmos um bloco com finally, estemos dizendo: execute esse bloco, mesmo que aconteceça uma exceção com ou sem tratamento."
   ]
  },
  {
   "cell_type": "code",
   "execution_count": 39,
   "id": "fa895123",
   "metadata": {},
   "outputs": [
    {
     "name": "stdout",
     "output_type": "stream",
     "text": [
      "Digite o índice que você deseja imprimir: 5\n",
      "Algo de errado acontececeu! list index out of range\n",
      "Tentativas 1\n",
      "Digite o índice que você deseja imprimir: 2\n",
      "Maria\n",
      "Tentativas 2\n",
      "Digite o índice que você deseja imprimir: \n",
      "Algo de errado acontececeu! invalid literal for int() with base 10: ''\n",
      "Tentativas 3\n"
     ]
    }
   ],
   "source": [
    "nomes = ['Carlos', 'Ricardo', 'Maria']\n",
    "\n",
    "for tentativa in range(len(nomes)):\n",
    "    try:\n",
    "        i = int(input('Digite o índice que você deseja imprimir: '))\n",
    "        print(nomes[i])\n",
    "    except Exception as error:\n",
    "        print(f'Algo de errado acontececeu! {error}')\n",
    "    finally:\n",
    "        print(f'Tentativas {tentativa + 1}')"
   ]
  },
  {
   "cell_type": "code",
   "execution_count": 41,
   "id": "e3dd3ede",
   "metadata": {},
   "outputs": [],
   "source": [
    "def ehpar(n):\n",
    "    try:\n",
    "        return n % 2\n",
    "    finally:\n",
    "        print('Executando antes de retornar')"
   ]
  },
  {
   "cell_type": "code",
   "execution_count": 42,
   "id": "10187bcc",
   "metadata": {},
   "outputs": [
    {
     "name": "stdout",
     "output_type": "stream",
     "text": [
      "Executando antes de retornar\n"
     ]
    },
    {
     "data": {
      "text/plain": [
       "0"
      ]
     },
     "execution_count": 42,
     "metadata": {},
     "output_type": "execute_result"
    }
   ],
   "source": [
    "ehpar(2)"
   ]
  },
  {
   "cell_type": "code",
   "execution_count": 43,
   "id": "94f69a40",
   "metadata": {},
   "outputs": [
    {
     "name": "stdout",
     "output_type": "stream",
     "text": [
      "Executando antes de retornar\n"
     ]
    },
    {
     "ename": "TypeError",
     "evalue": "not all arguments converted during string formatting",
     "output_type": "error",
     "traceback": [
      "\u001b[1;31m---------------------------------------------------------------------------\u001b[0m",
      "\u001b[1;31mTypeError\u001b[0m                                 Traceback (most recent call last)",
      "\u001b[1;32m<ipython-input-43-e800964ffaf2>\u001b[0m in \u001b[0;36m<module>\u001b[1;34m\u001b[0m\n\u001b[1;32m----> 1\u001b[1;33m \u001b[0mehpar\u001b[0m\u001b[1;33m(\u001b[0m\u001b[1;34m'adsasd'\u001b[0m\u001b[1;33m)\u001b[0m\u001b[1;33m\u001b[0m\u001b[1;33m\u001b[0m\u001b[0m\n\u001b[0m",
      "\u001b[1;32m<ipython-input-41-532d73e1fb2a>\u001b[0m in \u001b[0;36mehpar\u001b[1;34m(n)\u001b[0m\n\u001b[0;32m      1\u001b[0m \u001b[1;32mdef\u001b[0m \u001b[0mehpar\u001b[0m\u001b[1;33m(\u001b[0m\u001b[0mn\u001b[0m\u001b[1;33m)\u001b[0m\u001b[1;33m:\u001b[0m\u001b[1;33m\u001b[0m\u001b[1;33m\u001b[0m\u001b[0m\n\u001b[0;32m      2\u001b[0m     \u001b[1;32mtry\u001b[0m\u001b[1;33m:\u001b[0m\u001b[1;33m\u001b[0m\u001b[1;33m\u001b[0m\u001b[0m\n\u001b[1;32m----> 3\u001b[1;33m         \u001b[1;32mreturn\u001b[0m \u001b[0mn\u001b[0m \u001b[1;33m%\u001b[0m \u001b[1;36m2\u001b[0m\u001b[1;33m\u001b[0m\u001b[1;33m\u001b[0m\u001b[0m\n\u001b[0m\u001b[0;32m      4\u001b[0m     \u001b[1;32mfinally\u001b[0m\u001b[1;33m:\u001b[0m\u001b[1;33m\u001b[0m\u001b[1;33m\u001b[0m\u001b[0m\n\u001b[0;32m      5\u001b[0m         \u001b[0mprint\u001b[0m\u001b[1;33m(\u001b[0m\u001b[1;34m'Executando antes de retornar'\u001b[0m\u001b[1;33m)\u001b[0m\u001b[1;33m\u001b[0m\u001b[1;33m\u001b[0m\u001b[0m\n",
      "\u001b[1;31mTypeError\u001b[0m: not all arguments converted during string formatting"
     ]
    }
   ],
   "source": [
    "ehpar('adsasd')"
   ]
  },
  {
   "cell_type": "markdown",
   "id": "e760bae3",
   "metadata": {},
   "source": [
    "* Como utilizar o `raise` "
   ]
  },
  {
   "cell_type": "code",
   "execution_count": 44,
   "id": "cc1c2184",
   "metadata": {},
   "outputs": [],
   "source": [
    "def ehpar(n):\n",
    "    try:\n",
    "        return n % 2\n",
    "    except Exception:\n",
    "        raise ValueError('Valor inválido!')"
   ]
  },
  {
   "cell_type": "code",
   "execution_count": 45,
   "id": "9be9e253",
   "metadata": {},
   "outputs": [
    {
     "ename": "ValueError",
     "evalue": "Valor inválido!",
     "output_type": "error",
     "traceback": [
      "\u001b[1;31m---------------------------------------------------------------------------\u001b[0m",
      "\u001b[1;31mTypeError\u001b[0m                                 Traceback (most recent call last)",
      "\u001b[1;32m<ipython-input-44-a41f6c6ef180>\u001b[0m in \u001b[0;36mehpar\u001b[1;34m(n)\u001b[0m\n\u001b[0;32m      2\u001b[0m     \u001b[1;32mtry\u001b[0m\u001b[1;33m:\u001b[0m\u001b[1;33m\u001b[0m\u001b[1;33m\u001b[0m\u001b[0m\n\u001b[1;32m----> 3\u001b[1;33m         \u001b[1;32mreturn\u001b[0m \u001b[0mn\u001b[0m \u001b[1;33m%\u001b[0m \u001b[1;36m2\u001b[0m\u001b[1;33m\u001b[0m\u001b[1;33m\u001b[0m\u001b[0m\n\u001b[0m\u001b[0;32m      4\u001b[0m     \u001b[1;32mexcept\u001b[0m \u001b[0mException\u001b[0m\u001b[1;33m:\u001b[0m\u001b[1;33m\u001b[0m\u001b[1;33m\u001b[0m\u001b[0m\n",
      "\u001b[1;31mTypeError\u001b[0m: not all arguments converted during string formatting",
      "\nDuring handling of the above exception, another exception occurred:\n",
      "\u001b[1;31mValueError\u001b[0m                                Traceback (most recent call last)",
      "\u001b[1;32m<ipython-input-45-e800964ffaf2>\u001b[0m in \u001b[0;36m<module>\u001b[1;34m\u001b[0m\n\u001b[1;32m----> 1\u001b[1;33m \u001b[0mehpar\u001b[0m\u001b[1;33m(\u001b[0m\u001b[1;34m'adsasd'\u001b[0m\u001b[1;33m)\u001b[0m\u001b[1;33m\u001b[0m\u001b[1;33m\u001b[0m\u001b[0m\n\u001b[0m",
      "\u001b[1;32m<ipython-input-44-a41f6c6ef180>\u001b[0m in \u001b[0;36mehpar\u001b[1;34m(n)\u001b[0m\n\u001b[0;32m      3\u001b[0m         \u001b[1;32mreturn\u001b[0m \u001b[0mn\u001b[0m \u001b[1;33m%\u001b[0m \u001b[1;36m2\u001b[0m\u001b[1;33m\u001b[0m\u001b[1;33m\u001b[0m\u001b[0m\n\u001b[0;32m      4\u001b[0m     \u001b[1;32mexcept\u001b[0m \u001b[0mException\u001b[0m\u001b[1;33m:\u001b[0m\u001b[1;33m\u001b[0m\u001b[1;33m\u001b[0m\u001b[0m\n\u001b[1;32m----> 5\u001b[1;33m         \u001b[1;32mraise\u001b[0m \u001b[0mValueError\u001b[0m\u001b[1;33m(\u001b[0m\u001b[1;34m'Valor inválido!'\u001b[0m\u001b[1;33m)\u001b[0m\u001b[1;33m\u001b[0m\u001b[1;33m\u001b[0m\u001b[0m\n\u001b[0m",
      "\u001b[1;31mValueError\u001b[0m: Valor inválido!"
     ]
    }
   ],
   "source": [
    "ehpar('adsasd')"
   ]
  },
  {
   "cell_type": "code",
   "execution_count": 46,
   "id": "47c833be",
   "metadata": {},
   "outputs": [
    {
     "data": {
      "text/plain": [
       "0"
      ]
     },
     "execution_count": 46,
     "metadata": {},
     "output_type": "execute_result"
    }
   ],
   "source": [
    "ehpar(2)"
   ]
  }
 ],
 "metadata": {
  "kernelspec": {
   "display_name": "Python 3",
   "language": "python",
   "name": "python3"
  },
  "language_info": {
   "codemirror_mode": {
    "name": "ipython",
    "version": 3
   },
   "file_extension": ".py",
   "mimetype": "text/x-python",
   "name": "python",
   "nbconvert_exporter": "python",
   "pygments_lexer": "ipython3",
   "version": "3.8.8"
  }
 },
 "nbformat": 4,
 "nbformat_minor": 5
}
