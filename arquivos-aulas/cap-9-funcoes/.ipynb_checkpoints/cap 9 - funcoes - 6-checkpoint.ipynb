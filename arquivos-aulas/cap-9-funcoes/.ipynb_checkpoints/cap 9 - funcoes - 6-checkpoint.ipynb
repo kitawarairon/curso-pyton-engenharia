{
 "cells": [
  {
   "cell_type": "markdown",
   "id": "79dfb757",
   "metadata": {},
   "source": [
    "# Um pouco mais sobre parâmetros e function lambda\n",
    "* Empacotamento e desempacotamento de parâmetros;\n",
    "* Desempacotamento de parâmetros;\n",
    "* Função lambda."
   ]
  },
  {
   "cell_type": "markdown",
   "id": "2595276b",
   "metadata": {},
   "source": [
    "## Empacotamento de desempacotamento de parâmetros\n",
    "---"
   ]
  },
  {
   "cell_type": "code",
   "execution_count": 2,
   "id": "1c43422e",
   "metadata": {},
   "outputs": [],
   "source": [
    "def soma(a, b):\n",
    "    print(a + b)"
   ]
  },
  {
   "cell_type": "code",
   "execution_count": null,
   "id": "74dcee7d",
   "metadata": {},
   "outputs": [],
   "source": []
  },
  {
   "cell_type": "code",
   "execution_count": null,
   "id": "5760cd1f",
   "metadata": {},
   "outputs": [],
   "source": []
  },
  {
   "cell_type": "markdown",
   "id": "733c1592",
   "metadata": {},
   "source": [
    "## Desempacotamento de parâmetros\n",
    "---\n",
    "Podemos criar funções que recem um número indeterminado de parâmetros utilizando listas de parâmetros:"
   ]
  },
  {
   "cell_type": "code",
   "execution_count": null,
   "id": "7c448b06",
   "metadata": {},
   "outputs": [],
   "source": []
  },
  {
   "cell_type": "code",
   "execution_count": null,
   "id": "477b7153",
   "metadata": {},
   "outputs": [],
   "source": []
  },
  {
   "cell_type": "markdown",
   "id": "d258e63e",
   "metadata": {},
   "source": [
    "## Funções Lambda\n",
    "---"
   ]
  },
  {
   "cell_type": "code",
   "execution_count": null,
   "id": "bf3a6112",
   "metadata": {},
   "outputs": [],
   "source": []
  },
  {
   "cell_type": "code",
   "execution_count": null,
   "id": "64e38295",
   "metadata": {},
   "outputs": [],
   "source": []
  },
  {
   "cell_type": "code",
   "execution_count": null,
   "id": "2c289a19",
   "metadata": {},
   "outputs": [],
   "source": []
  }
 ],
 "metadata": {
  "kernelspec": {
   "display_name": "Python 3",
   "language": "python",
   "name": "python3"
  },
  "language_info": {
   "codemirror_mode": {
    "name": "ipython",
    "version": 3
   },
   "file_extension": ".py",
   "mimetype": "text/x-python",
   "name": "python",
   "nbconvert_exporter": "python",
   "pygments_lexer": "ipython3",
   "version": "3.8.8"
  }
 },
 "nbformat": 4,
 "nbformat_minor": 5
}
