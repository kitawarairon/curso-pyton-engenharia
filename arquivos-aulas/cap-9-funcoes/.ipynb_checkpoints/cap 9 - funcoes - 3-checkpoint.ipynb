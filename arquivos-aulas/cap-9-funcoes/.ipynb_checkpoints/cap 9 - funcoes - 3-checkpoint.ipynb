{
 "cells": [
  {
   "cell_type": "markdown",
   "id": "a32388f1",
   "metadata": {},
   "source": [
    "# Aprofundando em funções\n",
    "---\n",
    "\n",
    "* Variáveis locais e globais;\n",
    "* Funções recursivas;\n"
   ]
  },
  {
   "cell_type": "markdown",
   "id": "0d4efef0",
   "metadata": {},
   "source": [
    "## Variáveis locais e globais\n",
    "---\n",
    "\n",
    "Quando usamos funções, começamos a trabalhar com variáveis internas ou locais e com variáveis externas ou globais. A diferença entre elas é a visibilidade.\n",
    "\n",
    "* a variável global é definida fora da função;\n",
    "* a variável local é definida dentro da função."
   ]
  },
  {
   "cell_type": "code",
   "execution_count": 4,
   "id": "ff0a42fe",
   "metadata": {},
   "outputs": [],
   "source": [
    "# um exemplo de variável global\n",
    "logo = 'asdsd'\n",
    "\n",
    "def imprime_logo():\n",
    "    print(logo)"
   ]
  },
  {
   "cell_type": "code",
   "execution_count": 5,
   "id": "4baefd77",
   "metadata": {},
   "outputs": [],
   "source": [
    "logo = 'asdadUUU'"
   ]
  },
  {
   "cell_type": "code",
   "execution_count": 6,
   "id": "7421e755",
   "metadata": {},
   "outputs": [
    {
     "name": "stdout",
     "output_type": "stream",
     "text": [
      "asdadUUU\n"
     ]
    }
   ],
   "source": [
    "imprime_logo()"
   ]
  },
  {
   "cell_type": "code",
   "execution_count": 7,
   "id": "cd4496f5",
   "metadata": {},
   "outputs": [],
   "source": [
    "# um exemplo de variável local"
   ]
  },
  {
   "cell_type": "code",
   "execution_count": 8,
   "id": "1a98ef2a",
   "metadata": {},
   "outputs": [],
   "source": [
    "def potenciacao(a, b):\n",
    "    operacao = a ** b\n",
    "    eu_sou_interna = 'eu sou interna'\n",
    "    return operacao"
   ]
  },
  {
   "cell_type": "code",
   "execution_count": 9,
   "id": "184c931b",
   "metadata": {},
   "outputs": [
    {
     "data": {
      "text/plain": [
       "8"
      ]
     },
     "execution_count": 9,
     "metadata": {},
     "output_type": "execute_result"
    }
   ],
   "source": [
    "potenciacao(2, 3)"
   ]
  },
  {
   "cell_type": "code",
   "execution_count": 10,
   "id": "4461dcf4",
   "metadata": {},
   "outputs": [
    {
     "ename": "NameError",
     "evalue": "name 'operacao' is not defined",
     "output_type": "error",
     "traceback": [
      "\u001b[1;31m---------------------------------------------------------------------------\u001b[0m",
      "\u001b[1;31mNameError\u001b[0m                                 Traceback (most recent call last)",
      "\u001b[1;32m<ipython-input-10-6d7e34ee0b93>\u001b[0m in \u001b[0;36m<module>\u001b[1;34m\u001b[0m\n\u001b[1;32m----> 1\u001b[1;33m \u001b[0moperacao\u001b[0m\u001b[1;33m\u001b[0m\u001b[1;33m\u001b[0m\u001b[0m\n\u001b[0m",
      "\u001b[1;31mNameError\u001b[0m: name 'operacao' is not defined"
     ]
    }
   ],
   "source": [
    "operacao"
   ]
  },
  {
   "cell_type": "code",
   "execution_count": 22,
   "id": "cb55a0cb",
   "metadata": {},
   "outputs": [
    {
     "ename": "NameError",
     "evalue": "name 'eu_sou_interna' is not defined",
     "output_type": "error",
     "traceback": [
      "\u001b[1;31m---------------------------------------------------------------------------\u001b[0m",
      "\u001b[1;31mNameError\u001b[0m                                 Traceback (most recent call last)",
      "\u001b[1;32m<ipython-input-22-8f948329804e>\u001b[0m in \u001b[0;36m<module>\u001b[1;34m\u001b[0m\n\u001b[1;32m----> 1\u001b[1;33m \u001b[0meu_sou_interna\u001b[0m\u001b[1;33m\u001b[0m\u001b[1;33m\u001b[0m\u001b[0m\n\u001b[0m",
      "\u001b[1;31mNameError\u001b[0m: name 'eu_sou_interna' is not defined"
     ]
    }
   ],
   "source": [
    "eu_sou_interna"
   ]
  },
  {
   "cell_type": "code",
   "execution_count": 23,
   "id": "356691dc",
   "metadata": {},
   "outputs": [],
   "source": [
    "a = 5\n",
    "\n",
    "def muda_e_imprime():\n",
    "    a = 7\n",
    "    print(f'A dentro da função: {a}')"
   ]
  },
  {
   "cell_type": "code",
   "execution_count": 24,
   "id": "7efcf12d",
   "metadata": {},
   "outputs": [
    {
     "name": "stdout",
     "output_type": "stream",
     "text": [
      "A antes de mudar: 5\n",
      "A dentro da função: 7\n",
      "A depois de mudar: 5\n"
     ]
    }
   ],
   "source": [
    "print(f'A antes de mudar: {a}')\n",
    "muda_e_imprime()\n",
    "print(f'A depois de mudar: {a}')"
   ]
  },
  {
   "cell_type": "code",
   "execution_count": 25,
   "id": "c598d3a1",
   "metadata": {},
   "outputs": [],
   "source": [
    "a = 5\n",
    "\n",
    "def muda_e_imprime():\n",
    "    global a\n",
    "    a = 7\n",
    "    print(f'A dentro da função: {a}')"
   ]
  },
  {
   "cell_type": "code",
   "execution_count": 26,
   "id": "dc8a87eb",
   "metadata": {},
   "outputs": [
    {
     "name": "stdout",
     "output_type": "stream",
     "text": [
      "A antes de mudar: 5\n",
      "A dentro da função: 7\n",
      "A depois de mudar: 7\n"
     ]
    }
   ],
   "source": [
    "print(f'A antes de mudar: {a}')\n",
    "muda_e_imprime()\n",
    "print(f'A depois de mudar: {a}')"
   ]
  },
  {
   "cell_type": "markdown",
   "id": "ee0c4149",
   "metadata": {},
   "source": [
    "* Uma boa utilização de variável global"
   ]
  },
  {
   "cell_type": "code",
   "execution_count": 27,
   "id": "8f5a1e68",
   "metadata": {},
   "outputs": [],
   "source": [
    "g = 9.831\n",
    "\n",
    "def pressao(rho, h):\n",
    "    pressao = rho * g * h\n",
    "    return pressao\n",
    "\n",
    "def energia_gravitacional(m, h):\n",
    "    energia = m * g * h\n",
    "    return energia"
   ]
  },
  {
   "cell_type": "code",
   "execution_count": 28,
   "id": "7c29012c",
   "metadata": {},
   "outputs": [
    {
     "data": {
      "text/plain": [
       "49155.0"
      ]
     },
     "execution_count": 28,
     "metadata": {},
     "output_type": "execute_result"
    }
   ],
   "source": [
    "pressao(1000, 5)"
   ]
  },
  {
   "cell_type": "code",
   "execution_count": 29,
   "id": "b7dc6b39",
   "metadata": {},
   "outputs": [
    {
     "data": {
      "text/plain": [
       "491.55"
      ]
     },
     "execution_count": 29,
     "metadata": {},
     "output_type": "execute_result"
    }
   ],
   "source": [
    "energia_gravitacional(10, 5)"
   ]
  },
  {
   "cell_type": "code",
   "execution_count": 30,
   "id": "0705ead6",
   "metadata": {},
   "outputs": [],
   "source": [
    "g = 10"
   ]
  },
  {
   "cell_type": "code",
   "execution_count": 31,
   "id": "c52f020b",
   "metadata": {},
   "outputs": [
    {
     "data": {
      "text/plain": [
       "50000"
      ]
     },
     "execution_count": 31,
     "metadata": {},
     "output_type": "execute_result"
    }
   ],
   "source": [
    "pressao(1000, 5)"
   ]
  },
  {
   "cell_type": "code",
   "execution_count": 32,
   "id": "8dbe7310",
   "metadata": {},
   "outputs": [
    {
     "data": {
      "text/plain": [
       "500"
      ]
     },
     "execution_count": 32,
     "metadata": {},
     "output_type": "execute_result"
    }
   ],
   "source": [
    "energia_gravitacional(10, 5)"
   ]
  },
  {
   "cell_type": "markdown",
   "id": "f0097e3e",
   "metadata": {},
   "source": [
    "## Funções recursivas\n",
    "---\n",
    "Uma função pode chamar a si mesma. Quando isso ocorre, temos uma função *recursiva*.\n",
    "\n",
    "**Fatorial:**\n",
    "\n",
    "$4! = 4.3.2.1 = 24$\n",
    "\n",
    "$1! = 1 $\n",
    "\n",
    "$0! = 1$"
   ]
  },
  {
   "cell_type": "code",
   "execution_count": 33,
   "id": "27f96a9a",
   "metadata": {},
   "outputs": [],
   "source": [
    "# sem recursividade\n",
    "def fatorial(n):\n",
    "    produtorio = 1\n",
    "    while n > 1:\n",
    "        produtorio *= n\n",
    "        n -= 1\n",
    "    return produtorio"
   ]
  },
  {
   "cell_type": "code",
   "execution_count": 34,
   "id": "a9f76e0a",
   "metadata": {},
   "outputs": [
    {
     "data": {
      "text/plain": [
       "24"
      ]
     },
     "execution_count": 34,
     "metadata": {},
     "output_type": "execute_result"
    }
   ],
   "source": [
    "fatorial(4)"
   ]
  },
  {
   "cell_type": "code",
   "execution_count": 35,
   "id": "35f8b47a",
   "metadata": {},
   "outputs": [
    {
     "data": {
      "text/plain": [
       "1"
      ]
     },
     "execution_count": 35,
     "metadata": {},
     "output_type": "execute_result"
    }
   ],
   "source": [
    "fatorial(0)"
   ]
  },
  {
   "cell_type": "code",
   "execution_count": 36,
   "id": "687ede7f",
   "metadata": {},
   "outputs": [],
   "source": [
    "# com recursividade\n",
    "\n",
    "def fatorial_recursividade(n):\n",
    "    if n == 0 or n == 1:\n",
    "        return 1\n",
    "    else:\n",
    "        return n * fatorial_recursividade(n-1)"
   ]
  },
  {
   "cell_type": "code",
   "execution_count": 37,
   "id": "706ede79",
   "metadata": {},
   "outputs": [
    {
     "data": {
      "text/plain": [
       "24"
      ]
     },
     "execution_count": 37,
     "metadata": {},
     "output_type": "execute_result"
    }
   ],
   "source": [
    "fatorial_recursividade(4)"
   ]
  },
  {
   "cell_type": "code",
   "execution_count": 38,
   "id": "d2e96eb3",
   "metadata": {},
   "outputs": [],
   "source": [
    "# 3 *  2 * 1 = 6"
   ]
  },
  {
   "cell_type": "code",
   "execution_count": 17,
   "id": "f40d4144",
   "metadata": {},
   "outputs": [
    {
     "data": {
      "text/plain": [
       "6"
      ]
     },
     "execution_count": 17,
     "metadata": {},
     "output_type": "execute_result"
    }
   ],
   "source": [
    "fatorial_recursividade(3)"
   ]
  },
  {
   "cell_type": "code",
   "execution_count": 18,
   "id": "a8217fb3",
   "metadata": {},
   "outputs": [
    {
     "data": {
      "text/plain": [
       "1"
      ]
     },
     "execution_count": 18,
     "metadata": {},
     "output_type": "execute_result"
    }
   ],
   "source": [
    "fatorial_recursividade(0)"
   ]
  }
 ],
 "metadata": {
  "kernelspec": {
   "display_name": "Python 3",
   "language": "python",
   "name": "python3"
  },
  "language_info": {
   "codemirror_mode": {
    "name": "ipython",
    "version": 3
   },
   "file_extension": ".py",
   "mimetype": "text/x-python",
   "name": "python",
   "nbconvert_exporter": "python",
   "pygments_lexer": "ipython3",
   "version": "3.8.8"
  }
 },
 "nbformat": 4,
 "nbformat_minor": 5
}
