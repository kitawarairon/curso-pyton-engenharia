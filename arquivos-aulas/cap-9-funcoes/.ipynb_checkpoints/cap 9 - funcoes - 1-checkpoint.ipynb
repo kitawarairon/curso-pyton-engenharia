{
 "cells": [
  {
   "cell_type": "markdown",
   "id": "a8a08b9c",
   "metadata": {},
   "source": [
    "# Funções\n",
    "---\n",
    "* O que são funções na matemática;\n",
    "* Criando nossas primeiras funções;\n",
    "* Entendendo o retorno das funções;\n",
    "* Fluxograma de execução;\n",
    "* Mais exemplos."
   ]
  },
  {
   "cell_type": "markdown",
   "id": "fbe53242",
   "metadata": {},
   "source": [
    "## O que são funções na matemática \n",
    "---\n",
    "\n",
    "Antes de entender as funções de programação, vamos entender as funções da matemática.\n",
    "\n",
    "Seja $f(x) = 2x$ uma função, vamos entender como ela funciona.\n",
    "\n",
    "Primeiro, considere que $f(x) = y$. Agora, nossa função tem a seguinte cara $y = 2x$, onde $y \\rightarrow \\text{variável dependente}$ e $x \\rightarrow \\text{variável independente}$.\n",
    "\n",
    "* $x$ assume valores que a gente escolher;\n",
    "* $y$ assume valores de acordo com a fórmula da função;\n",
    "* Por exemplo, se $x=2$, $y=4$.\n",
    "\n",
    "Assim, vamos criar nossa função em forma de código:\n",
    "\n",
    "```python\n",
    "x = [0, 2, 3, 4, 6, 7, 8, 9]\n",
    "y = 2 * x\n",
    "\n",
    "# ---\n",
    "# após aplicar a função\n",
    "# ---\n",
    "valores_de_y = [0, 4, 6, 8, 12, 14, 16, 18]\n",
    "```\n",
    "\n",
    "A variável $x$ representa uma lista do possíveis valores de $x$ e $y$ representa os valores da função.\n"
   ]
  },
  {
   "cell_type": "markdown",
   "id": "235f4fd0",
   "metadata": {},
   "source": [
    "## Criando as primeiras funções\n",
    "---\n",
    "* As funções no Python podem receber argumentos ou não;\n",
    "* Elas são ótimas para deixar o código mais limpo (refatoração);\n",
    "* Funções, de forma geral, são reutilizáveis;\n",
    "* Funções, preferencialmente, devem fazer apenas uma operação/função;\n",
    "\n",
    "**Vamos criar nossas primeiras funções, mas antes vamos entender a sintaxe da criação:**\n",
    "\n",
    "```python\n",
    "def nome_da_funcao():\n",
    "    códigos\n",
    "  \n",
    "```\n"
   ]
  },
  {
   "cell_type": "markdown",
   "id": "69ab4fdd",
   "metadata": {},
   "source": [
    "* Crie uma função que imprima a soma de dois valores"
   ]
  },
  {
   "cell_type": "code",
   "execution_count": 3,
   "id": "5de31360",
   "metadata": {},
   "outputs": [],
   "source": [
    "def soma(a, b):\n",
    "    soma = a + b\n",
    "    print(a)\n",
    "    print(b)\n",
    "    print(soma)"
   ]
  },
  {
   "cell_type": "code",
   "execution_count": 4,
   "id": "2c17c705",
   "metadata": {},
   "outputs": [
    {
     "name": "stdout",
     "output_type": "stream",
     "text": [
      "2\n",
      "3\n",
      "5\n"
     ]
    }
   ],
   "source": [
    "soma(b=3, a=2)"
   ]
  },
  {
   "cell_type": "code",
   "execution_count": 5,
   "id": "837fc319",
   "metadata": {},
   "outputs": [
    {
     "name": "stdout",
     "output_type": "stream",
     "text": [
      "2\n",
      "3\n",
      "5\n"
     ]
    }
   ],
   "source": [
    "soma(2, 3)"
   ]
  },
  {
   "cell_type": "code",
   "execution_count": 6,
   "id": "7795927c",
   "metadata": {},
   "outputs": [
    {
     "ename": "TypeError",
     "evalue": "soma() takes 2 positional arguments but 3 were given",
     "output_type": "error",
     "traceback": [
      "\u001b[1;31m---------------------------------------------------------------------------\u001b[0m",
      "\u001b[1;31mTypeError\u001b[0m                                 Traceback (most recent call last)",
      "\u001b[1;32m<ipython-input-6-a9fe41f4d441>\u001b[0m in \u001b[0;36m<module>\u001b[1;34m\u001b[0m\n\u001b[1;32m----> 1\u001b[1;33m \u001b[0msoma\u001b[0m\u001b[1;33m(\u001b[0m\u001b[1;36m2\u001b[0m\u001b[1;33m,\u001b[0m \u001b[1;36m3\u001b[0m\u001b[1;33m,\u001b[0m \u001b[1;36m4\u001b[0m\u001b[1;33m)\u001b[0m\u001b[1;33m\u001b[0m\u001b[1;33m\u001b[0m\u001b[0m\n\u001b[0m",
      "\u001b[1;31mTypeError\u001b[0m: soma() takes 2 positional arguments but 3 were given"
     ]
    }
   ],
   "source": [
    "soma(2, 3, 4)"
   ]
  },
  {
   "cell_type": "markdown",
   "id": "d8c1e5ec",
   "metadata": {},
   "source": [
    "* Crie uma função que imprima a string `Olá mundo!`"
   ]
  },
  {
   "cell_type": "code",
   "execution_count": 7,
   "id": "e724109e",
   "metadata": {},
   "outputs": [],
   "source": [
    "def imprimir_ola_mundo():\n",
    "    print('Olá mundo!')\n",
    "    print('Bem vindo ao Pyton!')"
   ]
  },
  {
   "cell_type": "code",
   "execution_count": 8,
   "id": "70c8825f",
   "metadata": {},
   "outputs": [
    {
     "name": "stdout",
     "output_type": "stream",
     "text": [
      "Olá mundo!\n",
      "Bem vindo ao Pyton!\n",
      "Olá mundo!\n",
      "Bem vindo ao Pyton!\n",
      "Olá mundo!\n",
      "Bem vindo ao Pyton!\n",
      "Olá mundo!\n",
      "Bem vindo ao Pyton!\n",
      "Olá mundo!\n",
      "Bem vindo ao Pyton!\n",
      "Olá mundo!\n",
      "Bem vindo ao Pyton!\n",
      "Olá mundo!\n",
      "Bem vindo ao Pyton!\n",
      "Olá mundo!\n",
      "Bem vindo ao Pyton!\n",
      "Olá mundo!\n",
      "Bem vindo ao Pyton!\n",
      "Olá mundo!\n",
      "Bem vindo ao Pyton!\n"
     ]
    }
   ],
   "source": [
    "for i in range(10):\n",
    "    imprimir_ola_mundo()"
   ]
  },
  {
   "cell_type": "markdown",
   "id": "24013abb",
   "metadata": {},
   "source": [
    "* Crie uma função que eleve ao quadrado o argumento de entrada"
   ]
  },
  {
   "cell_type": "code",
   "execution_count": 9,
   "id": "e76ac73a",
   "metadata": {},
   "outputs": [],
   "source": [
    "def eleva_2(x):\n",
    "    eleva = x ** 2\n",
    "    print(eleva)"
   ]
  },
  {
   "cell_type": "code",
   "execution_count": 10,
   "id": "4bda74cc",
   "metadata": {},
   "outputs": [
    {
     "name": "stdout",
     "output_type": "stream",
     "text": [
      "9\n"
     ]
    }
   ],
   "source": [
    "numero = eleva_2(3)"
   ]
  },
  {
   "cell_type": "code",
   "execution_count": 11,
   "id": "19d8f01f",
   "metadata": {},
   "outputs": [
    {
     "name": "stdout",
     "output_type": "stream",
     "text": [
      "None\n"
     ]
    }
   ],
   "source": [
    "print(numero)"
   ]
  },
  {
   "cell_type": "markdown",
   "id": "428eeb89",
   "metadata": {},
   "source": [
    "## Entendendo o retorno das funções\n",
    "---"
   ]
  },
  {
   "cell_type": "markdown",
   "id": "a1502256",
   "metadata": {},
   "source": [
    "* A função está retornando o vazio"
   ]
  },
  {
   "cell_type": "code",
   "execution_count": null,
   "id": "a10922de",
   "metadata": {},
   "outputs": [],
   "source": [
    "\n"
   ]
  },
  {
   "cell_type": "code",
   "execution_count": null,
   "id": "979a40fd",
   "metadata": {},
   "outputs": [],
   "source": [
    "soma = soma(4, 6)"
   ]
  },
  {
   "cell_type": "code",
   "execution_count": null,
   "id": "081de465",
   "metadata": {},
   "outputs": [],
   "source": [
    "soma ** 2"
   ]
  },
  {
   "cell_type": "markdown",
   "id": "abc0bbe6",
   "metadata": {},
   "source": [
    "* Vamos suprir esse erro!!!"
   ]
  },
  {
   "cell_type": "code",
   "execution_count": null,
   "id": "234f7cee",
   "metadata": {},
   "outputs": [],
   "source": [
    "def soma(a, b):\n",
    "    soma = a + b\n",
    "    return soma"
   ]
  },
  {
   "cell_type": "code",
   "execution_count": null,
   "id": "4c9b18b1",
   "metadata": {},
   "outputs": [],
   "source": [
    "soma = soma(4, 6)"
   ]
  },
  {
   "cell_type": "code",
   "execution_count": null,
   "id": "799621b5",
   "metadata": {},
   "outputs": [],
   "source": [
    "soma ** 2"
   ]
  },
  {
   "cell_type": "code",
   "execution_count": null,
   "id": "f146b41a",
   "metadata": {},
   "outputs": [],
   "source": [
    "def energia_pot_gravitacional(m, g, h):\n",
    "    energia = m * g * h\n",
    "    return energia"
   ]
  },
  {
   "cell_type": "code",
   "execution_count": null,
   "id": "d6c0e8f4",
   "metadata": {},
   "outputs": [],
   "source": [
    "energia_para_100m = energia_pot_gravitacional(30, 9.83, 100)"
   ]
  },
  {
   "cell_type": "code",
   "execution_count": null,
   "id": "cfc03f25",
   "metadata": {},
   "outputs": [],
   "source": [
    "energia_para_100m"
   ]
  },
  {
   "cell_type": "markdown",
   "id": "95d43b44",
   "metadata": {},
   "source": [
    "## Fluxograma de execução\n",
    "---"
   ]
  },
  {
   "cell_type": "code",
   "execution_count": 13,
   "id": "e6c656c2",
   "metadata": {},
   "outputs": [
    {
     "name": "stdout",
     "output_type": "stream",
     "text": [
      "Olá!\n",
      "x é maior q 2\n"
     ]
    }
   ],
   "source": [
    "print('Olá!')\n",
    "x = 4\n",
    "\n",
    "if x > 2:\n",
    "    print('x é maior q 2')\n",
    "else:\n",
    "    print('menor ou igual à 2')"
   ]
  },
  {
   "cell_type": "markdown",
   "id": "4ee961b0",
   "metadata": {},
   "source": [
    "* Como não executar uma função"
   ]
  },
  {
   "cell_type": "code",
   "execution_count": 12,
   "id": "b6aeaa05",
   "metadata": {},
   "outputs": [
    {
     "ename": "NameError",
     "evalue": "name 'soma_tres' is not defined",
     "output_type": "error",
     "traceback": [
      "\u001b[1;31m---------------------------------------------------------------------------\u001b[0m",
      "\u001b[1;31mNameError\u001b[0m                                 Traceback (most recent call last)",
      "\u001b[1;32m<ipython-input-12-05cbabcee87c>\u001b[0m in \u001b[0;36m<module>\u001b[1;34m\u001b[0m\n\u001b[1;32m----> 1\u001b[1;33m \u001b[0msoma_dos_tres\u001b[0m \u001b[1;33m=\u001b[0m \u001b[0msoma_tres\u001b[0m\u001b[1;33m(\u001b[0m\u001b[1;36m4\u001b[0m\u001b[1;33m,\u001b[0m \u001b[1;36m3\u001b[0m\u001b[1;33m,\u001b[0m \u001b[1;36m5\u001b[0m\u001b[1;33m)\u001b[0m\u001b[1;33m\u001b[0m\u001b[1;33m\u001b[0m\u001b[0m\n\u001b[0m\u001b[0;32m      2\u001b[0m \u001b[1;33m\u001b[0m\u001b[0m\n\u001b[0;32m      3\u001b[0m \u001b[1;32mdef\u001b[0m \u001b[0msoma_tres\u001b[0m\u001b[1;33m(\u001b[0m\u001b[0ma\u001b[0m\u001b[1;33m,\u001b[0m \u001b[0mb\u001b[0m\u001b[1;33m,\u001b[0m \u001b[0mc\u001b[0m\u001b[1;33m)\u001b[0m\u001b[1;33m:\u001b[0m\u001b[1;33m\u001b[0m\u001b[1;33m\u001b[0m\u001b[0m\n\u001b[0;32m      4\u001b[0m     \u001b[0msoma\u001b[0m \u001b[1;33m=\u001b[0m \u001b[0ma\u001b[0m \u001b[1;33m+\u001b[0m \u001b[0mb\u001b[0m \u001b[1;33m+\u001b[0m \u001b[0mc\u001b[0m\u001b[1;33m\u001b[0m\u001b[1;33m\u001b[0m\u001b[0m\n\u001b[0;32m      5\u001b[0m     \u001b[1;32mreturn\u001b[0m \u001b[0msoma\u001b[0m\u001b[1;33m\u001b[0m\u001b[1;33m\u001b[0m\u001b[0m\n",
      "\u001b[1;31mNameError\u001b[0m: name 'soma_tres' is not defined"
     ]
    }
   ],
   "source": [
    "soma_dos_tres = soma_tres(4, 3, 5)\n",
    "\n",
    "def soma_tres(a, b, c):\n",
    "    soma = a + b + c\n",
    "    return soma"
   ]
  },
  {
   "cell_type": "markdown",
   "id": "e9578f72",
   "metadata": {},
   "source": [
    "* Como executar uma função"
   ]
  },
  {
   "cell_type": "code",
   "execution_count": 14,
   "id": "891bc124",
   "metadata": {},
   "outputs": [],
   "source": [
    "def soma_tres(a, b, c):\n",
    "    soma = a + b + c\n",
    "    return soma\n",
    "\n",
    "soma_dos_tres = soma_tres(4, 3, 5)"
   ]
  },
  {
   "cell_type": "code",
   "execution_count": 15,
   "id": "df5fb88f",
   "metadata": {},
   "outputs": [
    {
     "data": {
      "text/plain": [
       "12"
      ]
     },
     "execution_count": 15,
     "metadata": {},
     "output_type": "execute_result"
    }
   ],
   "source": [
    "soma_dos_tres"
   ]
  },
  {
   "cell_type": "code",
   "execution_count": 16,
   "id": "1816fe15",
   "metadata": {},
   "outputs": [],
   "source": [
    "# vamos criar a função da media\n",
    "\n",
    "def media(iteravel):\n",
    "    media = soma_do_iteravel(iteravel) / len(iteravel)\n",
    "    return media\n",
    "\n",
    "def soma_do_iteravel(iteravel):\n",
    "    soma = sum(iteravel)\n",
    "    return soma"
   ]
  },
  {
   "cell_type": "code",
   "execution_count": 17,
   "id": "a7b2e7e9",
   "metadata": {},
   "outputs": [
    {
     "data": {
      "text/plain": [
       "6.5"
      ]
     },
     "execution_count": 17,
     "metadata": {},
     "output_type": "execute_result"
    }
   ],
   "source": [
    "tupla = (5, 6, 7, 8)\n",
    "\n",
    "media(tupla)"
   ]
  },
  {
   "cell_type": "markdown",
   "id": "e6ca24b0",
   "metadata": {},
   "source": [
    "## Mais exercícios\n",
    "---"
   ]
  },
  {
   "cell_type": "markdown",
   "id": "a691176f",
   "metadata": {},
   "source": [
    "* Crie uma função que verifique se o número é par"
   ]
  },
  {
   "cell_type": "code",
   "execution_count": 20,
   "id": "ea92de34",
   "metadata": {},
   "outputs": [],
   "source": [
    "def ehpar(x):\n",
    "    verificacao = x % 2 == 0\n",
    "    return verificacao"
   ]
  },
  {
   "cell_type": "code",
   "execution_count": 21,
   "id": "ffe6bebb",
   "metadata": {},
   "outputs": [
    {
     "data": {
      "text/plain": [
       "True"
      ]
     },
     "execution_count": 21,
     "metadata": {},
     "output_type": "execute_result"
    }
   ],
   "source": [
    "ehpar(2)"
   ]
  },
  {
   "cell_type": "code",
   "execution_count": 22,
   "id": "f368edcd",
   "metadata": {},
   "outputs": [],
   "source": [
    "def ehpar(x):\n",
    "    return x % 2 == 0"
   ]
  },
  {
   "cell_type": "code",
   "execution_count": 23,
   "id": "08734f35",
   "metadata": {},
   "outputs": [
    {
     "data": {
      "text/plain": [
       "True"
      ]
     },
     "execution_count": 23,
     "metadata": {},
     "output_type": "execute_result"
    }
   ],
   "source": [
    "ehpar(2)"
   ]
  },
  {
   "cell_type": "code",
   "execution_count": 24,
   "id": "f1de28b9",
   "metadata": {},
   "outputs": [],
   "source": [
    "def ehpar(x): return x % 2 == 0"
   ]
  },
  {
   "cell_type": "code",
   "execution_count": 25,
   "id": "737c6ded",
   "metadata": {},
   "outputs": [
    {
     "data": {
      "text/plain": [
       "True"
      ]
     },
     "execution_count": 25,
     "metadata": {},
     "output_type": "execute_result"
    }
   ],
   "source": [
    "ehpar(2)"
   ]
  },
  {
   "cell_type": "code",
   "execution_count": 26,
   "id": "95fe7d9a",
   "metadata": {},
   "outputs": [
    {
     "data": {
      "text/plain": [
       "False"
      ]
     },
     "execution_count": 26,
     "metadata": {},
     "output_type": "execute_result"
    }
   ],
   "source": [
    "ehpar(3)"
   ]
  },
  {
   "cell_type": "markdown",
   "id": "82f863b4",
   "metadata": {},
   "source": [
    "* Crie uma função que vefique se o número é par ou impar"
   ]
  },
  {
   "cell_type": "code",
   "execution_count": 28,
   "id": "d96bb732",
   "metadata": {},
   "outputs": [],
   "source": [
    "def par_ou_impar(x):\n",
    "    if ehpar(x):\n",
    "        return 'Par'\n",
    "    else:\n",
    "        return 'Impar'"
   ]
  },
  {
   "cell_type": "code",
   "execution_count": 29,
   "id": "d65078ea",
   "metadata": {},
   "outputs": [
    {
     "data": {
      "text/plain": [
       "'Impar'"
      ]
     },
     "execution_count": 29,
     "metadata": {},
     "output_type": "execute_result"
    }
   ],
   "source": [
    "par_ou_impar(3)"
   ]
  },
  {
   "cell_type": "code",
   "execution_count": 32,
   "id": "814035db",
   "metadata": {},
   "outputs": [],
   "source": [
    "def teste(x):\n",
    "    return x/2\n",
    "    print('vai executar ??')\n",
    "    return x ** 2"
   ]
  },
  {
   "cell_type": "code",
   "execution_count": 33,
   "id": "17f0ccaf",
   "metadata": {},
   "outputs": [
    {
     "data": {
      "text/plain": [
       "5.0"
      ]
     },
     "execution_count": 33,
     "metadata": {},
     "output_type": "execute_result"
    }
   ],
   "source": [
    "teste(10)"
   ]
  },
  {
   "cell_type": "markdown",
   "id": "c401ca9d",
   "metadata": {},
   "source": [
    "* Crie uma função que recebera dois valores e compare seus valores."
   ]
  },
  {
   "cell_type": "code",
   "execution_count": 34,
   "id": "ad5e211d",
   "metadata": {},
   "outputs": [],
   "source": [
    "def comparar(n1, n2):\n",
    "    if n1 > n2:\n",
    "        print(f'{n1} > {n2}')\n",
    "        return n1, n2\n",
    "    if n1 == n2:\n",
    "        print(f'{n1} = {n2}')\n",
    "        return n1\n",
    "    else:\n",
    "        print(f'{n1} < {n2}')\n",
    "        return n1, n2"
   ]
  },
  {
   "cell_type": "code",
   "execution_count": 39,
   "id": "79a901f2",
   "metadata": {},
   "outputs": [
    {
     "name": "stdout",
     "output_type": "stream",
     "text": [
      "2 < 3\n"
     ]
    }
   ],
   "source": [
    "n1, n2 = comparar(2, 3)"
   ]
  },
  {
   "cell_type": "code",
   "execution_count": 40,
   "id": "22df108b",
   "metadata": {},
   "outputs": [
    {
     "data": {
      "text/plain": [
       "2"
      ]
     },
     "execution_count": 40,
     "metadata": {},
     "output_type": "execute_result"
    }
   ],
   "source": [
    "n1"
   ]
  },
  {
   "cell_type": "code",
   "execution_count": 41,
   "id": "fecc8adc",
   "metadata": {},
   "outputs": [
    {
     "data": {
      "text/plain": [
       "3"
      ]
     },
     "execution_count": 41,
     "metadata": {},
     "output_type": "execute_result"
    }
   ],
   "source": [
    "n2"
   ]
  },
  {
   "cell_type": "markdown",
   "id": "7f506c2b",
   "metadata": {},
   "source": [
    "\n",
    "* Aplique a função acima na lista de tuplas abaixo:\n",
    "\n",
    "```python\n",
    "notas = [(4, 6), (5, 1), (5, 5), (7, 9)]\n",
    "```"
   ]
  },
  {
   "cell_type": "code",
   "execution_count": 51,
   "id": "fcf03f10",
   "metadata": {},
   "outputs": [
    {
     "name": "stdout",
     "output_type": "stream",
     "text": [
      "4 < 6\n",
      "5 > 1\n",
      "5 = 5\n",
      "7 < 9\n"
     ]
    }
   ],
   "source": [
    "notas = [(4, 6), (5, 1), (5, 5), (7, 9)]\n",
    "\n",
    "for nota in notas:\n",
    "    comparar(nota[0], nota[1])"
   ]
  },
  {
   "cell_type": "markdown",
   "id": "3efcb6e4",
   "metadata": {},
   "source": [
    "* Crie uma função que retorne True se os valores são múltiplos, caso contrário retorne False"
   ]
  },
  {
   "cell_type": "code",
   "execution_count": 52,
   "id": "8b909baf",
   "metadata": {},
   "outputs": [],
   "source": [
    "def ehmultiplo(a, b):\n",
    "    if a % b == 0:\n",
    "        return True\n",
    "    else:\n",
    "        return False"
   ]
  },
  {
   "cell_type": "code",
   "execution_count": 53,
   "id": "4e851a19",
   "metadata": {},
   "outputs": [
    {
     "data": {
      "text/plain": [
       "True"
      ]
     },
     "execution_count": 53,
     "metadata": {},
     "output_type": "execute_result"
    }
   ],
   "source": [
    "ehmultiplo(2, 2)"
   ]
  },
  {
   "cell_type": "code",
   "execution_count": 54,
   "id": "a09004f3",
   "metadata": {},
   "outputs": [
    {
     "data": {
      "text/plain": [
       "False"
      ]
     },
     "execution_count": 54,
     "metadata": {},
     "output_type": "execute_result"
    }
   ],
   "source": [
    "ehmultiplo(3,2)"
   ]
  },
  {
   "cell_type": "markdown",
   "id": "b9179550",
   "metadata": {},
   "source": [
    "* Crie  uma função que dado o lado do quadrado cálcule a área\n",
    "\n",
    "$A = a^{2}$\n",
    "\n",
    "Use a função built-in `pow`"
   ]
  },
  {
   "cell_type": "code",
   "execution_count": 62,
   "id": "1cfbd9cc",
   "metadata": {},
   "outputs": [],
   "source": [
    "def area_quadrado(a):\n",
    "    if a < 0:\n",
    "        print('O lado pedido é negativo!')\n",
    "        return None\n",
    "    else:\n",
    "        return pow(a, 2)"
   ]
  },
  {
   "cell_type": "code",
   "execution_count": 63,
   "id": "678a294b",
   "metadata": {},
   "outputs": [
    {
     "name": "stdout",
     "output_type": "stream",
     "text": [
      "16\n"
     ]
    }
   ],
   "source": [
    "print(area_quadrado(4))"
   ]
  },
  {
   "cell_type": "code",
   "execution_count": 64,
   "id": "e3156939",
   "metadata": {},
   "outputs": [
    {
     "name": "stdout",
     "output_type": "stream",
     "text": [
      "O lado pedido é negativo!\n",
      "None\n"
     ]
    }
   ],
   "source": [
    "print(area_quadrado(-3))"
   ]
  },
  {
   "cell_type": "markdown",
   "id": "899800ae",
   "metadata": {},
   "source": [
    "* Crie uma função que compute a pressão da coluna de um fluido e retorne o valor da pressão.\n",
    "\n",
    "$p = \\rho.g.h$"
   ]
  },
  {
   "cell_type": "code",
   "execution_count": 68,
   "id": "35693585",
   "metadata": {},
   "outputs": [],
   "source": [
    "def pressao(rho, g, h):\n",
    "    pressao = rho * g * h\n",
    "    return pressao"
   ]
  },
  {
   "cell_type": "code",
   "execution_count": 69,
   "id": "b9d38547",
   "metadata": {},
   "outputs": [
    {
     "data": {
      "text/plain": [
       "29490.0"
      ]
     },
     "execution_count": 69,
     "metadata": {},
     "output_type": "execute_result"
    }
   ],
   "source": [
    "pressao(1000, 9.83, 3)"
   ]
  },
  {
   "cell_type": "code",
   "execution_count": 72,
   "id": "6dec4a22",
   "metadata": {},
   "outputs": [],
   "source": [
    "def pressao(rho, h, g=9.83):\n",
    "    pressao = rho * g * h\n",
    "    return pressao"
   ]
  },
  {
   "cell_type": "code",
   "execution_count": 74,
   "id": "1faa8b61",
   "metadata": {},
   "outputs": [
    {
     "data": {
      "text/plain": [
       "18000"
      ]
     },
     "execution_count": 74,
     "metadata": {},
     "output_type": "execute_result"
    }
   ],
   "source": [
    "pressao(1000, 3, g = 6)"
   ]
  },
  {
   "cell_type": "code",
   "execution_count": 78,
   "id": "4d6600cf",
   "metadata": {},
   "outputs": [],
   "source": [
    "def pressao_agua_terra(h, rho=1000, g=9.83):\n",
    "    pressao_atm = 1000\n",
    "    return rho * g * h + pressao_atm "
   ]
  },
  {
   "cell_type": "code",
   "execution_count": 79,
   "id": "46a92f2a",
   "metadata": {},
   "outputs": [
    {
     "data": {
      "text/plain": [
       "30490.0"
      ]
     },
     "execution_count": 79,
     "metadata": {},
     "output_type": "execute_result"
    }
   ],
   "source": [
    "pressao_agua_terra(3)"
   ]
  },
  {
   "cell_type": "markdown",
   "id": "fe25f4f5",
   "metadata": {},
   "source": [
    "* Crie uma função que receba a base e altura de um triângulo e compute a sua área.\n",
    "\n",
    "$A = \\frac{b.h}{2}$"
   ]
  },
  {
   "cell_type": "code",
   "execution_count": 82,
   "id": "09ca285e",
   "metadata": {},
   "outputs": [],
   "source": [
    "def area_trinagulo(b, h):\n",
    "    if b > 0 and h > 0:\n",
    "        return (b * h) / 2\n",
    "    else:\n",
    "        return None"
   ]
  },
  {
   "cell_type": "code",
   "execution_count": 83,
   "id": "5de1c914",
   "metadata": {},
   "outputs": [
    {
     "data": {
      "text/plain": [
       "6.0"
      ]
     },
     "execution_count": 83,
     "metadata": {},
     "output_type": "execute_result"
    }
   ],
   "source": [
    "area_trinagulo(3, 4)"
   ]
  },
  {
   "cell_type": "code",
   "execution_count": 85,
   "id": "e543f9c7",
   "metadata": {},
   "outputs": [
    {
     "name": "stdout",
     "output_type": "stream",
     "text": [
      "None\n"
     ]
    }
   ],
   "source": [
    "print(area_trinagulo(-3, 4))"
   ]
  },
  {
   "cell_type": "markdown",
   "id": "833d9479",
   "metadata": {},
   "source": [
    "* Crie uma função que receba uma lista e um valor e retorne o valor se ele estiver na lista, caso contrário retorne None"
   ]
  },
  {
   "cell_type": "code",
   "execution_count": 86,
   "id": "7d94b690",
   "metadata": {},
   "outputs": [],
   "source": [
    "def pesquisa(lista, valor):\n",
    "    for i, j in enumerate(lista):\n",
    "        if j == valor:\n",
    "            return valor\n",
    "    return None   "
   ]
  },
  {
   "cell_type": "code",
   "execution_count": 87,
   "id": "a586c1b4",
   "metadata": {},
   "outputs": [
    {
     "data": {
      "text/plain": [
       "15"
      ]
     },
     "execution_count": 87,
     "metadata": {},
     "output_type": "execute_result"
    }
   ],
   "source": [
    "lista = [10, 15, 20, 25, 30]\n",
    "\n",
    "pesquisa(lista, 15)"
   ]
  },
  {
   "cell_type": "code",
   "execution_count": 88,
   "id": "a8a44b07",
   "metadata": {},
   "outputs": [
    {
     "name": "stdout",
     "output_type": "stream",
     "text": [
      "None\n"
     ]
    }
   ],
   "source": [
    "print(pesquisa(lista, 11))"
   ]
  }
 ],
 "metadata": {
  "kernelspec": {
   "display_name": "Python 3",
   "language": "python",
   "name": "python3"
  },
  "language_info": {
   "codemirror_mode": {
    "name": "ipython",
    "version": 3
   },
   "file_extension": ".py",
   "mimetype": "text/x-python",
   "name": "python",
   "nbconvert_exporter": "python",
   "pygments_lexer": "ipython3",
   "version": "3.8.8"
  }
 },
 "nbformat": 4,
 "nbformat_minor": 5
}
