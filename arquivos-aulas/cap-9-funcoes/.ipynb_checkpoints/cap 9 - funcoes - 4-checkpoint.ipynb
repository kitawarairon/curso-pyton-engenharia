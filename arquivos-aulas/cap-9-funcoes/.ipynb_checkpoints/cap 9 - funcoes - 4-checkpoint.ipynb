{
 "cells": [
  {
   "cell_type": "markdown",
   "id": "d961c257",
   "metadata": {},
   "source": [
    "# Validação\n",
    "---\n",
    "* Validação de entrada de dados;\n",
    "* Exemplos;\n",
    "* Docstring."
   ]
  },
  {
   "cell_type": "markdown",
   "id": "8d68deee",
   "metadata": {},
   "source": [
    "## Validação de entrada de dados.\n",
    "---\n",
    "\n",
    "Funções são muito úteis para validar a entrada de dados.\n"
   ]
  },
  {
   "cell_type": "markdown",
   "id": "7381f2a6",
   "metadata": {},
   "source": [
    "## Exemplos\n",
    "---"
   ]
  },
  {
   "cell_type": "markdown",
   "id": "36a6f787",
   "metadata": {},
   "source": [
    "* Crie uma função que validade um número inteiro com limites escolhidos pelo usuário também."
   ]
  },
  {
   "cell_type": "code",
   "execution_count": null,
   "id": "9b97f553",
   "metadata": {},
   "outputs": [],
   "source": []
  },
  {
   "cell_type": "code",
   "execution_count": null,
   "id": "9f4e5dc9",
   "metadata": {},
   "outputs": [],
   "source": []
  },
  {
   "cell_type": "markdown",
   "id": "98a25f66",
   "metadata": {},
   "source": [
    "* Escreva uma função para validar um variável string. Essa função recebe como parâmetro a string, o número mínimo e máximo de caracteres. Retorne verdadeiro se o tamanho estiver dentro dos limites e falso caso  não esteja dentro dos limites."
   ]
  },
  {
   "cell_type": "code",
   "execution_count": null,
   "id": "50b37bcb",
   "metadata": {},
   "outputs": [],
   "source": []
  },
  {
   "cell_type": "markdown",
   "id": "5b934916",
   "metadata": {},
   "source": [
    "* Escreva uma função que trate uma string, isto é, remova caracteres estranhos e espaços em brancos.\n",
    "\n",
    "> caracteres estranhos : #, %"
   ]
  },
  {
   "cell_type": "code",
   "execution_count": null,
   "id": "e3c3630c",
   "metadata": {},
   "outputs": [],
   "source": []
  },
  {
   "cell_type": "code",
   "execution_count": null,
   "id": "e65a3e20",
   "metadata": {},
   "outputs": [],
   "source": []
  },
  {
   "cell_type": "markdown",
   "id": "3896294b",
   "metadata": {},
   "source": [
    "* Escreva uma função que receba uma string e uma lista. A função dece comparar a sitrng passada com os elementos da lista, também passada como parâmetro. Retorne verdadeiro se a trinf for encontrada dentro da lista, e falso, caso contrário."
   ]
  },
  {
   "cell_type": "code",
   "execution_count": null,
   "id": "0f3adea5",
   "metadata": {},
   "outputs": [],
   "source": []
  },
  {
   "cell_type": "code",
   "execution_count": null,
   "id": "c04ad3f4",
   "metadata": {},
   "outputs": [],
   "source": []
  },
  {
   "cell_type": "markdown",
   "id": "1de6f677",
   "metadata": {},
   "source": [
    "## Doc-string\n",
    "---\n",
    "\n",
    "[Documentação](https://www.python.org/dev/peps/pep-0257/)"
   ]
  },
  {
   "cell_type": "code",
   "execution_count": null,
   "id": "95cde2c7",
   "metadata": {},
   "outputs": [],
   "source": []
  },
  {
   "cell_type": "code",
   "execution_count": null,
   "id": "06f0875b",
   "metadata": {},
   "outputs": [],
   "source": []
  }
 ],
 "metadata": {
  "kernelspec": {
   "display_name": "Python 3",
   "language": "python",
   "name": "python3"
  },
  "language_info": {
   "codemirror_mode": {
    "name": "ipython",
    "version": 3
   },
   "file_extension": ".py",
   "mimetype": "text/x-python",
   "name": "python",
   "nbconvert_exporter": "python",
   "pygments_lexer": "ipython3",
   "version": "3.8.8"
  }
 },
 "nbformat": 4,
 "nbformat_minor": 5
}
