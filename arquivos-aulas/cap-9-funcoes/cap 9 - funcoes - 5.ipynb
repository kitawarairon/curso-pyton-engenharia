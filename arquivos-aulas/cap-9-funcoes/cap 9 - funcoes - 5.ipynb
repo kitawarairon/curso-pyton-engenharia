{
 "cells": [
  {
   "cell_type": "markdown",
   "id": "aa0fd92a",
   "metadata": {},
   "source": [
    "# Parâmetros de funções\n",
    "---\n",
    "* Parâmetros opcionais;\n",
    "* Nomeando parâmetros;\n",
    "* Funções como parâmetro."
   ]
  },
  {
   "cell_type": "markdown",
   "id": "e4c0fe2e",
   "metadata": {},
   "source": [
    "## Parâmetros opicionais\n",
    "---"
   ]
  },
  {
   "cell_type": "code",
   "execution_count": 1,
   "id": "1f8a5782",
   "metadata": {},
   "outputs": [],
   "source": [
    "def barra():\n",
    "    print('*'*40)"
   ]
  },
  {
   "cell_type": "code",
   "execution_count": 2,
   "id": "d6921a5a",
   "metadata": {},
   "outputs": [
    {
     "name": "stdout",
     "output_type": "stream",
     "text": [
      "****************************************\n"
     ]
    }
   ],
   "source": [
    "barra()"
   ]
  },
  {
   "cell_type": "code",
   "execution_count": 3,
   "id": "5895f13b",
   "metadata": {},
   "outputs": [],
   "source": [
    "def barra(n=40, caractere='*'):\n",
    "    print(caractere * n)"
   ]
  },
  {
   "cell_type": "code",
   "execution_count": 8,
   "id": "ccc2d1fc",
   "metadata": {},
   "outputs": [
    {
     "name": "stdout",
     "output_type": "stream",
     "text": [
      "****************************************\n"
     ]
    }
   ],
   "source": [
    "barra()"
   ]
  },
  {
   "cell_type": "code",
   "execution_count": 5,
   "id": "edfac8c1",
   "metadata": {},
   "outputs": [
    {
     "name": "stdout",
     "output_type": "stream",
     "text": [
      "**********\n"
     ]
    }
   ],
   "source": [
    "barra(n=10)"
   ]
  },
  {
   "cell_type": "code",
   "execution_count": 6,
   "id": "c069a333",
   "metadata": {},
   "outputs": [
    {
     "name": "stdout",
     "output_type": "stream",
     "text": [
      "----------------------------------------\n"
     ]
    }
   ],
   "source": [
    "barra(caractere='-')"
   ]
  },
  {
   "cell_type": "code",
   "execution_count": 7,
   "id": "5a77842b",
   "metadata": {},
   "outputs": [
    {
     "name": "stdout",
     "output_type": "stream",
     "text": [
      "%%%%%%%%%%%%%%%%%%%%%%%%%%%%%%\n"
     ]
    }
   ],
   "source": [
    "barra(30, '%')"
   ]
  },
  {
   "cell_type": "code",
   "execution_count": 14,
   "id": "7c3e6cba",
   "metadata": {},
   "outputs": [],
   "source": [
    "def soma(a, b, imprime=False):\n",
    "    s = a + b\n",
    "    if imprime:\n",
    "        print('O valor da soma {}'.format(s))\n",
    "    return s"
   ]
  },
  {
   "cell_type": "code",
   "execution_count": 15,
   "id": "e9a5bfff",
   "metadata": {},
   "outputs": [
    {
     "name": "stdout",
     "output_type": "stream",
     "text": [
      "O valor da soma 5\n"
     ]
    },
    {
     "data": {
      "text/plain": [
       "5"
      ]
     },
     "execution_count": 15,
     "metadata": {},
     "output_type": "execute_result"
    }
   ],
   "source": [
    "soma(2, 3, True)"
   ]
  },
  {
   "cell_type": "code",
   "execution_count": null,
   "id": "d79f4173",
   "metadata": {},
   "outputs": [],
   "source": [
    "#  a = 2\n",
    "# b = 3\n",
    "# imprime = "
   ]
  },
  {
   "cell_type": "code",
   "execution_count": 18,
   "id": "09aa1cfc",
   "metadata": {},
   "outputs": [
    {
     "name": "stdout",
     "output_type": "stream",
     "text": [
      "O valor da soma 5\n"
     ]
    },
    {
     "data": {
      "text/plain": [
       "5"
      ]
     },
     "execution_count": 18,
     "metadata": {},
     "output_type": "execute_result"
    }
   ],
   "source": [
    "soma(b=3, a=2, imprime = True)"
   ]
  },
  {
   "cell_type": "code",
   "execution_count": 21,
   "id": "f1eaa271",
   "metadata": {},
   "outputs": [
    {
     "data": {
      "text/plain": [
       "5"
      ]
     },
     "execution_count": 21,
     "metadata": {},
     "output_type": "execute_result"
    }
   ],
   "source": [
    "soma(a=3, b=2)"
   ]
  },
  {
   "cell_type": "markdown",
   "id": "21206ab1",
   "metadata": {},
   "source": [
    "## Nomeando parâmetros\n",
    "---"
   ]
  },
  {
   "cell_type": "code",
   "execution_count": 23,
   "id": "19ec1fb9",
   "metadata": {},
   "outputs": [],
   "source": [
    "def retangulo(largura, altura, caractere='*'):\n",
    "    \"\"\" Essa função imprime um retângulo.\n",
    "    # dados de entrada\n",
    "    largura parm obg\n",
    "    altura parm obg\n",
    "    caractere = '*'\n",
    "    \"\"\"\n",
    "    linha = caractere * largura\n",
    "    for i in range(altura):\n",
    "        print(linha)"
   ]
  },
  {
   "cell_type": "code",
   "execution_count": 24,
   "id": "e38ac56c",
   "metadata": {},
   "outputs": [
    {
     "name": "stdout",
     "output_type": "stream",
     "text": [
      "***\n",
      "***\n",
      "***\n",
      "***\n"
     ]
    }
   ],
   "source": [
    "retangulo(3, 4)"
   ]
  },
  {
   "cell_type": "code",
   "execution_count": 26,
   "id": "14f90a10",
   "metadata": {},
   "outputs": [
    {
     "name": "stdout",
     "output_type": "stream",
     "text": [
      "***\n",
      "***\n",
      "***\n",
      "***\n"
     ]
    }
   ],
   "source": [
    "retangulo(largura=3, altura=4)"
   ]
  },
  {
   "cell_type": "code",
   "execution_count": 27,
   "id": "285aa0b0",
   "metadata": {},
   "outputs": [
    {
     "name": "stdout",
     "output_type": "stream",
     "text": [
      "***\n",
      "***\n",
      "***\n",
      "***\n"
     ]
    }
   ],
   "source": [
    "retangulo(altura=4, largura=3)"
   ]
  },
  {
   "cell_type": "code",
   "execution_count": 29,
   "id": "98b116a3",
   "metadata": {},
   "outputs": [
    {
     "name": "stdout",
     "output_type": "stream",
     "text": [
      "---\n",
      "---\n",
      "---\n",
      "---\n"
     ]
    }
   ],
   "source": [
    "retangulo(caractere='-', altura=4, largura=3)"
   ]
  },
  {
   "cell_type": "markdown",
   "id": "266966c6",
   "metadata": {},
   "source": [
    "## Funções como parâmetros\n",
    "---\n",
    "Um poderoso recurso do Python é permitir a passsagem de funções como parâmetros. Isso permite combinar várias funções para realizar uma tarefa."
   ]
  },
  {
   "cell_type": "code",
   "execution_count": 35,
   "id": "8ba7873f",
   "metadata": {},
   "outputs": [],
   "source": [
    "def soma(a, b): return a + b\n",
    "\n",
    "def subtracao(a, b): return a - b\n",
    "\n",
    "def multiplicacao(a, b): return a * b\n",
    "\n",
    "def divisao(a, b): return a / b\n",
    "\n",
    "def imprime(a, b, foper):\n",
    "    print(foper(a, b))"
   ]
  },
  {
   "cell_type": "code",
   "execution_count": 36,
   "id": "95323b4d",
   "metadata": {},
   "outputs": [
    {
     "name": "stdout",
     "output_type": "stream",
     "text": [
      "7\n"
     ]
    }
   ],
   "source": [
    "imprime(4, 3, soma)"
   ]
  },
  {
   "cell_type": "code",
   "execution_count": 40,
   "id": "02113879",
   "metadata": {},
   "outputs": [
    {
     "name": "stdout",
     "output_type": "stream",
     "text": [
      "1\n"
     ]
    }
   ],
   "source": [
    "imprime(4, 3, subtracao)"
   ]
  },
  {
   "cell_type": "code",
   "execution_count": 41,
   "id": "5929cb44",
   "metadata": {},
   "outputs": [
    {
     "name": "stdout",
     "output_type": "stream",
     "text": [
      "12\n"
     ]
    }
   ],
   "source": [
    "imprime(4, 3, multiplicacao)"
   ]
  },
  {
   "cell_type": "code",
   "execution_count": 42,
   "id": "5237a4fa",
   "metadata": {},
   "outputs": [
    {
     "name": "stdout",
     "output_type": "stream",
     "text": [
      "1.3333333333333333\n"
     ]
    }
   ],
   "source": [
    "imprime(b=3, a=4, foper=divisao)"
   ]
  }
 ],
 "metadata": {
  "kernelspec": {
   "display_name": "Python 3",
   "language": "python",
   "name": "python3"
  },
  "language_info": {
   "codemirror_mode": {
    "name": "ipython",
    "version": 3
   },
   "file_extension": ".py",
   "mimetype": "text/x-python",
   "name": "python",
   "nbconvert_exporter": "python",
   "pygments_lexer": "ipython3",
   "version": "3.8.8"
  }
 },
 "nbformat": 4,
 "nbformat_minor": 5
}
