{
 "cells": [
  {
   "cell_type": "markdown",
   "id": "d961c257",
   "metadata": {},
   "source": [
    "# Validação\n",
    "---\n",
    "* Validação de entrada de dados;\n",
    "* Exemplos;\n",
    "* Docstring."
   ]
  },
  {
   "cell_type": "markdown",
   "id": "8d68deee",
   "metadata": {},
   "source": [
    "## Validação de entrada de dados.\n",
    "---\n",
    "\n",
    "Funções são muito úteis para validar a entrada de dados.\n"
   ]
  },
  {
   "cell_type": "markdown",
   "id": "7381f2a6",
   "metadata": {},
   "source": [
    "## Exemplos\n",
    "---"
   ]
  },
  {
   "cell_type": "markdown",
   "id": "36a6f787",
   "metadata": {},
   "source": [
    "* Crie uma função que validade um número inteiro com limites escolhidos pelo usuário também."
   ]
  },
  {
   "cell_type": "code",
   "execution_count": 16,
   "id": "9b97f553",
   "metadata": {},
   "outputs": [],
   "source": [
    "def valida_inteiro(valor, inferior=5, superior=30):\n",
    "    if inferior < valor < superior:\n",
    "        print('Dentro dos limites')\n",
    "        return valor\n",
    "    else:\n",
    "        print('Fora dos limites')\n",
    "        return None"
   ]
  },
  {
   "cell_type": "code",
   "execution_count": 17,
   "id": "da8ad509",
   "metadata": {},
   "outputs": [
    {
     "name": "stdout",
     "output_type": "stream",
     "text": [
      "Fora dos limites\n"
     ]
    }
   ],
   "source": [
    "valida_inteiro(5)"
   ]
  },
  {
   "cell_type": "markdown",
   "id": "98a25f66",
   "metadata": {},
   "source": [
    "* Escreva uma função para validar um variável string. Essa função recebe como parâmetro a string, o número mínimo e máximo de caracteres. Retorne verdadeiro se o tamanho estiver dentro dos limites e falso caso  não esteja dentro dos limites."
   ]
  },
  {
   "cell_type": "code",
   "execution_count": 20,
   "id": "50b37bcb",
   "metadata": {},
   "outputs": [],
   "source": [
    "def valida_string(string, inferior, superior):\n",
    "    if inferior < len(string) < superior:\n",
    "        return True\n",
    "    else:\n",
    "        return False"
   ]
  },
  {
   "cell_type": "code",
   "execution_count": 23,
   "id": "aa0e2443",
   "metadata": {},
   "outputs": [
    {
     "data": {
      "text/plain": [
       "False"
      ]
     },
     "execution_count": 23,
     "metadata": {},
     "output_type": "execute_result"
    }
   ],
   "source": [
    "valida_string('O rato roeu a roupa do rei de roma', 3, 8)"
   ]
  },
  {
   "cell_type": "markdown",
   "id": "5b934916",
   "metadata": {},
   "source": [
    "* Escreva uma função que trate uma string, isto é, remova caracteres estranhos e espaços em brancos e a deixe padronizada.\n",
    "\n",
    "> caracteres estranhos : #, %"
   ]
  },
  {
   "cell_type": "code",
   "execution_count": 30,
   "id": "e3c3630c",
   "metadata": {},
   "outputs": [],
   "source": [
    "usuarios = ['  Ju#ca', '#Joao#', 'AnA','rA%Ul', '  PedRo  ']"
   ]
  },
  {
   "cell_type": "code",
   "execution_count": 33,
   "id": "03d8dbe6",
   "metadata": {},
   "outputs": [],
   "source": [
    "def padroniza_usuarios(lista_de_usuarios):\n",
    "    usuarios_padronizados = []\n",
    "    for usuario in lista_de_usuarios:\n",
    "        usuario_formatado = usuario.replace('#', '').replace('%', '').strip().upper()\n",
    "        usuarios_padronizados.append(usuario_formatado)\n",
    "    return usuarios_padronizados"
   ]
  },
  {
   "cell_type": "code",
   "execution_count": 36,
   "id": "986d4bf2",
   "metadata": {},
   "outputs": [],
   "source": [
    "lista_ok = padroniza_usuarios(usuarios)"
   ]
  },
  {
   "cell_type": "markdown",
   "id": "3896294b",
   "metadata": {},
   "source": [
    "* Escreva uma função que receba uma string e uma lista. A função deve comparar a string passada com os elementos da lista, também passada como parâmetro. Retorne verdadeiro se a string for encontrada dentro da lista, e falso, caso contrário."
   ]
  },
  {
   "cell_type": "code",
   "execution_count": 38,
   "id": "0f3adea5",
   "metadata": {},
   "outputs": [
    {
     "name": "stdout",
     "output_type": "stream",
     "text": [
      "True\n",
      "False\n"
     ]
    }
   ],
   "source": [
    "# string\n",
    "# lista\n",
    "\n",
    "string = 'JUCA'\n",
    "\n",
    "for usuario in lista_ok:\n",
    "    if string == usuario:\n",
    "        print(True)\n",
    "print(False)\n",
    "    \n",
    "\n",
    "\n"
   ]
  },
  {
   "cell_type": "code",
   "execution_count": 39,
   "id": "c04ad3f4",
   "metadata": {},
   "outputs": [],
   "source": [
    "def compara_string(palavra, lista):\n",
    "    for i in lista:\n",
    "        if palavra == i:\n",
    "            return True\n",
    "    return False"
   ]
  },
  {
   "cell_type": "code",
   "execution_count": 41,
   "id": "73660c9e",
   "metadata": {},
   "outputs": [
    {
     "data": {
      "text/plain": [
       "True"
      ]
     },
     "execution_count": 41,
     "metadata": {},
     "output_type": "execute_result"
    }
   ],
   "source": [
    "compara_string('JUCA', lista_ok)"
   ]
  },
  {
   "cell_type": "markdown",
   "id": "1de6f677",
   "metadata": {},
   "source": [
    "## Doc-string\n",
    "---\n",
    "\n",
    "[Documentação](https://www.python.org/dev/peps/pep-0257/)"
   ]
  },
  {
   "cell_type": "code",
   "execution_count": 43,
   "id": "95cde2c7",
   "metadata": {},
   "outputs": [],
   "source": [
    "def soma(a, b):\n",
    "    \"\"\" Essa função realizada a soma de dois números \"\"\"\n",
    "    return a + b"
   ]
  },
  {
   "cell_type": "code",
   "execution_count": 44,
   "id": "06f0875b",
   "metadata": {},
   "outputs": [
    {
     "data": {
      "text/plain": [
       "5"
      ]
     },
     "execution_count": 44,
     "metadata": {},
     "output_type": "execute_result"
    }
   ],
   "source": [
    "soma(2, 3)"
   ]
  }
 ],
 "metadata": {
  "kernelspec": {
   "display_name": "Python 3",
   "language": "python",
   "name": "python3"
  },
  "language_info": {
   "codemirror_mode": {
    "name": "ipython",
    "version": 3
   },
   "file_extension": ".py",
   "mimetype": "text/x-python",
   "name": "python",
   "nbconvert_exporter": "python",
   "pygments_lexer": "ipython3",
   "version": "3.8.8"
  }
 },
 "nbformat": 4,
 "nbformat_minor": 5
}
