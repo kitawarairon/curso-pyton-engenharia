{
 "cells": [
  {
   "cell_type": "markdown",
   "id": "d81b5af9",
   "metadata": {},
   "source": [
    "# Funções built-in\n",
    "---\n",
    "* Conhecendo as funções built-in\n",
    "* `any`\n",
    "* `all`\n",
    "* `eval`\n",
    "* `round`"
   ]
  },
  {
   "attachments": {},
   "cell_type": "markdown",
   "id": "401c4d9a",
   "metadata": {},
   "source": [
    "## Conhecendo as funções built-in (embutidas)\n",
    "---\n",
    "\n",
    "[Documentação](https://docs.python.org/pt-br/3/library/functions.html)\n"
   ]
  },
  {
   "cell_type": "markdown",
   "id": "48f7734b",
   "metadata": {},
   "source": [
    "## any\n",
    "---"
   ]
  },
  {
   "cell_type": "code",
   "execution_count": 4,
   "id": "65740b27",
   "metadata": {},
   "outputs": [],
   "source": [
    "lista = [0, 0, None, '', {}, [], ()]"
   ]
  },
  {
   "cell_type": "code",
   "execution_count": 5,
   "id": "a3578621",
   "metadata": {},
   "outputs": [
    {
     "data": {
      "text/plain": [
       "False"
      ]
     },
     "execution_count": 5,
     "metadata": {},
     "output_type": "execute_result"
    }
   ],
   "source": [
    "any(lista)"
   ]
  },
  {
   "cell_type": "code",
   "execution_count": 6,
   "id": "987832da",
   "metadata": {},
   "outputs": [],
   "source": [
    "lista_2 = [0, 0, None, '', {}, [], (), 1]"
   ]
  },
  {
   "cell_type": "code",
   "execution_count": 7,
   "id": "444032a1",
   "metadata": {},
   "outputs": [
    {
     "data": {
      "text/plain": [
       "True"
      ]
     },
     "execution_count": 7,
     "metadata": {},
     "output_type": "execute_result"
    }
   ],
   "source": [
    "any(lista_2)"
   ]
  },
  {
   "cell_type": "markdown",
   "id": "deccc792",
   "metadata": {},
   "source": [
    "## all\n",
    "---"
   ]
  },
  {
   "cell_type": "code",
   "execution_count": 8,
   "id": "53384f24",
   "metadata": {},
   "outputs": [],
   "source": [
    "lista = [0, 0, None, '', {}, [], ()]"
   ]
  },
  {
   "cell_type": "code",
   "execution_count": 15,
   "id": "88ea586f",
   "metadata": {},
   "outputs": [
    {
     "data": {
      "text/plain": [
       "False"
      ]
     },
     "execution_count": 15,
     "metadata": {},
     "output_type": "execute_result"
    }
   ],
   "source": [
    "all(lista)"
   ]
  },
  {
   "cell_type": "code",
   "execution_count": 17,
   "id": "075b3545",
   "metadata": {},
   "outputs": [],
   "source": [
    "lista_3 = [3, 4, 6, 8, 7, 8, ['asdasd', 'asdasd'], 0]"
   ]
  },
  {
   "cell_type": "code",
   "execution_count": 18,
   "id": "694ea3e2",
   "metadata": {},
   "outputs": [
    {
     "data": {
      "text/plain": [
       "False"
      ]
     },
     "execution_count": 18,
     "metadata": {},
     "output_type": "execute_result"
    }
   ],
   "source": [
    "all(lista_3)"
   ]
  },
  {
   "cell_type": "code",
   "execution_count": 19,
   "id": "52a24e96",
   "metadata": {},
   "outputs": [],
   "source": [
    "lista_4 = [1, 6, 8, 9, 9]"
   ]
  },
  {
   "cell_type": "code",
   "execution_count": 20,
   "id": "bbddddd3",
   "metadata": {},
   "outputs": [
    {
     "data": {
      "text/plain": [
       "True"
      ]
     },
     "execution_count": 20,
     "metadata": {},
     "output_type": "execute_result"
    }
   ],
   "source": [
    "all(lista_4)"
   ]
  },
  {
   "cell_type": "markdown",
   "id": "f27f204e",
   "metadata": {},
   "source": [
    "## eval\n",
    "---"
   ]
  },
  {
   "cell_type": "code",
   "execution_count": 21,
   "id": "9528520f",
   "metadata": {},
   "outputs": [
    {
     "data": {
      "text/plain": [
       "4"
      ]
     },
     "execution_count": 21,
     "metadata": {},
     "output_type": "execute_result"
    }
   ],
   "source": [
    "eval('2+2')"
   ]
  },
  {
   "cell_type": "code",
   "execution_count": 22,
   "id": "2d1806a2",
   "metadata": {},
   "outputs": [
    {
     "data": {
      "text/plain": [
       "2.0"
      ]
     },
     "execution_count": 22,
     "metadata": {},
     "output_type": "execute_result"
    }
   ],
   "source": [
    "eval('4 / 2')"
   ]
  },
  {
   "cell_type": "code",
   "execution_count": 23,
   "id": "3c3c1729",
   "metadata": {},
   "outputs": [
    {
     "data": {
      "text/plain": [
       "68"
      ]
     },
     "execution_count": 23,
     "metadata": {},
     "output_type": "execute_result"
    }
   ],
   "source": [
    "eval('74 - 6')"
   ]
  },
  {
   "cell_type": "code",
   "execution_count": 24,
   "id": "98a9e876",
   "metadata": {},
   "outputs": [
    {
     "data": {
      "text/plain": [
       "-6"
      ]
     },
     "execution_count": 24,
     "metadata": {},
     "output_type": "execute_result"
    }
   ],
   "source": [
    "eval('74 - 80')"
   ]
  },
  {
   "cell_type": "markdown",
   "id": "8001f036",
   "metadata": {},
   "source": [
    "## round\n",
    "---\n"
   ]
  },
  {
   "cell_type": "code",
   "execution_count": 25,
   "id": "d73397e7",
   "metadata": {},
   "outputs": [],
   "source": [
    "numero = 1.784546"
   ]
  },
  {
   "cell_type": "code",
   "execution_count": 26,
   "id": "dee45461",
   "metadata": {},
   "outputs": [
    {
     "data": {
      "text/plain": [
       "1.784546"
      ]
     },
     "execution_count": 26,
     "metadata": {},
     "output_type": "execute_result"
    }
   ],
   "source": [
    "numero"
   ]
  },
  {
   "cell_type": "code",
   "execution_count": 30,
   "id": "e5050f29",
   "metadata": {},
   "outputs": [
    {
     "data": {
      "text/plain": [
       "1.7845"
      ]
     },
     "execution_count": 30,
     "metadata": {},
     "output_type": "execute_result"
    }
   ],
   "source": [
    "round(number=numero, ndigits=4)"
   ]
  }
 ],
 "metadata": {
  "kernelspec": {
   "display_name": "Python 3",
   "language": "python",
   "name": "python3"
  },
  "language_info": {
   "codemirror_mode": {
    "name": "ipython",
    "version": 3
   },
   "file_extension": ".py",
   "mimetype": "text/x-python",
   "name": "python",
   "nbconvert_exporter": "python",
   "pygments_lexer": "ipython3",
   "version": "3.8.8"
  }
 },
 "nbformat": 4,
 "nbformat_minor": 5
}
