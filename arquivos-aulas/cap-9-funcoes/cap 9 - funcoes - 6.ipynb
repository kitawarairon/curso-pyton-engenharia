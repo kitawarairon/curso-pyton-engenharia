{
 "cells": [
  {
   "cell_type": "markdown",
   "id": "ac6344ab",
   "metadata": {},
   "source": [
    "# Um pouco mais sobre parâmetros e function lambda\n",
    "* Empacotamento e desempacotamento de parâmetros;\n",
    "* Desempacotamento de parâmetros;\n",
    "* Função lambda."
   ]
  },
  {
   "cell_type": "markdown",
   "id": "8d31cc5f",
   "metadata": {},
   "source": [
    "## Empacotamento de desempacotamento de parâmetros\n",
    "---"
   ]
  },
  {
   "cell_type": "code",
   "execution_count": 2,
   "id": "2e8e3056",
   "metadata": {},
   "outputs": [],
   "source": [
    "def soma(a, b):\n",
    "    print(a + b)"
   ]
  },
  {
   "cell_type": "code",
   "execution_count": 3,
   "id": "e186ca40",
   "metadata": {},
   "outputs": [
    {
     "name": "stdout",
     "output_type": "stream",
     "text": [
      "5\n"
     ]
    }
   ],
   "source": [
    "soma(2, 3)"
   ]
  },
  {
   "cell_type": "code",
   "execution_count": 4,
   "id": "dd339e2b",
   "metadata": {},
   "outputs": [],
   "source": [
    "L = [2, 3]"
   ]
  },
  {
   "cell_type": "code",
   "execution_count": 5,
   "id": "0af73c78",
   "metadata": {},
   "outputs": [
    {
     "name": "stdout",
     "output_type": "stream",
     "text": [
      "5\n"
     ]
    }
   ],
   "source": [
    "soma(*L)"
   ]
  },
  {
   "cell_type": "code",
   "execution_count": 10,
   "id": "6d184521",
   "metadata": {},
   "outputs": [
    {
     "name": "stdout",
     "output_type": "stream",
     "text": [
      "2 3\n"
     ]
    }
   ],
   "source": [
    "print(*L)"
   ]
  },
  {
   "cell_type": "code",
   "execution_count": 12,
   "id": "f994cf44",
   "metadata": {},
   "outputs": [],
   "source": [
    "a, b = [*L]"
   ]
  },
  {
   "cell_type": "code",
   "execution_count": 13,
   "id": "d3f068b9",
   "metadata": {},
   "outputs": [
    {
     "data": {
      "text/plain": [
       "2"
      ]
     },
     "execution_count": 13,
     "metadata": {},
     "output_type": "execute_result"
    }
   ],
   "source": [
    "a"
   ]
  },
  {
   "cell_type": "code",
   "execution_count": 14,
   "id": "17a9adb8",
   "metadata": {},
   "outputs": [
    {
     "data": {
      "text/plain": [
       "3"
      ]
     },
     "execution_count": 14,
     "metadata": {},
     "output_type": "execute_result"
    }
   ],
   "source": [
    "b"
   ]
  },
  {
   "cell_type": "code",
   "execution_count": 15,
   "id": "271ac35e",
   "metadata": {},
   "outputs": [],
   "source": [
    "def barra(n=10, c='*'):\n",
    "    print(c * n)"
   ]
  },
  {
   "cell_type": "code",
   "execution_count": 16,
   "id": "263fdfa0",
   "metadata": {},
   "outputs": [],
   "source": [
    "L = [[5, '-'], [10, '+'], [6, '.'],]"
   ]
  },
  {
   "cell_type": "code",
   "execution_count": 18,
   "id": "b72ec0e7",
   "metadata": {},
   "outputs": [
    {
     "name": "stdout",
     "output_type": "stream",
     "text": [
      "-----\n",
      "++++++++++\n",
      "......\n"
     ]
    }
   ],
   "source": [
    "for e in L:\n",
    "    barra(*e)"
   ]
  },
  {
   "cell_type": "markdown",
   "id": "a1269bca",
   "metadata": {},
   "source": [
    "## Desempacotamento de parâmetros\n",
    "---\n",
    "Podemos criar funções que recem um número indeterminado de parâmetros utilizando listas de parâmetros:"
   ]
  },
  {
   "cell_type": "code",
   "execution_count": 19,
   "id": "530629e5",
   "metadata": {},
   "outputs": [],
   "source": [
    "def soma(*args):\n",
    "    s = 0\n",
    "    for x in args:\n",
    "        s += x\n",
    "    return s"
   ]
  },
  {
   "cell_type": "code",
   "execution_count": 20,
   "id": "3f9ea65f",
   "metadata": {},
   "outputs": [
    {
     "data": {
      "text/plain": [
       "1"
      ]
     },
     "execution_count": 20,
     "metadata": {},
     "output_type": "execute_result"
    }
   ],
   "source": [
    "soma(1)"
   ]
  },
  {
   "cell_type": "code",
   "execution_count": 21,
   "id": "0b54c9e3",
   "metadata": {},
   "outputs": [
    {
     "data": {
      "text/plain": [
       "15"
      ]
     },
     "execution_count": 21,
     "metadata": {},
     "output_type": "execute_result"
    }
   ],
   "source": [
    "soma(1, 2, 3, 4, 5)"
   ]
  },
  {
   "cell_type": "code",
   "execution_count": 22,
   "id": "5b959788",
   "metadata": {},
   "outputs": [],
   "source": [
    "lista_de_numeros = [11, 45, 56, 78]"
   ]
  },
  {
   "cell_type": "code",
   "execution_count": 24,
   "id": "92dc0813",
   "metadata": {},
   "outputs": [
    {
     "data": {
      "text/plain": [
       "190"
      ]
     },
     "execution_count": 24,
     "metadata": {},
     "output_type": "execute_result"
    }
   ],
   "source": [
    "soma(*lista_de_numeros)"
   ]
  },
  {
   "cell_type": "markdown",
   "id": "64f4ba62",
   "metadata": {},
   "source": [
    "## Funções Lambda\n",
    "---\n",
    "\n",
    "Podemos criar funções simples, sem nome, chamadas de funções lamda.\n",
    "\n",
    "```python\n",
    "nome_da_variavel = lambda x: x * 2\n",
    "```"
   ]
  },
  {
   "cell_type": "code",
   "execution_count": 25,
   "id": "0f4f4fa1",
   "metadata": {},
   "outputs": [],
   "source": [
    "eleva_2 = lambda x: x * 2"
   ]
  },
  {
   "cell_type": "code",
   "execution_count": 26,
   "id": "e5e39f4f",
   "metadata": {},
   "outputs": [
    {
     "data": {
      "text/plain": [
       "8"
      ]
     },
     "execution_count": 26,
     "metadata": {},
     "output_type": "execute_result"
    }
   ],
   "source": [
    "eleva_2(4)"
   ]
  },
  {
   "cell_type": "code",
   "execution_count": 27,
   "id": "4254657c",
   "metadata": {},
   "outputs": [
    {
     "data": {
      "text/plain": [
       "[0, 2, 4, 6, 8, 10, 12, 14, 16, 18]"
      ]
     },
     "execution_count": 27,
     "metadata": {},
     "output_type": "execute_result"
    }
   ],
   "source": [
    "[eleva_2(i) for i in range(10)]"
   ]
  },
  {
   "cell_type": "code",
   "execution_count": 28,
   "id": "3f6b8a87",
   "metadata": {},
   "outputs": [],
   "source": [
    "aumento = lambda a, b: ((a * b)/ 100)"
   ]
  },
  {
   "cell_type": "code",
   "execution_count": 31,
   "id": "7733baf5",
   "metadata": {},
   "outputs": [
    {
     "data": {
      "text/plain": [
       "5.0"
      ]
     },
     "execution_count": 31,
     "metadata": {},
     "output_type": "execute_result"
    }
   ],
   "source": [
    "aumento(a=100, b=5)"
   ]
  },
  {
   "cell_type": "code",
   "execution_count": 32,
   "id": "e99b7658",
   "metadata": {},
   "outputs": [],
   "source": [
    "def subtracao(a, b): return a - b"
   ]
  },
  {
   "cell_type": "code",
   "execution_count": 34,
   "id": "eb6b8eea",
   "metadata": {},
   "outputs": [],
   "source": [
    "subtracao_lambda = lambda a, b: a - b "
   ]
  },
  {
   "cell_type": "code",
   "execution_count": 35,
   "id": "81b14433",
   "metadata": {},
   "outputs": [
    {
     "data": {
      "text/plain": [
       "-1"
      ]
     },
     "execution_count": 35,
     "metadata": {},
     "output_type": "execute_result"
    }
   ],
   "source": [
    "subtracao(2, 3)"
   ]
  },
  {
   "cell_type": "code",
   "execution_count": 36,
   "id": "f9d937ae",
   "metadata": {},
   "outputs": [
    {
     "data": {
      "text/plain": [
       "-1"
      ]
     },
     "execution_count": 36,
     "metadata": {},
     "output_type": "execute_result"
    }
   ],
   "source": [
    "subtracao_lambda(2, 3)"
   ]
  },
  {
   "cell_type": "markdown",
   "id": "cba8fe48",
   "metadata": {},
   "source": [
    "* Algumas funções da biblioteca padrão/módulos disponíveis do Python também permitem que funções sejam passadas como parâmetros, como o caso do método `sort` de listas."
   ]
  },
  {
   "cell_type": "code",
   "execution_count": 81,
   "id": "c3f13137",
   "metadata": {},
   "outputs": [],
   "source": [
    "L =  ['A', 'b', 'C', 'd', 'E']"
   ]
  },
  {
   "cell_type": "code",
   "execution_count": 82,
   "id": "2ca3b588",
   "metadata": {},
   "outputs": [],
   "source": [
    "L.sort()"
   ]
  },
  {
   "cell_type": "code",
   "execution_count": 83,
   "id": "55facf38",
   "metadata": {},
   "outputs": [
    {
     "data": {
      "text/plain": [
       "['A', 'C', 'E', 'b', 'd']"
      ]
     },
     "execution_count": 83,
     "metadata": {},
     "output_type": "execute_result"
    }
   ],
   "source": [
    "L"
   ]
  },
  {
   "cell_type": "code",
   "execution_count": 79,
   "id": "ecd2ee4d",
   "metadata": {},
   "outputs": [],
   "source": [
    "L.sort(key=lambda k: k.lower())"
   ]
  },
  {
   "cell_type": "code",
   "execution_count": 80,
   "id": "c73a4b6e",
   "metadata": {},
   "outputs": [
    {
     "data": {
      "text/plain": [
       "['A', 'b', 'C', 'd', 'E']"
      ]
     },
     "execution_count": 80,
     "metadata": {},
     "output_type": "execute_result"
    }
   ],
   "source": [
    "L"
   ]
  }
 ],
 "metadata": {
  "kernelspec": {
   "display_name": "Python 3",
   "language": "python",
   "name": "python3"
  },
  "language_info": {
   "codemirror_mode": {
    "name": "ipython",
    "version": 3
   },
   "file_extension": ".py",
   "mimetype": "text/x-python",
   "name": "python",
   "nbconvert_exporter": "python",
   "pygments_lexer": "ipython3",
   "version": "3.8.8"
  }
 },
 "nbformat": 4,
 "nbformat_minor": 5
}
