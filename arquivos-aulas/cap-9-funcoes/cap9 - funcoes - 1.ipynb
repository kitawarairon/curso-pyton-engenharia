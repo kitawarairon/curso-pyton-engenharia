{
 "cells": [
  {
   "cell_type": "markdown",
   "id": "a8a08b9c",
   "metadata": {},
   "source": [
    "# Funções\n",
    "---\n",
    "* O que são funções;\n",
    "* Criando nossas primeiras funções;\n",
    "* Fluxograma de execução;\n",
    "* Mais exemplos."
   ]
  },
  {
   "cell_type": "markdown",
   "id": "fbe53242",
   "metadata": {},
   "source": [
    "## O que são funções\n",
    "---\n",
    "\n",
    "Antes de entender as funções de programação, vamos entender as funções da matemática.\n",
    "\n",
    "Seja $f(x) = 2x$ uma função, vamos entender como ela funciona.\n",
    "\n",
    "Primeiro, considere que $f(x) = y$. Agora, nossa função tem a seguinte cara $y = 2x$, onde $y \\rightarrow \\text{variável dependente}$ e $x \\rightarrow \\text{variável independente}$.\n",
    "\n",
    "* $x$ assume valores que a gente escolher;\n",
    "* $y$ assume valores de acordo com a fórmula da função;\n",
    "* Por exemplo, se $x=2$, $y=4$.\n",
    "\n",
    "Assim, vamos criar nossa função em forma de código:\n",
    "\n",
    "```python\n",
    "x = [0, 2, 3, 4, 6, 7, 8, 9]\n",
    "y = 2 * x\n",
    "\n",
    "# ---\n",
    "# após aplicar a função\n",
    "# ---\n",
    "valores_de_y = [0, 4, 6, 8, 12, 14, 16, 18]\n",
    "```\n",
    "\n",
    "A variável $x$ representa uma lista do possíveis valores de $x$ e $y$ representa os valores da função.\n"
   ]
  },
  {
   "cell_type": "markdown",
   "id": "235f4fd0",
   "metadata": {},
   "source": [
    "## Criando as primeiras funções\n",
    "---\n",
    "* As funções no Python podem receber argumentos ou não;\n",
    "* Elas são ótimas para deixar o código mais limpo (refatoração);\n",
    "* Funções, de forma geral, são reutilizáveis;\n",
    "* Funções, preferencialmente, devem fazer apenas uma operação/função;\n",
    "\n",
    "**Vamos criar nossas primeiras funções, mas antes vamos entender a sintaxe da criação:**\n",
    "\n",
    "```python\n",
    "def nome_da_funcao():\n",
    "    códigos\n",
    "  \n",
    "```\n"
   ]
  },
  {
   "cell_type": "code",
   "execution_count": 29,
   "id": "26ccbba8",
   "metadata": {},
   "outputs": [],
   "source": [
    "# vamos criar uma função que some dois valores\n",
    "\n",
    "def soma_impressao(a, b):\n",
    "    soma = a + b\n",
    "    print(soma)"
   ]
  },
  {
   "cell_type": "code",
   "execution_count": 30,
   "id": "3b627d5a",
   "metadata": {},
   "outputs": [
    {
     "name": "stdout",
     "output_type": "stream",
     "text": [
      "5\n"
     ]
    }
   ],
   "source": [
    "soma_impressao(2, 3)"
   ]
  },
  {
   "cell_type": "code",
   "execution_count": 31,
   "id": "889a5f01",
   "metadata": {},
   "outputs": [],
   "source": [
    "def soma_retorno(a, b):\n",
    "    soma = a + b\n",
    "    return soma"
   ]
  },
  {
   "cell_type": "code",
   "execution_count": 32,
   "id": "bfb675c2",
   "metadata": {},
   "outputs": [],
   "source": [
    "teste = soma_retorno(2, 3)"
   ]
  },
  {
   "cell_type": "code",
   "execution_count": 33,
   "id": "c8b60d64",
   "metadata": {},
   "outputs": [
    {
     "name": "stdout",
     "output_type": "stream",
     "text": [
      "5\n"
     ]
    }
   ],
   "source": [
    "print(teste)"
   ]
  },
  {
   "cell_type": "code",
   "execution_count": 34,
   "id": "e1a8ab8f",
   "metadata": {},
   "outputs": [],
   "source": [
    "def repete_palavra(palavra):\n",
    "    print(palavra)\n",
    "    print(palavra)\n",
    "    print(palavra)\n",
    "    print(palavra)\n",
    "    "
   ]
  },
  {
   "cell_type": "code",
   "execution_count": 35,
   "id": "049ea4ac",
   "metadata": {},
   "outputs": [
    {
     "name": "stdout",
     "output_type": "stream",
     "text": [
      "juca\n",
      "juca\n",
      "juca\n",
      "juca\n"
     ]
    }
   ],
   "source": [
    "repete_palavra('juca')"
   ]
  },
  {
   "cell_type": "code",
   "execution_count": 36,
   "id": "bfe01d3f",
   "metadata": {},
   "outputs": [],
   "source": [
    "def mensagem_de_natal():\n",
    "    print('Feliz ano!!!')"
   ]
  },
  {
   "cell_type": "code",
   "execution_count": 37,
   "id": "0316ba79",
   "metadata": {},
   "outputs": [
    {
     "name": "stdout",
     "output_type": "stream",
     "text": [
      "Feliz ano!!!\n"
     ]
    }
   ],
   "source": [
    "mensagem_de_natal()"
   ]
  },
  {
   "cell_type": "code",
   "execution_count": 38,
   "id": "a70e61fd",
   "metadata": {},
   "outputs": [],
   "source": [
    "def eleva_2(n):\n",
    "    eleva = n ** 2\n",
    "    return eleva"
   ]
  },
  {
   "cell_type": "code",
   "execution_count": 39,
   "id": "9aa710e3",
   "metadata": {},
   "outputs": [],
   "source": [
    "n2 = eleva_2(4)"
   ]
  },
  {
   "cell_type": "code",
   "execution_count": 40,
   "id": "4a8aa6c2",
   "metadata": {},
   "outputs": [
    {
     "ename": "NameError",
     "evalue": "name 'eleva' is not defined",
     "output_type": "error",
     "traceback": [
      "\u001b[1;31m---------------------------------------------------------------------------\u001b[0m",
      "\u001b[1;31mNameError\u001b[0m                                 Traceback (most recent call last)",
      "\u001b[1;32m<ipython-input-40-916368497d60>\u001b[0m in \u001b[0;36m<module>\u001b[1;34m\u001b[0m\n\u001b[1;32m----> 1\u001b[1;33m \u001b[0meleva\u001b[0m\u001b[1;33m\u001b[0m\u001b[1;33m\u001b[0m\u001b[0m\n\u001b[0m",
      "\u001b[1;31mNameError\u001b[0m: name 'eleva' is not defined"
     ]
    }
   ],
   "source": [
    "eleva"
   ]
  },
  {
   "cell_type": "code",
   "execution_count": null,
   "id": "2e1e654a",
   "metadata": {},
   "outputs": [],
   "source": [
    "n2"
   ]
  },
  {
   "cell_type": "markdown",
   "id": "95d43b44",
   "metadata": {},
   "source": [
    "## Fluxograma de execução\n",
    "---"
   ]
  },
  {
   "cell_type": "code",
   "execution_count": 41,
   "id": "fcddb4c7",
   "metadata": {},
   "outputs": [
    {
     "name": "stdout",
     "output_type": "stream",
     "text": [
      "Oi, meu nome é Pedro\n",
      "4\n",
      "não é maior que 4\n"
     ]
    }
   ],
   "source": [
    "print('Oi, meu nome é Pedro')\n",
    "x = 4\n",
    "print(x)\n",
    "\n",
    "if x > 4:\n",
    "    print('é maior que 4')\n",
    "else:\n",
    "    print('não é maior que 4')"
   ]
  },
  {
   "cell_type": "markdown",
   "id": "4ee961b0",
   "metadata": {},
   "source": [
    "* Como não executar uma função"
   ]
  },
  {
   "cell_type": "code",
   "execution_count": 42,
   "id": "a16de1d8",
   "metadata": {},
   "outputs": [],
   "source": [
    "cpfs = [1234, 4568, 4563, 8546, 5698, 4587]\n",
    "\n",
    "maior_da_lista(lista=cpfs)\n",
    "\n",
    "def maior_da_lista(lista):\n",
    "    maior = max(lista)\n",
    "    return maior\n",
    "\n",
    "# cpfs = [1234, 4568, 4563, 8546, 5698, 4587]\n",
    "\n",
    "# maior_da_lista(lista=cpfs)"
   ]
  },
  {
   "cell_type": "markdown",
   "id": "e9578f72",
   "metadata": {},
   "source": [
    "* Como executar uma função"
   ]
  },
  {
   "cell_type": "code",
   "execution_count": 43,
   "id": "e884c575",
   "metadata": {},
   "outputs": [],
   "source": [
    "def maior_da_lista(lista):\n",
    "    maior = max(lista)\n",
    "    return maior\n",
    "\n",
    "cpfs = [1234, 4568, 4563, 8546, 5698, 4587]\n",
    "\n",
    "maior_valor = maior_da_lista(lista=cpfs)"
   ]
  },
  {
   "cell_type": "code",
   "execution_count": 44,
   "id": "b152e171",
   "metadata": {},
   "outputs": [
    {
     "name": "stdout",
     "output_type": "stream",
     "text": [
      "8546\n"
     ]
    }
   ],
   "source": [
    "print(maior_valor)"
   ]
  },
  {
   "cell_type": "markdown",
   "id": "e6ca24b0",
   "metadata": {},
   "source": [
    "## Mais exercícios\n",
    "---"
   ]
  },
  {
   "cell_type": "code",
   "execution_count": 45,
   "id": "9c702c56",
   "metadata": {},
   "outputs": [],
   "source": [
    "# primeiro exercício\n",
    "\n",
    "def ehpar(x):\n",
    "    comparacao = x % 2 == 0\n",
    "    return comparacao"
   ]
  },
  {
   "cell_type": "code",
   "execution_count": 46,
   "id": "63246a89",
   "metadata": {},
   "outputs": [
    {
     "data": {
      "text/plain": [
       "True"
      ]
     },
     "execution_count": 46,
     "metadata": {},
     "output_type": "execute_result"
    }
   ],
   "source": [
    "ehpar(2)"
   ]
  },
  {
   "cell_type": "code",
   "execution_count": 47,
   "id": "b687d145",
   "metadata": {},
   "outputs": [
    {
     "data": {
      "text/plain": [
       "False"
      ]
     },
     "execution_count": 47,
     "metadata": {},
     "output_type": "execute_result"
    }
   ],
   "source": [
    "ehpar(3)"
   ]
  },
  {
   "cell_type": "code",
   "execution_count": 48,
   "id": "f6cf3bbd",
   "metadata": {},
   "outputs": [],
   "source": [
    "# segundo exercicio\n",
    "\n",
    "def ehpar(x):\n",
    "    return x % 2 == 0\n",
    "\n",
    "def par_ou_impar(x):\n",
    "    if ehpar(x):\n",
    "        return 'par'\n",
    "    else:\n",
    "        return 'impar'"
   ]
  },
  {
   "cell_type": "code",
   "execution_count": 49,
   "id": "60a29844",
   "metadata": {},
   "outputs": [
    {
     "data": {
      "text/plain": [
       "'impar'"
      ]
     },
     "execution_count": 49,
     "metadata": {},
     "output_type": "execute_result"
    }
   ],
   "source": [
    "par_ou_impar(3)"
   ]
  },
  {
   "cell_type": "code",
   "execution_count": 50,
   "id": "f49a4348",
   "metadata": {},
   "outputs": [],
   "source": [
    "# terceiro exercicio\n",
    "\n",
    "def maximo(n1, n2):\n",
    "    if n1 > n2:\n",
    "        print('n1 > n2')\n",
    "    elif n1 == n2:\n",
    "        print('são iguais')\n",
    "    else:\n",
    "        print('n2 > n1')"
   ]
  },
  {
   "cell_type": "code",
   "execution_count": 51,
   "id": "d4005be6",
   "metadata": {},
   "outputs": [
    {
     "name": "stdout",
     "output_type": "stream",
     "text": [
      "n1 > n2\n"
     ]
    }
   ],
   "source": [
    "maximo(3, 2)"
   ]
  },
  {
   "cell_type": "code",
   "execution_count": 52,
   "id": "897e486a",
   "metadata": {},
   "outputs": [],
   "source": [
    "notas = [(4, 6), (7, 6), (8, 9)]"
   ]
  },
  {
   "cell_type": "code",
   "execution_count": 53,
   "id": "4dd46eef",
   "metadata": {},
   "outputs": [
    {
     "name": "stdout",
     "output_type": "stream",
     "text": [
      "n2 > n1\n",
      "n1 > n2\n",
      "n2 > n1\n"
     ]
    }
   ],
   "source": [
    "for n1, n2 in notas:\n",
    "    maximo(n2=n2, n1=n1)"
   ]
  },
  {
   "cell_type": "code",
   "execution_count": 57,
   "id": "6f1a243a",
   "metadata": {},
   "outputs": [
    {
     "name": "stdout",
     "output_type": "stream",
     "text": [
      "Feliz ano!!!\n",
      "Feliz ano!!!\n",
      "Feliz ano!!!\n",
      "Feliz ano!!!\n",
      "Feliz ano!!!\n",
      "Feliz ano!!!\n",
      "Feliz ano!!!\n",
      "Feliz ano!!!\n",
      "Feliz ano!!!\n",
      "Feliz ano!!!\n"
     ]
    }
   ],
   "source": [
    "for i in range(10):\n",
    "    i, mensagem_de_natal()"
   ]
  },
  {
   "cell_type": "code",
   "execution_count": 80,
   "id": "828a8e60",
   "metadata": {},
   "outputs": [],
   "source": [
    "# exercicio 4\n",
    "\n",
    "def multiplo(n1, n2):\n",
    "    if n1 % 2 == 0:\n",
    "        return True\n",
    "    else:\n",
    "        return False\n",
    "    "
   ]
  },
  {
   "cell_type": "code",
   "execution_count": 60,
   "id": "0b337055",
   "metadata": {},
   "outputs": [
    {
     "data": {
      "text/plain": [
       "True"
      ]
     },
     "execution_count": 60,
     "metadata": {},
     "output_type": "execute_result"
    }
   ],
   "source": [
    "multiplo(8, 4)"
   ]
  },
  {
   "cell_type": "code",
   "execution_count": 62,
   "id": "d36c1334",
   "metadata": {},
   "outputs": [
    {
     "data": {
      "text/plain": [
       "False"
      ]
     },
     "execution_count": 62,
     "metadata": {},
     "output_type": "execute_result"
    }
   ],
   "source": [
    "multiplo(7, 3)"
   ]
  },
  {
   "cell_type": "code",
   "execution_count": 81,
   "id": "8770c146",
   "metadata": {},
   "outputs": [],
   "source": [
    "def testando_retornos(n1, n2):\n",
    "        return n1, n2"
   ]
  },
  {
   "cell_type": "code",
   "execution_count": 82,
   "id": "2bfc3550",
   "metadata": {},
   "outputs": [],
   "source": [
    "n1, n2 = testando_retornos(5, 6)"
   ]
  },
  {
   "cell_type": "code",
   "execution_count": 83,
   "id": "cf6fbf13",
   "metadata": {},
   "outputs": [
    {
     "data": {
      "text/plain": [
       "5"
      ]
     },
     "execution_count": 83,
     "metadata": {},
     "output_type": "execute_result"
    }
   ],
   "source": [
    "n1"
   ]
  },
  {
   "cell_type": "code",
   "execution_count": 84,
   "id": "25e57978",
   "metadata": {},
   "outputs": [
    {
     "data": {
      "text/plain": [
       "6"
      ]
     },
     "execution_count": 84,
     "metadata": {},
     "output_type": "execute_result"
    }
   ],
   "source": [
    "n2"
   ]
  },
  {
   "cell_type": "code",
   "execution_count": 85,
   "id": "3ce15f06",
   "metadata": {},
   "outputs": [],
   "source": [
    "# exercio 5\n",
    "\n",
    "def area_quadrado(lado):\n",
    "    area = pow(lado, 2)\n",
    "    return area"
   ]
  },
  {
   "cell_type": "code",
   "execution_count": 86,
   "id": "e6efaaef",
   "metadata": {},
   "outputs": [
    {
     "data": {
      "text/plain": [
       "4"
      ]
     },
     "execution_count": 86,
     "metadata": {},
     "output_type": "execute_result"
    }
   ],
   "source": [
    "area_quadrado(2)"
   ]
  },
  {
   "cell_type": "code",
   "execution_count": 87,
   "id": "ec95015d",
   "metadata": {},
   "outputs": [
    {
     "data": {
      "text/plain": [
       "16"
      ]
     },
     "execution_count": 87,
     "metadata": {},
     "output_type": "execute_result"
    }
   ],
   "source": [
    "area_quadrado(4)"
   ]
  },
  {
   "cell_type": "code",
   "execution_count": 88,
   "id": "83d99f18",
   "metadata": {},
   "outputs": [],
   "source": [
    "# exercicio 6\n",
    "def area_triangulo(base, altura):\n",
    "    area = (base * altura) / 2\n",
    "    return area"
   ]
  },
  {
   "cell_type": "code",
   "execution_count": 89,
   "id": "a4f9f378",
   "metadata": {},
   "outputs": [
    {
     "data": {
      "text/plain": [
       "21.0"
      ]
     },
     "execution_count": 89,
     "metadata": {},
     "output_type": "execute_result"
    }
   ],
   "source": [
    "area_triangulo(6, 7)"
   ]
  },
  {
   "cell_type": "code",
   "execution_count": 90,
   "id": "268df698",
   "metadata": {},
   "outputs": [
    {
     "data": {
      "text/plain": [
       "27.0"
      ]
     },
     "execution_count": 90,
     "metadata": {},
     "output_type": "execute_result"
    }
   ],
   "source": [
    "area_triangulo(6, 9)"
   ]
  },
  {
   "cell_type": "code",
   "execution_count": 92,
   "id": "47c55531",
   "metadata": {},
   "outputs": [
    {
     "name": "stdout",
     "output_type": "stream",
     "text": [
      "12.0\n",
      "21.0\n",
      "36.0\n"
     ]
    }
   ],
   "source": [
    "for base, altura in notas:\n",
    "    area = area_triangulo(base, altura)\n",
    "    print(area)"
   ]
  },
  {
   "cell_type": "code",
   "execution_count": 112,
   "id": "52a6e853",
   "metadata": {},
   "outputs": [],
   "source": [
    "# exer 7\n",
    "\n",
    "def pesquise(lista, valor):\n",
    "    for i, j in enumerate(lista):\n",
    "        if j == valor:\n",
    "            return j\n",
    "    return None"
   ]
  },
  {
   "cell_type": "code",
   "execution_count": 110,
   "id": "b7dbe363",
   "metadata": {},
   "outputs": [
    {
     "data": {
      "text/plain": [
       "NoneType"
      ]
     },
     "execution_count": 110,
     "metadata": {},
     "output_type": "execute_result"
    }
   ],
   "source": [
    "idades = [10, 15, 20, 25, 30]\n",
    "pesquise(idades, 1)"
   ]
  }
 ],
 "metadata": {
  "kernelspec": {
   "display_name": "Python 3",
   "language": "python",
   "name": "python3"
  },
  "language_info": {
   "codemirror_mode": {
    "name": "ipython",
    "version": 3
   },
   "file_extension": ".py",
   "mimetype": "text/x-python",
   "name": "python",
   "nbconvert_exporter": "python",
   "pygments_lexer": "ipython3",
   "version": "3.8.8"
  }
 },
 "nbformat": 4,
 "nbformat_minor": 5
}
