{
 "cells": [
  {
   "cell_type": "markdown",
   "id": "d961c257",
   "metadata": {},
   "source": [
    "# Aprofundando nas funções\n",
    "* Funções recursivas;\n",
    "* Doc-string;"
   ]
  },
  {
   "cell_type": "markdown",
   "id": "d7b00c60",
   "metadata": {},
   "source": [
    "## Funções recursivas\n",
    "---"
   ]
  },
  {
   "cell_type": "markdown",
   "id": "0b5a7dad",
   "metadata": {},
   "source": [
    "* **Fatorial**"
   ]
  },
  {
   "cell_type": "code",
   "execution_count": 1,
   "id": "810ad13e",
   "metadata": {},
   "outputs": [],
   "source": [
    "def fatorial(n):\n",
    "    fat = 1\n",
    "    while n > 1:\n",
    "        fat *= n\n",
    "        n -= 1\n",
    "    return fat"
   ]
  },
  {
   "cell_type": "code",
   "execution_count": 2,
   "id": "7fe18a5f",
   "metadata": {},
   "outputs": [
    {
     "data": {
      "text/plain": [
       "6"
      ]
     },
     "execution_count": 2,
     "metadata": {},
     "output_type": "execute_result"
    }
   ],
   "source": [
    "fatorial(3)"
   ]
  },
  {
   "cell_type": "code",
   "execution_count": 3,
   "id": "b255d0a7",
   "metadata": {},
   "outputs": [],
   "source": [
    "def novo_fatorial(n):\n",
    "    if n == 0 or n == 1:\n",
    "        return 1\n",
    "    else:\n",
    "        return n * novo_fatorial(n-1)"
   ]
  },
  {
   "cell_type": "code",
   "execution_count": 4,
   "id": "e7bad170",
   "metadata": {},
   "outputs": [
    {
     "data": {
      "text/plain": [
       "6"
      ]
     },
     "execution_count": 4,
     "metadata": {},
     "output_type": "execute_result"
    }
   ],
   "source": [
    "novo_fatorial(3)"
   ]
  },
  {
   "cell_type": "code",
   "execution_count": null,
   "id": "344c6fb3",
   "metadata": {},
   "outputs": [],
   "source": [
    "# return 3 * novo_fatorial(2) = 2 *  novo_fatorial(1) == 1\n",
    "# return 3 * 2 * 1"
   ]
  },
  {
   "cell_type": "markdown",
   "id": "1de6f677",
   "metadata": {},
   "source": [
    "## Doc-string\n",
    "---"
   ]
  },
  {
   "cell_type": "code",
   "execution_count": 8,
   "id": "e194ae17",
   "metadata": {},
   "outputs": [],
   "source": [
    "def soma(L):\n",
    "    '''\n",
    "    Essa função calcula a soma de um iterável\n",
    "    L -> iterável\n",
    "    '''\n",
    "    total = 0\n",
    "    for i in L:\n",
    "        total += i\n",
    "    return total\n",
    "\n",
    "def media(L):\n",
    "    '''Essa função calcula a média de um iterável'''\n",
    "    return soma(L)/len(L)"
   ]
  },
  {
   "cell_type": "code",
   "execution_count": 10,
   "id": "48dbd918",
   "metadata": {},
   "outputs": [
    {
     "data": {
      "text/plain": [
       "6.75"
      ]
     },
     "execution_count": 10,
     "metadata": {},
     "output_type": "execute_result"
    }
   ],
   "source": [
    "tupla = (4, 6, 8, 9)\n",
    "media(tupla)"
   ]
  }
 ],
 "metadata": {
  "kernelspec": {
   "display_name": "Python 3",
   "language": "python",
   "name": "python3"
  },
  "language_info": {
   "codemirror_mode": {
    "name": "ipython",
    "version": 3
   },
   "file_extension": ".py",
   "mimetype": "text/x-python",
   "name": "python",
   "nbconvert_exporter": "python",
   "pygments_lexer": "ipython3",
   "version": "3.8.8"
  }
 },
 "nbformat": 4,
 "nbformat_minor": 5
}
