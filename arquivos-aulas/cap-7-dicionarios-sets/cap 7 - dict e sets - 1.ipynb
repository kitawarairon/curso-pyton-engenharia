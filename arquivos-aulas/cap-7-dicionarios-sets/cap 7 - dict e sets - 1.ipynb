{
 "cells": [
  {
   "cell_type": "markdown",
   "id": "7f4b4ba7",
   "metadata": {},
   "source": [
    "# Dicionários\n",
    "---\n",
    "\n",
    "* O que são dicionários ?\n",
    "* Primeiro dicionário\n",
    "* Operações com dicionários"
   ]
  },
  {
   "cell_type": "markdown",
   "id": "39cc7bf1",
   "metadata": {},
   "source": [
    "## O que são dicionários\n",
    "---\n",
    "\n",
    "Dicionários consistem em uma estrutura de dados similar às listas, mas com propriedades de acesso diferentes. Um dicionário é composto de um conjunto de chaves e valores, em resumo, o dicionário relaciona uma chave com um valor.\n",
    "\n",
    "**OBS:**\n",
    "**São mutáveis**.\n",
    "\n",
    "$key = value$"
   ]
  },
  {
   "attachments": {
    "image.png": {
     "image/png": "[encoded data removed]"
    }
   },
   "cell_type": "markdown",
   "id": "630920f7",
   "metadata": {},
   "source": [
    "## Primeiro dicionário\n",
    "---\n",
    "```python\n",
    "# uma forma de criar dicionário\n",
    "primeiro_dicionario = {'chave1':'valor1', 'chave2':56, ...} # o dicionário é representado por chaves e uma coleção de chaves e valores\n",
    "```\n",
    "\n",
    "* Crie um dicionário referete a tabela abaixo:\n",
    "\n",
    "![image.png](attachment:image.png)"
   ]
  },
  {
   "cell_type": "code",
   "execution_count": 7,
   "id": "772d77e1",
   "metadata": {},
   "outputs": [
    {
     "data": {
      "text/plain": [
       "{'chave1': 'valor1', 'chave2': 56}"
      ]
     },
     "execution_count": 7,
     "metadata": {},
     "output_type": "execute_result"
    }
   ],
   "source": [
    "primeiro_dicionario = {\n",
    "    'chave1':'valor1',\n",
    "    'chave2':56\n",
    "}\n",
    "primeiro_dicionario"
   ]
  },
  {
   "cell_type": "code",
   "execution_count": 22,
   "id": "bc73dcbb",
   "metadata": {},
   "outputs": [
    {
     "data": {
      "text/plain": [
       "{'alface': 0.45, 'batata': 1.2, 'tomate': 2.3, 'feijao': 1.5}"
      ]
     },
     "execution_count": 22,
     "metadata": {},
     "output_type": "execute_result"
    }
   ],
   "source": [
    "tabela = {\n",
    "    'alface':0.45, # criando o primeiro elemento\n",
    "    'batata':1.2,\n",
    "    'tomate':2.3,\n",
    "    'feijao':1.5\n",
    "  \n",
    "}\n",
    "tabela"
   ]
  },
  {
   "cell_type": "markdown",
   "id": "a8269e2e",
   "metadata": {},
   "source": [
    "## Operações com dicionários\n",
    "---"
   ]
  },
  {
   "cell_type": "code",
   "execution_count": 19,
   "id": "de8e99c7",
   "metadata": {},
   "outputs": [
    {
     "data": {
      "text/plain": [
       "{1: 0.45, 'batata': 1.2, 'tomate': 2.3, 'feijao': 1.5}"
      ]
     },
     "execution_count": 19,
     "metadata": {},
     "output_type": "execute_result"
    }
   ],
   "source": [
    "tabela"
   ]
  },
  {
   "cell_type": "code",
   "execution_count": 24,
   "id": "6e1f9bc2",
   "metadata": {},
   "outputs": [
    {
     "data": {
      "text/plain": [
       "2.3"
      ]
     },
     "execution_count": 24,
     "metadata": {},
     "output_type": "execute_result"
    }
   ],
   "source": [
    "tabela['tomate']"
   ]
  },
  {
   "cell_type": "code",
   "execution_count": 25,
   "id": "b3741282",
   "metadata": {},
   "outputs": [
    {
     "data": {
      "text/plain": [
       "1.5"
      ]
     },
     "execution_count": 25,
     "metadata": {},
     "output_type": "execute_result"
    }
   ],
   "source": [
    "tabela['feijao']"
   ]
  },
  {
   "cell_type": "code",
   "execution_count": 27,
   "id": "2c99834a",
   "metadata": {},
   "outputs": [],
   "source": [
    "# vamos adicionar um outro produta a essa tabela\n",
    "\n",
    "tabela['banana'] = 3.0"
   ]
  },
  {
   "cell_type": "code",
   "execution_count": 28,
   "id": "013a7d1a",
   "metadata": {},
   "outputs": [
    {
     "data": {
      "text/plain": [
       "{'alface': 0.45, 'batata': 1.2, 'tomate': 2.3, 'feijao': 1.5, 'banana': 3.0}"
      ]
     },
     "execution_count": 28,
     "metadata": {},
     "output_type": "execute_result"
    }
   ],
   "source": [
    "tabela"
   ]
  },
  {
   "cell_type": "code",
   "execution_count": 29,
   "id": "4923c3b1",
   "metadata": {},
   "outputs": [],
   "source": [
    "tabela['macarrao'] = 6"
   ]
  },
  {
   "cell_type": "code",
   "execution_count": 30,
   "id": "cd0bdad0",
   "metadata": {},
   "outputs": [
    {
     "data": {
      "text/plain": [
       "{'alface': 0.45,\n",
       " 'batata': 1.2,\n",
       " 'tomate': 2.3,\n",
       " 'feijao': 1.5,\n",
       " 'banana': 3.0,\n",
       " 'macarrao': 6}"
      ]
     },
     "execution_count": 30,
     "metadata": {},
     "output_type": "execute_result"
    }
   ],
   "source": [
    "tabela"
   ]
  },
  {
   "cell_type": "code",
   "execution_count": 31,
   "id": "61a8f8ff",
   "metadata": {},
   "outputs": [
    {
     "name": "stdout",
     "output_type": "stream",
     "text": [
      "<class 'float'> <class 'int'>\n"
     ]
    }
   ],
   "source": [
    "print(type(tabela['banana']), type(tabela['macarrao']))"
   ]
  },
  {
   "cell_type": "code",
   "execution_count": 32,
   "id": "5d8e9695",
   "metadata": {},
   "outputs": [
    {
     "data": {
      "text/plain": [
       "{'alface': 0.45,\n",
       " 'batata': 1.2,\n",
       " 'tomate': 2.3,\n",
       " 'feijao': 1.5,\n",
       " 'banana': 3.0,\n",
       " 'macarrao': 6}"
      ]
     },
     "execution_count": 32,
     "metadata": {},
     "output_type": "execute_result"
    }
   ],
   "source": [
    "tabela"
   ]
  },
  {
   "cell_type": "code",
   "execution_count": 33,
   "id": "4beed69a",
   "metadata": {},
   "outputs": [],
   "source": [
    "tabela['batata'] = 1.5"
   ]
  },
  {
   "cell_type": "code",
   "execution_count": 34,
   "id": "3fcbb8c0",
   "metadata": {},
   "outputs": [
    {
     "data": {
      "text/plain": [
       "{'alface': 0.45,\n",
       " 'batata': 1.5,\n",
       " 'tomate': 2.3,\n",
       " 'feijao': 1.5,\n",
       " 'banana': 3.0,\n",
       " 'macarrao': 6}"
      ]
     },
     "execution_count": 34,
     "metadata": {},
     "output_type": "execute_result"
    }
   ],
   "source": [
    "tabela"
   ]
  },
  {
   "cell_type": "code",
   "execution_count": 35,
   "id": "8f23e7b2",
   "metadata": {},
   "outputs": [
    {
     "data": {
      "text/plain": [
       "True"
      ]
     },
     "execution_count": 35,
     "metadata": {},
     "output_type": "execute_result"
    }
   ],
   "source": [
    "'tomate' in tabela"
   ]
  },
  {
   "cell_type": "code",
   "execution_count": 36,
   "id": "7d6f27f9",
   "metadata": {},
   "outputs": [
    {
     "data": {
      "text/plain": [
       "False"
      ]
     },
     "execution_count": 36,
     "metadata": {},
     "output_type": "execute_result"
    }
   ],
   "source": [
    "'feijao_preto' in tabela"
   ]
  },
  {
   "cell_type": "code",
   "execution_count": 40,
   "id": "523b5fbb",
   "metadata": {},
   "outputs": [
    {
     "data": {
      "text/plain": [
       "['alface', 'batata', 'tomate', 'feijao', 'banana', 'macarrao']"
      ]
     },
     "execution_count": 40,
     "metadata": {},
     "output_type": "execute_result"
    }
   ],
   "source": [
    "list(tabela.keys())"
   ]
  },
  {
   "cell_type": "code",
   "execution_count": 42,
   "id": "565a699f",
   "metadata": {},
   "outputs": [
    {
     "data": {
      "text/plain": [
       "(0.45, 1.5, 2.3, 1.5, 3.0, 6)"
      ]
     },
     "execution_count": 42,
     "metadata": {},
     "output_type": "execute_result"
    }
   ],
   "source": [
    "tuple(tabela.values())"
   ]
  }
 ],
 "metadata": {
  "kernelspec": {
   "display_name": "Python 3",
   "language": "python",
   "name": "python3"
  },
  "language_info": {
   "codemirror_mode": {
    "name": "ipython",
    "version": 3
   },
   "file_extension": ".py",
   "mimetype": "text/x-python",
   "name": "python",
   "nbconvert_exporter": "python",
   "pygments_lexer": "ipython3",
   "version": "3.8.8"
  }
 },
 "nbformat": 4,
 "nbformat_minor": 5
}
