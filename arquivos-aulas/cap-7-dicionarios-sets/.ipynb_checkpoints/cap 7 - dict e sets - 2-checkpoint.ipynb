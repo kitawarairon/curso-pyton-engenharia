{
 "cells": [
  {
   "cell_type": "markdown",
   "id": "2c6f4535",
   "metadata": {},
   "source": [
    "# Um pouco mais de dicionários\n",
    "---\n",
    "\n",
    "* Algumas operações com dicionários;\n",
    "* Deletando as chaves;\n",
    "* Iterando sob um dicionário"
   ]
  },
  {
   "cell_type": "markdown",
   "id": "6efc9b76",
   "metadata": {},
   "source": [
    "## Algumas operações com dicionários\n",
    "---"
   ]
  },
  {
   "cell_type": "code",
   "execution_count": 14,
   "id": "ba5f9968",
   "metadata": {},
   "outputs": [
    {
     "data": {
      "text/plain": [
       "{'alface': 0.45, 'batata': 1.2, 'tomate': 2.3, 'feijao': 1.5}"
      ]
     },
     "execution_count": 14,
     "metadata": {},
     "output_type": "execute_result"
    }
   ],
   "source": [
    "tabela = {\n",
    "    'alface':0.45, # criando o primeiro elemento\n",
    "    'batata':1.2,\n",
    "    'tomate':2.3,\n",
    "    'feijao':1.5\n",
    "  \n",
    "}\n",
    "tabela"
   ]
  },
  {
   "cell_type": "code",
   "execution_count": 15,
   "id": "4544f777",
   "metadata": {},
   "outputs": [],
   "source": [
    "tabela['macarrao'] = 1.5\n",
    "tabela['salmao'] = 30\n",
    "tabela['carne'] = 15"
   ]
  },
  {
   "cell_type": "code",
   "execution_count": 4,
   "id": "8fec3681",
   "metadata": {},
   "outputs": [
    {
     "data": {
      "text/plain": [
       "{'alface': 0.45,\n",
       " 'batata': 1.2,\n",
       " 'tomate': 2.3,\n",
       " 'feijao': 1.5,\n",
       " 'macarrao': 1.5,\n",
       " 'salmao': 30,\n",
       " 'carne': 15}"
      ]
     },
     "execution_count": 4,
     "metadata": {},
     "output_type": "execute_result"
    }
   ],
   "source": [
    "tabela"
   ]
  },
  {
   "cell_type": "code",
   "execution_count": 5,
   "id": "a8e9b61c",
   "metadata": {},
   "outputs": [],
   "source": [
    "tabela['tomate'] = 2.5\n",
    "tabela['feijao'] = 1"
   ]
  },
  {
   "cell_type": "code",
   "execution_count": 6,
   "id": "d476aeb4",
   "metadata": {},
   "outputs": [
    {
     "data": {
      "text/plain": [
       "{'alface': 0.45,\n",
       " 'batata': 1.2,\n",
       " 'tomate': 2.5,\n",
       " 'feijao': 1,\n",
       " 'macarrao': 1.5,\n",
       " 'salmao': 30,\n",
       " 'carne': 15}"
      ]
     },
     "execution_count": 6,
     "metadata": {},
     "output_type": "execute_result"
    }
   ],
   "source": [
    "# está com os valores corretos\n",
    "tabela"
   ]
  },
  {
   "cell_type": "markdown",
   "id": "a147a8f9",
   "metadata": {},
   "source": [
    "## Deletando as chaves do dicionário\n",
    "---"
   ]
  },
  {
   "cell_type": "code",
   "execution_count": 13,
   "id": "bb820379",
   "metadata": {},
   "outputs": [
    {
     "data": {
      "text/plain": [
       "{'alface': 0.45, 'batata': 1.2, 'tomate': 2.5, 'macarrao': 1.5, 'carne': 15}"
      ]
     },
     "execution_count": 13,
     "metadata": {},
     "output_type": "execute_result"
    }
   ],
   "source": [
    "tabela"
   ]
  },
  {
   "cell_type": "code",
   "execution_count": 8,
   "id": "536ccf0c",
   "metadata": {},
   "outputs": [],
   "source": [
    "del tabela['salmao']"
   ]
  },
  {
   "cell_type": "code",
   "execution_count": 9,
   "id": "645537fd",
   "metadata": {},
   "outputs": [
    {
     "data": {
      "text/plain": [
       "{'alface': 0.45,\n",
       " 'batata': 1.2,\n",
       " 'tomate': 2.5,\n",
       " 'feijao': 1,\n",
       " 'macarrao': 1.5,\n",
       " 'carne': 15}"
      ]
     },
     "execution_count": 9,
     "metadata": {},
     "output_type": "execute_result"
    }
   ],
   "source": [
    "tabela"
   ]
  },
  {
   "cell_type": "code",
   "execution_count": 10,
   "id": "6fc5fd9b",
   "metadata": {},
   "outputs": [],
   "source": [
    "del tabela['feijao']"
   ]
  },
  {
   "cell_type": "code",
   "execution_count": 11,
   "id": "2d0d963a",
   "metadata": {},
   "outputs": [
    {
     "data": {
      "text/plain": [
       "{'alface': 0.45, 'batata': 1.2, 'tomate': 2.5, 'macarrao': 1.5, 'carne': 15}"
      ]
     },
     "execution_count": 11,
     "metadata": {},
     "output_type": "execute_result"
    }
   ],
   "source": [
    "tabela"
   ]
  },
  {
   "cell_type": "code",
   "execution_count": 12,
   "id": "ff86dad6",
   "metadata": {},
   "outputs": [
    {
     "ename": "KeyError",
     "evalue": "'feijao'",
     "output_type": "error",
     "traceback": [
      "\u001b[1;31m---------------------------------------------------------------------------\u001b[0m",
      "\u001b[1;31mKeyError\u001b[0m                                  Traceback (most recent call last)",
      "\u001b[1;32m<ipython-input-12-6e0eb40ef2a9>\u001b[0m in \u001b[0;36m<module>\u001b[1;34m\u001b[0m\n\u001b[1;32m----> 1\u001b[1;33m \u001b[1;32mdel\u001b[0m \u001b[0mtabela\u001b[0m\u001b[1;33m[\u001b[0m\u001b[1;34m'feijao'\u001b[0m\u001b[1;33m]\u001b[0m\u001b[1;33m\u001b[0m\u001b[1;33m\u001b[0m\u001b[0m\n\u001b[0m",
      "\u001b[1;31mKeyError\u001b[0m: 'feijao'"
     ]
    }
   ],
   "source": [
    "del tabela['feijao']"
   ]
  },
  {
   "cell_type": "markdown",
   "id": "846bed38",
   "metadata": {},
   "source": [
    "## Iterando sob um dicionário\n",
    "---"
   ]
  },
  {
   "cell_type": "code",
   "execution_count": 16,
   "id": "1e35496a",
   "metadata": {},
   "outputs": [
    {
     "data": {
      "text/plain": [
       "{'alface': 0.45,\n",
       " 'batata': 1.2,\n",
       " 'tomate': 2.3,\n",
       " 'feijao': 1.5,\n",
       " 'macarrao': 1.5,\n",
       " 'salmao': 30,\n",
       " 'carne': 15}"
      ]
     },
     "execution_count": 16,
     "metadata": {},
     "output_type": "execute_result"
    }
   ],
   "source": [
    "tabela"
   ]
  },
  {
   "cell_type": "code",
   "execution_count": 19,
   "id": "f86eb6b2",
   "metadata": {},
   "outputs": [
    {
     "name": "stdout",
     "output_type": "stream",
     "text": [
      "alface : 0.45\n",
      "batata : 1.2\n",
      "tomate : 2.3\n",
      "feijao : 1.5\n",
      "macarrao : 1.5\n",
      "salmao : 30\n",
      "carne : 15\n"
     ]
    }
   ],
   "source": [
    "for i in tabela:\n",
    "    print(i,':',tabela[i])"
   ]
  },
  {
   "cell_type": "code",
   "execution_count": 21,
   "id": "1a22c182",
   "metadata": {},
   "outputs": [
    {
     "name": "stdout",
     "output_type": "stream",
     "text": [
      "alface\n",
      "batata\n",
      "tomate\n",
      "feijao\n",
      "macarrao\n",
      "salmao\n",
      "carne\n"
     ]
    }
   ],
   "source": [
    "for x in tabela.keys():\n",
    "    print(x)"
   ]
  },
  {
   "cell_type": "code",
   "execution_count": 23,
   "id": "06210397",
   "metadata": {},
   "outputs": [
    {
     "name": "stdout",
     "output_type": "stream",
     "text": [
      "0.45 0\n",
      "1.2 1\n",
      "2.3 2\n",
      "1.5 3\n",
      "1.5 4\n",
      "30 5\n",
      "15 6\n"
     ]
    }
   ],
   "source": [
    "for j, x in enumerate(tabela.values()):\n",
    "    print(x, j)"
   ]
  },
  {
   "cell_type": "markdown",
   "id": "0091682d",
   "metadata": {},
   "source": [
    "* Deseja-se criar um sistema de verificação de preço no banco de dados do supermercado."
   ]
  },
  {
   "cell_type": "code",
   "execution_count": 24,
   "id": "0351bcd3",
   "metadata": {},
   "outputs": [
    {
     "data": {
      "text/plain": [
       "{'alface': 0.45,\n",
       " 'batata': 1.2,\n",
       " 'tomate': 2.3,\n",
       " 'feijao': 1.5,\n",
       " 'macarrao': 1.5,\n",
       " 'salmao': 30,\n",
       " 'carne': 15}"
      ]
     },
     "execution_count": 24,
     "metadata": {},
     "output_type": "execute_result"
    }
   ],
   "source": [
    "tabela"
   ]
  },
  {
   "cell_type": "code",
   "execution_count": 31,
   "id": "a7f93e61",
   "metadata": {},
   "outputs": [
    {
     "name": "stdout",
     "output_type": "stream",
     "text": [
      "Insira o nome do produto: (-1 para terminar)-1\n"
     ]
    }
   ],
   "source": [
    "while True:\n",
    "    produto = input('Insira o nome do produto: (-1 para terminar)').lower()\n",
    "    if produto == '-1':\n",
    "        break\n",
    "    if produto in tabela:\n",
    "        print(f'Preço {tabela[produto]}')\n",
    "    else:\n",
    "        print('Produto não encontrado!')\n",
    "        print(f'Os produtos disponíveis são: {list(tabela.keys())}')     "
   ]
  },
  {
   "cell_type": "code",
   "execution_count": 26,
   "id": "48551bef",
   "metadata": {},
   "outputs": [
    {
     "data": {
      "text/plain": [
       "True"
      ]
     },
     "execution_count": 26,
     "metadata": {},
     "output_type": "execute_result"
    }
   ],
   "source": [
    "'alface' in tabela"
   ]
  },
  {
   "cell_type": "code",
   "execution_count": 27,
   "id": "cdf13bdb",
   "metadata": {},
   "outputs": [
    {
     "data": {
      "text/plain": [
       "False"
      ]
     },
     "execution_count": 27,
     "metadata": {},
     "output_type": "execute_result"
    }
   ],
   "source": [
    "'banana' in tabela"
   ]
  }
 ],
 "metadata": {
  "kernelspec": {
   "display_name": "Python 3",
   "language": "python",
   "name": "python3"
  },
  "language_info": {
   "codemirror_mode": {
    "name": "ipython",
    "version": 3
   },
   "file_extension": ".py",
   "mimetype": "text/x-python",
   "name": "python",
   "nbconvert_exporter": "python",
   "pygments_lexer": "ipython3",
   "version": "3.8.8"
  }
 },
 "nbformat": 4,
 "nbformat_minor": 5
}
