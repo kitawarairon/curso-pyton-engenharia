{
 "cells": [
  {
   "cell_type": "markdown",
   "id": "acb6b8c9",
   "metadata": {},
   "source": [
    "# Dicionários - aula 3\n",
    "---\n",
    "* Exercitando\n",
    "* Novas formas de criar dicionários e inserir elementos;\n",
    "* Alguns métodos de dicionários;\n",
    "* Dicionários com listas.\n",
    "* Exemplo\n"
   ]
  },
  {
   "cell_type": "markdown",
   "id": "4aadce3f",
   "metadata": {},
   "source": [
    "## Exercitando\n",
    "---\n",
    "\n",
    "**Exemplo 1**"
   ]
  },
  {
   "cell_type": "code",
   "execution_count": 1,
   "id": "2058aca7",
   "metadata": {},
   "outputs": [],
   "source": [
    "mais_vendidos = {'tecnologia': 'iphone', 'refrigeracao': 'ar consul 12000 btu', 'livros': 'o alquimista', 'eletrodoméstico': 'geladeira', 'lazer': 'prancha surf'}\n",
    "\n",
    "vendas_tecnologia = {'iphone': 15000, 'samsung galaxy': 12000, 'tv samsung': 10000, 'ps5': 14300, 'tablet': 1720, 'ipad': 1000, 'tv philco': 2500, 'notebook hp': 1000, 'notebook dell': 17000, 'notebook asus': 2450}\n"
   ]
  },
  {
   "cell_type": "code",
   "execution_count": 2,
   "id": "a226c815",
   "metadata": {},
   "outputs": [
    {
     "data": {
      "text/plain": [
       "{'tecnologia': 'iphone',\n",
       " 'refrigeracao': 'ar consul 12000 btu',\n",
       " 'livros': 'o alquimista',\n",
       " 'eletrodoméstico': 'geladeira',\n",
       " 'lazer': 'prancha surf'}"
      ]
     },
     "execution_count": 2,
     "metadata": {},
     "output_type": "execute_result"
    }
   ],
   "source": [
    "mais_vendidos"
   ]
  },
  {
   "cell_type": "code",
   "execution_count": 3,
   "id": "37cc534b",
   "metadata": {},
   "outputs": [
    {
     "data": {
      "text/plain": [
       "{'iphone': 15000,\n",
       " 'samsung galaxy': 12000,\n",
       " 'tv samsung': 10000,\n",
       " 'ps5': 14300,\n",
       " 'tablet': 1720,\n",
       " 'ipad': 1000,\n",
       " 'tv philco': 2500,\n",
       " 'notebook hp': 1000,\n",
       " 'notebook dell': 17000,\n",
       " 'notebook asus': 2450}"
      ]
     },
     "execution_count": 3,
     "metadata": {},
     "output_type": "execute_result"
    }
   ],
   "source": [
    "vendas_tecnologia"
   ]
  },
  {
   "cell_type": "markdown",
   "id": "12b8da01",
   "metadata": {},
   "source": [
    "* Qual foi o item mais vendido nas categorias livros e lazer ?"
   ]
  },
  {
   "cell_type": "code",
   "execution_count": 4,
   "id": "2f2d52d4",
   "metadata": {},
   "outputs": [
    {
     "name": "stdout",
     "output_type": "stream",
     "text": [
      "O livro mais vendido foi o alquimista\n"
     ]
    }
   ],
   "source": [
    "print('O livro mais vendido foi', mais_vendidos['livros'])"
   ]
  },
  {
   "cell_type": "code",
   "execution_count": 5,
   "id": "58462557",
   "metadata": {},
   "outputs": [
    {
     "name": "stdout",
     "output_type": "stream",
     "text": [
      "Na categoria lazer o item mais vendido foi prancha surf\n"
     ]
    }
   ],
   "source": [
    "print('Na categoria lazer o item mais vendido foi', mais_vendidos['lazer'])"
   ]
  },
  {
   "cell_type": "markdown",
   "id": "f7f34116",
   "metadata": {},
   "source": [
    "* Quanto foi vendido de notebook asus e ipad?"
   ]
  },
  {
   "cell_type": "code",
   "execution_count": 6,
   "id": "339250d5",
   "metadata": {},
   "outputs": [
    {
     "name": "stdout",
     "output_type": "stream",
     "text": [
      "O notebook asus vendeu: 2450 \n",
      "O ipad vendeu: 1000\n"
     ]
    }
   ],
   "source": [
    "print('O notebook asus vendeu:', vendas_tecnologia['notebook asus'],'\\nO ipad vendeu:', vendas_tecnologia['ipad'])"
   ]
  },
  {
   "cell_type": "markdown",
   "id": "e89323ed",
   "metadata": {},
   "source": [
    "**Exemplo 2**"
   ]
  },
  {
   "cell_type": "code",
   "execution_count": 7,
   "id": "bf07dadf",
   "metadata": {},
   "outputs": [
    {
     "data": {
      "text/plain": [
       "{'iphone': 15000,\n",
       " 'samsung galaxy': 12000,\n",
       " 'tv samsung': 10000,\n",
       " 'ps5': 14300,\n",
       " 'tablet': 1720,\n",
       " 'ipad': 1000,\n",
       " 'tv philco': 2500,\n",
       " 'notebook hp': 1000,\n",
       " 'notebook dell': 17000,\n",
       " 'notebook asus': 2450}"
      ]
     },
     "execution_count": 7,
     "metadata": {},
     "output_type": "execute_result"
    }
   ],
   "source": [
    "vendas_tecnologia"
   ]
  },
  {
   "cell_type": "markdown",
   "id": "f605235f",
   "metadata": {},
   "source": [
    "* A equipe de vendas necessita saber quais aparelhos de tecnologia venderam acima de 5000."
   ]
  },
  {
   "cell_type": "code",
   "execution_count": 8,
   "id": "a023de72",
   "metadata": {},
   "outputs": [
    {
     "name": "stdout",
     "output_type": "stream",
     "text": [
      "['iphone', 'samsung galaxy', 'tv samsung', 'ps5', 'notebook dell']\n"
     ]
    }
   ],
   "source": [
    "acima_de_5000 = []\n",
    "\n",
    "for tecnologia in vendas_tecnologia:\n",
    "    if vendas_tecnologia.get(tecnologia) > 5000:\n",
    "        acima_de_5000.append(tecnologia)\n",
    "print(acima_de_5000)"
   ]
  },
  {
   "cell_type": "code",
   "execution_count": 9,
   "id": "ecc3f440",
   "metadata": {},
   "outputs": [
    {
     "data": {
      "text/plain": [
       "5"
      ]
     },
     "execution_count": 9,
     "metadata": {},
     "output_type": "execute_result"
    }
   ],
   "source": [
    "len(acima_de_5000)"
   ]
  },
  {
   "cell_type": "code",
   "execution_count": 10,
   "id": "e9eef815",
   "metadata": {},
   "outputs": [
    {
     "data": {
      "text/plain": [
       "10"
      ]
     },
     "execution_count": 10,
     "metadata": {},
     "output_type": "execute_result"
    }
   ],
   "source": [
    "len(vendas_tecnologia)"
   ]
  },
  {
   "cell_type": "code",
   "execution_count": 11,
   "id": "f0922490",
   "metadata": {},
   "outputs": [],
   "source": [
    "nome = {\n",
    "    0:'1545',\n",
    "    1:'454548',\n",
    "}"
   ]
  },
  {
   "cell_type": "code",
   "execution_count": 12,
   "id": "078c11e1",
   "metadata": {},
   "outputs": [
    {
     "data": {
      "text/plain": [
       "{0: '1545', 1: '454548'}"
      ]
     },
     "execution_count": 12,
     "metadata": {},
     "output_type": "execute_result"
    }
   ],
   "source": [
    "nome"
   ]
  },
  {
   "cell_type": "code",
   "execution_count": 13,
   "id": "057143bd",
   "metadata": {},
   "outputs": [],
   "source": [
    "my_dict = dict()"
   ]
  },
  {
   "cell_type": "code",
   "execution_count": 14,
   "id": "e72e4fea",
   "metadata": {},
   "outputs": [
    {
     "data": {
      "text/plain": [
       "{}"
      ]
     },
     "execution_count": 14,
     "metadata": {},
     "output_type": "execute_result"
    }
   ],
   "source": [
    "my_dict"
   ]
  },
  {
   "cell_type": "markdown",
   "id": "e6b6c1cc",
   "metadata": {},
   "source": [
    "## Novas formas de criar dicionários e inserir elementos \n",
    "---\n",
    "\n",
    "A [documentação](https://docs.python.org/pt-br/3/library/stdtypes.html#typesmapping) ajuda bastante nesta parte..."
   ]
  },
  {
   "cell_type": "markdown",
   "id": "283d0288",
   "metadata": {},
   "source": [
    "**Criação de dicionários**\n",
    "* Pelo construtor `dict`"
   ]
  },
  {
   "cell_type": "code",
   "execution_count": 16,
   "id": "7a26a145",
   "metadata": {},
   "outputs": [
    {
     "data": {
      "text/plain": [
       "{'pedro': 25, 'joao': 36}"
      ]
     },
     "execution_count": 16,
     "metadata": {},
     "output_type": "execute_result"
    }
   ],
   "source": [
    "my_dict = dict(pedro=25, joao=36)\n",
    "my_dict"
   ]
  },
  {
   "cell_type": "code",
   "execution_count": 15,
   "id": "33445027",
   "metadata": {},
   "outputs": [
    {
     "ename": "NameError",
     "evalue": "name 'homem' is not defined",
     "output_type": "error",
     "traceback": [
      "\u001b[1;31m---------------------------------------------------------------------------\u001b[0m",
      "\u001b[1;31mNameError\u001b[0m                                 Traceback (most recent call last)",
      "\u001b[1;32m<ipython-input-15-9d9c7d66ae65>\u001b[0m in \u001b[0;36m<module>\u001b[1;34m\u001b[0m\n\u001b[1;32m----> 1\u001b[1;33m \u001b[0mmy_dict\u001b[0m \u001b[1;33m=\u001b[0m \u001b[0mdict\u001b[0m\u001b[1;33m(\u001b[0m\u001b[0mpedro\u001b[0m\u001b[1;33m=\u001b[0m\u001b[0mhomem\u001b[0m\u001b[1;33m,\u001b[0m \u001b[0mjoao\u001b[0m\u001b[1;33m=\u001b[0m\u001b[1;36m36\u001b[0m\u001b[1;33m)\u001b[0m\u001b[1;33m\u001b[0m\u001b[1;33m\u001b[0m\u001b[0m\n\u001b[0m\u001b[0;32m      2\u001b[0m \u001b[0mmy_dict\u001b[0m\u001b[1;33m\u001b[0m\u001b[1;33m\u001b[0m\u001b[0m\n",
      "\u001b[1;31mNameError\u001b[0m: name 'homem' is not defined"
     ]
    }
   ],
   "source": [
    "my_dict = dict(pedro=homem, joao=36)\n",
    "my_dict"
   ]
  },
  {
   "cell_type": "code",
   "execution_count": 60,
   "id": "50e72271",
   "metadata": {},
   "outputs": [
    {
     "data": {
      "text/plain": [
       "'homem'"
      ]
     },
     "execution_count": 60,
     "metadata": {},
     "output_type": "execute_result"
    }
   ],
   "source": [
    "homem"
   ]
  },
  {
   "cell_type": "code",
   "execution_count": 17,
   "id": "9c110c50",
   "metadata": {},
   "outputs": [
    {
     "data": {
      "text/plain": [
       "{'pedro': 'homem', 'joao': 36}"
      ]
     },
     "execution_count": 17,
     "metadata": {},
     "output_type": "execute_result"
    }
   ],
   "source": [
    "my_dict = dict(pedro='homem', joao=36)\n",
    "my_dict"
   ]
  },
  {
   "cell_type": "code",
   "execution_count": 19,
   "id": "b85d307c",
   "metadata": {},
   "outputs": [
    {
     "data": {
      "text/plain": [
       "{'pedro': 25, 'joao': 36}"
      ]
     },
     "execution_count": 19,
     "metadata": {},
     "output_type": "execute_result"
    }
   ],
   "source": [
    "my_dict = dict(pedro=25, joao=36)\n",
    "my_dict"
   ]
  },
  {
   "cell_type": "code",
   "execution_count": 20,
   "id": "7f842265",
   "metadata": {},
   "outputs": [
    {
     "data": {
      "text/plain": [
       "{'pedro': 25, 'joao0': 36}"
      ]
     },
     "execution_count": 20,
     "metadata": {},
     "output_type": "execute_result"
    }
   ],
   "source": [
    "my_dict = {'pedro':25, 'joao0':36}\n",
    "my_dict"
   ]
  },
  {
   "cell_type": "markdown",
   "id": "3f2da19a",
   "metadata": {},
   "source": [
    "* Lista/tupla de pares"
   ]
  },
  {
   "cell_type": "code",
   "execution_count": 22,
   "id": "600076d8",
   "metadata": {},
   "outputs": [
    {
     "data": {
      "text/plain": [
       "[('juca', 1250), ('jana', 5600)]"
      ]
     },
     "execution_count": 22,
     "metadata": {},
     "output_type": "execute_result"
    }
   ],
   "source": [
    "funcionarios = [('juca', 1250), ('jana', 5600)]\n",
    "funcionarios"
   ]
  },
  {
   "cell_type": "code",
   "execution_count": 23,
   "id": "9e450a07",
   "metadata": {},
   "outputs": [
    {
     "data": {
      "text/plain": [
       "{'juca': 1250, 'jana': 5600}"
      ]
     },
     "execution_count": 23,
     "metadata": {},
     "output_type": "execute_result"
    }
   ],
   "source": [
    "dict(funcionarios)"
   ]
  },
  {
   "cell_type": "code",
   "execution_count": 25,
   "id": "5f2e95b7",
   "metadata": {},
   "outputs": [
    {
     "data": {
      "text/plain": [
       "(('juca', 1250), ('jana', 5600))"
      ]
     },
     "execution_count": 25,
     "metadata": {},
     "output_type": "execute_result"
    }
   ],
   "source": [
    "funcionarios = (('juca', 1250), ('jana', 5600))\n",
    "funcionarios"
   ]
  },
  {
   "cell_type": "code",
   "execution_count": 26,
   "id": "16ed7cf9",
   "metadata": {},
   "outputs": [
    {
     "data": {
      "text/plain": [
       "{'juca': 1250, 'jana': 5600}"
      ]
     },
     "execution_count": 26,
     "metadata": {},
     "output_type": "execute_result"
    }
   ],
   "source": [
    "dict(funcionarios)"
   ]
  },
  {
   "cell_type": "code",
   "execution_count": 27,
   "id": "b6d2637f",
   "metadata": {},
   "outputs": [
    {
     "data": {
      "text/plain": [
       "[['juca', 1250], ['jana', 5600]]"
      ]
     },
     "execution_count": 27,
     "metadata": {},
     "output_type": "execute_result"
    }
   ],
   "source": [
    "funcionarios = [['juca', 1250], ['jana', 5600]]\n",
    "funcionarios"
   ]
  },
  {
   "cell_type": "code",
   "execution_count": 28,
   "id": "eaf534bb",
   "metadata": {},
   "outputs": [
    {
     "data": {
      "text/plain": [
       "{'juca': 1250, 'jana': 5600}"
      ]
     },
     "execution_count": 28,
     "metadata": {},
     "output_type": "execute_result"
    }
   ],
   "source": [
    "dict(funcionarios)"
   ]
  },
  {
   "cell_type": "markdown",
   "id": "58262cd3",
   "metadata": {},
   "source": [
    "* `zip`"
   ]
  },
  {
   "cell_type": "code",
   "execution_count": 29,
   "id": "fda82746",
   "metadata": {},
   "outputs": [],
   "source": [
    "materias = ('mecanica do sólidos', 'topografia', 'isoestática', 'mecânica do fluidos')\n",
    "notas = [6, 7.5, 8, 3]"
   ]
  },
  {
   "cell_type": "code",
   "execution_count": 31,
   "id": "aa80a8af",
   "metadata": {},
   "outputs": [
    {
     "name": "stdout",
     "output_type": "stream",
     "text": [
      "('mecanica do sólidos', 6)\n",
      "('topografia', 7.5)\n",
      "('isoestática', 8)\n",
      "('mecânica do fluidos', 3)\n"
     ]
    }
   ],
   "source": [
    "for i in zip(materias, notas):\n",
    "    print(i)"
   ]
  },
  {
   "cell_type": "code",
   "execution_count": 32,
   "id": "5cfcd131",
   "metadata": {},
   "outputs": [],
   "source": [
    "materias = ['mecanica do sólidos', 'topografia', 'isoestática', 'mecânica do fluidos']\n",
    "notas = [6, 7.5, 8, 3]"
   ]
  },
  {
   "cell_type": "code",
   "execution_count": 33,
   "id": "ca90b5f0",
   "metadata": {},
   "outputs": [
    {
     "name": "stdout",
     "output_type": "stream",
     "text": [
      "('mecanica do sólidos', 6)\n",
      "('topografia', 7.5)\n",
      "('isoestática', 8)\n",
      "('mecânica do fluidos', 3)\n"
     ]
    }
   ],
   "source": [
    "for i in zip(materias, notas):\n",
    "    print(i)"
   ]
  },
  {
   "cell_type": "code",
   "execution_count": 34,
   "id": "345a70f2",
   "metadata": {},
   "outputs": [
    {
     "data": {
      "text/plain": [
       "{'mecanica do sólidos': 6,\n",
       " 'topografia': 7.5,\n",
       " 'isoestática': 8,\n",
       " 'mecânica do fluidos': 3}"
      ]
     },
     "execution_count": 34,
     "metadata": {},
     "output_type": "execute_result"
    }
   ],
   "source": [
    "dict(zip(materias, notas))"
   ]
  },
  {
   "cell_type": "code",
   "execution_count": 37,
   "id": "db1d2601",
   "metadata": {},
   "outputs": [
    {
     "data": {
      "text/plain": [
       "{6: 'mecanica do sólidos',\n",
       " 7.5: 'topografia',\n",
       " 8: 'isoestática',\n",
       " 3: 'mecânica do fluidos'}"
      ]
     },
     "execution_count": 37,
     "metadata": {},
     "output_type": "execute_result"
    }
   ],
   "source": [
    "notas = dict(zip(notas, materias))\n",
    "notas"
   ]
  },
  {
   "cell_type": "code",
   "execution_count": 38,
   "id": "e65b59e2",
   "metadata": {},
   "outputs": [
    {
     "data": {
      "text/plain": [
       "'mecanica do sólidos'"
      ]
     },
     "execution_count": 38,
     "metadata": {},
     "output_type": "execute_result"
    }
   ],
   "source": [
    "notas[6]"
   ]
  },
  {
   "cell_type": "markdown",
   "id": "ae13f807",
   "metadata": {},
   "source": [
    "**Inserção de elementos**"
   ]
  },
  {
   "cell_type": "code",
   "execution_count": 39,
   "id": "ecb95cce",
   "metadata": {
    "scrolled": true
   },
   "outputs": [
    {
     "data": {
      "text/plain": [
       "{'iphone': 15000,\n",
       " 'samsung galaxy': 12000,\n",
       " 'tv samsung': 10000,\n",
       " 'ps5': 14300,\n",
       " 'tablet': 1720,\n",
       " 'ipad': 1000,\n",
       " 'tv philco': 2500,\n",
       " 'notebook hp': 1000,\n",
       " 'notebook dell': 17000,\n",
       " 'notebook asus': 2450}"
      ]
     },
     "execution_count": 39,
     "metadata": {},
     "output_type": "execute_result"
    }
   ],
   "source": [
    "vendas_tecnologia"
   ]
  },
  {
   "cell_type": "markdown",
   "id": "1219efcb",
   "metadata": {},
   "source": [
    "* Inserção padrão"
   ]
  },
  {
   "cell_type": "code",
   "execution_count": 40,
   "id": "66e5a89b",
   "metadata": {},
   "outputs": [],
   "source": [
    "vendas_tecnologia['x box'] = 5600"
   ]
  },
  {
   "cell_type": "code",
   "execution_count": 41,
   "id": "9efc28cd",
   "metadata": {},
   "outputs": [
    {
     "data": {
      "text/plain": [
       "{'iphone': 15000,\n",
       " 'samsung galaxy': 12000,\n",
       " 'tv samsung': 10000,\n",
       " 'ps5': 14300,\n",
       " 'tablet': 1720,\n",
       " 'ipad': 1000,\n",
       " 'tv philco': 2500,\n",
       " 'notebook hp': 1000,\n",
       " 'notebook dell': 17000,\n",
       " 'notebook asus': 2450,\n",
       " 'x box': 5600}"
      ]
     },
     "execution_count": 41,
     "metadata": {},
     "output_type": "execute_result"
    }
   ],
   "source": [
    "vendas_tecnologia"
   ]
  },
  {
   "cell_type": "markdown",
   "id": "b913d659",
   "metadata": {},
   "source": [
    "* Inserção pelo método `update`"
   ]
  },
  {
   "cell_type": "code",
   "execution_count": 42,
   "id": "fa6032e3",
   "metadata": {},
   "outputs": [
    {
     "data": {
      "text/plain": [
       "{'iphone 10': 8000,\n",
       " 'samsung galaxy note S+': 6500,\n",
       " 'tv philco 43': 12500,\n",
       " 'ps7': 4000,\n",
       " 'tablet philips': 350}"
      ]
     },
     "execution_count": 42,
     "metadata": {},
     "output_type": "execute_result"
    }
   ],
   "source": [
    "# inserção pelo método update()\n",
    "# para utilizar este método, vamos precisar de outro dicionário, isto é, vamos adicionar um dicionário a outro dicionário.\n",
    "vendas_tecnologia_2 = {'iphone 10': 8000,\n",
    " 'samsung galaxy note S+': 6500,\n",
    " 'tv philco 43': 12500,\n",
    " 'ps7': 4000,\n",
    " 'tablet philips': 350,\n",
    "}\n",
    "\n",
    "vendas_tecnologia_2"
   ]
  },
  {
   "cell_type": "code",
   "execution_count": 43,
   "id": "ed07194c",
   "metadata": {},
   "outputs": [],
   "source": [
    "vendas_tecnologia.update(vendas_tecnologia_2)"
   ]
  },
  {
   "cell_type": "code",
   "execution_count": 44,
   "id": "edc64e32",
   "metadata": {},
   "outputs": [
    {
     "data": {
      "text/plain": [
       "{'iphone': 15000,\n",
       " 'samsung galaxy': 12000,\n",
       " 'tv samsung': 10000,\n",
       " 'ps5': 14300,\n",
       " 'tablet': 1720,\n",
       " 'ipad': 1000,\n",
       " 'tv philco': 2500,\n",
       " 'notebook hp': 1000,\n",
       " 'notebook dell': 17000,\n",
       " 'notebook asus': 2450,\n",
       " 'x box': 5600,\n",
       " 'iphone 10': 8000,\n",
       " 'samsung galaxy note S+': 6500,\n",
       " 'tv philco 43': 12500,\n",
       " 'ps7': 4000,\n",
       " 'tablet philips': 350}"
      ]
     },
     "execution_count": 44,
     "metadata": {},
     "output_type": "execute_result"
    }
   ],
   "source": [
    "vendas_tecnologia"
   ]
  },
  {
   "cell_type": "code",
   "execution_count": 45,
   "id": "b6cf78ba",
   "metadata": {},
   "outputs": [],
   "source": [
    "vendas_tecnologia.update({'ps8':2560})"
   ]
  },
  {
   "cell_type": "markdown",
   "id": "aca0b4c7",
   "metadata": {},
   "source": [
    "* Inserção for um loop\n",
    "\n",
    "Na empresa X-bay, a equipe de recursos humanos enviou os nomes dos funcionários e os valores dos respectivos salários e pediu para a equipe de desenvolvimento organizar os dados de uma forma que os nomes sejam seguros (invioláveis) e o salário não, pois este pode receber mudanças. Além disso, a equipe de rh precisa acessar os valores de forma simples.\n",
    "\n",
    "> funcionários : 'Nilo', 'Coutinho', 'Bruce', 'Maria', 'Downey'\n",
    "\n",
    "> salarios     : 1250, 5000, 2500, 3500, 2750"
   ]
  },
  {
   "cell_type": "code",
   "execution_count": 53,
   "id": "113201ee",
   "metadata": {},
   "outputs": [],
   "source": [
    "funcionarios = 'Nilo', 'Coutinho', 'Bruce', 'Maria', 'Downey'\n",
    "salarios =  [1250, 5000, 2500, 3500, 2750]"
   ]
  },
  {
   "cell_type": "code",
   "execution_count": 80,
   "id": "ca09cc7c",
   "metadata": {},
   "outputs": [],
   "source": [
    "folhas_de_pagamento = dict()\n",
    "\n",
    "for i, funcionario in enumerate(funcionarios):\n",
    "    folhas_de_pagamento[funcionario] = salarios[i]\n",
    "    "
   ]
  },
  {
   "cell_type": "code",
   "execution_count": 55,
   "id": "da1a5d37",
   "metadata": {},
   "outputs": [
    {
     "data": {
      "text/plain": [
       "{'Nilo': 1250, 'Coutinho': 5000, 'Bruce': 2500, 'Maria': 3500, 'Downey': 2750}"
      ]
     },
     "execution_count": 55,
     "metadata": {},
     "output_type": "execute_result"
    }
   ],
   "source": [
    "folhas_de_pagamento"
   ]
  },
  {
   "cell_type": "markdown",
   "id": "962a4085",
   "metadata": {},
   "source": [
    "* Criando uma forma de consultar!"
   ]
  },
  {
   "cell_type": "code",
   "execution_count": 59,
   "id": "422ba024",
   "metadata": {},
   "outputs": [
    {
     "name": "stdout",
     "output_type": "stream",
     "text": [
      "Insira o nome do funcionário: bruce\n",
      "O funcionário digitado inválido!\n"
     ]
    }
   ],
   "source": [
    "nome = input('Insira o nome do funcionário: ') # solução .capitalize()\n",
    "\n",
    "try:\n",
    "    folhas_de_pagamento[nome]\n",
    "except:\n",
    "    print('O funcionário digitado inválido!')"
   ]
  },
  {
   "cell_type": "code",
   "execution_count": 61,
   "id": "aa852ff8",
   "metadata": {},
   "outputs": [
    {
     "data": {
      "text/plain": [
       "{'Nilo': 1250, 'Coutinho': 5000, 'Bruce': 2500, 'Maria': 3500, 'Downey': 2750}"
      ]
     },
     "execution_count": 61,
     "metadata": {},
     "output_type": "execute_result"
    }
   ],
   "source": [
    "folhas_de_pagamento_1 = dict()\n",
    "\n",
    "for i, funcionario in enumerate(funcionarios):\n",
    "    folhas_de_pagamento_1.update({funcionario:salarios[i]})\n",
    "folhas_de_pagamento_1"
   ]
  },
  {
   "cell_type": "markdown",
   "id": "27af4f0a",
   "metadata": {},
   "source": [
    "## Métodos de dicionários\n",
    "---"
   ]
  },
  {
   "cell_type": "code",
   "execution_count": 147,
   "id": "3b24a2cf",
   "metadata": {},
   "outputs": [],
   "source": [
    "vendas_tecnologia = {\n",
    "     'iphone': 15000,\n",
    "     'samsung galaxy': 12000,\n",
    "     'tv samsung': 10000,\n",
    "     'ps5': 14300,\n",
    "     'tablet': 1720,\n",
    "     'ipad': 1000,\n",
    "     'tv philco': 2500,\n",
    "     'notebook hp': 1000,\n",
    "     'notebook dell': 17000,\n",
    "     'notebook asus': 2450,\n",
    "     'x box': 5600,\n",
    "     'iphone 10': 8000,\n",
    "     'samsung galaxy note S+': 6500,\n",
    "     'tv philco 43': 12500,\n",
    "     'ps7': 4000,\n",
    "     'tablet philips': 350\n",
    "}"
   ]
  },
  {
   "cell_type": "markdown",
   "id": "bb1f4df5",
   "metadata": {},
   "source": [
    "* items()"
   ]
  },
  {
   "cell_type": "code",
   "execution_count": 107,
   "id": "8baa9cc0",
   "metadata": {},
   "outputs": [
    {
     "name": "stdout",
     "output_type": "stream",
     "text": [
      "('iphone', 15000)\n",
      "('samsung galaxy', 12000)\n",
      "('tv samsung', 10000)\n",
      "('ps5', 14300)\n",
      "('tablet', 1720)\n",
      "('ipad', 1000)\n",
      "('tv philco', 2500)\n",
      "('notebook hp', 1000)\n",
      "('notebook dell', 17000)\n",
      "('notebook asus', 2450)\n",
      "('x box', 5600)\n",
      "('iphone 10', 8000)\n",
      "('samsung galaxy note S+', 6500)\n",
      "('tv philco 43', 12500)\n",
      "('ps7', 4000)\n",
      "('tablet philips', 350)\n"
     ]
    }
   ],
   "source": [
    "for i in vendas_tecnologia.items():\n",
    "    print(i)"
   ]
  },
  {
   "cell_type": "markdown",
   "id": "3cf3d9c4",
   "metadata": {},
   "source": [
    "* values()"
   ]
  },
  {
   "cell_type": "code",
   "execution_count": 111,
   "id": "c2cf2cee",
   "metadata": {},
   "outputs": [
    {
     "data": {
      "text/plain": [
       "[15000,\n",
       " 12000,\n",
       " 10000,\n",
       " 14300,\n",
       " 1720,\n",
       " 1000,\n",
       " 2500,\n",
       " 1000,\n",
       " 17000,\n",
       " 2450,\n",
       " 5600,\n",
       " 8000,\n",
       " 6500,\n",
       " 12500,\n",
       " 4000,\n",
       " 350]"
      ]
     },
     "execution_count": 111,
     "metadata": {},
     "output_type": "execute_result"
    }
   ],
   "source": [
    "lista_de_valores = list(vendas_tecnologia.values())\n",
    "lista_de_valores"
   ]
  },
  {
   "cell_type": "markdown",
   "id": "fbb27661",
   "metadata": {},
   "source": [
    "* keys()"
   ]
  },
  {
   "cell_type": "code",
   "execution_count": 112,
   "id": "5a1a3085",
   "metadata": {},
   "outputs": [
    {
     "data": {
      "text/plain": [
       "dict_keys(['iphone', 'samsung galaxy', 'tv samsung', 'ps5', 'tablet', 'ipad', 'tv philco', 'notebook hp', 'notebook dell', 'notebook asus', 'x box', 'iphone 10', 'samsung galaxy note S+', 'tv philco 43', 'ps7', 'tablet philips'])"
      ]
     },
     "execution_count": 112,
     "metadata": {},
     "output_type": "execute_result"
    }
   ],
   "source": [
    "vendas_tecnologia.keys()"
   ]
  },
  {
   "cell_type": "markdown",
   "id": "7bee4295",
   "metadata": {},
   "source": [
    "**`iter`**"
   ]
  },
  {
   "cell_type": "code",
   "execution_count": 119,
   "id": "ac256633",
   "metadata": {},
   "outputs": [
    {
     "name": "stdout",
     "output_type": "stream",
     "text": [
      "iphone\n",
      "samsung galaxy\n",
      "tv samsung\n",
      "ps5\n",
      "tablet\n",
      "ipad\n",
      "tv philco\n",
      "notebook hp\n",
      "notebook dell\n",
      "notebook asus\n",
      "x box\n",
      "iphone 10\n",
      "samsung galaxy note S+\n",
      "tv philco 43\n",
      "ps7\n",
      "tablet philips\n"
     ]
    }
   ],
   "source": [
    "for key in iter(vendas_tecnologia):\n",
    "    print(key)"
   ]
  },
  {
   "cell_type": "markdown",
   "id": "c8b6ce4c",
   "metadata": {},
   "source": [
    "* pop()"
   ]
  },
  {
   "cell_type": "code",
   "execution_count": 121,
   "id": "a46fa953",
   "metadata": {},
   "outputs": [
    {
     "data": {
      "text/plain": [
       "15000"
      ]
     },
     "execution_count": 121,
     "metadata": {},
     "output_type": "execute_result"
    }
   ],
   "source": [
    "valor_do_iphone = vendas_tecnologia.pop('iphone')\n",
    "valor_do_iphone"
   ]
  },
  {
   "cell_type": "code",
   "execution_count": 123,
   "id": "91211d3a",
   "metadata": {},
   "outputs": [
    {
     "data": {
      "text/plain": [
       "False"
      ]
     },
     "execution_count": 123,
     "metadata": {},
     "output_type": "execute_result"
    }
   ],
   "source": [
    "'iphone' in vendas_tecnologia"
   ]
  },
  {
   "cell_type": "markdown",
   "id": "735543b2",
   "metadata": {},
   "source": [
    "* get()"
   ]
  },
  {
   "cell_type": "code",
   "execution_count": 130,
   "id": "5a7635d7",
   "metadata": {},
   "outputs": [
    {
     "name": "stdout",
     "output_type": "stream",
     "text": [
      "Essa chave não está disponível!\n"
     ]
    }
   ],
   "source": [
    "key = 'aksdkasdkas'\n",
    "if vendas_tecnologia.get(key):\n",
    "    print(vendas_tecnologia.get(key))\n",
    "else:\n",
    "    print('Essa chave não está disponível!')\n",
    "    "
   ]
  },
  {
   "cell_type": "code",
   "execution_count": 133,
   "id": "07fbb5a1",
   "metadata": {},
   "outputs": [
    {
     "name": "stdout",
     "output_type": "stream",
     "text": [
      "None\n"
     ]
    }
   ],
   "source": [
    "# essa não é a melhor forma par a gente tratar esse retorno\n",
    "key = 'aksdkasdkas'\n",
    "try:\n",
    "    vendas_tecnologia.get(key)\n",
    "    print(vendas_tecnologia.get(key))\n",
    "except:\n",
    "    print('Essa chave não está disponível!')"
   ]
  },
  {
   "cell_type": "code",
   "execution_count": 141,
   "id": "30b9cdc4",
   "metadata": {},
   "outputs": [
    {
     "name": "stdout",
     "output_type": "stream",
     "text": [
      "Olá\n"
     ]
    }
   ],
   "source": [
    "if ():\n",
    "    print('Oi')\n",
    "else:\n",
    "    print('Olá')"
   ]
  },
  {
   "cell_type": "markdown",
   "id": "0aaf6a73",
   "metadata": {},
   "source": [
    "* clear()"
   ]
  },
  {
   "cell_type": "code",
   "execution_count": 148,
   "id": "c4f02b42",
   "metadata": {},
   "outputs": [
    {
     "data": {
      "text/plain": [
       "16"
      ]
     },
     "execution_count": 148,
     "metadata": {},
     "output_type": "execute_result"
    }
   ],
   "source": [
    "len(vendas_tecnologia)"
   ]
  },
  {
   "cell_type": "code",
   "execution_count": 149,
   "id": "d86457c6",
   "metadata": {},
   "outputs": [],
   "source": [
    "vendas_tecnologia.clear()"
   ]
  },
  {
   "cell_type": "code",
   "execution_count": 150,
   "id": "d1898f2c",
   "metadata": {},
   "outputs": [
    {
     "data": {
      "text/plain": [
       "0"
      ]
     },
     "execution_count": 150,
     "metadata": {},
     "output_type": "execute_result"
    }
   ],
   "source": [
    "len(vendas_tecnologia)"
   ]
  },
  {
   "cell_type": "markdown",
   "id": "71cabeba",
   "metadata": {},
   "source": [
    "## Dicionário com listas\n",
    "---"
   ]
  },
  {
   "cell_type": "code",
   "execution_count": 163,
   "id": "193f30fb",
   "metadata": {},
   "outputs": [],
   "source": [
    "funcionarios = {\n",
    "    'Pedro'  :[25, 1.70, True, 'Engenheiro Civil', 'Setor de desenvolvimento'],\n",
    "    'Beatriz':[23, 1.69, True, 'Graduanda de Medicina', 'Estudante'],\n",
    "    'Lázaro' :[24, 1.83, False, 'Engenheiro Eletricista', 'Projetos elétricos'],\n",
    "    'Bianca' :[23, 1.70, True, 'Sem profissão', 'Estudante'],\n",
    "    'Julia'  :[35, 1.89, False, 'Jogadora de Volei', 'Atleta'],\n",
    "    'Roberto':[65, 1.65, True, 'Dentista', 'Aposentado'],\n",
    "    'Flávio' :[23, 1.86, True, 'Enfermeiro', 'Hospital vila bela'],\n",
    "    'Carlos' :[25, 1.55, True, 'Ator', 'Atuando em novela'],\n",
    "}"
   ]
  },
  {
   "cell_type": "code",
   "execution_count": 154,
   "id": "6e774c12",
   "metadata": {},
   "outputs": [
    {
     "data": {
      "text/plain": [
       "{'Pedro': [25, 1.7, True, 'Engenheiro Civil', 'Setor de desenvolvimento'],\n",
       " 'Beatriz': [23, 1.69, True, 'Graduanda de Medicina', 'Estudante'],\n",
       " 'Lázaro': [24, 1.83, False, 'Engenheiro Eletricista', 'Projetos elétricos']}"
      ]
     },
     "execution_count": 154,
     "metadata": {},
     "output_type": "execute_result"
    }
   ],
   "source": [
    "funcionarios"
   ]
  },
  {
   "cell_type": "markdown",
   "id": "d5200164",
   "metadata": {},
   "source": [
    "* Brincando um pouco com esse dicionário"
   ]
  },
  {
   "cell_type": "code",
   "execution_count": 158,
   "id": "a898d51b",
   "metadata": {},
   "outputs": [
    {
     "data": {
      "text/plain": [
       "[25, 1.7, True, 'Engenheiro Civil', 'Setor de desenvolvimento']"
      ]
     },
     "execution_count": 158,
     "metadata": {},
     "output_type": "execute_result"
    }
   ],
   "source": [
    "funcionarios['Pedro']"
   ]
  },
  {
   "cell_type": "code",
   "execution_count": 159,
   "id": "9f1556b4",
   "metadata": {},
   "outputs": [
    {
     "data": {
      "text/plain": [
       "'Engenheiro Civil'"
      ]
     },
     "execution_count": 159,
     "metadata": {},
     "output_type": "execute_result"
    }
   ],
   "source": [
    "funcionarios['Pedro'][3]"
   ]
  },
  {
   "cell_type": "code",
   "execution_count": 160,
   "id": "1c7b2f1f",
   "metadata": {},
   "outputs": [
    {
     "data": {
      "text/plain": [
       "'Estudante'"
      ]
     },
     "execution_count": 160,
     "metadata": {},
     "output_type": "execute_result"
    }
   ],
   "source": [
    "funcionarios['Beatriz'][-1]"
   ]
  },
  {
   "cell_type": "code",
   "execution_count": 161,
   "id": "d0d8e70a",
   "metadata": {},
   "outputs": [
    {
     "data": {
      "text/plain": [
       "[1.83, False]"
      ]
     },
     "execution_count": 161,
     "metadata": {},
     "output_type": "execute_result"
    }
   ],
   "source": [
    "funcionarios['Lázaro'][1:3]"
   ]
  },
  {
   "cell_type": "code",
   "execution_count": null,
   "id": "92928bb0",
   "metadata": {},
   "outputs": [],
   "source": [
    "funcionarios = {\n",
    "    'Pedro'  :[25, 1.70, True, 'Engenheiro Civil', 'Setor de desenvolvimento'],\n",
    "    'Beatriz':[23, 1.69, True, 'Graduanda de Medicina', 'Estudante'],\n",
    "    'Lázaro' :[24, 1.83, False, 'Engenheiro Eletricista', 'Projetos elétricos'],\n",
    "    'Bianca' :[23, 1.70, True, 'Sem profissão', 'Estudante'],\n",
    "    'Julia'  :[35, 1.89, False, 'Jogadora de Volei', 'Atleta'],\n",
    "    'Roberto':[65, 1.65, True, 'Dentista', 'Aposentado'],\n",
    "    'Flávio' :[23, 1.86, True, 'Enfermeiro', 'Hospital vila bela'],\n",
    "    'Carlos' :[25, 1.55, True, 'Ator', 'Atuando em novela'],\n",
    "}"
   ]
  },
  {
   "cell_type": "markdown",
   "id": "094549c6",
   "metadata": {},
   "source": [
    "* A empresa deseja saber o percentual de funcionários que se vacinaram\n",
    "\n",
    "`True == 1`\n",
    "\n",
    "`False == 0`"
   ]
  },
  {
   "cell_type": "code",
   "execution_count": 169,
   "id": "b6e121fe",
   "metadata": {},
   "outputs": [
    {
     "name": "stdout",
     "output_type": "stream",
     "text": [
      "A porcentagem de vacinados foi de 75.00%\n"
     ]
    }
   ],
   "source": [
    "positivos = []\n",
    "\n",
    "for funcionario in funcionarios:\n",
    "    foi_vacinado = funcionarios[funcionario][2]\n",
    "    if foi_vacinado:\n",
    "        positivos.append(foi_vacinado)\n",
    "\n",
    "print(f'A porcentagem de vacinados foi de {sum(positivos) / len(funcionarios):.2%}')"
   ]
  }
 ],
 "metadata": {
  "kernelspec": {
   "display_name": "Python 3",
   "language": "python",
   "name": "python3"
  },
  "language_info": {
   "codemirror_mode": {
    "name": "ipython",
    "version": 3
   },
   "file_extension": ".py",
   "mimetype": "text/x-python",
   "name": "python",
   "nbconvert_exporter": "python",
   "pygments_lexer": "ipython3",
   "version": "3.8.8"
  }
 },
 "nbformat": 4,
 "nbformat_minor": 5
}
