{
 "cells": [
  {
   "cell_type": "markdown",
   "id": "5a33cca4",
   "metadata": {},
   "source": [
    "# Exemplos \n",
    "---\n",
    "* Vamos realizar alguns exercícios legais com dicionários."
   ]
  },
  {
   "cell_type": "markdown",
   "id": "5225046b",
   "metadata": {},
   "source": [
    "**<font color=\"red\"> Questão 1 </font>**\n",
    "\n",
    "---\n",
    "Digamos que você está construindo um programa para identificar níveis de $CO_{2}$ (gás carbônico) em determinados locais para evitar potenciais acidentes. Em cada um desses locais a sua empresa tem 5 sensores que captam o nível de $CO_2$ do local.\n",
    "\n",
    "Os níveis normais de CO2 são em média 350. O nível de CO2 de um local é dado pela média captada pelos 5 sensores.\n",
    "\n",
    "Caso o nível seja maior do que 450, as pessoas reponsáveis pelas fábricas devem ser avisadas.\n",
    "\n",
    "Os resultados dos sensores são monitorados frequentemente e são dados para o sistema em forma de dicionário:\n",
    "\n",
    "\n",
    "```python\n",
    "niveis_co2 = {\n",
    "    'AC': [325,405,429,486,402],\n",
    "    'AL': [492,495,310,407,388],\n",
    "    'AP': [507,503,368,338,400],\n",
    "    'AM': [429,456,352,377,363],\n",
    "    'BA': [321,508,372,490,412],\n",
    "    'CE': [424,328,425,516,480],\n",
    "    'ES': [449,506,461,337,336],\n",
    "    'GO': [425,460,385,485,460],\n",
    "    'MA': [361,310,344,425,490],\n",
    "    'MT': [358,402,425,386,379],\n",
    "    'MS': [324,357,441,405,427],\n",
    "    'MG': [345,367,391,427,516],\n",
    "    'PA': [479,514,392,493,329],\n",
    "    'PB': [418,499,317,302,476],\n",
    "    'PR': [420,508,419,396,327],\n",
    "    'PE': [404,444,495,320,343],\n",
    "    'PI': [513,513,304,377,475],\n",
    "    'RJ': [502,481,492,502,506],\n",
    "    'RN': [446,437,519,356,317],\n",
    "    'RS': [427,518,459,317,321],\n",
    "    'RO': [517,466,512,326,458],\n",
    "    'RR': [466,495,469,495,310],\n",
    "    'SC': [495,436,382,483,479],\n",
    "    'SP': [495,407,362,389,317],\n",
    "    'SE': [508,351,334,389,418],\n",
    "    'TO': [339,490,304,488,419],\n",
    "    'DF': [376,516,320,310,518], \n",
    "}\n",
    "```"
   ]
  },
  {
   "cell_type": "code",
   "execution_count": 2,
   "id": "64ce2734",
   "metadata": {},
   "outputs": [],
   "source": [
    "niveis_co2 = {\n",
    "    'AC': [325,405,429,486,402],\n",
    "    'AL': [492,495,310,407,388],\n",
    "    'AP': [507,503,368,338,400],\n",
    "    'AM': [429,456,352,377,363],\n",
    "    'BA': [321,508,372,490,412],\n",
    "    'CE': [424,328,425,516,480],\n",
    "    'ES': [449,506,461,337,336],\n",
    "    'GO': [425,460,385,485,460],\n",
    "    'MA': [361,310,344,425,490],\n",
    "    'MT': [358,402,425,386,379],\n",
    "    'MS': [324,357,441,405,427],\n",
    "    'MG': [345,367,391,427,516],\n",
    "    'PA': [479,514,392,493,329],\n",
    "    'PB': [418,499,317,302,476],\n",
    "    'PR': [420,508,419,396,327],\n",
    "    'PE': [404,444,495,320,343],\n",
    "    'PI': [513,513,304,377,475],\n",
    "    'RJ': [502,481,492,502,506],\n",
    "    'RN': [446,437,519,356,317],\n",
    "    'RS': [427,518,459,317,321],\n",
    "    'RO': [517,466,512,326,458],\n",
    "    'RR': [466,495,469,495,310],\n",
    "    'SC': [495,436,382,483,479],\n",
    "    'SP': [495,407,362,389,317],\n",
    "    'SE': [508,351,334,389,418],\n",
    "    'TO': [339,490,304,488,419],\n",
    "    'DF': [376,516,320,310,518], \n",
    "}"
   ]
  },
  {
   "cell_type": "code",
   "execution_count": 10,
   "id": "6eb43dc6",
   "metadata": {},
   "outputs": [
    {
     "name": "stdout",
     "output_type": "stream",
     "text": [
      "Os níveis de CO2 do RJ está em alerta!\n",
      "Os níveis de CO2 do RO está em alerta!\n",
      "Os níveis de CO2 do SC está em alerta!\n"
     ]
    }
   ],
   "source": [
    "\n",
    "for estado in niveis_co2:\n",
    "    media_estado = sum(niveis_co2[estado]) / len(niveis_co2[estado])\n",
    "    if media_estado > 450:\n",
    "        print(f'Os níveis de CO2 do {estado} está em alerta!')"
   ]
  },
  {
   "cell_type": "markdown",
   "id": "49194218",
   "metadata": {},
   "source": [
    "**<font color=\"red\"> Questão 2 </font>**\n",
    "\n",
    "---\n",
    "\n",
    "Neste dicionário retire os links que estão nele!\n",
    "\n",
    "```python\n",
    "a = {'uri': '/videos/465407533', 'name': '15 Atalhos no Excel para Ficar Mais Produtivo', 'download': [{'quality': 'source', 'type': 'source', 'width': 1920, 'height': 1080, 'expires': '2020-10-07T04:00:55+00:00', 'link': 'https://player.vimeo.com/play/2064518513?s=465407533_1602043255_5f2f93dd00b66eba66d481f913383b4f&loc=external&context=Vimeo%5CController%5CApi%5CResources%5CUser%5CVideosController.&download=1&filename=15%2BAtalhos%2Bno%2BExcel%2Bpara%2BFicar%2BMais%2BProdutivosource.mp4', 'created_time': '2020-10-06T14:26:17+00:00', 'fps': 30, 'size': 402678442, 'md5': 'af09508ceceed4994554f04e8b931e22', 'public_name': 'Original', 'size_short': '384.02MB'}, {'quality': 'hd', 'type': 'video/mp4', 'width': 1920, 'height': 1080, 'expires': '2020-10-07T04:00:55+00:00', 'link': 'https://player.vimeo.com/play/2064523157?s=465407533_1602043255_ab7b8353c59b5048032396ec5d95a276&loc=external&context=Vimeo%5CController%5CApi%5CResources%5CUser%5CVideosController.&download=1&filename=15%2BAtalhos%2Bno%2BExcel%2Bpara%2BFicar%2BMais%2BProdutivo175.mp4', 'created_time': '2020-10-06T14:29:06+00:00', 'fps': 30, 'size': 173556205, 'md5': '3c05e1e69bd6b13eb1464451033907d2', 'public_name': 'HD 1080p', 'size_short': '165.52MB'}, {'quality': 'sd', 'type': 'video/mp4', 'width': 960, 'height': 540, 'expires': '2020-10-07T04:00:55+00:00', 'link': 'https://player.vimeo.com/play/2064523153?s=465407533_1602043255_f5ac38009ec5c0a13b30600c631446a3&loc=external&context=Vimeo%5CController%5CApi%5CResources%5CUser%5CVideosController.&download=1&filename=15%2BAtalhos%2Bno%2BExcel%2Bpara%2BFicar%2BMais%2BProdutivo165.mp4', 'created_time': '2020-10-06T14:29:06+00:00', 'fps': 30, 'size': 89881848, 'md5': '4a5c5c96cdf18202ed20ca534fd88007', 'public_name': 'SD 540p', 'size_short': '85.72MB'}, {'quality': 'sd', 'type': 'video/mp4', 'width': 426, 'height': 240, 'expires': '2020-10-07T04:00:55+00:00', 'link': 'https://player.vimeo.com/play/2064522788?s=465407533_1602043255_16c69872e2c4e92cc949d0b772242959&loc=external&context=Vimeo%5CController%5CApi%5CResources%5CUser%5CVideosController.&download=1&filename=15%2BAtalhos%2Bno%2BExcel%2Bpara%2BFicar%2BMais%2BProdutivo139.mp4', 'created_time': '2020-10-06T14:28:31+00:00', 'fps': 30, 'size': 27401450, 'md5': '91cc0229087ec94bf67f64b01ad8768d', 'public_name': 'SD 240p', 'size_short': '26.13MB'}, {'quality': 'sd', 'type': 'video/mp4', 'width': 640, 'height': 360, 'expires': '2020-10-07T04:00:55+00:00', 'link': 'https://player.vimeo.com/play/2064522787?s=465407533_1602043255_310b087e2fc8c5e1154ce7a33d10d60e&loc=external&context=Vimeo%5CController%5CApi%5CResources%5CUser%5CVideosController.&download=1&filename=15%2BAtalhos%2Bno%2BExcel%2Bpara%2BFicar%2BMais%2BProdutivo164.mp4', 'created_time': '2020-10-06T14:28:31+00:00', 'fps': 30, 'size': 48627155, 'md5': '548640bf79ce1552a3401726bb0e4224', 'public_name': 'SD 360p', 'size_short': '46.37MB'}]}\n",
    "```"
   ]
  },
  {
   "cell_type": "code",
   "execution_count": 17,
   "id": "b04e0f57",
   "metadata": {},
   "outputs": [],
   "source": [
    "a = {'uri': '/videos/465407533', 'name': '15 Atalhos no Excel para Ficar Mais Produtivo', 'download': [{'quality': 'source', 'type': 'source', 'width': 1920, 'height': 1080, 'expires': '2020-10-07T04:00:55+00:00', 'link': 'https://player.vimeo.com/play/2064518513?s=465407533_1602043255_5f2f93dd00b66eba66d481f913383b4f&loc=external&context=Vimeo%5CController%5CApi%5CResources%5CUser%5CVideosController.&download=1&filename=15%2BAtalhos%2Bno%2BExcel%2Bpara%2BFicar%2BMais%2BProdutivosource.mp4', 'created_time': '2020-10-06T14:26:17+00:00', 'fps': 30, 'size': 402678442, 'md5': 'af09508ceceed4994554f04e8b931e22', 'public_name': 'Original', 'size_short': '384.02MB'}, {'quality': 'hd', 'type': 'video/mp4', 'width': 1920, 'height': 1080, 'expires': '2020-10-07T04:00:55+00:00', 'link': 'https://player.vimeo.com/play/2064523157?s=465407533_1602043255_ab7b8353c59b5048032396ec5d95a276&loc=external&context=Vimeo%5CController%5CApi%5CResources%5CUser%5CVideosController.&download=1&filename=15%2BAtalhos%2Bno%2BExcel%2Bpara%2BFicar%2BMais%2BProdutivo175.mp4', 'created_time': '2020-10-06T14:29:06+00:00', 'fps': 30, 'size': 173556205, 'md5': '3c05e1e69bd6b13eb1464451033907d2', 'public_name': 'HD 1080p', 'size_short': '165.52MB'}, {'quality': 'sd', 'type': 'video/mp4', 'width': 960, 'height': 540, 'expires': '2020-10-07T04:00:55+00:00', 'link': 'https://player.vimeo.com/play/2064523153?s=465407533_1602043255_f5ac38009ec5c0a13b30600c631446a3&loc=external&context=Vimeo%5CController%5CApi%5CResources%5CUser%5CVideosController.&download=1&filename=15%2BAtalhos%2Bno%2BExcel%2Bpara%2BFicar%2BMais%2BProdutivo165.mp4', 'created_time': '2020-10-06T14:29:06+00:00', 'fps': 30, 'size': 89881848, 'md5': '4a5c5c96cdf18202ed20ca534fd88007', 'public_name': 'SD 540p', 'size_short': '85.72MB'}, {'quality': 'sd', 'type': 'video/mp4', 'width': 426, 'height': 240, 'expires': '2020-10-07T04:00:55+00:00', 'link': 'https://player.vimeo.com/play/2064522788?s=465407533_1602043255_16c69872e2c4e92cc949d0b772242959&loc=external&context=Vimeo%5CController%5CApi%5CResources%5CUser%5CVideosController.&download=1&filename=15%2BAtalhos%2Bno%2BExcel%2Bpara%2BFicar%2BMais%2BProdutivo139.mp4', 'created_time': '2020-10-06T14:28:31+00:00', 'fps': 30, 'size': 27401450, 'md5': '91cc0229087ec94bf67f64b01ad8768d', 'public_name': 'SD 240p', 'size_short': '26.13MB'}, {'quality': 'sd', 'type': 'video/mp4', 'width': 640, 'height': 360, 'expires': '2020-10-07T04:00:55+00:00', 'link': 'https://player.vimeo.com/play/2064522787?s=465407533_1602043255_310b087e2fc8c5e1154ce7a33d10d60e&loc=external&context=Vimeo%5CController%5CApi%5CResources%5CUser%5CVideosController.&download=1&filename=15%2BAtalhos%2Bno%2BExcel%2Bpara%2BFicar%2BMais%2BProdutivo164.mp4', 'created_time': '2020-10-06T14:28:31+00:00', 'fps': 30, 'size': 48627155, 'md5': '548640bf79ce1552a3401726bb0e4224', 'public_name': 'SD 360p', 'size_short': '46.37MB'}]}"
   ]
  },
  {
   "cell_type": "code",
   "execution_count": 23,
   "id": "b52ba888",
   "metadata": {},
   "outputs": [
    {
     "name": "stdout",
     "output_type": "stream",
     "text": [
      "https://player.vimeo.com/play/2064518513?s=465407533_1602043255_5f2f93dd00b66eba66d481f913383b4f&loc=external&context=Vimeo%5CController%5CApi%5CResources%5CUser%5CVideosController.&download=1&filename=15%2BAtalhos%2Bno%2BExcel%2Bpara%2BFicar%2BMais%2BProdutivosource.mp4\n",
      "https://player.vimeo.com/play/2064523157?s=465407533_1602043255_ab7b8353c59b5048032396ec5d95a276&loc=external&context=Vimeo%5CController%5CApi%5CResources%5CUser%5CVideosController.&download=1&filename=15%2BAtalhos%2Bno%2BExcel%2Bpara%2BFicar%2BMais%2BProdutivo175.mp4\n",
      "https://player.vimeo.com/play/2064523153?s=465407533_1602043255_f5ac38009ec5c0a13b30600c631446a3&loc=external&context=Vimeo%5CController%5CApi%5CResources%5CUser%5CVideosController.&download=1&filename=15%2BAtalhos%2Bno%2BExcel%2Bpara%2BFicar%2BMais%2BProdutivo165.mp4\n",
      "https://player.vimeo.com/play/2064522788?s=465407533_1602043255_16c69872e2c4e92cc949d0b772242959&loc=external&context=Vimeo%5CController%5CApi%5CResources%5CUser%5CVideosController.&download=1&filename=15%2BAtalhos%2Bno%2BExcel%2Bpara%2BFicar%2BMais%2BProdutivo139.mp4\n",
      "https://player.vimeo.com/play/2064522787?s=465407533_1602043255_310b087e2fc8c5e1154ce7a33d10d60e&loc=external&context=Vimeo%5CController%5CApi%5CResources%5CUser%5CVideosController.&download=1&filename=15%2BAtalhos%2Bno%2BExcel%2Bpara%2BFicar%2BMais%2BProdutivo164.mp4\n"
     ]
    }
   ],
   "source": [
    "for i in a['download']:\n",
    "    print(i['link'])"
   ]
  },
  {
   "cell_type": "code",
   "execution_count": null,
   "id": "2934592b",
   "metadata": {},
   "outputs": [],
   "source": [
    "a = {'uri': '/videos/465407533', 'name': '15 Atalhos no Excel para Ficar Mais Produtivo', 'download': [{'quality': 'source', 'type': 'source', 'width': 1920, 'height': 1080, 'expires': '2020-10-07T04:00:55+00:00', 'link': 'https://player.vimeo.com/play/2064518513?s=465407533_1602043255_5f2f93dd00b66eba66d481f913383b4f&loc=external&context=Vimeo%5CController%5CApi%5CResources%5CUser%5CVideosController.&download=1&filename=15%2BAtalhos%2Bno%2BExcel%2Bpara%2BFicar%2BMais%2BProdutivosource.mp4', 'created_time': '2020-10-06T14:26:17+00:00', 'fps': 30, 'size': 402678442, 'md5': 'af09508ceceed4994554f04e8b931e22', 'public_name': 'Original', 'size_short': '384.02MB'}, {'quality': 'hd', 'type': 'video/mp4', 'width': 1920, 'height': 1080, 'expires': '2020-10-07T04:00:55+00:00', 'link': 'https://player.vimeo.com/play/2064523157?s=465407533_1602043255_ab7b8353c59b5048032396ec5d95a276&loc=external&context=Vimeo%5CController%5CApi%5CResources%5CUser%5CVideosController.&download=1&filename=15%2BAtalhos%2Bno%2BExcel%2Bpara%2BFicar%2BMais%2BProdutivo175.mp4', 'created_time': '2020-10-06T14:29:06+00:00', 'fps': 30, 'size': 173556205, 'md5': '3c05e1e69bd6b13eb1464451033907d2', 'public_name': 'HD 1080p', 'size_short': '165.52MB'}, {'quality': 'sd', 'type': 'video/mp4', 'width': 960, 'height': 540, 'expires': '2020-10-07T04:00:55+00:00', 'link': 'https://player.vimeo.com/play/2064523153?s=465407533_1602043255_f5ac38009ec5c0a13b30600c631446a3&loc=external&context=Vimeo%5CController%5CApi%5CResources%5CUser%5CVideosController.&download=1&filename=15%2BAtalhos%2Bno%2BExcel%2Bpara%2BFicar%2BMais%2BProdutivo165.mp4', 'created_time': '2020-10-06T14:29:06+00:00', 'fps': 30, 'size': 89881848, 'md5': '4a5c5c96cdf18202ed20ca534fd88007', 'public_name': 'SD 540p', 'size_short': '85.72MB'}, {'quality': 'sd', 'type': 'video/mp4', 'width': 426, 'height': 240, 'expires': '2020-10-07T04:00:55+00:00', 'link': 'https://player.vimeo.com/play/2064522788?s=465407533_1602043255_16c69872e2c4e92cc949d0b772242959&loc=external&context=Vimeo%5CController%5CApi%5CResources%5CUser%5CVideosController.&download=1&filename=15%2BAtalhos%2Bno%2BExcel%2Bpara%2BFicar%2BMais%2BProdutivo139.mp4', 'created_time': '2020-10-06T14:28:31+00:00', 'fps': 30, 'size': 27401450, 'md5': '91cc0229087ec94bf67f64b01ad8768d', 'public_name': 'SD 240p', 'size_short': '26.13MB'}, {'quality': 'sd', 'type': 'video/mp4', 'width': 640, 'height': 360, 'expires': '2020-10-07T04:00:55+00:00', 'link': 'https://player.vimeo.com/play/2064522787?s=465407533_1602043255_310b087e2fc8c5e1154ce7a33d10d60e&loc=external&context=Vimeo%5CController%5CApi%5CResources%5CUser%5CVideosController.&download=1&filename=15%2BAtalhos%2Bno%2BExcel%2Bpara%2BFicar%2BMais%2BProdutivo164.mp4', 'created_time': '2020-10-06T14:28:31+00:00', 'fps': 30, 'size': 48627155, 'md5': '548640bf79ce1552a3401726bb0e4224', 'public_name': 'SD 360p', 'size_short': '46.37MB'}]}"
   ]
  },
  {
   "cell_type": "code",
   "execution_count": 33,
   "id": "648edbf9",
   "metadata": {},
   "outputs": [
    {
     "name": "stdout",
     "output_type": "stream",
     "text": [
      "https://player.vimeo.com/play/2064518513?s=465407533_1602043255_5f2f93dd00b66eba66d481f913383b4f&loc=external&context=Vimeo%5CController%5CApi%5CResources%5CUser%5CVideosController.&download=1&filename=15%2BAtalhos%2Bno%2BExcel%2Bpara%2BFicar%2BMais%2BProdutivosource.mp4\n",
      "\n",
      "https://player.vimeo.com/play/2064523157?s=465407533_1602043255_ab7b8353c59b5048032396ec5d95a276&loc=external&context=Vimeo%5CController%5CApi%5CResources%5CUser%5CVideosController.&download=1&filename=15%2BAtalhos%2Bno%2BExcel%2Bpara%2BFicar%2BMais%2BProdutivo175.mp4\n",
      "\n",
      "https://player.vimeo.com/play/2064523153?s=465407533_1602043255_f5ac38009ec5c0a13b30600c631446a3&loc=external&context=Vimeo%5CController%5CApi%5CResources%5CUser%5CVideosController.&download=1&filename=15%2BAtalhos%2Bno%2BExcel%2Bpara%2BFicar%2BMais%2BProdutivo165.mp4\n",
      "\n",
      "https://player.vimeo.com/play/2064522788?s=465407533_1602043255_16c69872e2c4e92cc949d0b772242959&loc=external&context=Vimeo%5CController%5CApi%5CResources%5CUser%5CVideosController.&download=1&filename=15%2BAtalhos%2Bno%2BExcel%2Bpara%2BFicar%2BMais%2BProdutivo139.mp4\n",
      "\n",
      "https://player.vimeo.com/play/2064522787?s=465407533_1602043255_310b087e2fc8c5e1154ce7a33d10d60e&loc=external&context=Vimeo%5CController%5CApi%5CResources%5CUser%5CVideosController.&download=1&filename=15%2BAtalhos%2Bno%2BExcel%2Bpara%2BFicar%2BMais%2BProdutivo164.mp4\n",
      "\n"
     ]
    }
   ],
   "source": [
    "for nome in a:\n",
    "    if 'download' == nome:\n",
    "        for dicionario in a[nome]:\n",
    "            for atributo in dicionario:\n",
    "                if 'link' == atributo:\n",
    "                    print(dicionario[atributo])\n",
    "                    print()\n",
    "            \n",
    "        \n",
    "        "
   ]
  },
  {
   "cell_type": "markdown",
   "id": "d4241d2f",
   "metadata": {},
   "source": [
    "**<font color=\"red\"> Questão 3 </font>**\n",
    "\n",
    "---\n",
    "\n",
    "De um texto qualquer crie um sistema que possa receber esse texto e quantificar os caracteres presentes neste texto.\n",
    "\n"
   ]
  },
  {
   "cell_type": "code",
   "execution_count": 64,
   "id": "ac579e0a",
   "metadata": {},
   "outputs": [
    {
     "data": {
      "text/plain": [
       "['\\n',\n",
       " ' ',\n",
       " 'a',\n",
       " 'c',\n",
       " 'd',\n",
       " 'e',\n",
       " 'g',\n",
       " 'h',\n",
       " 'i',\n",
       " 'j',\n",
       " 'l',\n",
       " 'm',\n",
       " 'n',\n",
       " 'o',\n",
       " 'p',\n",
       " 'q',\n",
       " 'r',\n",
       " 's',\n",
       " 't',\n",
       " 'u',\n",
       " 'v',\n",
       " 'â',\n",
       " 'ã',\n",
       " 'ê',\n",
       " 'í',\n",
       " 'ú']"
      ]
     },
     "execution_count": 64,
     "metadata": {},
     "output_type": "execute_result"
    }
   ],
   "source": [
    "texto = '''\n",
    "Johnson disse que os sinais apontam para o plano de invasão da Ucrânia e a inteligência do país indica que a Rússia\n",
    "'''\n",
    "\n",
    "texto = texto.lower()\n",
    "\n",
    "letras = {}\n",
    "\n",
    "for letra in texto:\n",
    "    if letra in letras:\n",
    "        letras[letra] += 1\n",
    "    else:\n",
    "        letras[letra] = 1\n",
    "\n",
    "sorted(letras)\n"
   ]
  },
  {
   "cell_type": "markdown",
   "id": "f911f7c1",
   "metadata": {},
   "source": [
    "**<font color=\"red\"> Questão 4 </font>**\n",
    "\n",
    "---\n",
    "\n",
    "Processe uma lista de operações e calcule o preço total de venda, atualizando também o estoque.\n",
    "\n",
    "```python\n",
    "estoque = {\n",
    "    \"tomate\":[1000, 2.30],\n",
    "    \"alface\":[500, 0.45],\n",
    "    \"batata\":[2001, 1.20],\n",
    "    \"feijao\":[100, 1.50],\n",
    "}\n",
    "```\n",
    "\n",
    "```python\n",
    "venda = [[\"tomate\", 5], [\"batata\", 10], [\"alface\", 5]]\n",
    "```"
   ]
  },
  {
   "cell_type": "code",
   "execution_count": 80,
   "id": "c7c97736",
   "metadata": {},
   "outputs": [
    {
     "name": "stdout",
     "output_type": "stream",
     "text": [
      "Vendas:\n",
      "\n",
      "tomate: 5x2.3=11.50 R$\n",
      "batata: 10x1.2=12.00 R$\n",
      "alface: 5x0.45=2.25 R$\n",
      "Custo total: 25.75 R$\n",
      "Estoque:\n",
      "\n",
      "Descrição:  tomate\n",
      "Quantidade:  995\n",
      "Preço: 2.30\n",
      "Descrição:  alface\n",
      "Quantidade:  495\n",
      "Preço: 0.45\n",
      "Descrição:  batata\n",
      "Quantidade:  1990\n",
      "Preço: 1.20\n",
      "Descrição:  feijao\n",
      "Quantidade:  100\n",
      "Preço: 1.50\n"
     ]
    }
   ],
   "source": [
    "estoque = {\n",
    "    \"tomate\":[1000, 2.30],\n",
    "    \"alface\":[500, 0.45],\n",
    "    \"batata\":[2000, 1.20],\n",
    "    \"feijao\":[100, 1.50],\n",
    "}\n",
    "\n",
    "venda = [[\"tomate\", 5], [\"batata\", 10], [\"alface\", 5]]\n",
    "\n",
    "\n",
    "total = 0\n",
    "\n",
    "print('Vendas:\\n')\n",
    "for operacao in venda:\n",
    "    produto, quantidade = operacao\n",
    "    preco = estoque[produto][-1]\n",
    "    custo = preco * quantidade\n",
    "    print(f'{produto}: {quantidade}x{preco}={custo:.2f} R$')\n",
    "    estoque[produto][0] -= quantidade\n",
    "    total += custo\n",
    "print(f'Custo total: {total:.2f} R$')\n",
    "\n",
    "print('Estoque:\\n')\n",
    "for chave, dados in estoque.items():\n",
    "    print('Descrição: ', chave)\n",
    "    print('Quantidade: ', dados[0])\n",
    "    print('Preço: {:.2f}'.format(dados[-1]))\n",
    "    \n",
    "    \n"
   ]
  },
  {
   "cell_type": "code",
   "execution_count": 77,
   "id": "caeb939d",
   "metadata": {},
   "outputs": [
    {
     "data": {
      "text/plain": [
       "dict_items([('tomate', [995, 2.3]), ('alface', [495, 0.45]), ('batata', [1990, 1.2]), ('feijao', [100, 1.5])])"
      ]
     },
     "execution_count": 77,
     "metadata": {},
     "output_type": "execute_result"
    }
   ],
   "source": [
    "estoque.items()"
   ]
  }
 ],
 "metadata": {
  "kernelspec": {
   "display_name": "Python 3",
   "language": "python",
   "name": "python3"
  },
  "language_info": {
   "codemirror_mode": {
    "name": "ipython",
    "version": 3
   },
   "file_extension": ".py",
   "mimetype": "text/x-python",
   "name": "python",
   "nbconvert_exporter": "python",
   "pygments_lexer": "ipython3",
   "version": "3.8.8"
  }
 },
 "nbformat": 4,
 "nbformat_minor": 5
}
