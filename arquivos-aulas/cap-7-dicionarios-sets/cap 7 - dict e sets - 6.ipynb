{
 "cells": [
  {
   "cell_type": "markdown",
   "id": "a4d0a316",
   "metadata": {},
   "source": [
    "# Conjuntos (Sets)\n",
    "---\n",
    "* O que são conjuntos;\n",
    "* Aplicando o set;\n",
    "* Métodos de conjuntos;\n",
    "* Set comprehensions\n",
    "* Exercício."
   ]
  },
  {
   "cell_type": "markdown",
   "id": "281dce0f",
   "metadata": {},
   "source": [
    "## O que são conjuntos\n",
    "\n",
    "Set em Python, são uma estruturas de dados que implementam operações de união, intersecção e diferença, entre outras. A principal característica dessa estrutura de dados é **não admitir repetição de elementos**.\n",
    "\n",
    "```python\n",
    "conjunto = {3, 5, 6}\n",
    "```"
   ]
  },
  {
   "cell_type": "markdown",
   "id": "8a0dd37c",
   "metadata": {},
   "source": [
    "## Aplicando o set\n",
    "---"
   ]
  },
  {
   "cell_type": "code",
   "execution_count": 40,
   "id": "a329af20",
   "metadata": {},
   "outputs": [
    {
     "data": {
      "text/plain": [
       "set"
      ]
     },
     "execution_count": 40,
     "metadata": {},
     "output_type": "execute_result"
    }
   ],
   "source": [
    "conjunto = {3, 5, 6}\n",
    "type(conjunto)"
   ]
  },
  {
   "cell_type": "code",
   "execution_count": 10,
   "id": "63877f2d",
   "metadata": {},
   "outputs": [],
   "source": [
    "conjunto_2 = set()"
   ]
  },
  {
   "cell_type": "code",
   "execution_count": 11,
   "id": "d97740b5",
   "metadata": {},
   "outputs": [
    {
     "data": {
      "text/plain": [
       "{1}"
      ]
     },
     "execution_count": 11,
     "metadata": {},
     "output_type": "execute_result"
    }
   ],
   "source": [
    "conjunto_2.add(1)\n",
    "conjunto_2"
   ]
  },
  {
   "cell_type": "code",
   "execution_count": 12,
   "id": "8846b6cf",
   "metadata": {},
   "outputs": [
    {
     "data": {
      "text/plain": [
       "{1, 2}"
      ]
     },
     "execution_count": 12,
     "metadata": {},
     "output_type": "execute_result"
    }
   ],
   "source": [
    "conjunto_2.add(2)\n",
    "conjunto_2"
   ]
  },
  {
   "cell_type": "code",
   "execution_count": 13,
   "id": "23797132",
   "metadata": {},
   "outputs": [
    {
     "data": {
      "text/plain": [
       "{1, 2}"
      ]
     },
     "execution_count": 13,
     "metadata": {},
     "output_type": "execute_result"
    }
   ],
   "source": [
    "conjunto_2.add(2)\n",
    "conjunto_2"
   ]
  },
  {
   "cell_type": "code",
   "execution_count": 14,
   "id": "77456a19",
   "metadata": {},
   "outputs": [
    {
     "data": {
      "text/plain": [
       "{1, 2}"
      ]
     },
     "execution_count": 14,
     "metadata": {},
     "output_type": "execute_result"
    }
   ],
   "source": [
    "conjunto_2.add(2.0)\n",
    "conjunto_2"
   ]
  },
  {
   "cell_type": "code",
   "execution_count": 15,
   "id": "2287e12f",
   "metadata": {},
   "outputs": [
    {
     "data": {
      "text/plain": [
       "{1, 2, 3.0}"
      ]
     },
     "execution_count": 15,
     "metadata": {},
     "output_type": "execute_result"
    }
   ],
   "source": [
    "conjunto_2.add(3.0)\n",
    "conjunto_2"
   ]
  },
  {
   "cell_type": "code",
   "execution_count": 16,
   "id": "625d3ba3",
   "metadata": {},
   "outputs": [
    {
     "name": "stdout",
     "output_type": "stream",
     "text": [
      "1\n",
      "2\n",
      "3.0\n"
     ]
    }
   ],
   "source": [
    "for i in conjunto_2:\n",
    "    print(i)"
   ]
  },
  {
   "cell_type": "code",
   "execution_count": 17,
   "id": "12773614",
   "metadata": {},
   "outputs": [
    {
     "data": {
      "text/plain": [
       "True"
      ]
     },
     "execution_count": 17,
     "metadata": {},
     "output_type": "execute_result"
    }
   ],
   "source": [
    "1 in conjunto_2"
   ]
  },
  {
   "cell_type": "code",
   "execution_count": 18,
   "id": "93660101",
   "metadata": {},
   "outputs": [
    {
     "data": {
      "text/plain": [
       "False"
      ]
     },
     "execution_count": 18,
     "metadata": {},
     "output_type": "execute_result"
    }
   ],
   "source": [
    "-2 in conjunto_2"
   ]
  },
  {
   "cell_type": "code",
   "execution_count": 19,
   "id": "7d9092ed",
   "metadata": {},
   "outputs": [],
   "source": [
    "lista = ['pedro', 'pedro', 'joao', 'ricardo', 'cristina', 'ricardo', 'beatriz', 'beatriz', 'lazaro']"
   ]
  },
  {
   "cell_type": "code",
   "execution_count": 22,
   "id": "f12e8f7d",
   "metadata": {},
   "outputs": [
    {
     "data": {
      "text/plain": [
       "9"
      ]
     },
     "execution_count": 22,
     "metadata": {},
     "output_type": "execute_result"
    }
   ],
   "source": [
    "len(lista)"
   ]
  },
  {
   "cell_type": "code",
   "execution_count": 21,
   "id": "9530bebf",
   "metadata": {},
   "outputs": [
    {
     "data": {
      "text/plain": [
       "{'beatriz', 'cristina', 'joao', 'lazaro', 'pedro', 'ricardo'}"
      ]
     },
     "execution_count": 21,
     "metadata": {},
     "output_type": "execute_result"
    }
   ],
   "source": [
    "nomes = set(lista)\n",
    "nomes"
   ]
  },
  {
   "cell_type": "code",
   "execution_count": 23,
   "id": "6a9fa7b9",
   "metadata": {},
   "outputs": [
    {
     "data": {
      "text/plain": [
       "6"
      ]
     },
     "execution_count": 23,
     "metadata": {},
     "output_type": "execute_result"
    }
   ],
   "source": [
    "len(nomes)"
   ]
  },
  {
   "cell_type": "markdown",
   "id": "7e9aebb0",
   "metadata": {},
   "source": [
    "* Operações"
   ]
  },
  {
   "cell_type": "code",
   "execution_count": 41,
   "id": "5f9f2555",
   "metadata": {},
   "outputs": [
    {
     "data": {
      "text/plain": [
       "{3, 5, 6}"
      ]
     },
     "execution_count": 41,
     "metadata": {},
     "output_type": "execute_result"
    }
   ],
   "source": [
    "conjunto"
   ]
  },
  {
   "cell_type": "code",
   "execution_count": 25,
   "id": "e296f4cb",
   "metadata": {},
   "outputs": [
    {
     "data": {
      "text/plain": [
       "{1, 2, 3.0}"
      ]
     },
     "execution_count": 25,
     "metadata": {},
     "output_type": "execute_result"
    }
   ],
   "source": [
    "conjunto_2"
   ]
  },
  {
   "cell_type": "code",
   "execution_count": 26,
   "id": "385e76de",
   "metadata": {},
   "outputs": [
    {
     "data": {
      "text/plain": [
       "{1, 2, 3, 5, 6}"
      ]
     },
     "execution_count": 26,
     "metadata": {},
     "output_type": "execute_result"
    }
   ],
   "source": [
    "conjunto | conjunto_2"
   ]
  },
  {
   "cell_type": "code",
   "execution_count": 42,
   "id": "2ccbe3f9",
   "metadata": {},
   "outputs": [
    {
     "ename": "TypeError",
     "evalue": "'set' object is not subscriptable",
     "output_type": "error",
     "traceback": [
      "\u001b[1;31m---------------------------------------------------------------------------\u001b[0m",
      "\u001b[1;31mTypeError\u001b[0m                                 Traceback (most recent call last)",
      "\u001b[1;32m<ipython-input-42-a380c9f5cc83>\u001b[0m in \u001b[0;36m<module>\u001b[1;34m\u001b[0m\n\u001b[1;32m----> 1\u001b[1;33m \u001b[0mconjunto\u001b[0m\u001b[1;33m[\u001b[0m\u001b[1;36m0\u001b[0m\u001b[1;33m]\u001b[0m \u001b[1;31m# não é possível realizar essa operação\u001b[0m\u001b[1;33m\u001b[0m\u001b[1;33m\u001b[0m\u001b[0m\n\u001b[0m",
      "\u001b[1;31mTypeError\u001b[0m: 'set' object is not subscriptable"
     ]
    }
   ],
   "source": [
    "conjunto[0] # não é possível realizar essa operação"
   ]
  },
  {
   "cell_type": "markdown",
   "id": "d5eae2a1",
   "metadata": {},
   "source": [
    "## Métodos do set\n",
    "---"
   ]
  },
  {
   "cell_type": "code",
   "execution_count": 43,
   "id": "f06539bd",
   "metadata": {},
   "outputs": [
    {
     "data": {
      "text/plain": [
       "{3, 5, 6}"
      ]
     },
     "execution_count": 43,
     "metadata": {},
     "output_type": "execute_result"
    }
   ],
   "source": [
    "conjunto"
   ]
  },
  {
   "cell_type": "code",
   "execution_count": 49,
   "id": "33b40b8d",
   "metadata": {},
   "outputs": [
    {
     "ename": "KeyError",
     "evalue": "'pop from an empty set'",
     "output_type": "error",
     "traceback": [
      "\u001b[1;31m---------------------------------------------------------------------------\u001b[0m",
      "\u001b[1;31mKeyError\u001b[0m                                  Traceback (most recent call last)",
      "\u001b[1;32m<ipython-input-49-64bda3ddec1a>\u001b[0m in \u001b[0;36m<module>\u001b[1;34m\u001b[0m\n\u001b[1;32m----> 1\u001b[1;33m \u001b[0mconjunto\u001b[0m\u001b[1;33m.\u001b[0m\u001b[0mpop\u001b[0m\u001b[1;33m(\u001b[0m\u001b[1;33m)\u001b[0m\u001b[1;33m\u001b[0m\u001b[1;33m\u001b[0m\u001b[0m\n\u001b[0m",
      "\u001b[1;31mKeyError\u001b[0m: 'pop from an empty set'"
     ]
    }
   ],
   "source": [
    "conjunto.pop() "
   ]
  },
  {
   "cell_type": "code",
   "execution_count": 50,
   "id": "f8dd4a75",
   "metadata": {},
   "outputs": [
    {
     "data": {
      "text/plain": [
       "set()"
      ]
     },
     "execution_count": 50,
     "metadata": {},
     "output_type": "execute_result"
    }
   ],
   "source": [
    "conjunto"
   ]
  },
  {
   "cell_type": "markdown",
   "id": "29fb1e10",
   "metadata": {},
   "source": [
    "## set comprehensions\n",
    "---"
   ]
  },
  {
   "cell_type": "code",
   "execution_count": 51,
   "id": "c95742d8",
   "metadata": {},
   "outputs": [
    {
     "data": {
      "text/plain": [
       "{'a', 'b', 'c', 'd', 'r'}"
      ]
     },
     "execution_count": 51,
     "metadata": {},
     "output_type": "execute_result"
    }
   ],
   "source": [
    "{x for x in \"abracadabra\"}"
   ]
  },
  {
   "cell_type": "code",
   "execution_count": 53,
   "id": "89683f13",
   "metadata": {},
   "outputs": [
    {
     "data": {
      "text/plain": [
       "{'a', 'b', 'c', 'i', 'u'}"
      ]
     },
     "execution_count": 53,
     "metadata": {},
     "output_type": "execute_result"
    }
   ],
   "source": [
    "nome = set('uuuiiiuuaaaabbbbcc')\n",
    "nome"
   ]
  },
  {
   "cell_type": "markdown",
   "id": "3b67b324",
   "metadata": {},
   "source": [
    "## Exercício\n",
    "---\n",
    "```python\n",
    "codigos_dos_funcionarios = [11, 23, 45, 78, 12, 56, 1, 56, 23, 45, 12, 11, 11, 56, 45, 56, 88, 85, 12, 36, 1, 5, 6, 6, 5, 8]\n",
    "```"
   ]
  },
  {
   "cell_type": "code",
   "execution_count": 54,
   "id": "f5fa293a",
   "metadata": {},
   "outputs": [],
   "source": [
    "codigos_dos_funcionarios = [11, 23, 45, 78, 12, 56, 1, 56, 23, 45, 12, 11, 11, 56, 45, 56, 88, 85, 12, 36, 1, 5, 6, 6, 5, 8]"
   ]
  },
  {
   "cell_type": "code",
   "execution_count": 55,
   "id": "f539acc1",
   "metadata": {},
   "outputs": [
    {
     "data": {
      "text/plain": [
       "26"
      ]
     },
     "execution_count": 55,
     "metadata": {},
     "output_type": "execute_result"
    }
   ],
   "source": [
    "len(codigos_dos_funcionarios)"
   ]
  },
  {
   "cell_type": "code",
   "execution_count": 56,
   "id": "c74e10a7",
   "metadata": {},
   "outputs": [
    {
     "data": {
      "text/plain": [
       "13"
      ]
     },
     "execution_count": 56,
     "metadata": {},
     "output_type": "execute_result"
    }
   ],
   "source": [
    "len(set(codigos_dos_funcionarios))"
   ]
  }
 ],
 "metadata": {
  "kernelspec": {
   "display_name": "Python 3",
   "language": "python",
   "name": "python3"
  },
  "language_info": {
   "codemirror_mode": {
    "name": "ipython",
    "version": 3
   },
   "file_extension": ".py",
   "mimetype": "text/x-python",
   "name": "python",
   "nbconvert_exporter": "python",
   "pygments_lexer": "ipython3",
   "version": "3.8.8"
  }
 },
 "nbformat": 4,
 "nbformat_minor": 5
}
