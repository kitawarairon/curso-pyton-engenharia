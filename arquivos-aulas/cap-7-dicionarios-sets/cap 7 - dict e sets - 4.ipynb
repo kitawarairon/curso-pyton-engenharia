{
 "cells": [
  {
   "cell_type": "markdown",
   "id": "efa37f42",
   "metadata": {},
   "source": [
    "# Aprofundando em dicionários com listas\n",
    "---\n",
    "* for dentro de for (loop <font color=\"blue\">aninhados</font>);\n",
    "* aprendendo um pouco mais sobre a função print;\n",
    "* exemplos de for aninhados;\n",
    "* Mais exemplos com dicionários."
   ]
  },
  {
   "cell_type": "markdown",
   "id": "e7813a10",
   "metadata": {},
   "source": [
    "## for dentro de for\n",
    "---\n",
    "\n",
    "O que o código abaixo irá gerar ?\n",
    "\n",
    "```python\n",
    "\n",
    "for i in range(5):\n",
    "    for j in range(5, 10):\n",
    "        print(i, j)\n",
    "```"
   ]
  },
  {
   "cell_type": "code",
   "execution_count": 27,
   "id": "238b1526",
   "metadata": {},
   "outputs": [],
   "source": [
    "# ---\n",
    "# i -> 0\n",
    "# j -> 5\n",
    "# 0 5\n",
    "# ---\n",
    "# i -> 0\n",
    "# j -> 6\n",
    "# ---\n",
    "# i -> 0\n",
    "# j -> 7\n",
    "# ...\n",
    "# i -> 0\n",
    "# j -> 9\n",
    "# ---\n",
    "# i -> 1\n",
    "# i -> 5"
   ]
  },
  {
   "cell_type": "code",
   "execution_count": 28,
   "id": "f40993a7",
   "metadata": {},
   "outputs": [
    {
     "name": "stdout",
     "output_type": "stream",
     "text": [
      "0 5\n",
      "0 6\n",
      "0 7\n",
      "0 8\n",
      "0 9\n",
      "1 5\n",
      "1 6\n",
      "1 7\n",
      "1 8\n",
      "1 9\n",
      "2 5\n",
      "2 6\n",
      "2 7\n",
      "2 8\n",
      "2 9\n",
      "3 5\n",
      "3 6\n",
      "3 7\n",
      "3 8\n",
      "3 9\n",
      "4 5\n",
      "4 6\n",
      "4 7\n",
      "4 8\n",
      "4 9\n"
     ]
    }
   ],
   "source": [
    "for i in range(5):\n",
    "    for j in range(5, 10):\n",
    "        print(i, j)"
   ]
  },
  {
   "cell_type": "markdown",
   "id": "e0f192e1",
   "metadata": {},
   "source": [
    "## aprendendo um pouco mais sobre a função:\n",
    "---\n",
    "**<font color=\"purple\">print()</font>**\n",
    "\n",
    "Aqui está à [documentação](https://docs.python.org/pt-br/3/library/functions.html#print)\n",
    "\n",
    "```python\n",
    " print(*objects, sep=' ', end='\\n', file=sys.stdout, flush=False)\n",
    "```\n",
    "\n",
    "Vamos entender como funciona esse argumento `end`: O valor padrão de end é uma nova linha “\\n” e por isso que sempre a função print adiciona uma nova linha depois de imprimir tudo que lhe foi passado, mas, podemos definir outro valor com uma tabulação “ ”."
   ]
  },
  {
   "cell_type": "code",
   "execution_count": 29,
   "id": "dddab7a8",
   "metadata": {},
   "outputs": [
    {
     "name": "stdout",
     "output_type": "stream",
     "text": [
      "adasda asdads\n"
     ]
    }
   ],
   "source": [
    "print('adasda','asdads')"
   ]
  },
  {
   "cell_type": "code",
   "execution_count": 30,
   "id": "fa05ca0b",
   "metadata": {
    "scrolled": true
   },
   "outputs": [
    {
     "name": "stdout",
     "output_type": "stream",
     "text": [
      "adasda||asdads\n"
     ]
    }
   ],
   "source": [
    "print('adasda','asdads', sep='||')"
   ]
  },
  {
   "cell_type": "markdown",
   "id": "8bc885f3",
   "metadata": {},
   "source": [
    "* Padrão!"
   ]
  },
  {
   "cell_type": "code",
   "execution_count": 38,
   "id": "d19f0447",
   "metadata": {},
   "outputs": [
    {
     "name": "stdout",
     "output_type": "stream",
     "text": [
      "adasda asdads\n",
      "adasda asdads\n"
     ]
    }
   ],
   "source": [
    "print('adasda','asdads')\n",
    "print('adasda','asdads')"
   ]
  },
  {
   "cell_type": "code",
   "execution_count": 36,
   "id": "92b9d5bb",
   "metadata": {},
   "outputs": [],
   "source": [
    "# vamos testar a variação do argumento end"
   ]
  },
  {
   "cell_type": "code",
   "execution_count": 45,
   "id": "b82f429b",
   "metadata": {},
   "outputs": [
    {
     "name": "stdout",
     "output_type": "stream",
     "text": [
      "adasda asdads\tadasda asdads\t"
     ]
    }
   ],
   "source": [
    "print('adasda','asdads', end='\\t')\n",
    "print('adasda','asdads', end='\\t')"
   ]
  },
  {
   "cell_type": "code",
   "execution_count": 41,
   "id": "92122113",
   "metadata": {},
   "outputs": [
    {
     "name": "stdout",
     "output_type": "stream",
     "text": [
      "adasda asdads adasda asdads "
     ]
    }
   ],
   "source": [
    "print('adasda','asdads', end=' ')\n",
    "print('adasda','asdads', end=' ')"
   ]
  },
  {
   "cell_type": "markdown",
   "id": "b0a172bd",
   "metadata": {},
   "source": [
    "## exemplos de for aninhados\n",
    "---\n",
    "**<font color=\"green\">Exemplo 1</font>**: Vamos criar um tabuleiro de tamanho:  N x N"
   ]
  },
  {
   "cell_type": "code",
   "execution_count": 43,
   "id": "496b888f",
   "metadata": {},
   "outputs": [
    {
     "name": "stdout",
     "output_type": "stream",
     "text": [
      "Valor de N: \n",
      "3\n",
      "x x x \n",
      "x x x \n",
      "x x x \n"
     ]
    }
   ],
   "source": [
    "n = int(input('Valor de N: \\n'))\n",
    "\n",
    "for linha in range(n):\n",
    "    for coluna in range(n):\n",
    "        print('x', end=' ')\n",
    "    print()"
   ]
  },
  {
   "cell_type": "markdown",
   "id": "99ca0f17",
   "metadata": {},
   "source": [
    "**<font color=\"green\">Exemplo 2</font>**: Vamos construir um sistema que peça a quantidade de alunos e matérias. Depois, para cada aluno peça a nota para cada matéria cursa e calcule a média do aluno e, finalmente, calcule a média da turma toda."
   ]
  },
  {
   "cell_type": "code",
   "execution_count": 52,
   "id": "af6e0642",
   "metadata": {},
   "outputs": [
    {
     "name": "stdout",
     "output_type": "stream",
     "text": [
      "Quantidade de alunos: \n",
      "2\n",
      "Quantiade de matérias: \n",
      "2\n",
      "Aluno 1 :\n",
      "Nota da matéria 1:\n",
      "Insira sua nota, marreco: 6\n",
      "Nota da matéria 2:\n",
      "Insira sua nota, marreco: 6\n",
      "O aluno tem a média 6.0 \n",
      "\n",
      "Aluno 2 :\n",
      "Nota da matéria 1:\n",
      "Insira sua nota, marreco: 6\n",
      "Nota da matéria 2:\n",
      "Insira sua nota, marreco: 6\n",
      "O aluno tem a média 6.0 \n",
      "\n",
      "A média da turma é de 6.0\n"
     ]
    }
   ],
   "source": [
    "alunos = int(input('Quantidade de alunos: \\n'))\n",
    "materias = int(input('Quantiade de matérias: \\n'))\n",
    "\n",
    "somas_das_medias_dos_alunos = 0\n",
    "\n",
    "for aluno in range(alunos):\n",
    "    print(f'Aluno {aluno+1} :')\n",
    "    \n",
    "    notas_do_aluno = 0\n",
    "    for materia in range(materias):\n",
    "        print(f'Nota da matéria {materia+1}:')\n",
    "        nota=float(input('Insira sua nota, marreco: '))\n",
    "        notas_do_aluno += nota\n",
    "        \n",
    "    media_do_aluno = notas_do_aluno/materias\n",
    "    print(f'O aluno tem a média', media_do_aluno, \"\\n\")\n",
    "    \n",
    "    somas_das_medias_dos_alunos += media_do_aluno\n",
    "print(f'A média da turma é de {somas_das_medias_dos_alunos / alunos}')"
   ]
  },
  {
   "cell_type": "markdown",
   "id": "f94ec137",
   "metadata": {},
   "source": [
    "* **<font color=\"red\"> Desafio:</font>** Crie um programa que armazene todos os resultados possíveis para a mega-sena e, posteriormente, calcule a probabilidade de ganhar na mega-sena.\n",
    "\n",
    "probabilidade = evento / total_amostras\n",
    "\n",
    "**Obs:**\n",
    "* São 6 números\n",
    "* Estes números variam de 1 até 60"
   ]
  },
  {
   "cell_type": "code",
   "execution_count": 60,
   "id": "174b8792",
   "metadata": {},
   "outputs": [
    {
     "name": "stdout",
     "output_type": "stream",
     "text": [
      "x x x \n",
      "x x x \n",
      "x x x \n"
     ]
    }
   ],
   "source": [
    "n = 3\n",
    "\n",
    "for linha in range(n):\n",
    "    for coluna in range(n):\n",
    "        print('x', end=' ')\n",
    "    print()"
   ]
  },
  {
   "cell_type": "code",
   "execution_count": null,
   "id": "a6247ef6",
   "metadata": {},
   "outputs": [],
   "source": [
    "# jogo - 4, 11, 22, 35, 37, 45"
   ]
  },
  {
   "cell_type": "code",
   "execution_count": null,
   "id": "37455c0a",
   "metadata": {},
   "outputs": [],
   "source": [
    "# jg1 > jg2 > jg>3 jg4 > jg5 > jg6"
   ]
  },
  {
   "cell_type": "code",
   "execution_count": 78,
   "id": "97362afc",
   "metadata": {},
   "outputs": [
    {
     "name": "stdout",
     "output_type": "stream",
     "text": [
      "Wall time: 20.4 s\n"
     ]
    }
   ],
   "source": [
    "%%time\n",
    "bilhetes = []\n",
    "i = 60\n",
    "\n",
    "for jg1 in range(i):\n",
    "    for jg2 in range(jg1+1, i):\n",
    "        for jg3 in range(jg2+1, i):\n",
    "            for jg4 in range(jg3+1, i):\n",
    "                for jg5 in range(jg4+1, i):\n",
    "                    for jg6 in range(jg5+1, i):\n",
    "                        jogo = (jg1, jg2, jg3, jg4, jg5, jg6)\n",
    "                        bilhetes.append(jogo)"
   ]
  },
  {
   "cell_type": "code",
   "execution_count": 84,
   "id": "33234272",
   "metadata": {},
   "outputs": [
    {
     "name": "stdout",
     "output_type": "stream",
     "text": [
      "0.000000\n"
     ]
    }
   ],
   "source": [
    "probabilidade = 1 / len(bilhetes)\n",
    "print(f'{probabilidade:.6f}')"
   ]
  },
  {
   "cell_type": "markdown",
   "id": "a12d5468",
   "metadata": {},
   "source": [
    "## Mais exemplos com dicionários\n",
    "---"
   ]
  },
  {
   "cell_type": "code",
   "execution_count": 85,
   "id": "55f28c1a",
   "metadata": {},
   "outputs": [],
   "source": [
    "funcionarios = {\n",
    "    'Pedro'  :[25, 1.70, True, 'Engenheiro Civil', ('AB+', '12/5', 120.45), 'Setor de desenvolvimento'],\n",
    "    'Beatriz':[23, 1.69, True, 'Graduanda de Medicina', ('A-', '14/10', 127.65), 'Estudante'],\n",
    "    'Lázaro' :[24, 1.83, False, 'Engenheiro Eletricista', ('A-', '14/10', 127.65), 'Projetos elétricos'],\n",
    "    'Bianca' :[23, 1.70, True, 'Sem profissão', ('A+', '9/6', 90.45), 'Estudante'],\n",
    "    'Julia'  :[35, 1.89, False, 'Jogadora de Volei', ('O-', '12/8', 122.22), 'Atleta'],\n",
    "    'Roberto':[65, 1.65, True, 'Dentista', ('A-', '13/9', 145.10), 'Aposentado'],\n",
    "    'Flávio' :[23, 1.86, True, 'Enfermeiro', ('A+', '14/10', 137.65), 'Hospital vila bela'],\n",
    "    'Carlos' :[25, 1.55, True, 'Ator', ('B-', '14/10', 126.41), 'Atuando em novela'],\n",
    "}"
   ]
  },
  {
   "cell_type": "code",
   "execution_count": 95,
   "id": "0d904917",
   "metadata": {},
   "outputs": [
    {
     "name": "stdout",
     "output_type": "stream",
     "text": [
      "AB+\n",
      "AB+\n",
      "AB+\n",
      "AB+\n",
      "AB+\n",
      "AB+\n",
      "A-\n",
      "A-\n",
      "A-\n",
      "A-\n",
      "A-\n",
      "A-\n",
      "A-\n",
      "A-\n",
      "A-\n",
      "A-\n",
      "A-\n",
      "A-\n",
      "A+\n",
      "A+\n",
      "A+\n",
      "A+\n",
      "A+\n",
      "A+\n",
      "O-\n",
      "O-\n",
      "O-\n",
      "O-\n",
      "O-\n",
      "O-\n",
      "A-\n",
      "A-\n",
      "A-\n",
      "A-\n",
      "A-\n",
      "A-\n",
      "A+\n",
      "A+\n",
      "A+\n",
      "A+\n",
      "A+\n",
      "A+\n",
      "B-\n",
      "B-\n",
      "B-\n",
      "B-\n",
      "B-\n",
      "B-\n"
     ]
    }
   ],
   "source": [
    "for funcionario in funcionarios:\n",
    "    dados = funcionarios[funcionario]\n",
    "    for dado in dados:\n",
    "        print(dados[4][0])"
   ]
  },
  {
   "cell_type": "code",
   "execution_count": 103,
   "id": "82a8a7f3",
   "metadata": {},
   "outputs": [],
   "source": [
    "funcionarios_2 = [funcionarios, '124578', niveis_co2, '5698745']"
   ]
  },
  {
   "cell_type": "code",
   "execution_count": 106,
   "id": "791e9301",
   "metadata": {},
   "outputs": [
    {
     "name": "stdout",
     "output_type": "stream",
     "text": [
      "[25, 1.7, True, 'Engenheiro Civil', ('AB+', '12/5', 120.45), 'Setor de desenvolvimento']\n",
      "[23, 1.69, True, 'Graduanda de Medicina', ('A-', '14/10', 127.65), 'Estudante']\n",
      "[24, 1.83, False, 'Engenheiro Eletricista', ('A-', '14/10', 127.65), 'Projetos elétricos']\n",
      "[23, 1.7, True, 'Sem profissão', ('A+', '9/6', 90.45), 'Estudante']\n",
      "[35, 1.89, False, 'Jogadora de Volei', ('O-', '12/8', 122.22), 'Atleta']\n",
      "[65, 1.65, True, 'Dentista', ('A-', '13/9', 145.1), 'Aposentado']\n",
      "[23, 1.86, True, 'Enfermeiro', ('A+', '14/10', 137.65), 'Hospital vila bela']\n",
      "[25, 1.55, True, 'Ator', ('B-', '14/10', 126.41), 'Atuando em novela']\n",
      "Não é possível imprimir!\n",
      "Não é possível imprimir!\n",
      "Não é possível imprimir!\n",
      "Não é possível imprimir!\n",
      "Não é possível imprimir!\n",
      "Não é possível imprimir!\n",
      "[325, 405, 429, 486, 402]\n",
      "[492, 495, 310, 407, 388]\n",
      "[507, 503, 368, 338, 400]\n",
      "[429, 456, 352, 377, 363]\n",
      "[321, 508, 372, 490, 412]\n",
      "[424, 328, 425, 516, 480]\n",
      "[449, 506, 461, 337, 336]\n",
      "[425, 460, 385, 485, 460]\n",
      "[361, 310, 344, 425, 490]\n",
      "[358, 402, 425, 386, 379]\n",
      "[324, 357, 441, 405, 427]\n",
      "[345, 367, 391, 427, 516]\n",
      "[479, 514, 392, 493, 329]\n",
      "[418, 499, 317, 302, 476]\n",
      "[420, 508, 419, 396, 327]\n",
      "[404, 444, 495, 320, 343]\n",
      "[513, 513, 304, 377, 475]\n",
      "[502, 481, 492, 502, 506]\n",
      "[446, 437, 519, 356, 317]\n",
      "[427, 518, 459, 317, 321]\n",
      "[517, 466, 512, 326, 458]\n",
      "[466, 495, 469, 495, 310]\n",
      "[495, 436, 382, 483, 479]\n",
      "[495, 407, 362, 389, 317]\n",
      "[508, 351, 334, 389, 418]\n",
      "[339, 490, 304, 488, 419]\n",
      "[376, 516, 320, 310, 518]\n",
      "Não é possível imprimir!\n",
      "Não é possível imprimir!\n",
      "Não é possível imprimir!\n",
      "Não é possível imprimir!\n",
      "Não é possível imprimir!\n",
      "Não é possível imprimir!\n",
      "Não é possível imprimir!\n"
     ]
    }
   ],
   "source": [
    "for i in funcionarios_2:\n",
    "    for j in i:\n",
    "        try:\n",
    "            print(i[j])\n",
    "        except:\n",
    "            print('Não é possível imprimir!')"
   ]
  },
  {
   "cell_type": "code",
   "execution_count": null,
   "id": "8af0a93e",
   "metadata": {},
   "outputs": [],
   "source": []
  }
 ],
 "metadata": {
  "kernelspec": {
   "display_name": "Python 3",
   "language": "python",
   "name": "python3"
  },
  "language_info": {
   "codemirror_mode": {
    "name": "ipython",
    "version": 3
   },
   "file_extension": ".py",
   "mimetype": "text/x-python",
   "name": "python",
   "nbconvert_exporter": "python",
   "pygments_lexer": "ipython3",
   "version": "3.8.8"
  }
 },
 "nbformat": 4,
 "nbformat_minor": 5
}
