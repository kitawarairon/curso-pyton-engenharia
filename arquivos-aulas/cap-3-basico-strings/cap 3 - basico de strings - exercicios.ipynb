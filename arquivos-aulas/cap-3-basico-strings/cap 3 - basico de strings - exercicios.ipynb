{
 "cells": [
  {
   "cell_type": "markdown",
   "id": "43aa867e",
   "metadata": {},
   "source": [
    "# Exercícios\n",
    "---\n"
   ]
  },
  {
   "cell_type": "markdown",
   "id": "f80a3a3b",
   "metadata": {},
   "source": [
    "**<font color=\"red\">Exercício 1</font>**: O que são strings ? Strings são imutáveis ? Demonstre!"
   ]
  },
  {
   "cell_type": "code",
   "execution_count": null,
   "id": "3033e29b",
   "metadata": {},
   "outputs": [],
   "source": [
    "# solução\n",
    "# Strings são um conjunto de caracteres que estão dentro de aspas simples ('') ou aspas duplas(\"\")\n",
    "# Strings são imutáveis, isto é, não não podemos alterar o valor dentro do índice da string!"
   ]
  },
  {
   "cell_type": "code",
   "execution_count": 5,
   "id": "38883c43",
   "metadata": {},
   "outputs": [],
   "source": [
    "nome = 'Juca'"
   ]
  },
  {
   "cell_type": "code",
   "execution_count": 6,
   "id": "50fc8005",
   "metadata": {},
   "outputs": [
    {
     "data": {
      "text/plain": [
       "'J'"
      ]
     },
     "execution_count": 6,
     "metadata": {},
     "output_type": "execute_result"
    }
   ],
   "source": [
    "nome[0]"
   ]
  },
  {
   "cell_type": "code",
   "execution_count": 7,
   "id": "c866ede9",
   "metadata": {},
   "outputs": [
    {
     "ename": "TypeError",
     "evalue": "'str' object does not support item assignment",
     "output_type": "error",
     "traceback": [
      "\u001b[1;31m---------------------------------------------------------------------------\u001b[0m",
      "\u001b[1;31mTypeError\u001b[0m                                 Traceback (most recent call last)",
      "\u001b[1;32m<ipython-input-7-f595ab03131b>\u001b[0m in \u001b[0;36m<module>\u001b[1;34m\u001b[0m\n\u001b[1;32m----> 1\u001b[1;33m \u001b[0mnome\u001b[0m\u001b[1;33m[\u001b[0m\u001b[1;36m0\u001b[0m\u001b[1;33m]\u001b[0m \u001b[1;33m=\u001b[0m \u001b[1;34m'L'\u001b[0m\u001b[1;33m\u001b[0m\u001b[1;33m\u001b[0m\u001b[0m\n\u001b[0m",
      "\u001b[1;31mTypeError\u001b[0m: 'str' object does not support item assignment"
     ]
    }
   ],
   "source": [
    "nome[0] = 'L'"
   ]
  },
  {
   "cell_type": "markdown",
   "id": "dbbfbbe4",
   "metadata": {},
   "source": [
    "**<font color=\"red\">Exercício 2</font>**: Como funciona o operador `in` ?"
   ]
  },
  {
   "cell_type": "code",
   "execution_count": null,
   "id": "bebe122c",
   "metadata": {},
   "outputs": [],
   "source": [
    "# o operado in faz a seguinte pergunta a string: está dentro ? se o valor perguntado estiver dentro da string, ele retorna True\n",
    "# se não ele retorna False"
   ]
  },
  {
   "cell_type": "code",
   "execution_count": 8,
   "id": "1648a067",
   "metadata": {},
   "outputs": [],
   "source": [
    "nome = 'Juca'"
   ]
  },
  {
   "cell_type": "code",
   "execution_count": 9,
   "id": "da8a2dec",
   "metadata": {},
   "outputs": [
    {
     "name": "stdout",
     "output_type": "stream",
     "text": [
      "Juca\n"
     ]
    }
   ],
   "source": [
    "print(nome)"
   ]
  },
  {
   "cell_type": "code",
   "execution_count": 11,
   "id": "8441eea9",
   "metadata": {},
   "outputs": [
    {
     "name": "stdout",
     "output_type": "stream",
     "text": [
      "False\n"
     ]
    }
   ],
   "source": [
    "print('j' in nome)"
   ]
  },
  {
   "cell_type": "code",
   "execution_count": 12,
   "id": "bba2e5a1",
   "metadata": {},
   "outputs": [
    {
     "name": "stdout",
     "output_type": "stream",
     "text": [
      "True\n"
     ]
    }
   ],
   "source": [
    "print('a' in nome)"
   ]
  }
 ],
 "metadata": {
  "kernelspec": {
   "display_name": "Python 3",
   "language": "python",
   "name": "python3"
  },
  "language_info": {
   "codemirror_mode": {
    "name": "ipython",
    "version": 3
   },
   "file_extension": ".py",
   "mimetype": "text/x-python",
   "name": "python",
   "nbconvert_exporter": "python",
   "pygments_lexer": "ipython3",
   "version": "3.8.8"
  }
 },
 "nbformat": 4,
 "nbformat_minor": 5
}
