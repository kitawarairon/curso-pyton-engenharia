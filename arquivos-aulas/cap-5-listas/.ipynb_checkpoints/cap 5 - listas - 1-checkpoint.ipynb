{
 "cells": [
  {
   "cell_type": "markdown",
   "id": "d3ca9f14",
   "metadata": {},
   "source": [
    "# Listas\n",
    "---\n",
    "\n",
    "* O que é uma lista?\n",
    "* Criando nossa primeira lista;\n",
    "* Iterando sobre a nossa lista."
   ]
  },
  {
   "cell_type": "markdown",
   "id": "50af96ea",
   "metadata": {},
   "source": [
    "## O que é uma lista ?\n",
    "---\n",
    "\n",
    "Listas são um tipo de variável que permite o armazenamento de vários valores, acessados por um índice. Uma lista pode conter zero ou mais elementos de um mesmo tipo ou de tipos diversos, podendo inclusive conter outras listas.\n",
    "\n"
   ]
  },
  {
   "cell_type": "markdown",
   "id": "bd8474d2",
   "metadata": {},
   "source": [
    "## Nossa primeira lista\n",
    "---"
   ]
  },
  {
   "cell_type": "code",
   "execution_count": 1,
   "id": "48c3dc4d",
   "metadata": {},
   "outputs": [],
   "source": [
    "nomes = ['pedro', 'joao', 'renata']"
   ]
  },
  {
   "cell_type": "code",
   "execution_count": 4,
   "id": "93cca94f",
   "metadata": {},
   "outputs": [
    {
     "name": "stdout",
     "output_type": "stream",
     "text": [
      "['pedro', 'joao', 'renata']\n"
     ]
    }
   ],
   "source": [
    "print(nomes)"
   ]
  },
  {
   "cell_type": "code",
   "execution_count": 5,
   "id": "0a950746",
   "metadata": {},
   "outputs": [
    {
     "ename": "IndexError",
     "evalue": "list index out of range",
     "output_type": "error",
     "traceback": [
      "\u001b[1;31m---------------------------------------------------------------------------\u001b[0m",
      "\u001b[1;31mIndexError\u001b[0m                                Traceback (most recent call last)",
      "\u001b[1;32m<ipython-input-5-02ec54baa3be>\u001b[0m in \u001b[0;36m<module>\u001b[1;34m\u001b[0m\n\u001b[1;32m----> 1\u001b[1;33m \u001b[0mnomes\u001b[0m\u001b[1;33m[\u001b[0m\u001b[1;36m3\u001b[0m\u001b[1;33m]\u001b[0m\u001b[1;33m\u001b[0m\u001b[1;33m\u001b[0m\u001b[0m\n\u001b[0m",
      "\u001b[1;31mIndexError\u001b[0m: list index out of range"
     ]
    }
   ],
   "source": [
    "nomes[3]"
   ]
  },
  {
   "cell_type": "code",
   "execution_count": 6,
   "id": "03e3e389",
   "metadata": {},
   "outputs": [
    {
     "data": {
      "text/plain": [
       "'pedro'"
      ]
     },
     "execution_count": 6,
     "metadata": {},
     "output_type": "execute_result"
    }
   ],
   "source": [
    "nomes[0]"
   ]
  },
  {
   "cell_type": "code",
   "execution_count": 7,
   "id": "4a4bbcf4",
   "metadata": {},
   "outputs": [
    {
     "data": {
      "text/plain": [
       "'renata'"
      ]
     },
     "execution_count": 7,
     "metadata": {},
     "output_type": "execute_result"
    }
   ],
   "source": [
    "nomes[2]"
   ]
  },
  {
   "cell_type": "code",
   "execution_count": 8,
   "id": "215d2573",
   "metadata": {},
   "outputs": [
    {
     "data": {
      "text/plain": [
       "'renata'"
      ]
     },
     "execution_count": 8,
     "metadata": {},
     "output_type": "execute_result"
    }
   ],
   "source": [
    "nomes[-1]"
   ]
  },
  {
   "cell_type": "code",
   "execution_count": 11,
   "id": "7b27e0ce",
   "metadata": {},
   "outputs": [
    {
     "data": {
      "text/plain": [
       "['pedro', 'joao', 'renata']"
      ]
     },
     "execution_count": 11,
     "metadata": {},
     "output_type": "execute_result"
    }
   ],
   "source": [
    "nomes[0:3]"
   ]
  },
  {
   "cell_type": "code",
   "execution_count": 12,
   "id": "b3111b64",
   "metadata": {},
   "outputs": [],
   "source": [
    "informacao_1 = ['pedro', 25, 'eng']\n",
    "informacao_2 = ['renata', 24, 'eng']\n",
    "informacao_3 = ['raul', 33, 'medico']"
   ]
  },
  {
   "cell_type": "code",
   "execution_count": 18,
   "id": "7f9bb6a9",
   "metadata": {},
   "outputs": [
    {
     "data": {
      "text/plain": [
       "[['pedro', 25, 'eng'], ['renata', 24, 'eng'], ['raul', 33, 'medico']]"
      ]
     },
     "execution_count": 18,
     "metadata": {},
     "output_type": "execute_result"
    }
   ],
   "source": [
    "informacoes = list([informacao_1, informacao_2, informacao_3])\n",
    "informacoes"
   ]
  },
  {
   "cell_type": "code",
   "execution_count": 20,
   "id": "3e56bf97",
   "metadata": {},
   "outputs": [
    {
     "data": {
      "text/plain": [
       "['pedro', 25, 'eng']"
      ]
     },
     "execution_count": 20,
     "metadata": {},
     "output_type": "execute_result"
    }
   ],
   "source": [
    "informacoes[0]"
   ]
  },
  {
   "cell_type": "code",
   "execution_count": 21,
   "id": "4f0fb241",
   "metadata": {},
   "outputs": [
    {
     "data": {
      "text/plain": [
       "25"
      ]
     },
     "execution_count": 21,
     "metadata": {},
     "output_type": "execute_result"
    }
   ],
   "source": [
    "informacoes[0][1]"
   ]
  },
  {
   "cell_type": "markdown",
   "id": "669e4643",
   "metadata": {},
   "source": [
    "* Efetuando algumas operações com listas"
   ]
  },
  {
   "cell_type": "code",
   "execution_count": 23,
   "id": "b4876281",
   "metadata": {},
   "outputs": [],
   "source": [
    "cpf = '55588877756'\n",
    "\n",
    "numeros = list(cpf)"
   ]
  },
  {
   "cell_type": "code",
   "execution_count": 26,
   "id": "932a6567",
   "metadata": {},
   "outputs": [
    {
     "data": {
      "text/plain": [
       "['5', '5', '5', '8', '8', '8', '7', '7', '7', '5', '6']"
      ]
     },
     "execution_count": 26,
     "metadata": {},
     "output_type": "execute_result"
    }
   ],
   "source": [
    "numeros"
   ]
  },
  {
   "cell_type": "code",
   "execution_count": 27,
   "id": "8f16c6c0",
   "metadata": {},
   "outputs": [
    {
     "data": {
      "text/plain": [
       "'8'"
      ]
     },
     "execution_count": 27,
     "metadata": {},
     "output_type": "execute_result"
    }
   ],
   "source": [
    "numeros[3]"
   ]
  },
  {
   "cell_type": "code",
   "execution_count": 28,
   "id": "05704195",
   "metadata": {},
   "outputs": [
    {
     "data": {
      "text/plain": [
       "'5'"
      ]
     },
     "execution_count": 28,
     "metadata": {},
     "output_type": "execute_result"
    }
   ],
   "source": [
    "numeros[-2]"
   ]
  },
  {
   "cell_type": "code",
   "execution_count": 33,
   "id": "e298dbd4",
   "metadata": {},
   "outputs": [
    {
     "data": {
      "text/plain": [
       "[15, 36, 45]"
      ]
     },
     "execution_count": 33,
     "metadata": {},
     "output_type": "execute_result"
    }
   ],
   "source": [
    "lista_idade_1 = [15, 36, 45]\n",
    "lista_idade_1"
   ]
  },
  {
   "cell_type": "code",
   "execution_count": 32,
   "id": "4511383d",
   "metadata": {},
   "outputs": [
    {
     "data": {
      "text/plain": [
       "[88, 45, 36]"
      ]
     },
     "execution_count": 32,
     "metadata": {},
     "output_type": "execute_result"
    }
   ],
   "source": [
    "lista_idade_2 = [\n",
    "    88,\n",
    "    45,\n",
    "    36,\n",
    "]\n",
    "lista_idade_2"
   ]
  },
  {
   "cell_type": "code",
   "execution_count": 34,
   "id": "eec7c39e",
   "metadata": {},
   "outputs": [
    {
     "data": {
      "text/plain": [
       "[15, 36, 45, 88, 45, 36]"
      ]
     },
     "execution_count": 34,
     "metadata": {},
     "output_type": "execute_result"
    }
   ],
   "source": [
    "lista_idade_1 + lista_idade_2"
   ]
  },
  {
   "cell_type": "code",
   "execution_count": 35,
   "id": "fa5188ef",
   "metadata": {
    "scrolled": true
   },
   "outputs": [
    {
     "ename": "TypeError",
     "evalue": "unsupported operand type(s) for -: 'list' and 'list'",
     "output_type": "error",
     "traceback": [
      "\u001b[1;31m---------------------------------------------------------------------------\u001b[0m",
      "\u001b[1;31mTypeError\u001b[0m                                 Traceback (most recent call last)",
      "\u001b[1;32m<ipython-input-35-3c1798df9ad5>\u001b[0m in \u001b[0;36m<module>\u001b[1;34m\u001b[0m\n\u001b[1;32m----> 1\u001b[1;33m \u001b[0mlista_idade_1\u001b[0m \u001b[1;33m-\u001b[0m \u001b[0mlista_idade_2\u001b[0m\u001b[1;33m\u001b[0m\u001b[1;33m\u001b[0m\u001b[0m\n\u001b[0m",
      "\u001b[1;31mTypeError\u001b[0m: unsupported operand type(s) for -: 'list' and 'list'"
     ]
    }
   ],
   "source": [
    "lista_idade_1 - lista_idade_2"
   ]
  },
  {
   "cell_type": "code",
   "execution_count": 37,
   "id": "737aa198",
   "metadata": {},
   "outputs": [
    {
     "data": {
      "text/plain": [
       "[15, 36, 45]"
      ]
     },
     "execution_count": 37,
     "metadata": {},
     "output_type": "execute_result"
    }
   ],
   "source": [
    "lista_idade_1"
   ]
  },
  {
   "cell_type": "code",
   "execution_count": 36,
   "id": "ee5b7c9e",
   "metadata": {},
   "outputs": [
    {
     "data": {
      "text/plain": [
       "[15, 36, 45, 15, 36, 45]"
      ]
     },
     "execution_count": 36,
     "metadata": {},
     "output_type": "execute_result"
    }
   ],
   "source": [
    "lista_idade_1 * 2"
   ]
  },
  {
   "cell_type": "code",
   "execution_count": 38,
   "id": "7c6f4a08",
   "metadata": {},
   "outputs": [
    {
     "ename": "TypeError",
     "evalue": "unsupported operand type(s) for /: 'list' and 'int'",
     "output_type": "error",
     "traceback": [
      "\u001b[1;31m---------------------------------------------------------------------------\u001b[0m",
      "\u001b[1;31mTypeError\u001b[0m                                 Traceback (most recent call last)",
      "\u001b[1;32m<ipython-input-38-637ee5d756f5>\u001b[0m in \u001b[0;36m<module>\u001b[1;34m\u001b[0m\n\u001b[1;32m----> 1\u001b[1;33m \u001b[0mlista_idade_1\u001b[0m \u001b[1;33m/\u001b[0m \u001b[1;36m2\u001b[0m\u001b[1;33m\u001b[0m\u001b[1;33m\u001b[0m\u001b[0m\n\u001b[0m",
      "\u001b[1;31mTypeError\u001b[0m: unsupported operand type(s) for /: 'list' and 'int'"
     ]
    }
   ],
   "source": [
    "lista_idade_1 / 2"
   ]
  },
  {
   "cell_type": "code",
   "execution_count": 39,
   "id": "483ec43e",
   "metadata": {},
   "outputs": [
    {
     "data": {
      "text/plain": [
       "[]"
      ]
     },
     "execution_count": 39,
     "metadata": {},
     "output_type": "execute_result"
    }
   ],
   "source": [
    "lista_idade_1 * -1"
   ]
  },
  {
   "cell_type": "code",
   "execution_count": 41,
   "id": "79e71019",
   "metadata": {},
   "outputs": [
    {
     "data": {
      "text/plain": [
       "[]"
      ]
     },
     "execution_count": 41,
     "metadata": {},
     "output_type": "execute_result"
    }
   ],
   "source": [
    "lista = []\n",
    "lista"
   ]
  },
  {
   "cell_type": "code",
   "execution_count": 42,
   "id": "0ddfd9cb",
   "metadata": {},
   "outputs": [
    {
     "data": {
      "text/plain": [
       "[]"
      ]
     },
     "execution_count": 42,
     "metadata": {},
     "output_type": "execute_result"
    }
   ],
   "source": [
    "lista_123 = list()\n",
    "lista_123"
   ]
  },
  {
   "cell_type": "code",
   "execution_count": 43,
   "id": "254fdb95",
   "metadata": {},
   "outputs": [
    {
     "data": {
      "text/plain": [
       "[['pedro', 25, 'eng'], ['renata', 24, 'eng'], ['raul', 33, 'medico']]"
      ]
     },
     "execution_count": 43,
     "metadata": {},
     "output_type": "execute_result"
    }
   ],
   "source": [
    "informacoes "
   ]
  },
  {
   "cell_type": "code",
   "execution_count": 44,
   "id": "11ee09ba",
   "metadata": {},
   "outputs": [
    {
     "data": {
      "text/plain": [
       "list"
      ]
     },
     "execution_count": 44,
     "metadata": {},
     "output_type": "execute_result"
    }
   ],
   "source": [
    "type(informacoes )"
   ]
  },
  {
   "cell_type": "code",
   "execution_count": 45,
   "id": "383af634",
   "metadata": {},
   "outputs": [
    {
     "data": {
      "text/plain": [
       "['pedro', 25, 'eng']"
      ]
     },
     "execution_count": 45,
     "metadata": {},
     "output_type": "execute_result"
    }
   ],
   "source": [
    "informacoes[0]"
   ]
  },
  {
   "cell_type": "code",
   "execution_count": 46,
   "id": "50f3fb5c",
   "metadata": {},
   "outputs": [
    {
     "data": {
      "text/plain": [
       "list"
      ]
     },
     "execution_count": 46,
     "metadata": {},
     "output_type": "execute_result"
    }
   ],
   "source": [
    "type(informacoes[0])"
   ]
  },
  {
   "cell_type": "code",
   "execution_count": 47,
   "id": "1bfccc8d",
   "metadata": {},
   "outputs": [
    {
     "data": {
      "text/plain": [
       "25"
      ]
     },
     "execution_count": 47,
     "metadata": {},
     "output_type": "execute_result"
    }
   ],
   "source": [
    "informacoes[0][1]"
   ]
  },
  {
   "cell_type": "code",
   "execution_count": 48,
   "id": "c66d746c",
   "metadata": {},
   "outputs": [
    {
     "data": {
      "text/plain": [
       "int"
      ]
     },
     "execution_count": 48,
     "metadata": {},
     "output_type": "execute_result"
    }
   ],
   "source": [
    "type(informacoes[0][1])"
   ]
  },
  {
   "cell_type": "markdown",
   "id": "ed2d90c4",
   "metadata": {},
   "source": [
    "## Iterando sobre a nossa lista\n",
    "---"
   ]
  },
  {
   "cell_type": "code",
   "execution_count": 56,
   "id": "8615f538",
   "metadata": {},
   "outputs": [],
   "source": [
    "nomes = ['pedro', 'ana', 'tom', 'joao', 'juca', 'renata', 'beatriz', 'ricardo', 'bananadepijamas']"
   ]
  },
  {
   "cell_type": "code",
   "execution_count": 57,
   "id": "214775ae",
   "metadata": {},
   "outputs": [
    {
     "data": {
      "text/plain": [
       "9"
      ]
     },
     "execution_count": 57,
     "metadata": {},
     "output_type": "execute_result"
    }
   ],
   "source": [
    "len(nomes)"
   ]
  },
  {
   "cell_type": "code",
   "execution_count": 58,
   "id": "7b16c460",
   "metadata": {},
   "outputs": [
    {
     "name": "stdout",
     "output_type": "stream",
     "text": [
      "PEDRO\n",
      "ana\n",
      "tom\n",
      "JOAO\n",
      "JUCA\n",
      "RENATA\n",
      "BEATRIZ\n",
      "RICARDO\n",
      "BANANADEPIJAMAS\n"
     ]
    }
   ],
   "source": [
    "# while\n",
    "\n",
    "i = 0\n",
    "while i < len(nomes):\n",
    "    \n",
    "    if len(nomes[i]) < 4:\n",
    "        print(nomes[i])\n",
    "    else:\n",
    "        print(nomes[i].upper())\n",
    "    i += 1"
   ]
  },
  {
   "cell_type": "code",
   "execution_count": 59,
   "id": "9115ea25",
   "metadata": {},
   "outputs": [],
   "source": [
    "nomes = ['pedro', 'ana', 'tom', 'joao', 'juca', 'renata', 'beatriz', 'ricardo', 'bananadepijamas']"
   ]
  },
  {
   "cell_type": "code",
   "execution_count": 62,
   "id": "ae1c25bf",
   "metadata": {},
   "outputs": [
    {
     "name": "stdout",
     "output_type": "stream",
     "text": [
      "PEDRO\n",
      "ana\n",
      "tom\n",
      "JOAO\n",
      "JUCA\n",
      "RENATA\n",
      "BEATRIZ\n",
      "RICARDO\n",
      "BANANADEPIJAMAS\n"
     ]
    }
   ],
   "source": [
    "for nome in nomes:\n",
    "    if len(nome) < 4:\n",
    "        print(nome)\n",
    "    else:\n",
    "        print(nome.upper())"
   ]
  },
  {
   "cell_type": "code",
   "execution_count": 63,
   "id": "7cff767d",
   "metadata": {},
   "outputs": [],
   "source": [
    "nomes = ['pedro', 'ana', 'tom', 'joao', 'juca', 'renata', 'beatriz', 'ricardo', 'bananadepijamas']"
   ]
  },
  {
   "cell_type": "code",
   "execution_count": 64,
   "id": "0609f3f9",
   "metadata": {},
   "outputs": [
    {
     "data": {
      "text/plain": [
       "True"
      ]
     },
     "execution_count": 64,
     "metadata": {},
     "output_type": "execute_result"
    }
   ],
   "source": [
    "'pedro' in nomes"
   ]
  },
  {
   "cell_type": "code",
   "execution_count": 65,
   "id": "649d46d3",
   "metadata": {},
   "outputs": [
    {
     "data": {
      "text/plain": [
       "False"
      ]
     },
     "execution_count": 65,
     "metadata": {},
     "output_type": "execute_result"
    }
   ],
   "source": [
    "'carla' in nomes"
   ]
  },
  {
   "cell_type": "code",
   "execution_count": 66,
   "id": "6e08be1c",
   "metadata": {},
   "outputs": [
    {
     "data": {
      "text/plain": [
       "True"
      ]
     },
     "execution_count": 66,
     "metadata": {},
     "output_type": "execute_result"
    }
   ],
   "source": [
    "'a' in 'Ana'"
   ]
  },
  {
   "cell_type": "code",
   "execution_count": 67,
   "id": "0082f4dd",
   "metadata": {},
   "outputs": [
    {
     "data": {
      "text/plain": [
       "False"
      ]
     },
     "execution_count": 67,
     "metadata": {},
     "output_type": "execute_result"
    }
   ],
   "source": [
    "'b' in 'Ana'"
   ]
  }
 ],
 "metadata": {
  "kernelspec": {
   "display_name": "Python 3",
   "language": "python",
   "name": "python3"
  },
  "language_info": {
   "codemirror_mode": {
    "name": "ipython",
    "version": 3
   },
   "file_extension": ".py",
   "mimetype": "text/x-python",
   "name": "python",
   "nbconvert_exporter": "python",
   "pygments_lexer": "ipython3",
   "version": "3.8.8"
  }
 },
 "nbformat": 4,
 "nbformat_minor": 5
}
