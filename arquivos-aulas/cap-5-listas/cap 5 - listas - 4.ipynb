{
 "cells": [
  {
   "cell_type": "markdown",
   "id": "58f8b470",
   "metadata": {},
   "source": [
    "# Exercitando e algumas coisas legais\n",
    "---\n",
    "* exercícios\n",
    "* range e enumerate"
   ]
  },
  {
   "cell_type": "markdown",
   "id": "25820491",
   "metadata": {},
   "source": [
    "## Exercícios\n",
    "---\n",
    "\n",
    "* Na lista abaixo deseja-se remover as palavras que tenham um comprimento superior a 7. Essas palavras removidas devem ser colocas em uma nova lista."
   ]
  },
  {
   "cell_type": "code",
   "execution_count": null,
   "id": "a7e221c0",
   "metadata": {},
   "outputs": [],
   "source": [
    "palavras = ['Iniciantes', 'Data', 'arquitetura', 'temporal', 'azul', 'jose',\n",
    "           'etna', 'medicos', 'ragnarok', 'computação', 'piloto', 'cachorro',\n",
    "           'vaca louca', 'covid', 'python', 'paralelepipedo', 'globo legiao']"
   ]
  },
  {
   "cell_type": "code",
   "execution_count": null,
   "id": "545bce37",
   "metadata": {
    "scrolled": true
   },
   "outputs": [],
   "source": [
    "# variaveis auxiliares\n",
    "i = 0\n",
    "palavras_grandes = []\n",
    "palavras_pequenas = []\n",
    "\n",
    "for palavra in palavras:\n",
    "    if len(palavra) > 7:\n",
    "        palavras_grandes.append(palavras.pop(i))\n",
    "    else:\n",
    "        palavras_pequenas.append(palavras.pop(i))\n",
    "        \n",
    "    i += 1\n",
    "\n",
    "print('Palavras menores ou iguais a 7:',palavras_pequenas)\n",
    "print('Palabras maiores que 7', palavras_grandes)"
   ]
  },
  {
   "cell_type": "markdown",
   "id": "1e5caabb",
   "metadata": {},
   "source": [
    "* Na lista de notas abaixo deseja-se encontrar a mediana das notas."
   ]
  },
  {
   "cell_type": "code",
   "execution_count": null,
   "id": "b8922e95",
   "metadata": {},
   "outputs": [],
   "source": [
    "notas = [0, 10, 10,  0, 10,  6, 10,  2, 10,  8,  5,  6,  7,  9,  0,  6,  5,\n",
    "        7,  0,  8,  5,  8,  6,  7,  3,  4,  0,  2, 10,  8,  4,  6,  5,  5,\n",
    "        9,  0,  7,  3,  1,  5,  8, 10,  9,  4,  5,  5,  9,  9,  8,  6]"
   ]
  },
  {
   "cell_type": "code",
   "execution_count": null,
   "id": "f894fba0",
   "metadata": {},
   "outputs": [],
   "source": [
    "notas.sort(reverse=False)"
   ]
  },
  {
   "cell_type": "code",
   "execution_count": null,
   "id": "499752da",
   "metadata": {},
   "outputs": [],
   "source": [
    "len(notas) / 2"
   ]
  },
  {
   "cell_type": "code",
   "execution_count": null,
   "id": "1ce1dda2",
   "metadata": {},
   "outputs": [],
   "source": [
    "notas[25]"
   ]
  },
  {
   "cell_type": "markdown",
   "id": "0eb21287",
   "metadata": {},
   "source": [
    "* Criando o algoritimo de ordenação\n",
    "\n",
    "`método de bolhas`- consiste em comparar dois elementos a cada vez. Se o valor do primeiro elemento for maior que o do segundo, eles trocarão de posição. Essa operação é repetida para o próximo elemento até o fim da lista. "
   ]
  },
  {
   "cell_type": "code",
   "execution_count": 13,
   "id": "44c8e798",
   "metadata": {},
   "outputs": [
    {
     "name": "stdout",
     "output_type": "stream",
     "text": [
      "[0, 10, 10, 0, 10, 6, 10, 2, 10, 8, 5, 6, 7, 9, 0, 6, 5, 7, 0, 8, 5, 8, 6, 7, 3, 4, 0, 2, 10, 8, 4, 6, 5, 5, 9, 0, 7, 3, 1, 5, 8, 10, 9, 4, 5, 5, 9, 9, 8, 6]\n"
     ]
    }
   ],
   "source": [
    "notas = [0, 10, 10,  0, 10,  6, 10,  2, 10,  8,  5,  6,  7,  9,  0,  6,  5,\n",
    "        7,  0,  8,  5,  8,  6,  7,  3,  4,  0,  2, 10,  8,  4,  6,  5,  5,\n",
    "        9,  0,  7,  3,  1,  5,  8, 10,  9,  4,  5,  5,  9,  9,  8,  6]\n",
    "print(notas)"
   ]
  },
  {
   "cell_type": "code",
   "execution_count": 18,
   "id": "bfe24228",
   "metadata": {
    "scrolled": false
   },
   "outputs": [
    {
     "name": "stdout",
     "output_type": "stream",
     "text": [
      "Lista 0: [7, 6, 5, 5, 8, 0, 7, 1, 9, 5, 3, 5, 4, 0]\n",
      "Lista A: [6, 7, 5, 5, 8, 0, 7, 1, 9, 5, 3, 5, 4, 0]\n",
      "Lista A: [6, 5, 7, 5, 8, 0, 7, 1, 9, 5, 3, 5, 4, 0]\n",
      "Lista A: [6, 5, 5, 7, 8, 0, 7, 1, 9, 5, 3, 5, 4, 0]\n",
      "Lista A: [6, 5, 5, 7, 0, 8, 7, 1, 9, 5, 3, 5, 4, 0]\n",
      "Lista A: [6, 5, 5, 7, 0, 7, 8, 1, 9, 5, 3, 5, 4, 0]\n",
      "Lista A: [6, 5, 5, 7, 0, 7, 1, 8, 9, 5, 3, 5, 4, 0]\n",
      "Lista A: [6, 5, 5, 7, 0, 7, 1, 8, 5, 9, 3, 5, 4, 0]\n",
      "Lista A: [6, 5, 5, 7, 0, 7, 1, 8, 5, 3, 9, 5, 4, 0]\n",
      "Lista A: [6, 5, 5, 7, 0, 7, 1, 8, 5, 3, 5, 9, 4, 0]\n",
      "Lista A: [6, 5, 5, 7, 0, 7, 1, 8, 5, 3, 5, 4, 9, 0]\n",
      "Lista A: [6, 5, 5, 7, 0, 7, 1, 8, 5, 3, 5, 4, 0, 9]\n",
      "Lista A: [5, 6, 5, 7, 0, 7, 1, 8, 5, 3, 5, 4, 0, 9]\n",
      "Lista A: [5, 5, 6, 7, 0, 7, 1, 8, 5, 3, 5, 4, 0, 9]\n",
      "Lista A: [5, 5, 6, 0, 7, 7, 1, 8, 5, 3, 5, 4, 0, 9]\n",
      "Lista A: [5, 5, 6, 0, 7, 1, 7, 8, 5, 3, 5, 4, 0, 9]\n",
      "Lista A: [5, 5, 6, 0, 7, 1, 7, 5, 8, 3, 5, 4, 0, 9]\n",
      "Lista A: [5, 5, 6, 0, 7, 1, 7, 5, 3, 8, 5, 4, 0, 9]\n",
      "Lista A: [5, 5, 6, 0, 7, 1, 7, 5, 3, 5, 8, 4, 0, 9]\n",
      "Lista A: [5, 5, 6, 0, 7, 1, 7, 5, 3, 5, 4, 8, 0, 9]\n",
      "Lista A: [5, 5, 6, 0, 7, 1, 7, 5, 3, 5, 4, 0, 8, 9]\n",
      "Lista A: [5, 5, 0, 6, 7, 1, 7, 5, 3, 5, 4, 0, 8, 9]\n",
      "Lista A: [5, 5, 0, 6, 1, 7, 7, 5, 3, 5, 4, 0, 8, 9]\n",
      "Lista A: [5, 5, 0, 6, 1, 7, 5, 7, 3, 5, 4, 0, 8, 9]\n",
      "Lista A: [5, 5, 0, 6, 1, 7, 5, 3, 7, 5, 4, 0, 8, 9]\n",
      "Lista A: [5, 5, 0, 6, 1, 7, 5, 3, 5, 7, 4, 0, 8, 9]\n",
      "Lista A: [5, 5, 0, 6, 1, 7, 5, 3, 5, 4, 7, 0, 8, 9]\n",
      "Lista A: [5, 5, 0, 6, 1, 7, 5, 3, 5, 4, 0, 7, 8, 9]\n",
      "Lista A: [5, 0, 5, 6, 1, 7, 5, 3, 5, 4, 0, 7, 8, 9]\n",
      "Lista A: [5, 0, 5, 1, 6, 7, 5, 3, 5, 4, 0, 7, 8, 9]\n",
      "Lista A: [5, 0, 5, 1, 6, 5, 7, 3, 5, 4, 0, 7, 8, 9]\n",
      "Lista A: [5, 0, 5, 1, 6, 5, 3, 7, 5, 4, 0, 7, 8, 9]\n",
      "Lista A: [5, 0, 5, 1, 6, 5, 3, 5, 7, 4, 0, 7, 8, 9]\n",
      "Lista A: [5, 0, 5, 1, 6, 5, 3, 5, 4, 7, 0, 7, 8, 9]\n",
      "Lista A: [5, 0, 5, 1, 6, 5, 3, 5, 4, 0, 7, 7, 8, 9]\n",
      "Lista A: [0, 5, 5, 1, 6, 5, 3, 5, 4, 0, 7, 7, 8, 9]\n",
      "Lista A: [0, 5, 1, 5, 6, 5, 3, 5, 4, 0, 7, 7, 8, 9]\n",
      "Lista A: [0, 5, 1, 5, 5, 6, 3, 5, 4, 0, 7, 7, 8, 9]\n",
      "Lista A: [0, 5, 1, 5, 5, 3, 6, 5, 4, 0, 7, 7, 8, 9]\n",
      "Lista A: [0, 5, 1, 5, 5, 3, 5, 6, 4, 0, 7, 7, 8, 9]\n",
      "Lista A: [0, 5, 1, 5, 5, 3, 5, 4, 6, 0, 7, 7, 8, 9]\n",
      "Lista A: [0, 5, 1, 5, 5, 3, 5, 4, 0, 6, 7, 7, 8, 9]\n",
      "Lista A: [0, 1, 5, 5, 5, 3, 5, 4, 0, 6, 7, 7, 8, 9]\n",
      "Lista A: [0, 1, 5, 5, 3, 5, 5, 4, 0, 6, 7, 7, 8, 9]\n",
      "Lista A: [0, 1, 5, 5, 3, 5, 4, 5, 0, 6, 7, 7, 8, 9]\n",
      "Lista A: [0, 1, 5, 5, 3, 5, 4, 0, 5, 6, 7, 7, 8, 9]\n",
      "Lista A: [0, 1, 5, 3, 5, 5, 4, 0, 5, 6, 7, 7, 8, 9]\n",
      "Lista A: [0, 1, 5, 3, 5, 4, 5, 0, 5, 6, 7, 7, 8, 9]\n",
      "Lista A: [0, 1, 5, 3, 5, 4, 0, 5, 5, 6, 7, 7, 8, 9]\n",
      "Lista A: [0, 1, 3, 5, 5, 4, 0, 5, 5, 6, 7, 7, 8, 9]\n",
      "Lista A: [0, 1, 3, 5, 4, 5, 0, 5, 5, 6, 7, 7, 8, 9]\n",
      "Lista A: [0, 1, 3, 5, 4, 0, 5, 5, 5, 6, 7, 7, 8, 9]\n",
      "Lista A: [0, 1, 3, 4, 5, 0, 5, 5, 5, 6, 7, 7, 8, 9]\n",
      "Lista A: [0, 1, 3, 4, 0, 5, 5, 5, 5, 6, 7, 7, 8, 9]\n",
      "Lista A: [0, 1, 3, 0, 4, 5, 5, 5, 5, 6, 7, 7, 8, 9]\n",
      "Lista A: [0, 1, 0, 3, 4, 5, 5, 5, 5, 6, 7, 7, 8, 9]\n",
      "Lista A: [0, 0, 1, 3, 4, 5, 5, 5, 5, 6, 7, 7, 8, 9]\n"
     ]
    }
   ],
   "source": [
    "# método de bolhas\n",
    "\n",
    "# criando uma lista menor\n",
    "\n",
    "print('Lista 0: {}'.format(notas))\n",
    "\n",
    "fim = len(notas)\n",
    "\n",
    "while fim > 1:\n",
    "    trocou = False\n",
    "    x = 0\n",
    "    while x < (fim - 1):\n",
    "        if notas[x] > notas[x + 1]: # notas[0] > notas[1] -> True\n",
    "            trocou = True\n",
    "            temp = notas[x] # valor de 7\n",
    "            notas[x] = notas[x + 1] # nota 7 => nota 6\n",
    "            notas[x + 1] = temp # colocou na nota 7 na posicao posterior\n",
    "            print(f'Lista A: {notas}')\n",
    "        x += 1\n",
    "    if not trocou:\n",
    "        break\n",
    "    fim -= 1"
   ]
  },
  {
   "cell_type": "code",
   "execution_count": 19,
   "id": "c84cb1ee",
   "metadata": {},
   "outputs": [
    {
     "name": "stdout",
     "output_type": "stream",
     "text": [
      "[0, 0, 0, 0, 0, 0, 1, 2, 2, 3, 3, 4, 4, 4, 5, 5, 5, 5, 5, 5, 5, 5, 6, 6, 6, 6, 6, 6, 7, 7, 7, 7, 8, 8, 8, 8, 8, 8, 9, 9, 9, 9, 9, 10, 10, 10, 10, 10, 10, 10]\n"
     ]
    }
   ],
   "source": [
    "notas = [0, 10, 10,  0, 10,  6, 10,  2, 10,  8,  5,  6,  7,  9,  0,  6,  5,\n",
    "        7,  0,  8,  5,  8,  6,  7,  3,  4,  0,  2, 10,  8,  4,  6,  5,  5,\n",
    "        9,  0,  7,  3,  1,  5,  8, 10,  9,  4,  5,  5,  9,  9,  8,  6]\n",
    "\n",
    "fim = len(notas)\n",
    "\n",
    "while fim > 1:\n",
    "    trocou = False\n",
    "    x = 0\n",
    "    while x < (fim - 1):\n",
    "        if notas[x] > notas[x + 1]: # notas[0] > notas[1] -> True\n",
    "            trocou = True\n",
    "            temp = notas[x] # valor de 7\n",
    "            notas[x] = notas[x + 1] # nota 7 => nota 6\n",
    "            notas[x + 1] = temp # colocou na nota 7 na posicao posterior\n",
    "        x += 1\n",
    "    if not trocou:\n",
    "        break\n",
    "    fim -= 1\n",
    "print(notas)"
   ]
  },
  {
   "cell_type": "code",
   "execution_count": 25,
   "id": "6066cec5",
   "metadata": {},
   "outputs": [
    {
     "name": "stdout",
     "output_type": "stream",
     "text": [
      "[0, 0, 0, 0, 0, 0, 1, 2, 2, 3, 3, 4, 4, 4, 5, 5, 5, 5, 5, 5, 5, 5, 6, 6, 6, 6, 6, 6, 7, 7, 7, 7, 8, 8, 8, 8, 8, 8, 9, 9, 9, 9, 9, 10, 10, 10, 10, 10, 10, 10]\n"
     ]
    }
   ],
   "source": [
    "notas = [0, 10, 10,  0, 10,  6, 10,  2, 10,  8,  5,  6,  7,  9,  0,  6,  5,\n",
    "        7,  0,  8,  5,  8,  6,  7,  3,  4,  0,  2, 10,  8,  4,  6,  5,  5,\n",
    "        9,  0,  7,  3,  1,  5,  8, 10,  9,  4,  5,  5,  9,  9,  8,  6]\n",
    "notas.sort()\n",
    "print(notas)"
   ]
  },
  {
   "cell_type": "markdown",
   "id": "7a6056d6",
   "metadata": {},
   "source": [
    "## range e enumerate\n",
    "---"
   ]
  },
  {
   "cell_type": "markdown",
   "id": "48d8a222",
   "metadata": {},
   "source": [
    "* range"
   ]
  },
  {
   "cell_type": "code",
   "execution_count": 29,
   "id": "88590e45",
   "metadata": {},
   "outputs": [
    {
     "name": "stdout",
     "output_type": "stream",
     "text": [
      "range(0, 10)\n"
     ]
    }
   ],
   "source": [
    "print(range(10)) # gera a lista, porém a gente tem que pedir para acessar"
   ]
  },
  {
   "cell_type": "code",
   "execution_count": 30,
   "id": "5002ebdb",
   "metadata": {},
   "outputs": [
    {
     "name": "stdout",
     "output_type": "stream",
     "text": [
      "0\n",
      "1\n",
      "2\n",
      "3\n",
      "4\n",
      "5\n",
      "6\n",
      "7\n",
      "8\n",
      "9\n"
     ]
    }
   ],
   "source": [
    "for i in range(10):\n",
    "    print(i)"
   ]
  },
  {
   "cell_type": "code",
   "execution_count": 31,
   "id": "0e6da393",
   "metadata": {},
   "outputs": [
    {
     "name": "stdout",
     "output_type": "stream",
     "text": [
      "0\n",
      "2\n",
      "4\n",
      "6\n",
      "8\n",
      "10\n",
      "12\n",
      "14\n"
     ]
    }
   ],
   "source": [
    "for i in range(0, 15, 2):\n",
    "    print(i)"
   ]
  },
  {
   "cell_type": "code",
   "execution_count": 32,
   "id": "dc1ae320",
   "metadata": {},
   "outputs": [
    {
     "name": "stdout",
     "output_type": "stream",
     "text": [
      "0\n",
      "1\n",
      "2\n",
      "3\n",
      "4\n",
      "5\n",
      "6\n",
      "7\n",
      "8\n",
      "9\n",
      "10\n",
      "11\n",
      "12\n",
      "13\n",
      "14\n"
     ]
    }
   ],
   "source": [
    "for i in range(0, 15):\n",
    "    print(i)"
   ]
  },
  {
   "cell_type": "markdown",
   "id": "1a296164",
   "metadata": {},
   "source": [
    "* enumerate"
   ]
  },
  {
   "cell_type": "code",
   "execution_count": 34,
   "id": "ebe50b12",
   "metadata": {},
   "outputs": [
    {
     "name": "stdout",
     "output_type": "stream",
     "text": [
      "[0, 0, 0, 0, 0, 0, 1, 2, 2, 3, 3, 4, 4, 4, 5, 5, 5, 5, 5, 5, 5, 5, 6, 6, 6, 6, 6, 6, 7, 7, 7, 7, 8, 8, 8, 8, 8, 8, 9, 9, 9, 9, 9, 10, 10, 10, 10, 10, 10, 10]\n"
     ]
    }
   ],
   "source": [
    "print(notas)"
   ]
  },
  {
   "cell_type": "code",
   "execution_count": 35,
   "id": "cb092385",
   "metadata": {},
   "outputs": [
    {
     "name": "stdout",
     "output_type": "stream",
     "text": [
      "0 0\n",
      "1 0\n",
      "2 0\n",
      "3 0\n",
      "4 0\n",
      "5 0\n",
      "6 1\n",
      "7 2\n",
      "8 2\n",
      "9 3\n",
      "10 3\n",
      "11 4\n",
      "12 4\n",
      "13 4\n",
      "14 5\n",
      "15 5\n",
      "16 5\n",
      "17 5\n",
      "18 5\n",
      "19 5\n",
      "20 5\n",
      "21 5\n",
      "22 6\n",
      "23 6\n",
      "24 6\n",
      "25 6\n",
      "26 6\n",
      "27 6\n",
      "28 7\n",
      "29 7\n",
      "30 7\n",
      "31 7\n",
      "32 8\n",
      "33 8\n",
      "34 8\n",
      "35 8\n",
      "36 8\n",
      "37 8\n",
      "38 9\n",
      "39 9\n",
      "40 9\n",
      "41 9\n",
      "42 9\n",
      "43 10\n",
      "44 10\n",
      "45 10\n",
      "46 10\n",
      "47 10\n",
      "48 10\n",
      "49 10\n"
     ]
    }
   ],
   "source": [
    "for indice, nota in enumerate(notas):\n",
    "    print(indice, nota)\n"
   ]
  },
  {
   "cell_type": "code",
   "execution_count": 37,
   "id": "a213b459",
   "metadata": {},
   "outputs": [
    {
     "ename": "ValueError",
     "evalue": "too many values to unpack (expected 2)",
     "output_type": "error",
     "traceback": [
      "\u001b[1;31m---------------------------------------------------------------------------\u001b[0m",
      "\u001b[1;31mValueError\u001b[0m                                Traceback (most recent call last)",
      "\u001b[1;32m<ipython-input-37-34c3f91a27cb>\u001b[0m in \u001b[0;36m<module>\u001b[1;34m\u001b[0m\n\u001b[1;32m----> 1\u001b[1;33m \u001b[0ma\u001b[0m\u001b[1;33m,\u001b[0m \u001b[0mb\u001b[0m \u001b[1;33m=\u001b[0m \u001b[0menumerate\u001b[0m\u001b[1;33m(\u001b[0m\u001b[0mnotas\u001b[0m\u001b[1;33m)\u001b[0m\u001b[1;33m\u001b[0m\u001b[1;33m\u001b[0m\u001b[0m\n\u001b[0m",
      "\u001b[1;31mValueError\u001b[0m: too many values to unpack (expected 2)"
     ]
    }
   ],
   "source": [
    "a, b = enumerate(notas)"
   ]
  }
 ],
 "metadata": {
  "kernelspec": {
   "display_name": "Python 3",
   "language": "python",
   "name": "python3"
  },
  "language_info": {
   "codemirror_mode": {
    "name": "ipython",
    "version": 3
   },
   "file_extension": ".py",
   "mimetype": "text/x-python",
   "name": "python",
   "nbconvert_exporter": "python",
   "pygments_lexer": "ipython3",
   "version": "3.8.8"
  }
 },
 "nbformat": 4,
 "nbformat_minor": 5
}
