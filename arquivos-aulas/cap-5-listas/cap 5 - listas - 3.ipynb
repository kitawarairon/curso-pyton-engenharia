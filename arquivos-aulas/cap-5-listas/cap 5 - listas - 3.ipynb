{
 "cells": [
  {
   "cell_type": "markdown",
   "id": "eaa0994d",
   "metadata": {},
   "source": [
    "# Métodos de listas\n",
    "---\n",
    "\n",
    "* [documentação](https://docs.python.org/3/tutorial/datastructures.html).\n",
    "* alguns métodos.\n",
    "* entendendo o conceito de cópia;"
   ]
  },
  {
   "cell_type": "code",
   "execution_count": 6,
   "id": "b6e1d62b",
   "metadata": {},
   "outputs": [],
   "source": [
    "lista_de_compras = ['arroz', 'feijao', 'macarrao', 'biscoito']"
   ]
  },
  {
   "cell_type": "markdown",
   "id": "d382c377",
   "metadata": {},
   "source": [
    "## Alguns métodos\n",
    "---\n",
    "\n",
    "* append()"
   ]
  },
  {
   "cell_type": "code",
   "execution_count": 8,
   "id": "8e22ef63",
   "metadata": {},
   "outputs": [],
   "source": [
    "lista_de_compras.append('banana')"
   ]
  },
  {
   "cell_type": "code",
   "execution_count": 9,
   "id": "11fd17f1",
   "metadata": {},
   "outputs": [
    {
     "data": {
      "text/plain": [
       "['arroz', 'feijao', 'macarrao', 'biscoito', 'banana']"
      ]
     },
     "execution_count": 9,
     "metadata": {},
     "output_type": "execute_result"
    }
   ],
   "source": [
    "lista_de_compras"
   ]
  },
  {
   "cell_type": "markdown",
   "id": "92a00d37",
   "metadata": {},
   "source": [
    "* extend()"
   ]
  },
  {
   "cell_type": "code",
   "execution_count": 12,
   "id": "afeeb94d",
   "metadata": {},
   "outputs": [],
   "source": [
    "lista_de_compras.extend([['papel', 'lapis', 'caneta']])"
   ]
  },
  {
   "cell_type": "code",
   "execution_count": 13,
   "id": "7125ca61",
   "metadata": {},
   "outputs": [
    {
     "data": {
      "text/plain": [
       "['arroz',\n",
       " 'feijao',\n",
       " 'macarrao',\n",
       " 'biscoito',\n",
       " 'banana',\n",
       " 'papel',\n",
       " 'lapis',\n",
       " 'caneta',\n",
       " ['papel', 'lapis', 'caneta']]"
      ]
     },
     "execution_count": 13,
     "metadata": {},
     "output_type": "execute_result"
    }
   ],
   "source": [
    "lista_de_compras"
   ]
  },
  {
   "cell_type": "markdown",
   "id": "052b1799",
   "metadata": {},
   "source": [
    "* count()"
   ]
  },
  {
   "cell_type": "code",
   "execution_count": 14,
   "id": "a29e7118",
   "metadata": {},
   "outputs": [],
   "source": [
    "letras = ['a', 'a', 'b', 'c', 'g', 'k', 'l', 'l', 'l', 'l', 'l', 'l', 'a', 'u']"
   ]
  },
  {
   "cell_type": "code",
   "execution_count": 21,
   "id": "6442ed46",
   "metadata": {},
   "outputs": [
    {
     "name": "stdout",
     "output_type": "stream",
     "text": [
      "6\n"
     ]
    }
   ],
   "source": [
    "print(letras.count('l'))"
   ]
  },
  {
   "cell_type": "markdown",
   "id": "23a22a8a",
   "metadata": {},
   "source": [
    "* clear()"
   ]
  },
  {
   "cell_type": "code",
   "execution_count": 22,
   "id": "a120e6ad",
   "metadata": {},
   "outputs": [],
   "source": [
    "letras.clear()"
   ]
  },
  {
   "cell_type": "code",
   "execution_count": 23,
   "id": "b7979178",
   "metadata": {},
   "outputs": [
    {
     "data": {
      "text/plain": [
       "[]"
      ]
     },
     "execution_count": 23,
     "metadata": {},
     "output_type": "execute_result"
    }
   ],
   "source": [
    "letras"
   ]
  },
  {
   "cell_type": "markdown",
   "id": "3d993510",
   "metadata": {},
   "source": [
    "## Entendendo o conceito da cópia...\n",
    "* copy() "
   ]
  },
  {
   "cell_type": "code",
   "execution_count": 38,
   "id": "3a2a57fc",
   "metadata": {},
   "outputs": [
    {
     "data": {
      "text/plain": [
       "['arroz', 'feijao', 'macarrao', 'biscoito']"
      ]
     },
     "execution_count": 38,
     "metadata": {},
     "output_type": "execute_result"
    }
   ],
   "source": [
    "lista_de_compras = ['arroz', 'feijao', 'macarrao', 'biscoito']\n",
    "lista_de_compras"
   ]
  },
  {
   "cell_type": "code",
   "execution_count": 39,
   "id": "2a809844",
   "metadata": {},
   "outputs": [],
   "source": [
    "lista = lista_de_compras.copy()"
   ]
  },
  {
   "cell_type": "code",
   "execution_count": null,
   "id": "068c54bf",
   "metadata": {},
   "outputs": [],
   "source": [
    "lista = lista_de_compras[:]"
   ]
  },
  {
   "cell_type": "code",
   "execution_count": 40,
   "id": "339bc9f9",
   "metadata": {},
   "outputs": [],
   "source": [
    "lista.append('banana')"
   ]
  },
  {
   "cell_type": "code",
   "execution_count": 41,
   "id": "09d11122",
   "metadata": {},
   "outputs": [
    {
     "data": {
      "text/plain": [
       "['arroz', 'feijao', 'macarrao', 'biscoito']"
      ]
     },
     "execution_count": 41,
     "metadata": {},
     "output_type": "execute_result"
    }
   ],
   "source": [
    "lista_de_compras"
   ]
  }
 ],
 "metadata": {
  "kernelspec": {
   "display_name": "Python 3",
   "language": "python",
   "name": "python3"
  },
  "language_info": {
   "codemirror_mode": {
    "name": "ipython",
    "version": 3
   },
   "file_extension": ".py",
   "mimetype": "text/x-python",
   "name": "python",
   "nbconvert_exporter": "python",
   "pygments_lexer": "ipython3",
   "version": "3.8.8"
  }
 },
 "nbformat": 4,
 "nbformat_minor": 5
}
