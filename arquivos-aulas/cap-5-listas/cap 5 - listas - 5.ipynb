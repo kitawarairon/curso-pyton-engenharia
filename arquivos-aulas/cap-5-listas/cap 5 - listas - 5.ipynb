{
 "cells": [
  {
   "cell_type": "markdown",
   "id": "0da3ae04",
   "metadata": {},
   "source": [
    "# Para finalizar as listas\n",
    "---\n",
    "* `del`\n",
    "* Pulo do gato com range e enumerate;\n",
    "* Comparação de listas;\n",
    "* Um pouco de list comprehension  \n",
    "* Exercicios."
   ]
  },
  {
   "cell_type": "markdown",
   "id": "09865f1f",
   "metadata": {},
   "source": [
    "## del\n",
    "---"
   ]
  },
  {
   "cell_type": "code",
   "execution_count": 21,
   "id": "55d86fd8",
   "metadata": {},
   "outputs": [],
   "source": [
    "nomes = ['pedro', 'julia', 'renata'] "
   ]
  },
  {
   "cell_type": "code",
   "execution_count": 22,
   "id": "bf28a502",
   "metadata": {},
   "outputs": [],
   "source": [
    "del nomes[0]"
   ]
  },
  {
   "cell_type": "code",
   "execution_count": 23,
   "id": "973ce51a",
   "metadata": {},
   "outputs": [
    {
     "data": {
      "text/plain": [
       "['julia', 'renata']"
      ]
     },
     "execution_count": 23,
     "metadata": {},
     "output_type": "execute_result"
    }
   ],
   "source": [
    "nomes"
   ]
  },
  {
   "cell_type": "code",
   "execution_count": 24,
   "id": "b9c3d668",
   "metadata": {},
   "outputs": [],
   "source": [
    "del nomes"
   ]
  },
  {
   "cell_type": "code",
   "execution_count": 25,
   "id": "58b551db",
   "metadata": {},
   "outputs": [
    {
     "ename": "NameError",
     "evalue": "name 'nomes' is not defined",
     "output_type": "error",
     "traceback": [
      "\u001b[1;31m---------------------------------------------------------------------------\u001b[0m",
      "\u001b[1;31mNameError\u001b[0m                                 Traceback (most recent call last)",
      "\u001b[1;32m<ipython-input-25-22c9f5e348b9>\u001b[0m in \u001b[0;36m<module>\u001b[1;34m\u001b[0m\n\u001b[1;32m----> 1\u001b[1;33m \u001b[0mnomes\u001b[0m\u001b[1;33m\u001b[0m\u001b[1;33m\u001b[0m\u001b[0m\n\u001b[0m",
      "\u001b[1;31mNameError\u001b[0m: name 'nomes' is not defined"
     ]
    }
   ],
   "source": [
    "nomes"
   ]
  },
  {
   "cell_type": "markdown",
   "id": "014df5a4",
   "metadata": {},
   "source": [
    "## Pulo do gato com range e enumerate\n",
    "---"
   ]
  },
  {
   "cell_type": "code",
   "execution_count": 29,
   "id": "e72be1c8",
   "metadata": {},
   "outputs": [
    {
     "data": {
      "text/plain": [
       "[10, 15, 20, 25, 30, 35, 40, 45, 50, 55, 60, 65, 70, 75, 80, 85, 90, 95]"
      ]
     },
     "execution_count": 29,
     "metadata": {},
     "output_type": "execute_result"
    }
   ],
   "source": [
    "list(range(10, 100, 5))"
   ]
  },
  {
   "cell_type": "code",
   "execution_count": 30,
   "id": "51899afb",
   "metadata": {},
   "outputs": [
    {
     "data": {
      "text/plain": [
       "'range(0, 10)'"
      ]
     },
     "execution_count": 30,
     "metadata": {},
     "output_type": "execute_result"
    }
   ],
   "source": [
    "str(range(10))"
   ]
  },
  {
   "cell_type": "code",
   "execution_count": 34,
   "id": "90738f6e",
   "metadata": {},
   "outputs": [
    {
     "data": {
      "text/plain": [
       "[(0, 10),\n",
       " (1, 11),\n",
       " (2, 12),\n",
       " (3, 13),\n",
       " (4, 14),\n",
       " (5, 15),\n",
       " (6, 16),\n",
       " (7, 17),\n",
       " (8, 18),\n",
       " (9, 19),\n",
       " (10, 20)]"
      ]
     },
     "execution_count": 34,
     "metadata": {},
     "output_type": "execute_result"
    }
   ],
   "source": [
    "list(enumerate(range(10, 21)))"
   ]
  },
  {
   "cell_type": "markdown",
   "id": "07890870",
   "metadata": {},
   "source": [
    "## Comparação de listas\n",
    "---\n",
    "\n",
    "```python\n",
    "[2, 3] > [4, -5] # ????\n",
    "```"
   ]
  },
  {
   "cell_type": "code",
   "execution_count": 35,
   "id": "25c8bf45",
   "metadata": {},
   "outputs": [
    {
     "data": {
      "text/plain": [
       "False"
      ]
     },
     "execution_count": 35,
     "metadata": {},
     "output_type": "execute_result"
    }
   ],
   "source": [
    "[2, 3] > [4, -5]"
   ]
  },
  {
   "cell_type": "code",
   "execution_count": 36,
   "id": "0fc6dcd7",
   "metadata": {},
   "outputs": [
    {
     "data": {
      "text/plain": [
       "False"
      ]
     },
     "execution_count": 36,
     "metadata": {},
     "output_type": "execute_result"
    }
   ],
   "source": [
    "[2, 3] > [4, -5, 6]"
   ]
  },
  {
   "cell_type": "code",
   "execution_count": 37,
   "id": "8e7c02e1",
   "metadata": {},
   "outputs": [
    {
     "data": {
      "text/plain": [
       "False"
      ]
     },
     "execution_count": 37,
     "metadata": {},
     "output_type": "execute_result"
    }
   ],
   "source": [
    "[2, 2] > [2, 2, 2]"
   ]
  },
  {
   "cell_type": "code",
   "execution_count": 42,
   "id": "6e719c06",
   "metadata": {},
   "outputs": [
    {
     "data": {
      "text/plain": [
       "True"
      ]
     },
     "execution_count": 42,
     "metadata": {},
     "output_type": "execute_result"
    }
   ],
   "source": [
    "[5, 3] > [3, 5]"
   ]
  },
  {
   "cell_type": "code",
   "execution_count": 44,
   "id": "af93fd17",
   "metadata": {},
   "outputs": [
    {
     "data": {
      "text/plain": [
       "False"
      ]
     },
     "execution_count": 44,
     "metadata": {},
     "output_type": "execute_result"
    }
   ],
   "source": [
    "[3, 5] == [3, 6]"
   ]
  },
  {
   "cell_type": "markdown",
   "id": "c99ccde3",
   "metadata": {},
   "source": [
    "**DESAFIO:**\n",
    "* Vamos analisar melhor a comparação de listas de tamanho diferentes.\n",
    "\n",
    "A regra será a mesma, a análise acontecerá elemento por elemento e se os elementos forem iguais passa para o próximo índice. Contudo, vale salienter, duas situações: [sub-listas](https://en.wikipedia.org/wiki/Intersection_(set_theory)) e listas diferentes."
   ]
  },
  {
   "cell_type": "code",
   "execution_count": 4,
   "id": "dc044dd3",
   "metadata": {},
   "outputs": [
    {
     "name": "stdout",
     "output_type": "stream",
     "text": [
      "True\n",
      "False\n"
     ]
    }
   ],
   "source": [
    "# sub-listas\n",
    "a = [2, 2, 6]\n",
    "b = [2, 2]\n",
    "\n",
    "print([2, 2, 6] > [2, 2])\n",
    "# nessa situação o elementos a[0] e b[0] são iguais, então passa para o próximo\n",
    "# a[1] e b[1] são, iguais, então passa para o próximo.\n",
    "# Porém, a lista até tem 3 elementos e a lista b apenas dois.\n",
    "# então, estamos no caso de sub-listas, logo a lista maior sempre será maior que a menor\n",
    "# vamos testar o inverso\n",
    "print([2, 2, 6] < [2, 2])"
   ]
  },
  {
   "cell_type": "code",
   "execution_count": 5,
   "id": "de157b1f",
   "metadata": {},
   "outputs": [
    {
     "data": {
      "text/plain": [
       "False"
      ]
     },
     "execution_count": 5,
     "metadata": {},
     "output_type": "execute_result"
    }
   ],
   "source": [
    "# listas diferentes\n",
    "a = [2, 6, 8]\n",
    "b = [2, 7]\n",
    "\n",
    "# a comparação segue a regra\n",
    "# a[0] == b[0], próxima comparação\n",
    "# a[1] != b[1], sim, vamos analisar 6 > 7, não, portanto False\n",
    "a > b"
   ]
  },
  {
   "cell_type": "markdown",
   "id": "b729ce81",
   "metadata": {},
   "source": [
    "## List comprehension \n",
    "---\n",
    "\n",
    "É uma forma elegante de criar listas.\n",
    "\n",
    "```python\n",
    "lista = [expressão for x in range(10)]\n",
    "```"
   ]
  },
  {
   "cell_type": "code",
   "execution_count": 52,
   "id": "18db44c2",
   "metadata": {},
   "outputs": [],
   "source": [
    "# com o for \n",
    "lista = []\n",
    "for i in range(10):\n",
    "    lista.append(i ** 2)"
   ]
  },
  {
   "cell_type": "code",
   "execution_count": 53,
   "id": "dc08b38c",
   "metadata": {},
   "outputs": [
    {
     "data": {
      "text/plain": [
       "[0, 1, 4, 9, 16, 25, 36, 49, 64, 81]"
      ]
     },
     "execution_count": 53,
     "metadata": {},
     "output_type": "execute_result"
    }
   ],
   "source": [
    "lista"
   ]
  },
  {
   "cell_type": "code",
   "execution_count": 8,
   "id": "ee263e54",
   "metadata": {},
   "outputs": [
    {
     "data": {
      "text/plain": [
       "[0, 1, 4, 9, 16, 25, 36, 49, 64, 81]"
      ]
     },
     "execution_count": 8,
     "metadata": {},
     "output_type": "execute_result"
    }
   ],
   "source": [
    "# com list comprehension\n",
    "lista = [i ** 2 for i in range(10)]\n",
    "lista"
   ]
  },
  {
   "cell_type": "markdown",
   "id": "3befb214",
   "metadata": {},
   "source": [
    "## Exercícios\n",
    "---\n",
    "\n",
    "* Lista de compras"
   ]
  },
  {
   "cell_type": "code",
   "execution_count": 59,
   "id": "c1f3541b",
   "metadata": {},
   "outputs": [
    {
     "name": "stdout",
     "output_type": "stream",
     "text": [
      "Produto: cerveja\n",
      "Quantidade: 50\n",
      "Preço: 2.5\n",
      "Produto: carne\n",
      "Quantidade: 4\n",
      "Preço: 22.56\n",
      "Produto: frango\n",
      "Quantidade: 6\n",
      "Preço: 12.00\n",
      "Produto: fim\n",
      "cerveja | 50unid | Total (R$): 125.0\n",
      "carne | 4unid | Total (R$): 90.24\n",
      "frango | 6unid | Total (R$): 72.0\n",
      "A conta total deu 287.24\n"
     ]
    }
   ],
   "source": [
    "compras = []\n",
    "\n",
    "while True:\n",
    "    produto = input('Produto: ')\n",
    "    if produto == 'fim':\n",
    "        break\n",
    "    quantidade = int(input('Quantidade: '))\n",
    "    preco = float(input('Preço: '))\n",
    "    compras.append([produto, quantidade, preco])\n",
    "\n",
    "soma = 0\n",
    "\n",
    "for i in compras:\n",
    "    print(f'{i[0]} | {i[1]}unid | Total (R$): {i[1] * i[-1]}')\n",
    "    soma += i[1] * i[-1]\n",
    "print(f'A conta total deu {soma:.2f}')"
   ]
  },
  {
   "cell_type": "markdown",
   "id": "4f34d024",
   "metadata": {},
   "source": [
    "* Desenvolva uma lista de tarefas."
   ]
  },
  {
   "cell_type": "code",
   "execution_count": 61,
   "id": "39b9df72",
   "metadata": {},
   "outputs": [
    {
     "name": "stdout",
     "output_type": "stream",
     "text": [
      "Adicione uma tarefa: tomar banho\n",
      "Adicione uma tarefa: passear com os dogs\n",
      "Adicione uma tarefa: escovar os dentes\n",
      "Adicione uma tarefa: comer\n"
     ]
    },
    {
     "data": {
      "text/plain": [
       "['Arrumar o quarto',\n",
       " 'tomar banho',\n",
       " 'passear com os dogs',\n",
       " 'escovar os dentes',\n",
       " 'comer']"
      ]
     },
     "execution_count": 61,
     "metadata": {},
     "output_type": "execute_result"
    }
   ],
   "source": [
    "lista = ['Arrumar o quarto']\n",
    "\n",
    "while lista:\n",
    "    tarefa = input('Adicione uma tarefa: ')\n",
    "    lista.append(tarefa)\n",
    "    if len(lista) == 5:\n",
    "        break  \n",
    "lista"
   ]
  },
  {
   "cell_type": "markdown",
   "id": "278c1e90",
   "metadata": {},
   "source": [
    "* Calculando a média com listas"
   ]
  },
  {
   "cell_type": "code",
   "execution_count": 63,
   "id": "ee1ed948",
   "metadata": {
    "scrolled": true
   },
   "outputs": [
    {
     "name": "stdout",
     "output_type": "stream",
     "text": [
      "Nota: 6\n",
      "Nota: 7.5\n",
      "Nota: 1\n",
      "Nota: 3\n",
      "Nota: -1\n",
      "Média 4.375\n"
     ]
    }
   ],
   "source": [
    "notas = []\n",
    "\n",
    "while True:\n",
    "    nota = float(input('Nota: '))\n",
    "    if nota == -1:\n",
    "        break\n",
    "    notas.append(nota)\n",
    "\n",
    "media = sum(notas) / len(notas)\n",
    "\n",
    "print('Média', media)"
   ]
  },
  {
   "cell_type": "code",
   "execution_count": 68,
   "id": "7ff65ff6",
   "metadata": {},
   "outputs": [],
   "source": [
    "notas = [4, 3, 9, 6]"
   ]
  },
  {
   "cell_type": "code",
   "execution_count": 66,
   "id": "410f891f",
   "metadata": {},
   "outputs": [
    {
     "data": {
      "text/plain": [
       "22"
      ]
     },
     "execution_count": 66,
     "metadata": {},
     "output_type": "execute_result"
    }
   ],
   "source": [
    "sum(notas)"
   ]
  },
  {
   "cell_type": "code",
   "execution_count": 72,
   "id": "28ec817e",
   "metadata": {},
   "outputs": [
    {
     "data": {
      "text/plain": [
       "32"
      ]
     },
     "execution_count": 72,
     "metadata": {},
     "output_type": "execute_result"
    }
   ],
   "source": [
    "sum(notas, start=10)"
   ]
  },
  {
   "cell_type": "markdown",
   "id": "e5dcd0e7",
   "metadata": {},
   "source": [
    "* Problema no ENEM. Os gabaritos dos alunos devido à algum bug no sistema, ficou de forma invertida, isto é, o aluno escreveu [A, B, D] e o site entendeu como [D, B, A]. Por isso, é preciso arrumar isso o mais rápido possível."
   ]
  },
  {
   "cell_type": "code",
   "execution_count": 73,
   "id": "9a589481",
   "metadata": {},
   "outputs": [],
   "source": [
    "gabarito_errado = ['a', 'c', 'e', 'f']"
   ]
  },
  {
   "cell_type": "code",
   "execution_count": 74,
   "id": "75b5ca64",
   "metadata": {},
   "outputs": [
    {
     "data": {
      "text/plain": [
       "['f', 'e', 'c', 'a']"
      ]
     },
     "execution_count": 74,
     "metadata": {},
     "output_type": "execute_result"
    }
   ],
   "source": [
    "gabarito_errado.reverse()\n",
    "gabarito_errado"
   ]
  }
 ],
 "metadata": {
  "kernelspec": {
   "display_name": "Python 3",
   "language": "python",
   "name": "python3"
  },
  "language_info": {
   "codemirror_mode": {
    "name": "ipython",
    "version": 3
   },
   "file_extension": ".py",
   "mimetype": "text/x-python",
   "name": "python",
   "nbconvert_exporter": "python",
   "pygments_lexer": "ipython3",
   "version": "3.8.8"
  }
 },
 "nbformat": 4,
 "nbformat_minor": 5
}
